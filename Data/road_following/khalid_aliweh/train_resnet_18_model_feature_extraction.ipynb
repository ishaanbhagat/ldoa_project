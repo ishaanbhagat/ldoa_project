{
 "cells": [
  {
   "cell_type": "markdown",
   "metadata": {},
   "source": [
    "# Road Follower - Train Model\n",
    "\n",
    "In this notebook we will train a neural network to take an input image, and output a set of x, y values corresponding to a target.\n",
    "\n",
    "We will be using PyTorch deep learning framework to train ResNet18 neural network architecture model for road follower application."
   ]
  },
  {
   "cell_type": "code",
   "execution_count": 2,
   "metadata": {},
   "outputs": [],
   "source": [
    "import torch\n",
    "import torch.optim as optim\n",
    "import torch.nn.functional as F\n",
    "import torchvision\n",
    "import torchvision.datasets as datasets\n",
    "import torchvision.models as models\n",
    "import torchvision.transforms as transforms\n",
    "import glob\n",
    "import PIL.Image\n",
    "import os\n",
    "import numpy as np\n",
    "from ignite.handlers import ModelCheckpoint\n",
    "import time"
   ]
  },
  {
   "cell_type": "markdown",
   "metadata": {},
   "source": [
    "### Download and extract data\n",
    "\n",
    "Before you start, you should upload the ``road_following_<Date&Time>.zip`` file that you created in the ``data_collection.ipynb`` notebook on the robot. \n",
    "\n",
    "> If you're training on the JetBot you collected data on, you can skip this!\n",
    "\n",
    "You should then extract this dataset by calling the command below:"
   ]
  },
  {
   "cell_type": "code",
   "execution_count": 1,
   "metadata": {},
   "outputs": [],
   "source": [
    "def preprocess_image(image_path, image):\n",
    "    x = float(get_x(os.path.basename(image_path)))\n",
    "    y = float(get_y(os.path.basename(image_path)))\n",
    "\n",
    "    color_jitter = transforms.ColorJitter(0.3, 0.3, 0.3, 0.3)\n",
    "    image = color_jitter(image)\n",
    "    image = transforms.functional.resize(image, (224, 224))\n",
    "    image = transforms.functional.to_tensor(image)\n",
    "    image = image.numpy()[::-1].copy()\n",
    "    image = torch.from_numpy(image)\n",
    "    image = transforms.functional.normalize(image, [0.485, 0.456, 0.406], [0.229, 0.224, 0.225])\n",
    "\n",
    "    return image, torch.tensor([x, y]).float()"
   ]
  },
  {
   "cell_type": "markdown",
   "metadata": {},
   "source": [
    "### Create Dataset Instance\n",
    "\n",
    "Here we create a custom ``torch.utils.data.Dataset`` implementation, which implements the ``__len__`` and ``__getitem__`` functions.  This class\n",
    "is responsible for loading images and parsing the x, y values from the image filenames.  Because we implement the ``torch.utils.data.Dataset`` class,\n",
    "we can use all of the torch data utilities :)\n",
    "\n",
    "We hard coded some transformations (like color jitter) into our dataset.  We made random horizontal flips optional (in case you want to follow a non-symmetric path, like a road\n",
    "where we need to 'stay right').  If it doesn't matter whether your robot follows some convention, you could enable flips to augment the dataset."
   ]
  },
  {
   "cell_type": "code",
   "execution_count": 3,
   "metadata": {},
   "outputs": [],
   "source": [
    "def get_x(path):\n",
    "    \"\"\"Gets the x value from the image filename\"\"\"\n",
    "    return (float(int(path[3:6])) - 50.0) / 50.0\n",
    "\n",
    "def get_y(path):\n",
    "    \"\"\"Gets the y value from the image filename\"\"\"\n",
    "    return (float(int(path[7:10])) - 50.0) / 50.0\n",
    "\n",
    "image_paths = glob.glob(os.path.join('dataset_xy', '*.jpg'))\n",
    "\n",
    "import matplotlib.pyplot as plt\n",
    "from PIL import Image\n",
    "\n",
    "\n",
    "augmented_dataset = []\n",
    "for image_path in image_paths:\n",
    "    original_image = PIL.Image.open(image_path)\n",
    "    brightness_enhancer = PIL.ImageEnhance.Brightness(original_image)\n",
    "#     mode_image = original_image.filter(PIL.ImageFilter.ModeFilter(5))        \n",
    "#     blurred_image = original_image.filter(PIL.ImageFilter.GaussianBlur(5))   \n",
    "#     sharp_image = original_image.filter(PIL.ImageFilter.UnsharpMask(7))   \n",
    "#     enhanced_image = original_image.filter(PIL.ImageFilter.EDGE_ENHANCE_MORE())\n",
    "    dark_image = brightness_enhancer.enhance(0.4)\n",
    "#     bright_image = brightness_enhancer.enhance(3)\n",
    "\n",
    "    augmented_dataset.append(preprocess_image(image_path, original_image))            \n",
    "#     augmented_dataset.append(pre_process_pil_image(image_path, mode_image))\n",
    "    augmented_dataset.append(preprocess_image(image_path, dark_image))\n",
    "#     augmented_dataset.append(pre_process_pil_image(image_path, bright_image))\n"
   ]
  },
  {
   "cell_type": "code",
   "execution_count": 4,
   "metadata": {},
   "outputs": [
    {
     "data": {
      "text/plain": [
       "1124"
      ]
     },
     "execution_count": 4,
     "metadata": {},
     "output_type": "execute_result"
    }
   ],
   "source": [
    "len(augmented_dataset)"
   ]
  },
  {
   "cell_type": "code",
   "execution_count": 5,
   "metadata": {},
   "outputs": [
    {
     "data": {
      "text/plain": [
       "562"
      ]
     },
     "execution_count": 5,
     "metadata": {},
     "output_type": "execute_result"
    }
   ],
   "source": [
    "len(image_paths)"
   ]
  },
  {
   "cell_type": "markdown",
   "metadata": {},
   "source": [
    "### Split dataset into train and test sets\n",
    "Once we read dataset, we will split data set in train and test sets. In this example we split train and test a 90%-10%. The test set will be used to verify the accuracy of the model we train."
   ]
  },
  {
   "cell_type": "code",
   "execution_count": 6,
   "metadata": {},
   "outputs": [],
   "source": [
    "test_percent = 0.4\n",
    "num_test = int(test_percent * len(augmented_dataset))\n",
    "train_dataset, test_dataset = torch.utils.data.random_split(augmented_dataset, [len(augmented_dataset) - num_test, num_test])"
   ]
  },
  {
   "cell_type": "markdown",
   "metadata": {},
   "source": [
    "### Create data loaders to load data in batches\n",
    "\n",
    "We use ``DataLoader`` class to load data in batches, shuffle data and allow using multi-subprocesses. In this example we use batch size of 64. Batch size will be based on memory available with your GPU and it can impact accuracy of the model."
   ]
  },
  {
   "cell_type": "markdown",
   "metadata": {},
   "source": [
    "### Define Neural Network Model \n",
    "\n",
    "We use ResNet-18 model available on PyTorch TorchVision. \n",
    "\n",
    "In a process called transfer learning, we can repurpose a pre-trained model (trained on millions of images) for a new task that has possibly much less data available.\n",
    "\n",
    "\n",
    "More details on ResNet-18 : https://github.com/pytorch/vision/blob/master/torchvision/models/resnet.py\n",
    "\n",
    "More Details on Transfer Learning: https://www.youtube.com/watch?v=yofjFQddwHE "
   ]
  },
  {
   "cell_type": "markdown",
   "metadata": {},
   "source": [
    "ResNet model has fully connect (fc) final layer with 512 as ``in_features`` and we will be training for regression thus ``out_features`` as 1\n",
    "\n",
    "Finally, we transfer our model for execution on the GPU"
   ]
  },
  {
   "cell_type": "markdown",
   "metadata": {},
   "source": [
    "<span style=\"font-family: Arial; font-size:1.4em;color:blue;\">The restnet model layers</span>"
   ]
  },
  {
   "cell_type": "markdown",
   "metadata": {},
   "source": [
    "### Train Regression:\n",
    "\n",
    "We train for 50 epochs and save best model if the loss is reduced. "
   ]
  },
  {
   "cell_type": "markdown",
   "metadata": {},
   "source": [
    "Once the model is trained, it will generate ``best_steering_model_xy.pth`` file which you can use for inferencing in the live demo notebook.\n",
    "\n",
    "If you trained on a different machine other than JetBot, you'll need to upload this to the JetBot to the ``road_following`` example folder."
   ]
  },
  {
   "cell_type": "code",
   "execution_count": 11,
   "metadata": {
    "scrolled": false
   },
   "outputs": [
    {
     "data": {
      "application/vnd.jupyter.widget-view+json": {
       "model_id": "72a47e2085bd48be89feb2250d0b47fd",
       "version_major": 2,
       "version_minor": 0
      },
      "text/plain": [
       "HBox(children=(FloatProgress(value=0.0, max=85.0), HTML(value='')))"
      ]
     },
     "metadata": {},
     "output_type": "display_data"
    },
    {
     "name": "stdout",
     "output_type": "stream",
     "text": [
      "Epoch[1] Loss: 0.1297\n",
      "\n",
      "Training Results - Epoch: 1  Avg accuracy: 0.635 Avg loss: 0.1231\n",
      "Validation Results - Epoch: 1  Avg accuracy: 0.626 Avg loss: 0.1105\n"
     ]
    },
    {
     "data": {
      "application/vnd.jupyter.widget-view+json": {
       "model_id": "587e65a7c0e84583af618b2b0448f565",
       "version_major": 2,
       "version_minor": 0
      },
      "text/plain": [
       "HBox(children=(FloatProgress(value=0.0, max=85.0), HTML(value='')))"
      ]
     },
     "metadata": {},
     "output_type": "display_data"
    },
    {
     "name": "stdout",
     "output_type": "stream",
     "text": [
      "Epoch[2] Loss: 0.1017\n",
      "Epoch[2] Loss: 0.0831\n",
      "\n",
      "Training Results - Epoch: 2  Avg accuracy: 0.681 Avg loss: 0.0962\n",
      "Validation Results - Epoch: 2  Avg accuracy: 0.677 Avg loss: 0.0852\n"
     ]
    },
    {
     "data": {
      "application/vnd.jupyter.widget-view+json": {
       "model_id": "8ae7e7f4214547c6b38b7ae6c68ec066",
       "version_major": 2,
       "version_minor": 0
      },
      "text/plain": [
       "HBox(children=(FloatProgress(value=0.0, max=85.0), HTML(value='')))"
      ]
     },
     "metadata": {},
     "output_type": "display_data"
    },
    {
     "name": "stdout",
     "output_type": "stream",
     "text": [
      "Epoch[3] Loss: 0.1083\n",
      "Epoch[3] Loss: 0.0381\n",
      "\n",
      "Training Results - Epoch: 3  Avg accuracy: 0.709 Avg loss: 0.0863\n",
      "Validation Results - Epoch: 3  Avg accuracy: 0.685 Avg loss: 0.0776\n"
     ]
    },
    {
     "data": {
      "application/vnd.jupyter.widget-view+json": {
       "model_id": "2e5039b4124f48e397cd76d24477bd8e",
       "version_major": 2,
       "version_minor": 0
      },
      "text/plain": [
       "HBox(children=(FloatProgress(value=0.0, max=85.0), HTML(value='')))"
      ]
     },
     "metadata": {},
     "output_type": "display_data"
    },
    {
     "name": "stdout",
     "output_type": "stream",
     "text": [
      "Epoch[4] Loss: 0.0678\n",
      "\n",
      "Training Results - Epoch: 4  Avg accuracy: 0.727 Avg loss: 0.0744\n",
      "Validation Results - Epoch: 4  Avg accuracy: 0.717 Avg loss: 0.0682\n"
     ]
    },
    {
     "data": {
      "application/vnd.jupyter.widget-view+json": {
       "model_id": "3ef0312039cb48a491024af6fa53d52e",
       "version_major": 2,
       "version_minor": 0
      },
      "text/plain": [
       "HBox(children=(FloatProgress(value=0.0, max=85.0), HTML(value='')))"
      ]
     },
     "metadata": {},
     "output_type": "display_data"
    },
    {
     "name": "stdout",
     "output_type": "stream",
     "text": [
      "Epoch[5] Loss: 0.0333\n",
      "Epoch[5] Loss: 0.0186\n",
      "\n",
      "Training Results - Epoch: 5  Avg accuracy: 0.733 Avg loss: 0.0661\n",
      "Validation Results - Epoch: 5  Avg accuracy: 0.717 Avg loss: 0.0643\n"
     ]
    },
    {
     "data": {
      "application/vnd.jupyter.widget-view+json": {
       "model_id": "d8fbbfe568fa49c0afb0b904d7e98256",
       "version_major": 2,
       "version_minor": 0
      },
      "text/plain": [
       "HBox(children=(FloatProgress(value=0.0, max=85.0), HTML(value='')))"
      ]
     },
     "metadata": {},
     "output_type": "display_data"
    },
    {
     "name": "stdout",
     "output_type": "stream",
     "text": [
      "Epoch[6] Loss: 0.0530\n",
      "Epoch[6] Loss: 0.0157\n",
      "\n",
      "Training Results - Epoch: 6  Avg accuracy: 0.767 Avg loss: 0.0591\n",
      "Validation Results - Epoch: 6  Avg accuracy: 0.758 Avg loss: 0.0590\n"
     ]
    },
    {
     "data": {
      "application/vnd.jupyter.widget-view+json": {
       "model_id": "7c24ab86626e41dd823fbc5c6b89d9b0",
       "version_major": 2,
       "version_minor": 0
      },
      "text/plain": [
       "HBox(children=(FloatProgress(value=0.0, max=85.0), HTML(value='')))"
      ]
     },
     "metadata": {},
     "output_type": "display_data"
    },
    {
     "name": "stdout",
     "output_type": "stream",
     "text": [
      "Epoch[7] Loss: 0.0192\n",
      "\n",
      "Training Results - Epoch: 7  Avg accuracy: 0.779 Avg loss: 0.0553\n",
      "Validation Results - Epoch: 7  Avg accuracy: 0.754 Avg loss: 0.0561\n"
     ]
    },
    {
     "data": {
      "application/vnd.jupyter.widget-view+json": {
       "model_id": "940ebb8855ce4e6aa2c03761523fb9ea",
       "version_major": 2,
       "version_minor": 0
      },
      "text/plain": [
       "HBox(children=(FloatProgress(value=0.0, max=85.0), HTML(value='')))"
      ]
     },
     "metadata": {},
     "output_type": "display_data"
    },
    {
     "name": "stdout",
     "output_type": "stream",
     "text": [
      "Epoch[8] Loss: 0.0300\n",
      "Epoch[8] Loss: 0.0825\n",
      "\n",
      "Training Results - Epoch: 8  Avg accuracy: 0.791 Avg loss: 0.0535\n",
      "Validation Results - Epoch: 8  Avg accuracy: 0.782 Avg loss: 0.0533\n"
     ]
    },
    {
     "data": {
      "application/vnd.jupyter.widget-view+json": {
       "model_id": "ad95a04daa254a7ea5d63feffb4064e4",
       "version_major": 2,
       "version_minor": 0
      },
      "text/plain": [
       "HBox(children=(FloatProgress(value=0.0, max=85.0), HTML(value='')))"
      ]
     },
     "metadata": {},
     "output_type": "display_data"
    },
    {
     "name": "stdout",
     "output_type": "stream",
     "text": [
      "Epoch[9] Loss: 0.0361\n",
      "Epoch[9] Loss: 0.0396\n",
      "\n",
      "Training Results - Epoch: 9  Avg accuracy: 0.797 Avg loss: 0.0471\n",
      "Validation Results - Epoch: 9  Avg accuracy: 0.772 Avg loss: 0.0485\n"
     ]
    },
    {
     "data": {
      "application/vnd.jupyter.widget-view+json": {
       "model_id": "b022dace98104cafb4b5ef9a24f9778c",
       "version_major": 2,
       "version_minor": 0
      },
      "text/plain": [
       "HBox(children=(FloatProgress(value=0.0, max=85.0), HTML(value='')))"
      ]
     },
     "metadata": {},
     "output_type": "display_data"
    },
    {
     "name": "stdout",
     "output_type": "stream",
     "text": [
      "Epoch[10] Loss: 0.0449\n",
      "Epoch[10] Loss: 0.0543\n",
      "\n",
      "Training Results - Epoch: 10  Avg accuracy: 0.780 Avg loss: 0.0430\n",
      "Validation Results - Epoch: 10  Avg accuracy: 0.763 Avg loss: 0.0462\n"
     ]
    },
    {
     "data": {
      "application/vnd.jupyter.widget-view+json": {
       "model_id": "52c6619e707d47d3ab182851b144ef7e",
       "version_major": 2,
       "version_minor": 0
      },
      "text/plain": [
       "HBox(children=(FloatProgress(value=0.0, max=85.0), HTML(value='')))"
      ]
     },
     "metadata": {},
     "output_type": "display_data"
    },
    {
     "name": "stdout",
     "output_type": "stream",
     "text": [
      "Epoch[11] Loss: 0.0498\n",
      "\n",
      "Training Results - Epoch: 11  Avg accuracy: 0.771 Avg loss: 0.0413\n",
      "Validation Results - Epoch: 11  Avg accuracy: 0.761 Avg loss: 0.0452\n"
     ]
    },
    {
     "data": {
      "application/vnd.jupyter.widget-view+json": {
       "model_id": "f8915da2ce034a6e874a50c54013af6f",
       "version_major": 2,
       "version_minor": 0
      },
      "text/plain": [
       "HBox(children=(FloatProgress(value=0.0, max=85.0), HTML(value='')))"
      ]
     },
     "metadata": {},
     "output_type": "display_data"
    },
    {
     "name": "stdout",
     "output_type": "stream",
     "text": [
      "Epoch[12] Loss: 0.0693\n",
      "Epoch[12] Loss: 0.0446\n",
      "\n",
      "Training Results - Epoch: 12  Avg accuracy: 0.817 Avg loss: 0.0374\n",
      "Validation Results - Epoch: 12  Avg accuracy: 0.786 Avg loss: 0.0437\n"
     ]
    },
    {
     "data": {
      "application/vnd.jupyter.widget-view+json": {
       "model_id": "fe79a31630a24a52872e8d9c319169f3",
       "version_major": 2,
       "version_minor": 0
      },
      "text/plain": [
       "HBox(children=(FloatProgress(value=0.0, max=85.0), HTML(value='')))"
      ]
     },
     "metadata": {},
     "output_type": "display_data"
    },
    {
     "name": "stdout",
     "output_type": "stream",
     "text": [
      "Epoch[13] Loss: 0.0254\n",
      "Epoch[13] Loss: 0.0244\n",
      "\n",
      "Training Results - Epoch: 13  Avg accuracy: 0.782 Avg loss: 0.0355\n",
      "Validation Results - Epoch: 13  Avg accuracy: 0.761 Avg loss: 0.0392\n"
     ]
    },
    {
     "data": {
      "application/vnd.jupyter.widget-view+json": {
       "model_id": "ce1ebe773b9b45b09a03b46dc06e3975",
       "version_major": 2,
       "version_minor": 0
      },
      "text/plain": [
       "HBox(children=(FloatProgress(value=0.0, max=85.0), HTML(value='')))"
      ]
     },
     "metadata": {},
     "output_type": "display_data"
    },
    {
     "name": "stdout",
     "output_type": "stream",
     "text": [
      "Epoch[14] Loss: 0.0426\n",
      "\n",
      "Training Results - Epoch: 14  Avg accuracy: 0.812 Avg loss: 0.0351\n",
      "Validation Results - Epoch: 14  Avg accuracy: 0.780 Avg loss: 0.0400\n"
     ]
    },
    {
     "data": {
      "application/vnd.jupyter.widget-view+json": {
       "model_id": "e15355ab87d341aca07606f443e1b94b",
       "version_major": 2,
       "version_minor": 0
      },
      "text/plain": [
       "HBox(children=(FloatProgress(value=0.0, max=85.0), HTML(value='')))"
      ]
     },
     "metadata": {},
     "output_type": "display_data"
    },
    {
     "name": "stdout",
     "output_type": "stream",
     "text": [
      "Epoch[15] Loss: 0.0398\n",
      "Epoch[15] Loss: 0.0310\n",
      "\n",
      "Training Results - Epoch: 15  Avg accuracy: 0.833 Avg loss: 0.0347\n",
      "Validation Results - Epoch: 15  Avg accuracy: 0.808 Avg loss: 0.0389\n"
     ]
    },
    {
     "data": {
      "application/vnd.jupyter.widget-view+json": {
       "model_id": "f8981edfd7a74cba9b6d31383174e703",
       "version_major": 2,
       "version_minor": 0
      },
      "text/plain": [
       "HBox(children=(FloatProgress(value=0.0, max=85.0), HTML(value='')))"
      ]
     },
     "metadata": {},
     "output_type": "display_data"
    },
    {
     "name": "stdout",
     "output_type": "stream",
     "text": [
      "Epoch[16] Loss: 0.0379\n",
      "Epoch[16] Loss: 0.0271\n",
      "\n",
      "Training Results - Epoch: 16  Avg accuracy: 0.827 Avg loss: 0.0301\n",
      "Validation Results - Epoch: 16  Avg accuracy: 0.797 Avg loss: 0.0356\n"
     ]
    },
    {
     "data": {
      "application/vnd.jupyter.widget-view+json": {
       "model_id": "9744bb29385545bd89bbbdd612b5257a",
       "version_major": 2,
       "version_minor": 0
      },
      "text/plain": [
       "HBox(children=(FloatProgress(value=0.0, max=85.0), HTML(value='')))"
      ]
     },
     "metadata": {},
     "output_type": "display_data"
    },
    {
     "name": "stdout",
     "output_type": "stream",
     "text": [
      "Epoch[17] Loss: 0.0092\n",
      "\n",
      "Training Results - Epoch: 17  Avg accuracy: 0.810 Avg loss: 0.0304\n",
      "Validation Results - Epoch: 17  Avg accuracy: 0.802 Avg loss: 0.0351\n"
     ]
    },
    {
     "data": {
      "application/vnd.jupyter.widget-view+json": {
       "model_id": "f8ff185fd13f4f2ca3c8e32a05f635b9",
       "version_major": 2,
       "version_minor": 0
      },
      "text/plain": [
       "HBox(children=(FloatProgress(value=0.0, max=85.0), HTML(value='')))"
      ]
     },
     "metadata": {},
     "output_type": "display_data"
    },
    {
     "name": "stdout",
     "output_type": "stream",
     "text": [
      "Epoch[18] Loss: 0.0382\n",
      "Epoch[18] Loss: 0.0301\n",
      "\n",
      "Training Results - Epoch: 18  Avg accuracy: 0.843 Avg loss: 0.0275\n",
      "Validation Results - Epoch: 18  Avg accuracy: 0.817 Avg loss: 0.0340\n"
     ]
    },
    {
     "data": {
      "application/vnd.jupyter.widget-view+json": {
       "model_id": "696c6e1e2e7545ec8fb749609d5f46a9",
       "version_major": 2,
       "version_minor": 0
      },
      "text/plain": [
       "HBox(children=(FloatProgress(value=0.0, max=85.0), HTML(value='')))"
      ]
     },
     "metadata": {},
     "output_type": "display_data"
    },
    {
     "name": "stdout",
     "output_type": "stream",
     "text": [
      "Epoch[19] Loss: 0.0315\n",
      "Epoch[19] Loss: 0.0172\n",
      "\n",
      "Training Results - Epoch: 19  Avg accuracy: 0.813 Avg loss: 0.0286\n",
      "Validation Results - Epoch: 19  Avg accuracy: 0.795 Avg loss: 0.0330\n"
     ]
    },
    {
     "data": {
      "application/vnd.jupyter.widget-view+json": {
       "model_id": "707d8a9f769843699dbd3d756b974768",
       "version_major": 2,
       "version_minor": 0
      },
      "text/plain": [
       "HBox(children=(FloatProgress(value=0.0, max=85.0), HTML(value='')))"
      ]
     },
     "metadata": {},
     "output_type": "display_data"
    },
    {
     "name": "stdout",
     "output_type": "stream",
     "text": [
      "Epoch[20] Loss: 0.0241\n",
      "Epoch[20] Loss: 0.0432\n",
      "\n",
      "Training Results - Epoch: 20  Avg accuracy: 0.799 Avg loss: 0.0276\n",
      "Validation Results - Epoch: 20  Avg accuracy: 0.771 Avg loss: 0.0331\n"
     ]
    },
    {
     "data": {
      "application/vnd.jupyter.widget-view+json": {
       "model_id": "2fc1f2d7c64948b4bf899f28e3dcca11",
       "version_major": 2,
       "version_minor": 0
      },
      "text/plain": [
       "HBox(children=(FloatProgress(value=0.0, max=85.0), HTML(value='')))"
      ]
     },
     "metadata": {},
     "output_type": "display_data"
    },
    {
     "name": "stdout",
     "output_type": "stream",
     "text": [
      "Epoch[21] Loss: 0.0090\n",
      "\n",
      "Training Results - Epoch: 21  Avg accuracy: 0.838 Avg loss: 0.0254\n",
      "Validation Results - Epoch: 21  Avg accuracy: 0.811 Avg loss: 0.0311\n"
     ]
    },
    {
     "data": {
      "application/vnd.jupyter.widget-view+json": {
       "model_id": "51aff7816bbf4441831c685caaa8cf77",
       "version_major": 2,
       "version_minor": 0
      },
      "text/plain": [
       "HBox(children=(FloatProgress(value=0.0, max=85.0), HTML(value='')))"
      ]
     },
     "metadata": {},
     "output_type": "display_data"
    },
    {
     "name": "stdout",
     "output_type": "stream",
     "text": [
      "Epoch[22] Loss: 0.0285\n",
      "Epoch[22] Loss: 0.0152\n",
      "\n",
      "Training Results - Epoch: 22  Avg accuracy: 0.833 Avg loss: 0.0246\n",
      "Validation Results - Epoch: 22  Avg accuracy: 0.821 Avg loss: 0.0303\n"
     ]
    },
    {
     "data": {
      "application/vnd.jupyter.widget-view+json": {
       "model_id": "494dc3502e774c5fafe947032cc56e73",
       "version_major": 2,
       "version_minor": 0
      },
      "text/plain": [
       "HBox(children=(FloatProgress(value=0.0, max=85.0), HTML(value='')))"
      ]
     },
     "metadata": {},
     "output_type": "display_data"
    },
    {
     "name": "stdout",
     "output_type": "stream",
     "text": [
      "Epoch[23] Loss: 0.0279\n",
      "Epoch[23] Loss: 0.0141\n",
      "\n",
      "Training Results - Epoch: 23  Avg accuracy: 0.825 Avg loss: 0.0240\n",
      "Validation Results - Epoch: 23  Avg accuracy: 0.803 Avg loss: 0.0302\n"
     ]
    },
    {
     "data": {
      "application/vnd.jupyter.widget-view+json": {
       "model_id": "e47375c2105741cd99027d232be9c11e",
       "version_major": 2,
       "version_minor": 0
      },
      "text/plain": [
       "HBox(children=(FloatProgress(value=0.0, max=85.0), HTML(value='')))"
      ]
     },
     "metadata": {},
     "output_type": "display_data"
    },
    {
     "name": "stdout",
     "output_type": "stream",
     "text": [
      "Epoch[24] Loss: 0.0153\n",
      "\n",
      "Training Results - Epoch: 24  Avg accuracy: 0.812 Avg loss: 0.0231\n",
      "Validation Results - Epoch: 24  Avg accuracy: 0.801 Avg loss: 0.0283\n"
     ]
    },
    {
     "data": {
      "application/vnd.jupyter.widget-view+json": {
       "model_id": "c5ff11168b024d92a935238e026206a1",
       "version_major": 2,
       "version_minor": 0
      },
      "text/plain": [
       "HBox(children=(FloatProgress(value=0.0, max=85.0), HTML(value='')))"
      ]
     },
     "metadata": {},
     "output_type": "display_data"
    },
    {
     "name": "stdout",
     "output_type": "stream",
     "text": [
      "Epoch[25] Loss: 0.0260\n",
      "Epoch[25] Loss: 0.0108\n",
      "\n",
      "Training Results - Epoch: 25  Avg accuracy: 0.847 Avg loss: 0.0231\n",
      "Validation Results - Epoch: 25  Avg accuracy: 0.833 Avg loss: 0.0292\n"
     ]
    },
    {
     "data": {
      "application/vnd.jupyter.widget-view+json": {
       "model_id": "74dcc5853c7e45948302755847365250",
       "version_major": 2,
       "version_minor": 0
      },
      "text/plain": [
       "HBox(children=(FloatProgress(value=0.0, max=85.0), HTML(value='')))"
      ]
     },
     "metadata": {},
     "output_type": "display_data"
    },
    {
     "name": "stdout",
     "output_type": "stream",
     "text": [
      "Epoch[26] Loss: 0.0680\n",
      "Epoch[26] Loss: 0.0327\n",
      "\n",
      "Training Results - Epoch: 26  Avg accuracy: 0.834 Avg loss: 0.0226\n",
      "Validation Results - Epoch: 26  Avg accuracy: 0.820 Avg loss: 0.0280\n"
     ]
    },
    {
     "data": {
      "application/vnd.jupyter.widget-view+json": {
       "model_id": "d33480d59d4940b896e43e52c72e6c2e",
       "version_major": 2,
       "version_minor": 0
      },
      "text/plain": [
       "HBox(children=(FloatProgress(value=0.0, max=85.0), HTML(value='')))"
      ]
     },
     "metadata": {},
     "output_type": "display_data"
    },
    {
     "name": "stdout",
     "output_type": "stream",
     "text": [
      "Epoch[27] Loss: 0.0297\n",
      "\n",
      "Training Results - Epoch: 27  Avg accuracy: 0.847 Avg loss: 0.0217\n",
      "Validation Results - Epoch: 27  Avg accuracy: 0.817 Avg loss: 0.0281\n"
     ]
    },
    {
     "data": {
      "application/vnd.jupyter.widget-view+json": {
       "model_id": "9c6bac12a7594f58b97d52765cb13f66",
       "version_major": 2,
       "version_minor": 0
      },
      "text/plain": [
       "HBox(children=(FloatProgress(value=0.0, max=85.0), HTML(value='')))"
      ]
     },
     "metadata": {},
     "output_type": "display_data"
    },
    {
     "name": "stdout",
     "output_type": "stream",
     "text": [
      "Epoch[28] Loss: 0.0296\n",
      "Epoch[28] Loss: 0.0135\n",
      "\n",
      "Training Results - Epoch: 28  Avg accuracy: 0.844 Avg loss: 0.0203\n",
      "Validation Results - Epoch: 28  Avg accuracy: 0.833 Avg loss: 0.0260\n"
     ]
    },
    {
     "data": {
      "application/vnd.jupyter.widget-view+json": {
       "model_id": "7f32dc174a064387bad2b5a1ebcdc45d",
       "version_major": 2,
       "version_minor": 0
      },
      "text/plain": [
       "HBox(children=(FloatProgress(value=0.0, max=85.0), HTML(value='')))"
      ]
     },
     "metadata": {},
     "output_type": "display_data"
    },
    {
     "name": "stdout",
     "output_type": "stream",
     "text": [
      "Epoch[29] Loss: 0.0190\n",
      "Epoch[29] Loss: 0.0141\n",
      "\n",
      "Training Results - Epoch: 29  Avg accuracy: 0.844 Avg loss: 0.0197\n",
      "Validation Results - Epoch: 29  Avg accuracy: 0.830 Avg loss: 0.0260\n"
     ]
    },
    {
     "data": {
      "application/vnd.jupyter.widget-view+json": {
       "model_id": "a8c86e4167404ceba378be6dfa36732c",
       "version_major": 2,
       "version_minor": 0
      },
      "text/plain": [
       "HBox(children=(FloatProgress(value=0.0, max=85.0), HTML(value='')))"
      ]
     },
     "metadata": {},
     "output_type": "display_data"
    },
    {
     "name": "stdout",
     "output_type": "stream",
     "text": [
      "Epoch[30] Loss: 0.0305\n",
      "Epoch[30] Loss: 0.0090\n",
      "\n",
      "Training Results - Epoch: 30  Avg accuracy: 0.843 Avg loss: 0.0193\n",
      "Validation Results - Epoch: 30  Avg accuracy: 0.818 Avg loss: 0.0256\n"
     ]
    },
    {
     "data": {
      "application/vnd.jupyter.widget-view+json": {
       "model_id": "5ecb83dfec3a472580aa1cee31c75417",
       "version_major": 2,
       "version_minor": 0
      },
      "text/plain": [
       "HBox(children=(FloatProgress(value=0.0, max=85.0), HTML(value='')))"
      ]
     },
     "metadata": {},
     "output_type": "display_data"
    },
    {
     "name": "stdout",
     "output_type": "stream",
     "text": [
      "Epoch[31] Loss: 0.0251\n",
      "\n",
      "Training Results - Epoch: 31  Avg accuracy: 0.860 Avg loss: 0.0199\n",
      "Validation Results - Epoch: 31  Avg accuracy: 0.846 Avg loss: 0.0257\n"
     ]
    },
    {
     "data": {
      "application/vnd.jupyter.widget-view+json": {
       "model_id": "c55fa05edeb04b5eb2b0ce0724cc9418",
       "version_major": 2,
       "version_minor": 0
      },
      "text/plain": [
       "HBox(children=(FloatProgress(value=0.0, max=85.0), HTML(value='')))"
      ]
     },
     "metadata": {},
     "output_type": "display_data"
    },
    {
     "name": "stdout",
     "output_type": "stream",
     "text": [
      "Epoch[32] Loss: 0.0382\n",
      "Epoch[32] Loss: 0.0306\n",
      "\n",
      "Training Results - Epoch: 32  Avg accuracy: 0.859 Avg loss: 0.0189\n",
      "Validation Results - Epoch: 32  Avg accuracy: 0.842 Avg loss: 0.0243\n"
     ]
    },
    {
     "data": {
      "application/vnd.jupyter.widget-view+json": {
       "model_id": "531ef174b62c42369b4282b84a648d4b",
       "version_major": 2,
       "version_minor": 0
      },
      "text/plain": [
       "HBox(children=(FloatProgress(value=0.0, max=85.0), HTML(value='')))"
      ]
     },
     "metadata": {},
     "output_type": "display_data"
    },
    {
     "name": "stdout",
     "output_type": "stream",
     "text": [
      "Epoch[33] Loss: 0.0164\n",
      "Epoch[33] Loss: 0.0183\n",
      "\n",
      "Training Results - Epoch: 33  Avg accuracy: 0.837 Avg loss: 0.0181\n",
      "Validation Results - Epoch: 33  Avg accuracy: 0.824 Avg loss: 0.0245\n"
     ]
    },
    {
     "data": {
      "application/vnd.jupyter.widget-view+json": {
       "model_id": "b8bf81348be64c8d99df3f255e4274b2",
       "version_major": 2,
       "version_minor": 0
      },
      "text/plain": [
       "HBox(children=(FloatProgress(value=0.0, max=85.0), HTML(value='')))"
      ]
     },
     "metadata": {},
     "output_type": "display_data"
    },
    {
     "name": "stdout",
     "output_type": "stream",
     "text": [
      "Epoch[34] Loss: 0.0191\n",
      "\n",
      "Training Results - Epoch: 34  Avg accuracy: 0.875 Avg loss: 0.0220\n",
      "Validation Results - Epoch: 34  Avg accuracy: 0.843 Avg loss: 0.0286\n"
     ]
    },
    {
     "data": {
      "application/vnd.jupyter.widget-view+json": {
       "model_id": "3cf9c6e944d440838f303c7d4aca1877",
       "version_major": 2,
       "version_minor": 0
      },
      "text/plain": [
       "HBox(children=(FloatProgress(value=0.0, max=85.0), HTML(value='')))"
      ]
     },
     "metadata": {},
     "output_type": "display_data"
    },
    {
     "name": "stdout",
     "output_type": "stream",
     "text": [
      "Epoch[35] Loss: 0.0210\n",
      "Epoch[35] Loss: 0.0245\n",
      "\n",
      "Training Results - Epoch: 35  Avg accuracy: 0.845 Avg loss: 0.0178\n",
      "Validation Results - Epoch: 35  Avg accuracy: 0.839 Avg loss: 0.0235\n"
     ]
    },
    {
     "data": {
      "application/vnd.jupyter.widget-view+json": {
       "model_id": "ab02dbab31804debbcb279848e5f47cd",
       "version_major": 2,
       "version_minor": 0
      },
      "text/plain": [
       "HBox(children=(FloatProgress(value=0.0, max=85.0), HTML(value='')))"
      ]
     },
     "metadata": {},
     "output_type": "display_data"
    },
    {
     "name": "stdout",
     "output_type": "stream",
     "text": [
      "Epoch[36] Loss: 0.0067\n",
      "Epoch[36] Loss: 0.0296\n",
      "\n",
      "Training Results - Epoch: 36  Avg accuracy: 0.837 Avg loss: 0.0173\n",
      "Validation Results - Epoch: 36  Avg accuracy: 0.833 Avg loss: 0.0230\n"
     ]
    },
    {
     "data": {
      "application/vnd.jupyter.widget-view+json": {
       "model_id": "77d80ed6a8ef43f9a76eeddcc44dfdca",
       "version_major": 2,
       "version_minor": 0
      },
      "text/plain": [
       "HBox(children=(FloatProgress(value=0.0, max=85.0), HTML(value='')))"
      ]
     },
     "metadata": {},
     "output_type": "display_data"
    },
    {
     "name": "stdout",
     "output_type": "stream",
     "text": [
      "Epoch[37] Loss: 0.0123\n",
      "\n",
      "Training Results - Epoch: 37  Avg accuracy: 0.858 Avg loss: 0.0167\n",
      "Validation Results - Epoch: 37  Avg accuracy: 0.835 Avg loss: 0.0236\n"
     ]
    },
    {
     "data": {
      "application/vnd.jupyter.widget-view+json": {
       "model_id": "69ee0e8690cd49a3ac16e6f8cc160d64",
       "version_major": 2,
       "version_minor": 0
      },
      "text/plain": [
       "HBox(children=(FloatProgress(value=0.0, max=85.0), HTML(value='')))"
      ]
     },
     "metadata": {},
     "output_type": "display_data"
    },
    {
     "name": "stdout",
     "output_type": "stream",
     "text": [
      "Epoch[38] Loss: 0.0174\n",
      "Epoch[38] Loss: 0.0048\n",
      "\n",
      "Training Results - Epoch: 38  Avg accuracy: 0.842 Avg loss: 0.0177\n",
      "Validation Results - Epoch: 38  Avg accuracy: 0.832 Avg loss: 0.0233\n"
     ]
    },
    {
     "data": {
      "application/vnd.jupyter.widget-view+json": {
       "model_id": "d2dcfd6dd976483b9c2e75e531e9397f",
       "version_major": 2,
       "version_minor": 0
      },
      "text/plain": [
       "HBox(children=(FloatProgress(value=0.0, max=85.0), HTML(value='')))"
      ]
     },
     "metadata": {},
     "output_type": "display_data"
    },
    {
     "name": "stdout",
     "output_type": "stream",
     "text": [
      "Epoch[39] Loss: 0.0217\n",
      "Epoch[39] Loss: 0.0164\n",
      "\n",
      "Training Results - Epoch: 39  Avg accuracy: 0.858 Avg loss: 0.0161\n",
      "Validation Results - Epoch: 39  Avg accuracy: 0.841 Avg loss: 0.0226\n"
     ]
    },
    {
     "data": {
      "application/vnd.jupyter.widget-view+json": {
       "model_id": "188df0911d354190bd9f79f0ab699694",
       "version_major": 2,
       "version_minor": 0
      },
      "text/plain": [
       "HBox(children=(FloatProgress(value=0.0, max=85.0), HTML(value='')))"
      ]
     },
     "metadata": {},
     "output_type": "display_data"
    },
    {
     "name": "stdout",
     "output_type": "stream",
     "text": [
      "Epoch[40] Loss: 0.0092\n",
      "Epoch[40] Loss: 0.0369\n",
      "\n",
      "Training Results - Epoch: 40  Avg accuracy: 0.842 Avg loss: 0.0157\n",
      "Validation Results - Epoch: 40  Avg accuracy: 0.836 Avg loss: 0.0218\n"
     ]
    },
    {
     "data": {
      "application/vnd.jupyter.widget-view+json": {
       "model_id": "0317805976bb453ca87efc54bb271d27",
       "version_major": 2,
       "version_minor": 0
      },
      "text/plain": [
       "HBox(children=(FloatProgress(value=0.0, max=85.0), HTML(value='')))"
      ]
     },
     "metadata": {},
     "output_type": "display_data"
    },
    {
     "name": "stdout",
     "output_type": "stream",
     "text": [
      "Epoch[41] Loss: 0.0282\n",
      "\n",
      "Training Results - Epoch: 41  Avg accuracy: 0.866 Avg loss: 0.0172\n",
      "Validation Results - Epoch: 41  Avg accuracy: 0.851 Avg loss: 0.0236\n"
     ]
    },
    {
     "data": {
      "application/vnd.jupyter.widget-view+json": {
       "model_id": "ceee62700886449a85e92481d3a18c16",
       "version_major": 2,
       "version_minor": 0
      },
      "text/plain": [
       "HBox(children=(FloatProgress(value=0.0, max=85.0), HTML(value='')))"
      ]
     },
     "metadata": {},
     "output_type": "display_data"
    },
    {
     "name": "stdout",
     "output_type": "stream",
     "text": [
      "Epoch[42] Loss: 0.0164\n",
      "Epoch[42] Loss: 0.0114\n",
      "\n",
      "Training Results - Epoch: 42  Avg accuracy: 0.836 Avg loss: 0.0151\n",
      "Validation Results - Epoch: 42  Avg accuracy: 0.829 Avg loss: 0.0209\n"
     ]
    },
    {
     "data": {
      "application/vnd.jupyter.widget-view+json": {
       "model_id": "de98d5ddcac44a9e8b55dac535e2f513",
       "version_major": 2,
       "version_minor": 0
      },
      "text/plain": [
       "HBox(children=(FloatProgress(value=0.0, max=85.0), HTML(value='')))"
      ]
     },
     "metadata": {},
     "output_type": "display_data"
    },
    {
     "name": "stdout",
     "output_type": "stream",
     "text": [
      "Epoch[43] Loss: 0.0062\n",
      "Epoch[43] Loss: 0.0240\n",
      "\n",
      "Training Results - Epoch: 43  Avg accuracy: 0.879 Avg loss: 0.0161\n",
      "Validation Results - Epoch: 43  Avg accuracy: 0.864 Avg loss: 0.0227\n"
     ]
    },
    {
     "data": {
      "application/vnd.jupyter.widget-view+json": {
       "model_id": "f28ec78e28194549b81f931d35ebf061",
       "version_major": 2,
       "version_minor": 0
      },
      "text/plain": [
       "HBox(children=(FloatProgress(value=0.0, max=85.0), HTML(value='')))"
      ]
     },
     "metadata": {},
     "output_type": "display_data"
    },
    {
     "name": "stdout",
     "output_type": "stream",
     "text": [
      "Epoch[44] Loss: 0.0211\n",
      "\n",
      "Training Results - Epoch: 44  Avg accuracy: 0.861 Avg loss: 0.0148\n",
      "Validation Results - Epoch: 44  Avg accuracy: 0.844 Avg loss: 0.0215\n"
     ]
    },
    {
     "data": {
      "application/vnd.jupyter.widget-view+json": {
       "model_id": "ed94a221fb224a408bbd38dfe97c11df",
       "version_major": 2,
       "version_minor": 0
      },
      "text/plain": [
       "HBox(children=(FloatProgress(value=0.0, max=85.0), HTML(value='')))"
      ]
     },
     "metadata": {},
     "output_type": "display_data"
    },
    {
     "name": "stdout",
     "output_type": "stream",
     "text": [
      "Epoch[45] Loss: 0.0085\n",
      "Epoch[45] Loss: 0.0056\n",
      "\n",
      "Training Results - Epoch: 45  Avg accuracy: 0.861 Avg loss: 0.0144\n",
      "Validation Results - Epoch: 45  Avg accuracy: 0.847 Avg loss: 0.0204\n"
     ]
    },
    {
     "data": {
      "application/vnd.jupyter.widget-view+json": {
       "model_id": "89a589ca0c21458eab068dddf4393eab",
       "version_major": 2,
       "version_minor": 0
      },
      "text/plain": [
       "HBox(children=(FloatProgress(value=0.0, max=85.0), HTML(value='')))"
      ]
     },
     "metadata": {},
     "output_type": "display_data"
    },
    {
     "name": "stdout",
     "output_type": "stream",
     "text": [
      "Epoch[46] Loss: 0.0273\n",
      "Epoch[46] Loss: 0.0158\n",
      "\n",
      "Training Results - Epoch: 46  Avg accuracy: 0.869 Avg loss: 0.0145\n",
      "Validation Results - Epoch: 46  Avg accuracy: 0.847 Avg loss: 0.0208\n"
     ]
    },
    {
     "data": {
      "application/vnd.jupyter.widget-view+json": {
       "model_id": "fddd1331b4ed4c64bb9711a5dd6dd51b",
       "version_major": 2,
       "version_minor": 0
      },
      "text/plain": [
       "HBox(children=(FloatProgress(value=0.0, max=85.0), HTML(value='')))"
      ]
     },
     "metadata": {},
     "output_type": "display_data"
    },
    {
     "name": "stdout",
     "output_type": "stream",
     "text": [
      "Epoch[47] Loss: 0.0108\n",
      "\n",
      "Training Results - Epoch: 47  Avg accuracy: 0.866 Avg loss: 0.0147\n",
      "Validation Results - Epoch: 47  Avg accuracy: 0.855 Avg loss: 0.0211\n"
     ]
    },
    {
     "data": {
      "application/vnd.jupyter.widget-view+json": {
       "model_id": "7156a72530be4318b3509a9a778451dc",
       "version_major": 2,
       "version_minor": 0
      },
      "text/plain": [
       "HBox(children=(FloatProgress(value=0.0, max=85.0), HTML(value='')))"
      ]
     },
     "metadata": {},
     "output_type": "display_data"
    },
    {
     "name": "stdout",
     "output_type": "stream",
     "text": [
      "Epoch[48] Loss: 0.0246\n",
      "Epoch[48] Loss: 0.0080\n",
      "\n",
      "Training Results - Epoch: 48  Avg accuracy: 0.876 Avg loss: 0.0151\n",
      "Validation Results - Epoch: 48  Avg accuracy: 0.856 Avg loss: 0.0209\n"
     ]
    },
    {
     "data": {
      "application/vnd.jupyter.widget-view+json": {
       "model_id": "26eb1431c416488594e9c5abf19b3197",
       "version_major": 2,
       "version_minor": 0
      },
      "text/plain": [
       "HBox(children=(FloatProgress(value=0.0, max=85.0), HTML(value='')))"
      ]
     },
     "metadata": {},
     "output_type": "display_data"
    },
    {
     "name": "stdout",
     "output_type": "stream",
     "text": [
      "Epoch[49] Loss: 0.0199\n",
      "Epoch[49] Loss: 0.0099\n",
      "\n",
      "Training Results - Epoch: 49  Avg accuracy: 0.818 Avg loss: 0.0150\n",
      "Validation Results - Epoch: 49  Avg accuracy: 0.816 Avg loss: 0.0195\n"
     ]
    },
    {
     "data": {
      "application/vnd.jupyter.widget-view+json": {
       "model_id": "e4485b5e69914b9e971b56781dada398",
       "version_major": 2,
       "version_minor": 0
      },
      "text/plain": [
       "HBox(children=(FloatProgress(value=0.0, max=85.0), HTML(value='')))"
      ]
     },
     "metadata": {},
     "output_type": "display_data"
    },
    {
     "name": "stdout",
     "output_type": "stream",
     "text": [
      "Epoch[50] Loss: 0.0169\n",
      "Epoch[50] Loss: 0.0136\n",
      "\n",
      "Training Results - Epoch: 50  Avg accuracy: 0.836 Avg loss: 0.0139\n",
      "Validation Results - Epoch: 50  Avg accuracy: 0.822 Avg loss: 0.0191\n",
      "Training complete in 17m 46s\n"
     ]
    }
   ],
   "source": [
    "from ignite.engine import Events, create_supervised_trainer, create_supervised_evaluator, Engine\n",
    "from ignite.metrics import Accuracy, Loss, MeanSquaredError, RunningAverage, ConfusionMatrix\n",
    "from ignite.contrib.handlers import ProgressBar\n",
    "\n",
    "log_interval = 50\n",
    "NUM_EPOCHS= 50\n",
    "\n",
    "\n",
    "model = models.resnet18(pretrained=True, progress=True)\n",
    "\n",
    "\n",
    "def freeze_parameters(model):\n",
    "    for param in model.parameters():\n",
    "        param.requires_grad = False\n",
    "\n",
    "freeze_parameters(model)\n",
    "\n",
    "\n",
    "model.fc = torch.nn.Linear(512, 2)\n",
    "device = torch.device('cuda')\n",
    "model = model.to(device)\n",
    "\n",
    "train_loader = torch.utils.data.DataLoader(\n",
    "    train_dataset,\n",
    "    batch_size=8,\n",
    "    shuffle=True,\n",
    "    num_workers=4 # Only one worker to work around windows10 bug!\n",
    ")\n",
    "\n",
    "val_loader = torch.utils.data.DataLoader(\n",
    "    test_dataset,\n",
    "    batch_size=8,\n",
    "    shuffle=True,\n",
    "    num_workers=4 # Only one worker to work around windows10 bug!\n",
    ")\n",
    "\n",
    "\n",
    "optimizer = optim.Adam(model.parameters(), lr=0.0001)\n",
    "criterion = torch.nn.MSELoss().to(device)\n",
    "\n",
    "\n",
    "\n",
    "def process_function(engine, batch):\n",
    "    model.train()\n",
    "    optimizer.zero_grad()\n",
    "    x, y =batch\n",
    "    x = x.to(device)\n",
    "    y = y.to(device)\n",
    "    y_pred = model(x)\n",
    "    loss = criterion(y_pred, y)\n",
    "    loss.backward()\n",
    "    optimizer.step()\n",
    "    return loss.item()\n",
    "\n",
    "\n",
    "def eval_function(engine, batch):\n",
    "    model.eval()\n",
    "    x, y = batch\n",
    "    x = x.to(device)\n",
    "    y = y.to(device)\n",
    "    y_pred = model(x)\n",
    "    return y_pred, y\n",
    "\n",
    "\n",
    "def thresholded_output_transform(output):\n",
    "    y_pred, y = output\n",
    "    y_pred_tag = torch.round(torch.sigmoid(y_pred))\n",
    "    y_pred = torch.round(y_pred)\n",
    "    y_tag = torch.round(torch.sigmoid(y))\n",
    "    y = torch.round(y_pred)\n",
    "    return  y_pred_tag, y_tag\n",
    "\n",
    "\n",
    "trainer = Engine(process_function)\n",
    "train_evaluator = Engine(eval_function)\n",
    "validation_evaluator = Engine(eval_function)\n",
    "\n",
    "\n",
    "RunningAverage(output_transform=lambda x: x).attach(trainer, 'loss')\n",
    "\n",
    "\n",
    "Accuracy(output_transform=thresholded_output_transform).attach(train_evaluator, 'accuracy')\n",
    "Loss(criterion).attach(train_evaluator, 'ce')\n",
    "\n",
    "\n",
    "Accuracy(output_transform=thresholded_output_transform).attach(validation_evaluator, 'accuracy')\n",
    "Loss(criterion).attach(validation_evaluator, 'ce')\n",
    "\n",
    "\n",
    "pbar = ProgressBar(persist=True, bar_format=\"\")\n",
    "pbar.attach(trainer, ['loss'])\n",
    "\n",
    "training_history_acc = []\n",
    "training_history = {'accuracy':[],'loss':[]}\n",
    "validation_history = {'accuracy':[],'loss':[]}\n",
    "last_epoch = []\n",
    "\n",
    "@trainer.on(Events.ITERATION_COMPLETED(every=log_interval))\n",
    "def log_training_loss(trainer):\n",
    "    print(\"Epoch[{}] Loss: {:.4f}\".format(trainer.state.epoch, trainer.state.output))\n",
    "\n",
    "@trainer.on(Events.EPOCH_COMPLETED)\n",
    "def log_training_results(trainer):\n",
    "    train_evaluator.run(train_loader)\n",
    "    metrics = train_evaluator.state.metrics\n",
    "    training_history['accuracy'].append(metrics[\"accuracy\"])\n",
    "    training_history['loss'].append(metrics[\"ce\"])\n",
    "    print(\"Training Results - Epoch: {}  Avg accuracy: {:.3f} Avg loss: {:.4f}\"\n",
    "          .format(trainer.state.epoch, metrics[\"accuracy\"], metrics[\"ce\"]))\n",
    "\n",
    "@trainer.on(Events.EPOCH_COMPLETED)\n",
    "def log_validation_results(trainer):\n",
    "    validation_evaluator.run(val_loader)\n",
    "    metrics = validation_evaluator.state.metrics\n",
    "    \n",
    "    validation_history['accuracy'].append(metrics[\"accuracy\"])\n",
    "    validation_history['loss'].append(metrics[\"ce\"])\n",
    "    print(\"Validation Results - Epoch: {}  Avg accuracy: {:.3f} Avg loss: {:.4f}\"\n",
    "          .format(trainer.state.epoch, metrics[\"accuracy\"], metrics[\"ce\"]))\n",
    "\n",
    "\n",
    "def score_function(engine):\n",
    "    val_loss = engine.state.metrics['ce']\n",
    "    return val_loss\n",
    "\n",
    "checkpointer = ModelCheckpoint('checkpoint', \n",
    "                               'best_model_18_feature',\n",
    "                               save_interval=1,\n",
    "                               n_saved=2,\n",
    "                               create_dir=True,\n",
    "                               require_empty=False,\n",
    "                               save_as_state_dict=True)\n",
    "\n",
    "best_model_save = ModelCheckpoint('best_model_18_feature',\n",
    "                                  'best_model_18_feature',\n",
    "                                  n_saved=1,create_dir=True,\n",
    "                                  save_as_state_dict=True,\n",
    "                                  require_empty=True,\n",
    "                                  score_function=score_function)\n",
    "\n",
    "\n",
    "trainer.add_event_handler(Events.EPOCH_COMPLETED, checkpointer, {'steering': model})\n",
    "validation_evaluator.add_event_handler(Events.EPOCH_COMPLETED, best_model_save, {'steering': model})\n",
    "\n",
    "since = time.time()\n",
    "\n",
    "trainer.run(train_loader, max_epochs=NUM_EPOCHS)\n",
    "\n",
    "time_elapsed = time.time() - since\n",
    "print('Training complete in {:.0f}m {:.0f}s'.format(time_elapsed // 60, time_elapsed % 60))"
   ]
  },
  {
   "cell_type": "code",
   "execution_count": 12,
   "metadata": {},
   "outputs": [
    {
     "data": {
      "image/png": "[encoded data removed]",
      "text/plain": [
       "<Figure size 432x288 with 1 Axes>"
      ]
     },
     "metadata": {
      "needs_background": "light"
     },
     "output_type": "display_data"
    }
   ],
   "source": [
    "epochs = range(NUM_EPOCHS)\n",
    "import matplotlib.pyplot as plt\n",
    "\n",
    "plt.figure()\n",
    "\n",
    "plt.plot(epochs, training_history['loss'], 'bo', label='Training loss')\n",
    "plt.plot(epochs, validation_history['loss'], 'b', label='Validation loss')\n",
    "\n",
    "plt.title('Training and validation loss')\n",
    "plt.legend()\n",
    "\n",
    "plt.show()"
   ]
  },
  {
   "cell_type": "code",
   "execution_count": 14,
   "metadata": {},
   "outputs": [
    {
     "data": {
      "image/png": "[encoded data removed]",
      "text/plain": [
       "<Figure size 432x288 with 1 Axes>"
      ]
     },
     "metadata": {
      "needs_background": "light"
     },
     "output_type": "display_data"
    }
   ],
   "source": [
    "plt.figure()\n",
    "\n",
    "\n",
    "plt.plot(epochs, training_history['accuracy'], 'bo', label='Training accuracy')\n",
    "plt.plot(epochs, validation_history['accuracy'], 'b', label='Validation accuracy')\n",
    "# plt.plot(epochs, state.metrics['loss'], 'r', label='loss')\n",
    "plt.title('Training and validation accuracy')\n",
    "plt.legend()\n",
    "\n",
    "plt.show()"
   ]
  },
  {
   "cell_type": "code",
   "execution_count": null,
   "metadata": {},
   "outputs": [],
   "source": []
  }
 ],
 "metadata": {
  "kernelspec": {
   "display_name": "Python 3",
   "language": "python",
   "name": "python3"
  },
  "language_info": {
   "codemirror_mode": {
    "name": "ipython",
    "version": 3
   },
   "file_extension": ".py",
   "mimetype": "text/x-python",
   "name": "python",
   "nbconvert_exporter": "python",
   "pygments_lexer": "ipython3",
   "version": "3.7.7"
  },
  "widgets": {
   "application/vnd.jupyter.widget-state+json": {
    "state": {
     "000bb6d5ac65481694fb8aca1db85be5": {
      "model_module": "@jupyter-widgets/base",
      "model_module_version": "1.2.0",
      "model_name": "LayoutModel",
      "state": {}
     },
     "0015429d874d489fb953a763bccf676a": {
      "model_module": "@jupyter-widgets/controls",
      "model_module_version": "1.5.0",
      "model_name": "FloatProgressModel",
      "state": {
       "bar_style": "success",
       "layout": "IPY_MODEL_8cd78ceba12245b79fc0ddf04650bb86",
       "max": 43,
       "style": "IPY_MODEL_ad5ed350bda24d75a5015fe14aa49dcd",
       "value": 43
      }
     },
     "002af09ed4e441cc8f6fdc236a39ceb0": {
      "model_module": "@jupyter-widgets/base",
      "model_module_version": "1.2.0",
      "model_name": "LayoutModel",
      "state": {}
     },
     "0095c32b5a494420a2f759e29b7a7850": {
      "model_module": "@jupyter-widgets/base",
      "model_module_version": "1.2.0",
      "model_name": "LayoutModel",
      "state": {}
     },
     "01100d4ed84f456e9f33510a2858665e": {
      "model_module": "@jupyter-widgets/controls",
      "model_module_version": "1.5.0",
      "model_name": "DescriptionStyleModel",
      "state": {
       "description_width": ""
      }
     },
     "011f603408e641fdbe576dc682470001": {
      "model_module": "@jupyter-widgets/controls",
      "model_module_version": "1.5.0",
      "model_name": "FloatProgressModel",
      "state": {
       "bar_style": "success",
       "description": "100%",
       "layout": "IPY_MODEL_f5acf92adb2f4daf967475befd86b001",
       "max": 87306240,
       "style": "IPY_MODEL_c49ce703af414ed590b32bea139f89f1",
       "value": 87306240
      }
     },
     "015ef1d54e524159a2da98b04314530c": {
      "model_module": "@jupyter-widgets/controls",
      "model_module_version": "1.5.0",
      "model_name": "ProgressStyleModel",
      "state": {
       "description_width": "initial"
      }
     },
     "016ff9c4b52c42e98b1a26de9ffcb03a": {
      "model_module": "@jupyter-widgets/controls",
      "model_module_version": "1.5.0",
      "model_name": "HTMLModel",
      "state": {
       "layout": "IPY_MODEL_8450e5d298cd418d84b0ddfeed2420de",
       "style": "IPY_MODEL_9b83fc0fd2a543ce92a923516482c864",
       "value": "Epoch [41/50]: 100%|██████████| 85/85 [00:05&lt;00:00, 15.63it/s, loss=0.0192]"
      }
     },
     "0194af5e50884a24a9e5249f9c694387": {
      "model_module": "@jupyter-widgets/base",
      "model_module_version": "1.2.0",
      "model_name": "LayoutModel",
      "state": {}
     },
     "01b5c615a00f47ca899b99cedbeaa540": {
      "model_module": "@jupyter-widgets/controls",
      "model_module_version": "1.5.0",
      "model_name": "ProgressStyleModel",
      "state": {
       "description_width": "initial"
      }
     },
     "02171d924af54cbaba8fd957ecca25bd": {
      "model_module": "@jupyter-widgets/base",
      "model_module_version": "1.2.0",
      "model_name": "LayoutModel",
      "state": {}
     },
     "02368674bd194f9ab53e516f11137d3e": {
      "model_module": "@jupyter-widgets/base",
      "model_module_version": "1.2.0",
      "model_name": "LayoutModel",
      "state": {}
     },
     "02f7c17e5ea54f92835d300057f83fe6": {
      "model_module": "@jupyter-widgets/base",
      "model_module_version": "1.2.0",
      "model_name": "LayoutModel",
      "state": {}
     },
     "03167a99483d4be8afc42040d3cb6fc5": {
      "model_module": "@jupyter-widgets/controls",
      "model_module_version": "1.5.0",
      "model_name": "HBoxModel",
      "state": {
       "children": [
        "IPY_MODEL_817524f15ae34409b0a24bb6dcb6dbcf",
        "IPY_MODEL_c097be73ae3845c784b50a307570dfc2"
       ],
       "layout": "IPY_MODEL_7876e73f83894144a9cd3936b2898a2e"
      }
     },
     "0317805976bb453ca87efc54bb271d27": {
      "model_module": "@jupyter-widgets/controls",
      "model_module_version": "1.5.0",
      "model_name": "HBoxModel",
      "state": {
       "children": [
        "IPY_MODEL_0c2db29363794d0e903323a7b09f66c1",
        "IPY_MODEL_016ff9c4b52c42e98b1a26de9ffcb03a"
       ],
       "layout": "IPY_MODEL_6b4cd859d52a405ba8f1cfcc760680fb"
      }
     },
     "0332a68cbcb6404eae9ccedd39127af1": {
      "model_module": "@jupyter-widgets/base",
      "model_module_version": "1.2.0",
      "model_name": "LayoutModel",
      "state": {}
     },
     "038eea52728643da92f775c35510d9ec": {
      "model_module": "@jupyter-widgets/controls",
      "model_module_version": "1.5.0",
      "model_name": "ProgressStyleModel",
      "state": {
       "description_width": "initial"
      }
     },
     "03b1dacd8a514eeca3d9302e14bc30b9": {
      "model_module": "@jupyter-widgets/controls",
      "model_module_version": "1.5.0",
      "model_name": "HTMLModel",
      "state": {
       "layout": "IPY_MODEL_cf8597e9f6d44984a97e9ee98aa88b72",
       "style": "IPY_MODEL_762f6ede249845958dab7bcd5922ae85",
       "value": "Epoch [2/50]: 100%|██████████| 500/500 [01:16&lt;00:00,  6.53it/s, loss=0.00508]"
      }
     },
     "03c59a620fdd4e5e8166a594eaa6d608": {
      "model_module": "@jupyter-widgets/controls",
      "model_module_version": "1.5.0",
      "model_name": "HBoxModel",
      "state": {
       "children": [
        "IPY_MODEL_91edb2d591104f8dbd1c4112ba20eb66",
        "IPY_MODEL_7a40b505e8c4431f887e9f0d599b6714"
       ],
       "layout": "IPY_MODEL_bb9305521baf4217a847dc9cc172ce75"
      }
     },
     "03ddbf59dea647fea9d4010ed4f86e9b": {
      "model_module": "@jupyter-widgets/base",
      "model_module_version": "1.2.0",
      "model_name": "LayoutModel",
      "state": {}
     },
     "0409189d93a54ed7806828dd85b7b676": {
      "model_module": "@jupyter-widgets/base",
      "model_module_version": "1.2.0",
      "model_name": "LayoutModel",
      "state": {}
     },
     "04247dc129444d1f8717dc4744b7ee96": {
      "model_module": "@jupyter-widgets/controls",
      "model_module_version": "1.5.0",
      "model_name": "DescriptionStyleModel",
      "state": {
       "description_width": ""
      }
     },
     "042fbbe643ff4b3c9a8befbb080d629c": {
      "model_module": "@jupyter-widgets/base",
      "model_module_version": "1.2.0",
      "model_name": "LayoutModel",
      "state": {}
     },
     "043acaf3214341b99f329887b0ab7f99": {
      "model_module": "@jupyter-widgets/controls",
      "model_module_version": "1.5.0",
      "model_name": "FloatProgressModel",
      "state": {
       "bar_style": "success",
       "layout": "IPY_MODEL_1babb8f208f64bd2a89efe47a5ff0469",
       "max": 43,
       "style": "IPY_MODEL_b57c643760d94858bbb03520b08c3dc5",
       "value": 43
      }
     },
     "04cd0cbb759e4b448202ced7c91e8116": {
      "model_module": "@jupyter-widgets/controls",
      "model_module_version": "1.5.0",
      "model_name": "HTMLModel",
      "state": {
       "layout": "IPY_MODEL_d0dc8ead577b4ef88f324440012e0e75",
       "style": "IPY_MODEL_6538905da3314f63bf06398a248adcb6",
       "value": "Epoch [47/50]: 100%|██████████| 43/43 [00:10&lt;00:00,  4.12it/s, loss=0.0011]"
      }
     },
     "04d53d7b9b8b499280558387f49dd457": {
      "model_module": "@jupyter-widgets/base",
      "model_module_version": "1.2.0",
      "model_name": "LayoutModel",
      "state": {}
     },
     "0508280acb4f4fe4b4efe0af89ace540": {
      "model_module": "@jupyter-widgets/base",
      "model_module_version": "1.2.0",
      "model_name": "LayoutModel",
      "state": {}
     },
     "051e2ce9aee84c16a8858a8f0cb32d98": {
      "model_module": "@jupyter-widgets/base",
      "model_module_version": "1.2.0",
      "model_name": "LayoutModel",
      "state": {}
     },
     "054475a9376a4025a0495d7c250fca0a": {
      "model_module": "@jupyter-widgets/controls",
      "model_module_version": "1.5.0",
      "model_name": "ProgressStyleModel",
      "state": {
       "description_width": "initial"
      }
     },
     "0588edd9e11b4c879b12b016e9f3bf34": {
      "model_module": "@jupyter-widgets/controls",
      "model_module_version": "1.5.0",
      "model_name": "HTMLModel",
      "state": {
       "layout": "IPY_MODEL_be35eb6052604b20afb29c8ea57aed12",
       "style": "IPY_MODEL_2e6333b379fd48b0a67214be21c9c4c9",
       "value": "Epoch [35/50]: 100%|██████████| 43/43 [00:10&lt;00:00,  4.22it/s, loss=0.0037]"
      }
     },
     "05a68916d28241a29b9beb1b04c952e0": {
      "model_module": "@jupyter-widgets/base",
      "model_module_version": "1.2.0",
      "model_name": "LayoutModel",
      "state": {}
     },
     "05c241edbee44c60afd28d4743653d4e": {
      "model_module": "@jupyter-widgets/controls",
      "model_module_version": "1.5.0",
      "model_name": "HTMLModel",
      "state": {
       "layout": "IPY_MODEL_8245a480e56d4b84af25c1f8dd3f93c1",
       "style": "IPY_MODEL_9953aa84812847539b064d43f4650216",
       "value": "Epoch [5/50]: 100%|██████████| 85/85 [00:04&lt;00:00, 19.11it/s, loss=0.0716]"
      }
     },
     "05cf640944dd4f0cbd54b18471fed9e4": {
      "model_module": "@jupyter-widgets/controls",
      "model_module_version": "1.5.0",
      "model_name": "ProgressStyleModel",
      "state": {
       "description_width": "initial"
      }
     },
     "05d118b528a54fb8bfc61b0a7ec01926": {
      "model_module": "@jupyter-widgets/base",
      "model_module_version": "1.2.0",
      "model_name": "LayoutModel",
      "state": {}
     },
     "066c586215f545c098de4bb03deadfdb": {
      "model_module": "@jupyter-widgets/controls",
      "model_module_version": "1.5.0",
      "model_name": "ProgressStyleModel",
      "state": {
       "description_width": "initial"
      }
     },
     "066cbbfa1d3642e5ac143225e27030de": {
      "model_module": "@jupyter-widgets/controls",
      "model_module_version": "1.5.0",
      "model_name": "FloatProgressModel",
      "state": {
       "bar_style": "success",
       "layout": "IPY_MODEL_96446fe4001445e7a06d387a76665b08",
       "max": 85,
       "style": "IPY_MODEL_f0a5fd569f2249d1bacfc73f834ff4e9",
       "value": 85
      }
     },
     "069cc88f5a11471abed96aaa71ac1cb9": {
      "model_module": "@jupyter-widgets/controls",
      "model_module_version": "1.5.0",
      "model_name": "ProgressStyleModel",
      "state": {
       "description_width": "initial"
      }
     },
     "06e9d274696a4caaa9ca3c6ece1e31da": {
      "model_module": "@jupyter-widgets/base",
      "model_module_version": "1.2.0",
      "model_name": "LayoutModel",
      "state": {}
     },
     "074c864028cf4705830cbb5dda437d97": {
      "model_module": "@jupyter-widgets/base",
      "model_module_version": "1.2.0",
      "model_name": "LayoutModel",
      "state": {}
     },
     "075e33f6cc4f4bf39ee08f7c68760ede": {
      "model_module": "@jupyter-widgets/controls",
      "model_module_version": "1.5.0",
      "model_name": "HTMLModel",
      "state": {
       "layout": "IPY_MODEL_eaec75dedf2249e19f9c2ffde3c389b8",
       "style": "IPY_MODEL_5fd5ed23208e42e9a2cb47dd854bb1fa",
       "value": "Epoch [25/50]: 100%|██████████| 85/85 [00:03&lt;00:00, 23.59it/s, loss=0.0233]"
      }
     },
     "07994a36e1494722ad7ff2076139f043": {
      "model_module": "@jupyter-widgets/controls",
      "model_module_version": "1.5.0",
      "model_name": "HTMLModel",
      "state": {
       "layout": "IPY_MODEL_62c6ae88c2c340c596a9fa9fdd809e5f",
       "style": "IPY_MODEL_68ae0a9b62c24ab6a38fe5fad3edc7ed",
       "value": "Epoch [15/50]: 100%|██████████| 85/85 [00:04&lt;00:00, 19.16it/s, loss=0.0327]"
      }
     },
     "07ff6847f48845068189aceec8533b40": {
      "model_module": "@jupyter-widgets/base",
      "model_module_version": "1.2.0",
      "model_name": "LayoutModel",
      "state": {}
     },
     "0880d18bf34a4e699bbb4de58d4b4ebe": {
      "model_module": "@jupyter-widgets/base",
      "model_module_version": "1.2.0",
      "model_name": "LayoutModel",
      "state": {}
     },
     "088921588e2a4b498c691b97d3b3a43e": {
      "model_module": "@jupyter-widgets/controls",
      "model_module_version": "1.5.0",
      "model_name": "FloatProgressModel",
      "state": {
       "bar_style": "success",
       "layout": "IPY_MODEL_06e9d274696a4caaa9ca3c6ece1e31da",
       "max": 85,
       "style": "IPY_MODEL_d3095ea844dc4999961894c4793e828a",
       "value": 85
      }
     },
     "08af9d6af0854cf983af6e7b033d967e": {
      "model_module": "@jupyter-widgets/controls",
      "model_module_version": "1.5.0",
      "model_name": "DescriptionStyleModel",
      "state": {
       "description_width": ""
      }
     },
     "08c68ea29a7a4158810b2bfcd828a70d": {
      "model_module": "@jupyter-widgets/base",
      "model_module_version": "1.2.0",
      "model_name": "LayoutModel",
      "state": {}
     },
     "094d0fa7b3504690887c6d92ed9d9763": {
      "model_module": "@jupyter-widgets/controls",
      "model_module_version": "1.5.0",
      "model_name": "ProgressStyleModel",
      "state": {
       "description_width": "initial"
      }
     },
     "0995872ef86648b0bf173db68cdf0d29": {
      "model_module": "@jupyter-widgets/base",
      "model_module_version": "1.2.0",
      "model_name": "LayoutModel",
      "state": {}
     },
     "09d5334b860e45629a92f7c4afaaf1af": {
      "model_module": "@jupyter-widgets/controls",
      "model_module_version": "1.5.0",
      "model_name": "FloatProgressModel",
      "state": {
       "bar_style": "success",
       "layout": "IPY_MODEL_03ddbf59dea647fea9d4010ed4f86e9b",
       "max": 43,
       "style": "IPY_MODEL_67e0d51e8aa84da89c095dcc33969a7c",
       "value": 43
      }
     },
     "0a3e43c7e6fb42649faf12c67feb8ba5": {
      "model_module": "@jupyter-widgets/controls",
      "model_module_version": "1.5.0",
      "model_name": "FloatProgressModel",
      "state": {
       "bar_style": "success",
       "layout": "IPY_MODEL_7c20087431154798bb201fb54640661b",
       "max": 85,
       "style": "IPY_MODEL_72e7d850c3f74fdfbbe73738edfcd740",
       "value": 85
      }
     },
     "0a4850c4ebf747fc9dd95fa533b35c44": {
      "model_module": "@jupyter-widgets/controls",
      "model_module_version": "1.5.0",
      "model_name": "HBoxModel",
      "state": {
       "children": [
        "IPY_MODEL_579a928a2a6546f5aa801a59f4d5ef1e",
        "IPY_MODEL_ac7390465f7e45f8a65071f6f867ff6a"
       ],
       "layout": "IPY_MODEL_3269b76c1894461d95d1d4351d251289"
      }
     },
     "0a6a0c6d5db246fa8c62777295b5625a": {
      "model_module": "@jupyter-widgets/base",
      "model_module_version": "1.2.0",
      "model_name": "LayoutModel",
      "state": {}
     },
     "0b8c48f3281c4725923afcc40ef0fb07": {
      "model_module": "@jupyter-widgets/controls",
      "model_module_version": "1.5.0",
      "model_name": "FloatProgressModel",
      "state": {
       "bar_style": "success",
       "layout": "IPY_MODEL_d8760cee4b7b4abeb8f102ec4c6f9824",
       "max": 85,
       "style": "IPY_MODEL_094d0fa7b3504690887c6d92ed9d9763",
       "value": 85
      }
     },
     "0bde6295beda4519a833a436b58fc606": {
      "model_module": "@jupyter-widgets/controls",
      "model_module_version": "1.5.0",
      "model_name": "FloatProgressModel",
      "state": {
       "bar_style": "success",
       "layout": "IPY_MODEL_30981e81d1f84cddb3f42acecc3167cf",
       "max": 43,
       "style": "IPY_MODEL_def5d9db965c47278208baa16191f920",
       "value": 43
      }
     },
     "0be99391916143f4ad467fc5093c7856": {
      "model_module": "@jupyter-widgets/base",
      "model_module_version": "1.2.0",
      "model_name": "LayoutModel",
      "state": {}
     },
     "0bfa6cc97ed94305b750419fb044eb95": {
      "model_module": "@jupyter-widgets/base",
      "model_module_version": "1.2.0",
      "model_name": "LayoutModel",
      "state": {}
     },
     "0c12c5afb4fa442892b1e46fbdafd39c": {
      "model_module": "@jupyter-widgets/controls",
      "model_module_version": "1.5.0",
      "model_name": "HBoxModel",
      "state": {
       "children": [
        "IPY_MODEL_9d6329d010aa4d368722796ce8ed347e",
        "IPY_MODEL_63054c393e6c4f6285526ec8c9a34894"
       ],
       "layout": "IPY_MODEL_b0309374b03f41bb9912bdb383b5e569"
      }
     },
     "0c24a3f38b094364b39e79869eb70da9": {
      "model_module": "@jupyter-widgets/base",
      "model_module_version": "1.2.0",
      "model_name": "LayoutModel",
      "state": {}
     },
     "0c2db29363794d0e903323a7b09f66c1": {
      "model_module": "@jupyter-widgets/controls",
      "model_module_version": "1.5.0",
      "model_name": "FloatProgressModel",
      "state": {
       "bar_style": "success",
       "layout": "IPY_MODEL_cd2a3aaf71be4cd48955f003581d4e8d",
       "max": 85,
       "style": "IPY_MODEL_7f913c7d05cf4f1abd21c5e89b62367a",
       "value": 85
      }
     },
     "0c9dc376bee04c8086a77a631a3269ea": {
      "model_module": "@jupyter-widgets/controls",
      "model_module_version": "1.5.0",
      "model_name": "HTMLModel",
      "state": {
       "layout": "IPY_MODEL_d24aaf89c17f44558164a3a25ac718c6",
       "style": "IPY_MODEL_ec4dd599be454416bd7cc78559debc0a",
       "value": "Epoch [1/10]: 100%|██████████| 246/246 [00:35&lt;00:00,  7.01it/s, loss=0.0273]"
      }
     },
     "0cced78205704eae9e89bb0cbf18b73e": {
      "model_module": "@jupyter-widgets/controls",
      "model_module_version": "1.5.0",
      "model_name": "DescriptionStyleModel",
      "state": {
       "description_width": ""
      }
     },
     "0d12e972bb994805acc67ab86ebe4c3a": {
      "model_module": "@jupyter-widgets/controls",
      "model_module_version": "1.5.0",
      "model_name": "HTMLModel",
      "state": {
       "layout": "IPY_MODEL_dbe8c986c9b044f0bb7351e1759973e3",
       "style": "IPY_MODEL_eda25062498b40ee9565aebe29243056",
       "value": "Epoch [2/2]: 100%|██████████| 246/246 [00:33&lt;00:00,  7.39it/s, loss=0.0141]"
      }
     },
     "0d917c44c96f4567862f468b69794730": {
      "model_module": "@jupyter-widgets/base",
      "model_module_version": "1.2.0",
      "model_name": "LayoutModel",
      "state": {}
     },
     "0da1f648e2624eea969f87445b223443": {
      "model_module": "@jupyter-widgets/controls",
      "model_module_version": "1.5.0",
      "model_name": "HTMLModel",
      "state": {
       "layout": "IPY_MODEL_f572b0c2e1ae4c2ca8e0a91540a43b4e",
       "style": "IPY_MODEL_26702611617a4960a6e96cb4ddf8a069",
       "value": "Epoch [4/50]:   9%|▉         | 47/500 [00:06&lt;01:01,  7.35it/s, loss=0.00231]"
      }
     },
     "0df9443d42c7429eb91ed4534e5c7e4d": {
      "model_module": "@jupyter-widgets/controls",
      "model_module_version": "1.5.0",
      "model_name": "ProgressStyleModel",
      "state": {
       "description_width": "initial"
      }
     },
     "0dfbbee784dc48fe93eff4efb2a5430c": {
      "model_module": "@jupyter-widgets/controls",
      "model_module_version": "1.5.0",
      "model_name": "ProgressStyleModel",
      "state": {
       "description_width": "initial"
      }
     },
     "0e254e4a46534d07ad22fd12e473d694": {
      "model_module": "@jupyter-widgets/controls",
      "model_module_version": "1.5.0",
      "model_name": "HTMLModel",
      "state": {
       "layout": "IPY_MODEL_7ff4c9fde87d4ab5a36fe2c955f03a51",
       "style": "IPY_MODEL_5fbfd104420b4cf4a8d32e6851ab1d16",
       "value": "Epoch [32/50]: 100%|██████████| 43/43 [00:10&lt;00:00,  4.22it/s, loss=0.0023]"
      }
     },
     "0e2c4a2466fb46f08d706b7b50429d29": {
      "model_module": "@jupyter-widgets/base",
      "model_module_version": "1.2.0",
      "model_name": "LayoutModel",
      "state": {}
     },
     "0e39d142c4f64c619947b7fbd0b0f7e0": {
      "model_module": "@jupyter-widgets/controls",
      "model_module_version": "1.5.0",
      "model_name": "ProgressStyleModel",
      "state": {
       "description_width": "initial"
      }
     },
     "0e717337a9564c528d1269df6eae5c5b": {
      "model_module": "@jupyter-widgets/base",
      "model_module_version": "1.2.0",
      "model_name": "LayoutModel",
      "state": {}
     },
     "0e83a8f1d4f64d63a9d25653d52858dc": {
      "model_module": "@jupyter-widgets/controls",
      "model_module_version": "1.5.0",
      "model_name": "ProgressStyleModel",
      "state": {
       "description_width": "initial"
      }
     },
     "0f01bd6ebea04e02a7991e339a212428": {
      "model_module": "@jupyter-widgets/base",
      "model_module_version": "1.2.0",
      "model_name": "LayoutModel",
      "state": {}
     },
     "0f5952d003784d1e81d193590accf309": {
      "model_module": "@jupyter-widgets/base",
      "model_module_version": "1.2.0",
      "model_name": "LayoutModel",
      "state": {}
     },
     "0fe8df1851aa44458cf68da309277743": {
      "model_module": "@jupyter-widgets/base",
      "model_module_version": "1.2.0",
      "model_name": "LayoutModel",
      "state": {}
     },
     "0fea103d5d884bed9216c40f9624ac08": {
      "model_module": "@jupyter-widgets/base",
      "model_module_version": "1.2.0",
      "model_name": "LayoutModel",
      "state": {}
     },
     "116aec5cf62b4e838ba2c786b341f0d9": {
      "model_module": "@jupyter-widgets/controls",
      "model_module_version": "1.5.0",
      "model_name": "HBoxModel",
      "state": {
       "children": [
        "IPY_MODEL_6f86cf0f20804bedb2d9cd31ffbd8050",
        "IPY_MODEL_d468857ee9184cb5b5784162a184b2e6"
       ],
       "layout": "IPY_MODEL_7cb0cf9d6a934a4a95680f2bd56e530a"
      }
     },
     "1174732e97e54078b3f6643f4b93d4bf": {
      "model_module": "@jupyter-widgets/controls",
      "model_module_version": "1.5.0",
      "model_name": "FloatProgressModel",
      "state": {
       "bar_style": "success",
       "layout": "IPY_MODEL_28813a72abc444dc889a56cde695f2e5",
       "max": 246,
       "style": "IPY_MODEL_9573b82268ba403cacdcf59df9c678ee",
       "value": 246
      }
     },
     "1186ce92295c477ca0eb9964038a8e88": {
      "model_module": "@jupyter-widgets/controls",
      "model_module_version": "1.5.0",
      "model_name": "HBoxModel",
      "state": {
       "children": [
        "IPY_MODEL_9c55e3cf216f47bc82ffc03e81e28f19",
        "IPY_MODEL_4efd4130ee044d0fb7a6847ba49cfdea"
       ],
       "layout": "IPY_MODEL_30517b16032e443db307474f013e3767"
      }
     },
     "11f757ccc1f241048cabdbdf59a9b089": {
      "model_module": "@jupyter-widgets/controls",
      "model_module_version": "1.5.0",
      "model_name": "DescriptionStyleModel",
      "state": {
       "description_width": ""
      }
     },
     "12186645888b42a49fb907e56458b826": {
      "model_module": "@jupyter-widgets/base",
      "model_module_version": "1.2.0",
      "model_name": "LayoutModel",
      "state": {}
     },
     "124d10f4846e46dfb9c93ff5824ca77a": {
      "model_module": "@jupyter-widgets/controls",
      "model_module_version": "1.5.0",
      "model_name": "DescriptionStyleModel",
      "state": {
       "description_width": ""
      }
     },
     "12d7f2a0932d4ec7adedffd6e40ae5b3": {
      "model_module": "@jupyter-widgets/controls",
      "model_module_version": "1.5.0",
      "model_name": "HBoxModel",
      "state": {
       "children": [
        "IPY_MODEL_17d56fe4b9aa42679f156ee220eaa1d5",
        "IPY_MODEL_46706b2f88db4e5bb3a8053c4b7a728f"
       ],
       "layout": "IPY_MODEL_83ae628268af4d3baa905c280bbb56cc"
      }
     },
     "131756d86b564e8fa79598cbe6e77ffc": {
      "model_module": "@jupyter-widgets/controls",
      "model_module_version": "1.5.0",
      "model_name": "FloatProgressModel",
      "state": {
       "bar_style": "success",
       "layout": "IPY_MODEL_1fe7e0daaf874a34ae852963659e40ba",
       "max": 85,
       "style": "IPY_MODEL_66fbde006923470bb220fcabfb57d724",
       "value": 85
      }
     },
     "132af0bd2e25420b88738e1ca9cc45c6": {
      "model_module": "@jupyter-widgets/base",
      "model_module_version": "1.2.0",
      "model_name": "LayoutModel",
      "state": {}
     },
     "13670e72b2134c3aba08ce3783b91900": {
      "model_module": "@jupyter-widgets/base",
      "model_module_version": "1.2.0",
      "model_name": "LayoutModel",
      "state": {}
     },
     "13b457719ff441478c04314f159dbab1": {
      "model_module": "@jupyter-widgets/controls",
      "model_module_version": "1.5.0",
      "model_name": "HBoxModel",
      "state": {
       "children": [
        "IPY_MODEL_a401eabb6d4c4d39b590fc609de38494",
        "IPY_MODEL_30dc7ea5d87f488c9cb0fa91037d5add"
       ],
       "layout": "IPY_MODEL_4869430ab807498c93db8f0eeeb4143e"
      }
     },
     "13c856368ab54e1187bb3c9a6ca1a63b": {
      "model_module": "@jupyter-widgets/base",
      "model_module_version": "1.2.0",
      "model_name": "LayoutModel",
      "state": {}
     },
     "13ed0dbf4ba748e5bdaf756b824579a4": {
      "model_module": "@jupyter-widgets/controls",
      "model_module_version": "1.5.0",
      "model_name": "DescriptionStyleModel",
      "state": {
       "description_width": ""
      }
     },
     "14a840ac3c434626bd2688bc6dcdf32b": {
      "model_module": "@jupyter-widgets/controls",
      "model_module_version": "1.5.0",
      "model_name": "HTMLModel",
      "state": {
       "layout": "IPY_MODEL_bbe95ce18c8b47a4a65ceeacd24746aa",
       "style": "IPY_MODEL_b386bf7eb8404514a43b523d5b8b2ef3",
       "value": "Epoch [13/50]: 100%|██████████| 43/43 [00:10&lt;00:00,  4.13it/s, loss=0.00421]"
      }
     },
     "14c778224a38447b8fe09a85f4756982": {
      "model_module": "@jupyter-widgets/controls",
      "model_module_version": "1.5.0",
      "model_name": "FloatProgressModel",
      "state": {
       "bar_style": "success",
       "layout": "IPY_MODEL_74eda2b64b974855be62c66f5e8c8551",
       "max": 85,
       "style": "IPY_MODEL_512c1ee85c404495a10675e69f2bb4ac",
       "value": 85
      }
     },
     "14eae75b2d604aa8a13bfc721f6d7c7f": {
      "model_module": "@jupyter-widgets/base",
      "model_module_version": "1.2.0",
      "model_name": "LayoutModel",
      "state": {}
     },
     "1529c008d87547ab9383b695d6309b83": {
      "model_module": "@jupyter-widgets/controls",
      "model_module_version": "1.5.0",
      "model_name": "ProgressStyleModel",
      "state": {
       "description_width": "initial"
      }
     },
     "1545d13359bb4a21917dcc21787d0a87": {
      "model_module": "@jupyter-widgets/controls",
      "model_module_version": "1.5.0",
      "model_name": "HBoxModel",
      "state": {
       "children": [
        "IPY_MODEL_4c269b78a22d467587bcd989ab606759",
        "IPY_MODEL_03b1dacd8a514eeca3d9302e14bc30b9"
       ],
       "layout": "IPY_MODEL_ec6e9e1e00034d9495137f7d8115237b"
      }
     },
     "158a5c54189c4c25b94df092c3cf89cd": {
      "model_module": "@jupyter-widgets/controls",
      "model_module_version": "1.5.0",
      "model_name": "ProgressStyleModel",
      "state": {
       "description_width": "initial"
      }
     },
     "15b92dbf73814bbbb8903db4be36a4a5": {
      "model_module": "@jupyter-widgets/controls",
      "model_module_version": "1.5.0",
      "model_name": "HTMLModel",
      "state": {
       "layout": "IPY_MODEL_b700bcac0a9947f3a8539f61b0885aac",
       "style": "IPY_MODEL_ee69855a5ba2466495cfdd6acf11da37",
       "value": "Epoch [8/10]: 100%|██████████| 246/246 [00:33&lt;00:00,  7.30it/s, loss=0.00234]"
      }
     },
     "1601e94ec7b04b5380ec20fbb88ec26b": {
      "model_module": "@jupyter-widgets/controls",
      "model_module_version": "1.5.0",
      "model_name": "FloatProgressModel",
      "state": {
       "bar_style": "success",
       "layout": "IPY_MODEL_0fea103d5d884bed9216c40f9624ac08",
       "max": 43,
       "style": "IPY_MODEL_01b5c615a00f47ca899b99cedbeaa540",
       "value": 43
      }
     },
     "160d6777127c4d25bb434b9aaf40f9d5": {
      "model_module": "@jupyter-widgets/base",
      "model_module_version": "1.2.0",
      "model_name": "LayoutModel",
      "state": {}
     },
     "161df3f609d54696bb911cb94dca735f": {
      "model_module": "@jupyter-widgets/controls",
      "model_module_version": "1.5.0",
      "model_name": "HBoxModel",
      "state": {
       "children": [
        "IPY_MODEL_60e72c0d971d43ad80deb2000a416b1e",
        "IPY_MODEL_e41e2337c2bd44348b5fcf2c4e383588"
       ],
       "layout": "IPY_MODEL_5f54e2917d51474f9e576346b8a5fa6b"
      }
     },
     "1682c512641e4b1f96eaa80ae01f2e88": {
      "model_module": "@jupyter-widgets/controls",
      "model_module_version": "1.5.0",
      "model_name": "HTMLModel",
      "state": {
       "layout": "IPY_MODEL_d513076974204b9d9ddc2ed0fcd6a354",
       "style": "IPY_MODEL_d756a97bc05544998d328a80a1179048",
       "value": "Epoch [20/50]: 100%|██████████| 85/85 [00:03&lt;00:00, 23.14it/s, loss=0.0261]"
      }
     },
     "1697022d0db64302aa275a3b92c9a48a": {
      "model_module": "@jupyter-widgets/controls",
      "model_module_version": "1.5.0",
      "model_name": "HTMLModel",
      "state": {
       "layout": "IPY_MODEL_816e5149dc2448429876cbd3a87447fb",
       "style": "IPY_MODEL_6cfdb794b6ae414f97fcd05e2c383648",
       "value": "Epoch [39/50]: 100%|██████████| 85/85 [00:03&lt;00:00, 23.83it/s, loss=0.0197]"
      }
     },
     "16a6f2b559ff4e32b3ac7de162b7d939": {
      "model_module": "@jupyter-widgets/controls",
      "model_module_version": "1.5.0",
      "model_name": "HTMLModel",
      "state": {
       "layout": "IPY_MODEL_f8f401559b704df0ab70cf645d2f5304",
       "style": "IPY_MODEL_6f050b1e1945489cb44fc1ebc620f331",
       "value": "Epoch [30/50]: 100%|██████████| 85/85 [00:03&lt;00:00, 23.64it/s, loss=0.0228]"
      }
     },
     "1707311967b64234a44a8d00c2d50ded": {
      "model_module": "@jupyter-widgets/controls",
      "model_module_version": "1.5.0",
      "model_name": "FloatProgressModel",
      "state": {
       "bar_style": "success",
       "layout": "IPY_MODEL_c63f02ee867843aa81dabf5056a7de07",
       "max": 85,
       "style": "IPY_MODEL_3ca790cd29e243b6b7c7f6bbd397db0b",
       "value": 85
      }
     },
     "1761682c957344c99f66baf08f1885ef": {
      "model_module": "@jupyter-widgets/controls",
      "model_module_version": "1.5.0",
      "model_name": "ProgressStyleModel",
      "state": {
       "description_width": "initial"
      }
     },
     "17d56fe4b9aa42679f156ee220eaa1d5": {
      "model_module": "@jupyter-widgets/controls",
      "model_module_version": "1.5.0",
      "model_name": "FloatProgressModel",
      "state": {
       "bar_style": "success",
       "layout": "IPY_MODEL_ee84d81181fc4a778c651085a1d2af9c",
       "max": 43,
       "style": "IPY_MODEL_fb015e37a3a54586b49ba362f02b55f0",
       "value": 43
      }
     },
     "17ed79c8ae2e4daea13e0d8ea7b4f914": {
      "model_module": "@jupyter-widgets/base",
      "model_module_version": "1.2.0",
      "model_name": "LayoutModel",
      "state": {}
     },
     "1866ec535d244baabd818d1f80e3e7ed": {
      "model_module": "@jupyter-widgets/base",
      "model_module_version": "1.2.0",
      "model_name": "LayoutModel",
      "state": {}
     },
     "186dac5f678e4388b764793526b12ddc": {
      "model_module": "@jupyter-widgets/base",
      "model_module_version": "1.2.0",
      "model_name": "LayoutModel",
      "state": {}
     },
     "188df0911d354190bd9f79f0ab699694": {
      "model_module": "@jupyter-widgets/controls",
      "model_module_version": "1.5.0",
      "model_name": "HBoxModel",
      "state": {
       "children": [
        "IPY_MODEL_f6b69cdd503e41868c071bf22229f6d2",
        "IPY_MODEL_ce001112f20a4f8e8ab9e5e134b82ac3"
       ],
       "layout": "IPY_MODEL_2575c2971ebb44e0ba72cbb4c090a2b9"
      }
     },
     "18f070a7c43149949caca1a59bd6b9be": {
      "model_module": "@jupyter-widgets/base",
      "model_module_version": "1.2.0",
      "model_name": "LayoutModel",
      "state": {}
     },
     "1955c0f6b2a74797b6d606aa841e0f8a": {
      "model_module": "@jupyter-widgets/base",
      "model_module_version": "1.2.0",
      "model_name": "LayoutModel",
      "state": {}
     },
     "19b12c8acc8648bb83240bd69122430c": {
      "model_module": "@jupyter-widgets/controls",
      "model_module_version": "1.5.0",
      "model_name": "HBoxModel",
      "state": {
       "children": [
        "IPY_MODEL_bdb511e7da1344f488a4b240145dcb55",
        "IPY_MODEL_ef2fb131cd064b739f732fa296f38339"
       ],
       "layout": "IPY_MODEL_ee329bdfbbac447da79725ed1ca375f1"
      }
     },
     "19efd6e16a8a4353bdcbeeb9ecd18633": {
      "model_module": "@jupyter-widgets/base",
      "model_module_version": "1.2.0",
      "model_name": "LayoutModel",
      "state": {}
     },
     "19f8161ff4384d44997e0cb9314477c5": {
      "model_module": "@jupyter-widgets/controls",
      "model_module_version": "1.5.0",
      "model_name": "FloatProgressModel",
      "state": {
       "bar_style": "success",
       "layout": "IPY_MODEL_4332469d9d294e0b8a8b48008fc2e7a7",
       "max": 246,
       "style": "IPY_MODEL_2a891a611f624d2f985c929c6062aebc",
       "value": 246
      }
     },
     "1ab003602df74f229f1bd4b09d9250db": {
      "model_module": "@jupyter-widgets/controls",
      "model_module_version": "1.5.0",
      "model_name": "FloatProgressModel",
      "state": {
       "bar_style": "success",
       "layout": "IPY_MODEL_0bfa6cc97ed94305b750419fb044eb95",
       "max": 43,
       "style": "IPY_MODEL_47f81c37f5cf447092bb01b73dfe241a",
       "value": 43
      }
     },
     "1ab84a517f3346418f04fbc4bf8acea0": {
      "model_module": "@jupyter-widgets/base",
      "model_module_version": "1.2.0",
      "model_name": "LayoutModel",
      "state": {}
     },
     "1acaa73fd12f44a48a7aadfc788a5519": {
      "model_module": "@jupyter-widgets/base",
      "model_module_version": "1.2.0",
      "model_name": "LayoutModel",
      "state": {}
     },
     "1b26738293aa4c5da13557c79a6c45be": {
      "model_module": "@jupyter-widgets/controls",
      "model_module_version": "1.5.0",
      "model_name": "DescriptionStyleModel",
      "state": {
       "description_width": ""
      }
     },
     "1babb8f208f64bd2a89efe47a5ff0469": {
      "model_module": "@jupyter-widgets/base",
      "model_module_version": "1.2.0",
      "model_name": "LayoutModel",
      "state": {}
     },
     "1bec6d7794c54cd8a531f675b2f06801": {
      "model_module": "@jupyter-widgets/controls",
      "model_module_version": "1.5.0",
      "model_name": "ProgressStyleModel",
      "state": {
       "description_width": "initial"
      }
     },
     "1c8f790680614816aa1c94b42f867b9f": {
      "model_module": "@jupyter-widgets/base",
      "model_module_version": "1.2.0",
      "model_name": "LayoutModel",
      "state": {}
     },
     "1d25a7f5e9c445e3925e23c2b2ffd6f5": {
      "model_module": "@jupyter-widgets/base",
      "model_module_version": "1.2.0",
      "model_name": "LayoutModel",
      "state": {}
     },
     "1d6c88de07024060bf30987042726bec": {
      "model_module": "@jupyter-widgets/controls",
      "model_module_version": "1.5.0",
      "model_name": "FloatProgressModel",
      "state": {
       "bar_style": "success",
       "layout": "IPY_MODEL_77f2d91465074b8baba906f9ff2a9956",
       "max": 43,
       "style": "IPY_MODEL_7e576d6fb5e94e4a9c695298a96d2c5e",
       "value": 43
      }
     },
     "1dbbe7d606924a1395fb78e75e9302df": {
      "model_module": "@jupyter-widgets/base",
      "model_module_version": "1.2.0",
      "model_name": "LayoutModel",
      "state": {}
     },
     "1e056d4c051848a99ff4d50ff3793342": {
      "model_module": "@jupyter-widgets/controls",
      "model_module_version": "1.5.0",
      "model_name": "DescriptionStyleModel",
      "state": {
       "description_width": ""
      }
     },
     "1e9c35d848e74b73bca928cd96aa4b9f": {
      "model_module": "@jupyter-widgets/base",
      "model_module_version": "1.2.0",
      "model_name": "LayoutModel",
      "state": {}
     },
     "1eac5207aaa4442f81cd2aad3af9b8bb": {
      "model_module": "@jupyter-widgets/base",
      "model_module_version": "1.2.0",
      "model_name": "LayoutModel",
      "state": {}
     },
     "1edfe3764b87406db04048e84d96746b": {
      "model_module": "@jupyter-widgets/controls",
      "model_module_version": "1.5.0",
      "model_name": "DescriptionStyleModel",
      "state": {
       "description_width": ""
      }
     },
     "1fe7e0daaf874a34ae852963659e40ba": {
      "model_module": "@jupyter-widgets/base",
      "model_module_version": "1.2.0",
      "model_name": "LayoutModel",
      "state": {}
     },
     "201c9800f446426abe3cc5e8d4ea6769": {
      "model_module": "@jupyter-widgets/controls",
      "model_module_version": "1.5.0",
      "model_name": "DescriptionStyleModel",
      "state": {
       "description_width": ""
      }
     },
     "206d55bd385b4e019934c09d26226c04": {
      "model_module": "@jupyter-widgets/base",
      "model_module_version": "1.2.0",
      "model_name": "LayoutModel",
      "state": {}
     },
     "2073d4ee86404fe781913a173d54d5e8": {
      "model_module": "@jupyter-widgets/controls",
      "model_module_version": "1.5.0",
      "model_name": "ProgressStyleModel",
      "state": {
       "description_width": "initial"
      }
     },
     "2094ab9307b94b829bdf4e42c656f83e": {
      "model_module": "@jupyter-widgets/controls",
      "model_module_version": "1.5.0",
      "model_name": "DescriptionStyleModel",
      "state": {
       "description_width": ""
      }
     },
     "216610673f4040eeb00ab1286dc8ebed": {
      "model_module": "@jupyter-widgets/controls",
      "model_module_version": "1.5.0",
      "model_name": "FloatProgressModel",
      "state": {
       "bar_style": "success",
       "layout": "IPY_MODEL_64e7d228d0b84078bdd1c5a2f503b6f2",
       "max": 43,
       "style": "IPY_MODEL_ad0d15d572a04c6eaca027ecbbf46957",
       "value": 43
      }
     },
     "21776674402843488b71a677b643a41a": {
      "model_module": "@jupyter-widgets/base",
      "model_module_version": "1.2.0",
      "model_name": "LayoutModel",
      "state": {}
     },
     "2177da689a764f11a4d3d9a69f1d595b": {
      "model_module": "@jupyter-widgets/controls",
      "model_module_version": "1.5.0",
      "model_name": "FloatProgressModel",
      "state": {
       "bar_style": "success",
       "layout": "IPY_MODEL_6d1e92043c8f43c193444c553dc4a90c",
       "max": 43,
       "style": "IPY_MODEL_8acb8d91865944f1bc886b750658e268",
       "value": 43
      }
     },
     "218b9f13bd70408d85d56fa5f6062db2": {
      "model_module": "@jupyter-widgets/controls",
      "model_module_version": "1.5.0",
      "model_name": "HTMLModel",
      "state": {
       "layout": "IPY_MODEL_93d8c680dfef4d2eb3aad746d8c7beef",
       "style": "IPY_MODEL_7073a6cfb02640989bb37426685140ea",
       "value": "Epoch [8/50]: 100%|██████████| 85/85 [00:04&lt;00:00, 19.10it/s, loss=0.0489]"
      }
     },
     "21c36269f32a4558bf3820e842567f85": {
      "model_module": "@jupyter-widgets/controls",
      "model_module_version": "1.5.0",
      "model_name": "HTMLModel",
      "state": {
       "layout": "IPY_MODEL_e877304c30324a19a5987aef9ee05f68",
       "style": "IPY_MODEL_f8a0e7cf5f864a3883558296274c1578",
       "value": "Epoch [11/50]: 100%|██████████| 85/85 [00:05&lt;00:00, 15.81it/s, loss=0.0363]"
      }
     },
     "224b525214a44edf86704de487f975ba": {
      "model_module": "@jupyter-widgets/controls",
      "model_module_version": "1.5.0",
      "model_name": "HTMLModel",
      "state": {
       "layout": "IPY_MODEL_4ef01c1d6945425999a65c0c1a69023e",
       "style": "IPY_MODEL_3a8e47b2dd9b40529a128a9c8fc92daf",
       "value": "Epoch [2/2]: 100%|██████████| 246/246 [00:33&lt;00:00,  7.29it/s, loss=0.0134]"
      }
     },
     "228a7fca063c47ce9a73ea745c46c3b5": {
      "model_module": "@jupyter-widgets/controls",
      "model_module_version": "1.5.0",
      "model_name": "FloatProgressModel",
      "state": {
       "bar_style": "success",
       "layout": "IPY_MODEL_6e6e3987374f42a6918967ac68e9adce",
       "max": 85,
       "style": "IPY_MODEL_796e3e0c148f4d42baf917f5bdaa2283",
       "value": 85
      }
     },
     "22c56893476f41d98d8470713ac49e23": {
      "model_module": "@jupyter-widgets/controls",
      "model_module_version": "1.5.0",
      "model_name": "DescriptionStyleModel",
      "state": {
       "description_width": ""
      }
     },
     "22ed1abc0b3440c5874c0e239a7a30f1": {
      "model_module": "@jupyter-widgets/controls",
      "model_module_version": "1.5.0",
      "model_name": "HTMLModel",
      "state": {
       "layout": "IPY_MODEL_1acaa73fd12f44a48a7aadfc788a5519",
       "style": "IPY_MODEL_e5adc608422c4a43a3d07a77fcedd567",
       "value": "Epoch [45/50]: 100%|██████████| 43/43 [00:10&lt;00:00,  4.11it/s, loss=0.00121]"
      }
     },
     "232db4a4d3ed4b37ac131d7192b20390": {
      "model_module": "@jupyter-widgets/controls",
      "model_module_version": "1.5.0",
      "model_name": "HTMLModel",
      "state": {
       "layout": "IPY_MODEL_5be5a6e219da47aa9dd51e6e573cab05",
       "style": "IPY_MODEL_ef3f5d28152d46cf8c2391652659491a",
       "value": "Epoch [44/50]: 100%|██████████| 43/43 [00:10&lt;00:00,  4.02it/s, loss=0.00139]"
      }
     },
     "235ee7afb1e645609715d5551e542960": {
      "model_module": "@jupyter-widgets/controls",
      "model_module_version": "1.5.0",
      "model_name": "HTMLModel",
      "state": {
       "layout": "IPY_MODEL_9ae314fdba6b491387f31c2bbf5f798d",
       "style": "IPY_MODEL_3eb1e000a669405381e7d38733fa7952",
       "value": "Epoch [13/50]: 100%|██████████| 85/85 [00:04&lt;00:00, 18.88it/s, loss=0.0391]"
      }
     },
     "2396f5fa2df246fdb75de8462508df04": {
      "model_module": "@jupyter-widgets/base",
      "model_module_version": "1.2.0",
      "model_name": "LayoutModel",
      "state": {}
     },
     "23a11c94112f4aa38a075a138cbedb0c": {
      "model_module": "@jupyter-widgets/base",
      "model_module_version": "1.2.0",
      "model_name": "LayoutModel",
      "state": {}
     },
     "2476f526116b4128a38bf6325c942fa5": {
      "model_module": "@jupyter-widgets/controls",
      "model_module_version": "1.5.0",
      "model_name": "HTMLModel",
      "state": {
       "layout": "IPY_MODEL_5110b8562c904a4cb0b728201d3204a5",
       "style": "IPY_MODEL_cb8004f86fc64b6784cbd1207f4ed6b8",
       "value": "Epoch [12/50]: 100%|██████████| 85/85 [00:04&lt;00:00, 18.84it/s, loss=0.0361]"
      }
     },
     "24d549b4676a4e52878d21b10b5cf5e8": {
      "model_module": "@jupyter-widgets/controls",
      "model_module_version": "1.5.0",
      "model_name": "FloatProgressModel",
      "state": {
       "bar_style": "success",
       "layout": "IPY_MODEL_c39e5f1b02964b459061b033483d0d45",
       "max": 43,
       "style": "IPY_MODEL_82585ef1a61f4d65a68c24a61d9375bd",
       "value": 43
      }
     },
     "2522d58122dd41ed94e42244a30ae822": {
      "model_module": "@jupyter-widgets/controls",
      "model_module_version": "1.5.0",
      "model_name": "DescriptionStyleModel",
      "state": {
       "description_width": ""
      }
     },
     "2575c2971ebb44e0ba72cbb4c090a2b9": {
      "model_module": "@jupyter-widgets/base",
      "model_module_version": "1.2.0",
      "model_name": "LayoutModel",
      "state": {}
     },
     "25baa8f3932e474c82af399f24c64540": {
      "model_module": "@jupyter-widgets/controls",
      "model_module_version": "1.5.0",
      "model_name": "DescriptionStyleModel",
      "state": {
       "description_width": ""
      }
     },
     "25c198f8211d4cdbb76fd4f687d4de24": {
      "model_module": "@jupyter-widgets/base",
      "model_module_version": "1.2.0",
      "model_name": "LayoutModel",
      "state": {}
     },
     "25cb1bea19024528a446261bbb72b18e": {
      "model_module": "@jupyter-widgets/base",
      "model_module_version": "1.2.0",
      "model_name": "LayoutModel",
      "state": {}
     },
     "25d86b61c1014e00ba100c99c2c7ba61": {
      "model_module": "@jupyter-widgets/controls",
      "model_module_version": "1.5.0",
      "model_name": "DescriptionStyleModel",
      "state": {
       "description_width": ""
      }
     },
     "260816a9fd954491b4426db17dbd70de": {
      "model_module": "@jupyter-widgets/controls",
      "model_module_version": "1.5.0",
      "model_name": "HTMLModel",
      "state": {
       "layout": "IPY_MODEL_b611ef0273f3414991a79ecbbe599c41",
       "style": "IPY_MODEL_33b260aa621847d2bf87be5c8acf2ba6",
       "value": "Epoch [27/50]: 100%|██████████| 85/85 [00:03&lt;00:00, 23.40it/s, loss=0.02]"
      }
     },
     "263b159f7d9746cb99a5ea04191dfb10": {
      "model_module": "@jupyter-widgets/controls",
      "model_module_version": "1.5.0",
      "model_name": "HBoxModel",
      "state": {
       "children": [
        "IPY_MODEL_77f3676c032d44f6b9b3072bfb7c9c3a",
        "IPY_MODEL_14a840ac3c434626bd2688bc6dcdf32b"
       ],
       "layout": "IPY_MODEL_e44c46df7caa4e15947e7a0856436d05"
      }
     },
     "265b6b1e60704459b7484a80a3c53129": {
      "model_module": "@jupyter-widgets/controls",
      "model_module_version": "1.5.0",
      "model_name": "DescriptionStyleModel",
      "state": {
       "description_width": ""
      }
     },
     "2665a2e673134b9488b1e851066184d5": {
      "model_module": "@jupyter-widgets/controls",
      "model_module_version": "1.5.0",
      "model_name": "ProgressStyleModel",
      "state": {
       "description_width": "initial"
      }
     },
     "26702611617a4960a6e96cb4ddf8a069": {
      "model_module": "@jupyter-widgets/controls",
      "model_module_version": "1.5.0",
      "model_name": "DescriptionStyleModel",
      "state": {
       "description_width": ""
      }
     },
     "26c07395e63640c898647dbc6eaf0eab": {
      "model_module": "@jupyter-widgets/base",
      "model_module_version": "1.2.0",
      "model_name": "LayoutModel",
      "state": {}
     },
     "26eb1431c416488594e9c5abf19b3197": {
      "model_module": "@jupyter-widgets/controls",
      "model_module_version": "1.5.0",
      "model_name": "HBoxModel",
      "state": {
       "children": [
        "IPY_MODEL_97f16cb1887f4f96b9a46a18f334a60b",
        "IPY_MODEL_fc7eaa6cd32c4368b5177e5f2e2add49"
       ],
       "layout": "IPY_MODEL_ef9bdb266dc64e919f61a31d72c88035"
      }
     },
     "2880a9c1e1de43bab7539f236ab95b43": {
      "model_module": "@jupyter-widgets/controls",
      "model_module_version": "1.5.0",
      "model_name": "ProgressStyleModel",
      "state": {
       "description_width": "initial"
      }
     },
     "28813a72abc444dc889a56cde695f2e5": {
      "model_module": "@jupyter-widgets/base",
      "model_module_version": "1.2.0",
      "model_name": "LayoutModel",
      "state": {}
     },
     "28836ad409e340589425208453b4005f": {
      "model_module": "@jupyter-widgets/controls",
      "model_module_version": "1.5.0",
      "model_name": "HBoxModel",
      "state": {
       "children": [
        "IPY_MODEL_e93c3c8795924fa29395807b1c4fc56b",
        "IPY_MODEL_84bdf2b7fa99474a889c1d4189fe46c5"
       ],
       "layout": "IPY_MODEL_02f7c17e5ea54f92835d300057f83fe6"
      }
     },
     "2899fc04296145f392584d2b3ac38005": {
      "model_module": "@jupyter-widgets/controls",
      "model_module_version": "1.5.0",
      "model_name": "HTMLModel",
      "state": {
       "layout": "IPY_MODEL_a205becf92e4404299ab116f2b8cc9e2",
       "style": "IPY_MODEL_b8027e6eef054f3c861c732a6cdd00a3",
       "value": "Epoch [26/50]: 100%|██████████| 85/85 [00:11&lt;00:00,  7.35it/s, loss=0.0226]"
      }
     },
     "28d287f399ec42aaad4262e709ecb815": {
      "model_module": "@jupyter-widgets/base",
      "model_module_version": "1.2.0",
      "model_name": "LayoutModel",
      "state": {}
     },
     "295ac53d8df144bd84f82d67e5c7616e": {
      "model_module": "@jupyter-widgets/controls",
      "model_module_version": "1.5.0",
      "model_name": "FloatProgressModel",
      "state": {
       "bar_style": "success",
       "layout": "IPY_MODEL_481f1572c97c4a12ac174e90de883051",
       "max": 246,
       "style": "IPY_MODEL_d5bab4ded11e42af8e45b89b7f5798fc",
       "value": 246
      }
     },
     "298b57e536a44397ba3336363ca10cdf": {
      "model_module": "@jupyter-widgets/base",
      "model_module_version": "1.2.0",
      "model_name": "LayoutModel",
      "state": {}
     },
     "29ba9050f6f746a584871a2e401d7b1f": {
      "model_module": "@jupyter-widgets/base",
      "model_module_version": "1.2.0",
      "model_name": "LayoutModel",
      "state": {}
     },
     "2a860a96881b4ba095551d42979f6ab3": {
      "model_module": "@jupyter-widgets/base",
      "model_module_version": "1.2.0",
      "model_name": "LayoutModel",
      "state": {}
     },
     "2a891a611f624d2f985c929c6062aebc": {
      "model_module": "@jupyter-widgets/controls",
      "model_module_version": "1.5.0",
      "model_name": "ProgressStyleModel",
      "state": {
       "description_width": "initial"
      }
     },
     "2abd987e76874d33b01aebfda154c871": {
      "model_module": "@jupyter-widgets/controls",
      "model_module_version": "1.5.0",
      "model_name": "HBoxModel",
      "state": {
       "children": [
        "IPY_MODEL_f1be49d83c3d4222b265c8e74bed2278",
        "IPY_MODEL_f81f4f88da2f42888dede064eea17e21"
       ],
       "layout": "IPY_MODEL_0be99391916143f4ad467fc5093c7856"
      }
     },
     "2b25544b39c24d019b758c16728ca880": {
      "model_module": "@jupyter-widgets/base",
      "model_module_version": "1.2.0",
      "model_name": "LayoutModel",
      "state": {}
     },
     "2b311cf7beea49c9a4c202885b25d9ee": {
      "model_module": "@jupyter-widgets/base",
      "model_module_version": "1.2.0",
      "model_name": "LayoutModel",
      "state": {}
     },
     "2b6d9fad75f24ceb870e1f90fbddae97": {
      "model_module": "@jupyter-widgets/controls",
      "model_module_version": "1.5.0",
      "model_name": "FloatProgressModel",
      "state": {
       "bar_style": "success",
       "layout": "IPY_MODEL_4a3c1717a7c3405cb3a07750a7f7f969",
       "max": 85,
       "style": "IPY_MODEL_054475a9376a4025a0495d7c250fca0a",
       "value": 85
      }
     },
     "2ba537f6ede747949a3ec7c4633f746f": {
      "model_module": "@jupyter-widgets/base",
      "model_module_version": "1.2.0",
      "model_name": "LayoutModel",
      "state": {}
     },
     "2c3ec9643a2c4d00a6137398e2cb07ed": {
      "model_module": "@jupyter-widgets/controls",
      "model_module_version": "1.5.0",
      "model_name": "HBoxModel",
      "state": {
       "children": [
        "IPY_MODEL_6e25f4dc07de446ca92c27e5483947d8",
        "IPY_MODEL_2cc6a8fd6f8c4ff3a45c7d9d7c2de74b"
       ],
       "layout": "IPY_MODEL_97948d44067e4b288a9c52c6a1a2d77c"
      }
     },
     "2c6c7968bc3b4d4c91119fa6fc3f4403": {
      "model_module": "@jupyter-widgets/base",
      "model_module_version": "1.2.0",
      "model_name": "LayoutModel",
      "state": {}
     },
     "2ca2e55434074efb80fab47151b05699": {
      "model_module": "@jupyter-widgets/base",
      "model_module_version": "1.2.0",
      "model_name": "LayoutModel",
      "state": {}
     },
     "2cae76586619477db8a77964358dfcea": {
      "model_module": "@jupyter-widgets/controls",
      "model_module_version": "1.5.0",
      "model_name": "FloatProgressModel",
      "state": {
       "bar_style": "success",
       "layout": "IPY_MODEL_fed7da5c1daf4355a2f18786f79e9cd2",
       "max": 43,
       "style": "IPY_MODEL_98b166857f5e45518b669f45384122df",
       "value": 43
      }
     },
     "2cc6a8fd6f8c4ff3a45c7d9d7c2de74b": {
      "model_module": "@jupyter-widgets/controls",
      "model_module_version": "1.5.0",
      "model_name": "HTMLModel",
      "state": {
       "layout": "IPY_MODEL_35648d2b65b748a3ae72e5f5de73d0df",
       "style": "IPY_MODEL_563a6c37fc6b486cb7c002132568b4c2",
       "value": "Epoch [9/50]: 100%|██████████| 43/43 [00:10&lt;00:00,  4.10it/s, loss=0.00554]"
      }
     },
     "2d9989193cbd4394958b027324b58b09": {
      "model_module": "@jupyter-widgets/controls",
      "model_module_version": "1.5.0",
      "model_name": "ProgressStyleModel",
      "state": {
       "description_width": "initial"
      }
     },
     "2dbd5a70a4db4c8eb88bef5801436978": {
      "model_module": "@jupyter-widgets/controls",
      "model_module_version": "1.5.0",
      "model_name": "HTMLModel",
      "state": {
       "layout": "IPY_MODEL_23a11c94112f4aa38a075a138cbedb0c",
       "style": "IPY_MODEL_76a71439bb5b4d5ca020098aa113ca99",
       "value": "Epoch [4/50]: 100%|██████████| 85/85 [00:04&lt;00:00, 19.08it/s, loss=0.0635]"
      }
     },
     "2dcb436ac27f4a399fcc6e117e4c8b1f": {
      "model_module": "@jupyter-widgets/controls",
      "model_module_version": "1.5.0",
      "model_name": "HTMLModel",
      "state": {
       "layout": "IPY_MODEL_14eae75b2d604aa8a13bfc721f6d7c7f",
       "style": "IPY_MODEL_b92f25f6ce354ebd9e1936b2905c18a4",
       "value": "Epoch [5/10]: 100%|██████████| 246/246 [00:36&lt;00:00,  6.79it/s, loss=0.00461]"
      }
     },
     "2e073cc9bfce462a969a07a62a948177": {
      "model_module": "@jupyter-widgets/base",
      "model_module_version": "1.2.0",
      "model_name": "LayoutModel",
      "state": {}
     },
     "2e3b5bb354ec49c9b9b718a3363a1cf1": {
      "model_module": "@jupyter-widgets/controls",
      "model_module_version": "1.5.0",
      "model_name": "ProgressStyleModel",
      "state": {
       "description_width": "initial"
      }
     },
     "2e5039b4124f48e397cd76d24477bd8e": {
      "model_module": "@jupyter-widgets/controls",
      "model_module_version": "1.5.0",
      "model_name": "HBoxModel",
      "state": {
       "children": [
        "IPY_MODEL_2b6d9fad75f24ceb870e1f90fbddae97",
        "IPY_MODEL_2dbd5a70a4db4c8eb88bef5801436978"
       ],
       "layout": "IPY_MODEL_a96fedbad815434a9b3d1dd2e9f5f019"
      }
     },
     "2e51a25eb1a640dba23a8d1a125ad1a8": {
      "model_module": "@jupyter-widgets/base",
      "model_module_version": "1.2.0",
      "model_name": "LayoutModel",
      "state": {}
     },
     "2e6333b379fd48b0a67214be21c9c4c9": {
      "model_module": "@jupyter-widgets/controls",
      "model_module_version": "1.5.0",
      "model_name": "DescriptionStyleModel",
      "state": {
       "description_width": ""
      }
     },
     "2e995a8e12b74557be9591e030e5d0dc": {
      "model_module": "@jupyter-widgets/controls",
      "model_module_version": "1.5.0",
      "model_name": "FloatProgressModel",
      "state": {
       "bar_style": "success",
       "layout": "IPY_MODEL_c6524b8e72464b2788b2497c7e9b3947",
       "max": 43,
       "style": "IPY_MODEL_55da1cecb95444f9bf1f9d8f259fa768",
       "value": 43
      }
     },
     "2f3d0add20f247eb88d307a824529e94": {
      "model_module": "@jupyter-widgets/controls",
      "model_module_version": "1.5.0",
      "model_name": "FloatProgressModel",
      "state": {
       "bar_style": "success",
       "layout": "IPY_MODEL_95e30fc4043e4022a17c54a389d09cc1",
       "max": 246,
       "style": "IPY_MODEL_0df9443d42c7429eb91ed4534e5c7e4d",
       "value": 246
      }
     },
     "2f5f4c2c2aee4599bc5082cc1f84c83e": {
      "model_module": "@jupyter-widgets/base",
      "model_module_version": "1.2.0",
      "model_name": "LayoutModel",
      "state": {}
     },
     "2f9de61a01e742019f6b7ec050ce5a41": {
      "model_module": "@jupyter-widgets/controls",
      "model_module_version": "1.5.0",
      "model_name": "HTMLModel",
      "state": {
       "layout": "IPY_MODEL_3914ec2ced1d441da184cec3a0ce702f",
       "style": "IPY_MODEL_c16d1dc1769d4648ac2256a5ad390e99",
       "value": "Epoch [1/2]: 100%|██████████| 246/246 [00:34&lt;00:00,  7.11it/s, loss=0.0286]"
      }
     },
     "2fc1f2d7c64948b4bf899f28e3dcca11": {
      "model_module": "@jupyter-widgets/controls",
      "model_module_version": "1.5.0",
      "model_name": "HBoxModel",
      "state": {
       "children": [
        "IPY_MODEL_7b73c7151c6a4d7395e5ee1c27d15318",
        "IPY_MODEL_6c04e004ddb349cf8ca890a2b52c72bf"
       ],
       "layout": "IPY_MODEL_a40869fa1a5f4a03b7b77d646a240946"
      }
     },
     "2fe195541fd441f195d3c5747813fffe": {
      "model_module": "@jupyter-widgets/base",
      "model_module_version": "1.2.0",
      "model_name": "LayoutModel",
      "state": {}
     },
     "2ff7775067fe4dc8b55ac163b98ba4f0": {
      "model_module": "@jupyter-widgets/base",
      "model_module_version": "1.2.0",
      "model_name": "LayoutModel",
      "state": {}
     },
     "30517b16032e443db307474f013e3767": {
      "model_module": "@jupyter-widgets/base",
      "model_module_version": "1.2.0",
      "model_name": "LayoutModel",
      "state": {}
     },
     "308cdd7f09cc43d6891b40bfbe16c3f4": {
      "model_module": "@jupyter-widgets/base",
      "model_module_version": "1.2.0",
      "model_name": "LayoutModel",
      "state": {}
     },
     "30981e81d1f84cddb3f42acecc3167cf": {
      "model_module": "@jupyter-widgets/base",
      "model_module_version": "1.2.0",
      "model_name": "LayoutModel",
      "state": {}
     },
     "3098ec99ca004a4d9fd1b0997e05eef9": {
      "model_module": "@jupyter-widgets/controls",
      "model_module_version": "1.5.0",
      "model_name": "HBoxModel",
      "state": {
       "children": [
        "IPY_MODEL_537c4f5d92eb467ead47a71a7e78ab0c",
        "IPY_MODEL_df77781337f04815bd935f11ef7ae0a1"
       ],
       "layout": "IPY_MODEL_9a28763b63674afbb7e0bcc25aad33a1"
      }
     },
     "30d201295fd749e8b663da751d7b4647": {
      "model_module": "@jupyter-widgets/controls",
      "model_module_version": "1.5.0",
      "model_name": "DescriptionStyleModel",
      "state": {
       "description_width": ""
      }
     },
     "30d74032c21b49fa8a8d74904bed06e2": {
      "model_module": "@jupyter-widgets/base",
      "model_module_version": "1.2.0",
      "model_name": "LayoutModel",
      "state": {}
     },
     "30daf7425d064619a9c6ec474a82df60": {
      "model_module": "@jupyter-widgets/controls",
      "model_module_version": "1.5.0",
      "model_name": "HTMLModel",
      "state": {
       "layout": "IPY_MODEL_6b60ae2f7f874134b3a499f362eac8d6",
       "style": "IPY_MODEL_30d201295fd749e8b663da751d7b4647",
       "value": "Epoch [2/50]: 100%|██████████| 85/85 [00:04&lt;00:00, 18.54it/s, loss=0.0363]"
      }
     },
     "30dc7ea5d87f488c9cb0fa91037d5add": {
      "model_module": "@jupyter-widgets/controls",
      "model_module_version": "1.5.0",
      "model_name": "HTMLModel",
      "state": {
       "layout": "IPY_MODEL_0f01bd6ebea04e02a7991e339a212428",
       "style": "IPY_MODEL_3a9965bc28f74b96aeb1ef87f96d7c59",
       "value": "Epoch [1/50]: 100%|██████████| 43/43 [00:33&lt;00:00,  1.29it/s, loss=0.203]"
      }
     },
     "31adb6b5f9bc4d3fb3cb199d7a64ef02": {
      "model_module": "@jupyter-widgets/controls",
      "model_module_version": "1.5.0",
      "model_name": "FloatProgressModel",
      "state": {
       "bar_style": "success",
       "layout": "IPY_MODEL_def303b2b6404e94a49de745c12ae7c0",
       "max": 500,
       "style": "IPY_MODEL_6e7e596accac483fb7a87cb56066b3bb",
       "value": 500
      }
     },
     "31b25d74eabf44adba8b2bb3aaf72880": {
      "model_module": "@jupyter-widgets/controls",
      "model_module_version": "1.5.0",
      "model_name": "HTMLModel",
      "state": {
       "layout": "IPY_MODEL_70ce13014c734368bdd8fd99db4c4415",
       "style": "IPY_MODEL_edb64bba3b6f48f390ff0ee8ef0e523e",
       "value": "Epoch [24/50]: 100%|██████████| 85/85 [00:03&lt;00:00, 23.25it/s, loss=0.0252]"
      }
     },
     "31e47cbd177940c8bdfe79317f7b91cc": {
      "model_module": "@jupyter-widgets/base",
      "model_module_version": "1.2.0",
      "model_name": "LayoutModel",
      "state": {}
     },
     "3230f3f3f8b44d6a8c9d2ab1e131376c": {
      "model_module": "@jupyter-widgets/controls",
      "model_module_version": "1.5.0",
      "model_name": "DescriptionStyleModel",
      "state": {
       "description_width": ""
      }
     },
     "324212631583449085af358d833bb89f": {
      "model_module": "@jupyter-widgets/base",
      "model_module_version": "1.2.0",
      "model_name": "LayoutModel",
      "state": {}
     },
     "3269b76c1894461d95d1d4351d251289": {
      "model_module": "@jupyter-widgets/base",
      "model_module_version": "1.2.0",
      "model_name": "LayoutModel",
      "state": {}
     },
     "328a6322acd04088a050335b0c89374b": {
      "model_module": "@jupyter-widgets/controls",
      "model_module_version": "1.5.0",
      "model_name": "FloatProgressModel",
      "state": {
       "bar_style": "success",
       "layout": "IPY_MODEL_79810a29255a4cf7b422f96b51471a6d",
       "max": 246,
       "style": "IPY_MODEL_6510a6c01cfc421eb2e01b2dc0413b66",
       "value": 246
      }
     },
     "338c26d3e5cb4784bbee3f8affac9bac": {
      "model_module": "@jupyter-widgets/base",
      "model_module_version": "1.2.0",
      "model_name": "LayoutModel",
      "state": {}
     },
     "33b260aa621847d2bf87be5c8acf2ba6": {
      "model_module": "@jupyter-widgets/controls",
      "model_module_version": "1.5.0",
      "model_name": "DescriptionStyleModel",
      "state": {
       "description_width": ""
      }
     },
     "33e946b14dc24f2f89027612c8e9e2e9": {
      "model_module": "@jupyter-widgets/controls",
      "model_module_version": "1.5.0",
      "model_name": "HTMLModel",
      "state": {
       "layout": "IPY_MODEL_6eec75d7de7644e9860068806d702055",
       "style": "IPY_MODEL_3c3e670404174af59af91dd023a9aeef",
       "value": "Epoch [1/50]: 100%|██████████| 85/85 [00:04&lt;00:00, 18.48it/s, loss=0.195]"
      }
     },
     "34a72851820f420ea8e60abea8096b6d": {
      "model_module": "@jupyter-widgets/base",
      "model_module_version": "1.2.0",
      "model_name": "LayoutModel",
      "state": {}
     },
     "35648d2b65b748a3ae72e5f5de73d0df": {
      "model_module": "@jupyter-widgets/base",
      "model_module_version": "1.2.0",
      "model_name": "LayoutModel",
      "state": {}
     },
     "3580e4b209ff4fdda039bf8d061f0fc3": {
      "model_module": "@jupyter-widgets/controls",
      "model_module_version": "1.5.0",
      "model_name": "FloatProgressModel",
      "state": {
       "bar_style": "success",
       "layout": "IPY_MODEL_2a860a96881b4ba095551d42979f6ab3",
       "max": 85,
       "style": "IPY_MODEL_4f94a973fc084fc19f2094dd714912f6",
       "value": 85
      }
     },
     "36120d66d5d8425cb4c08a8451d13a7c": {
      "model_module": "@jupyter-widgets/controls",
      "model_module_version": "1.5.0",
      "model_name": "HBoxModel",
      "state": {
       "children": [
        "IPY_MODEL_6a04d54343684d1390703772241c8a4f",
        "IPY_MODEL_95a89957481f4c31bac06d0976fd5d70"
       ],
       "layout": "IPY_MODEL_29ba9050f6f746a584871a2e401d7b1f"
      }
     },
     "36c27153340e46d390f1d0b2235079c1": {
      "model_module": "@jupyter-widgets/base",
      "model_module_version": "1.2.0",
      "model_name": "LayoutModel",
      "state": {}
     },
     "371dcf8eec394802a73cf5f9352a6cea": {
      "model_module": "@jupyter-widgets/controls",
      "model_module_version": "1.5.0",
      "model_name": "HBoxModel",
      "state": {
       "children": [
        "IPY_MODEL_e494c510bbaf482297326b682e2f5fdf",
        "IPY_MODEL_2dcb436ac27f4a399fcc6e117e4c8b1f"
       ],
       "layout": "IPY_MODEL_ea4c0840ff1b4150bd1f4c9d6705ac05"
      }
     },
     "378720fb13d04100b5c0f438087a5a72": {
      "model_module": "@jupyter-widgets/controls",
      "model_module_version": "1.5.0",
      "model_name": "HBoxModel",
      "state": {
       "children": [
        "IPY_MODEL_ad2c4c2ad0e7430ea0e0e12a5cf9861f",
        "IPY_MODEL_506cfacbd10d450fb53661950c374fc7"
       ],
       "layout": "IPY_MODEL_7f20d55750bb4caeaa50fde141864a72"
      }
     },
     "37c7b85b5b8c4c51ba412f529dea762d": {
      "model_module": "@jupyter-widgets/controls",
      "model_module_version": "1.5.0",
      "model_name": "ProgressStyleModel",
      "state": {
       "description_width": "initial"
      }
     },
     "383bd2496efc4e8bb3b70688b813b50a": {
      "model_module": "@jupyter-widgets/controls",
      "model_module_version": "1.5.0",
      "model_name": "HBoxModel",
      "state": {
       "children": [
        "IPY_MODEL_6a908b5a9034461492cdf50fc93eb19d",
        "IPY_MODEL_22ed1abc0b3440c5874c0e239a7a30f1"
       ],
       "layout": "IPY_MODEL_3e16d8175cc545b5a068e7d883b8fd90"
      }
     },
     "389db35d91b8496cb28d9cc772ed9a78": {
      "model_module": "@jupyter-widgets/base",
      "model_module_version": "1.2.0",
      "model_name": "LayoutModel",
      "state": {}
     },
     "3914ec2ced1d441da184cec3a0ce702f": {
      "model_module": "@jupyter-widgets/base",
      "model_module_version": "1.2.0",
      "model_name": "LayoutModel",
      "state": {}
     },
     "399d37d311864352ae2bbafd355bfde4": {
      "model_module": "@jupyter-widgets/controls",
      "model_module_version": "1.5.0",
      "model_name": "HTMLModel",
      "state": {
       "layout": "IPY_MODEL_e938e48ab1ee46138e57c32ea2ec635f",
       "style": "IPY_MODEL_eae9a95fce36468c949664bfe3596740",
       "value": " 83.3M/83.3M [00:18&lt;00:00, 4.81MB/s]"
      }
     },
     "39acbc32c5a5446a8d37285ea67b7be1": {
      "model_module": "@jupyter-widgets/controls",
      "model_module_version": "1.5.0",
      "model_name": "ProgressStyleModel",
      "state": {
       "description_width": "initial"
      }
     },
     "3a8e47b2dd9b40529a128a9c8fc92daf": {
      "model_module": "@jupyter-widgets/controls",
      "model_module_version": "1.5.0",
      "model_name": "DescriptionStyleModel",
      "state": {
       "description_width": ""
      }
     },
     "3a9965bc28f74b96aeb1ef87f96d7c59": {
      "model_module": "@jupyter-widgets/controls",
      "model_module_version": "1.5.0",
      "model_name": "DescriptionStyleModel",
      "state": {
       "description_width": ""
      }
     },
     "3ac62e2c2bd248f9831ba74fdbc60c90": {
      "model_module": "@jupyter-widgets/base",
      "model_module_version": "1.2.0",
      "model_name": "LayoutModel",
      "state": {}
     },
     "3b9213498c404189aa9c647371c7b8c7": {
      "model_module": "@jupyter-widgets/base",
      "model_module_version": "1.2.0",
      "model_name": "LayoutModel",
      "state": {}
     },
     "3b9b355469e24e1ab86a968655183a99": {
      "model_module": "@jupyter-widgets/base",
      "model_module_version": "1.2.0",
      "model_name": "LayoutModel",
      "state": {}
     },
     "3bc453d0f12f43239a30beb7dbf9be88": {
      "model_module": "@jupyter-widgets/controls",
      "model_module_version": "1.5.0",
      "model_name": "DescriptionStyleModel",
      "state": {
       "description_width": ""
      }
     },
     "3be11b353dc8472faf9e5ad1485c276f": {
      "model_module": "@jupyter-widgets/base",
      "model_module_version": "1.2.0",
      "model_name": "LayoutModel",
      "state": {}
     },
     "3c3e670404174af59af91dd023a9aeef": {
      "model_module": "@jupyter-widgets/controls",
      "model_module_version": "1.5.0",
      "model_name": "DescriptionStyleModel",
      "state": {
       "description_width": ""
      }
     },
     "3c4709dd74354f8db55e401673efa63f": {
      "model_module": "@jupyter-widgets/controls",
      "model_module_version": "1.5.0",
      "model_name": "ProgressStyleModel",
      "state": {
       "description_width": "initial"
      }
     },
     "3ca790cd29e243b6b7c7f6bbd397db0b": {
      "model_module": "@jupyter-widgets/controls",
      "model_module_version": "1.5.0",
      "model_name": "ProgressStyleModel",
      "state": {
       "description_width": "initial"
      }
     },
     "3cdc2027b55449918fb033b482cf5b9d": {
      "model_module": "@jupyter-widgets/controls",
      "model_module_version": "1.5.0",
      "model_name": "DescriptionStyleModel",
      "state": {
       "description_width": ""
      }
     },
     "3cf9c6e944d440838f303c7d4aca1877": {
      "model_module": "@jupyter-widgets/controls",
      "model_module_version": "1.5.0",
      "model_name": "HBoxModel",
      "state": {
       "children": [
        "IPY_MODEL_89a21689810a413ba0796706d74917bd",
        "IPY_MODEL_c9b2b3175c4140559740bff10885ef4c"
       ],
       "layout": "IPY_MODEL_0508280acb4f4fe4b4efe0af89ace540"
      }
     },
     "3d78a822fbba42a79a11844c7a3b0a9f": {
      "model_module": "@jupyter-widgets/controls",
      "model_module_version": "1.5.0",
      "model_name": "HBoxModel",
      "state": {
       "children": [
        "IPY_MODEL_d9c338df1c21475caed9539c05d9189a",
        "IPY_MODEL_8afaa85cef32460c8ca288a7e5d8bf43"
       ],
       "layout": "IPY_MODEL_7ef9e3c931e940b38dd43c32bd7d24f5"
      }
     },
     "3e16d8175cc545b5a068e7d883b8fd90": {
      "model_module": "@jupyter-widgets/base",
      "model_module_version": "1.2.0",
      "model_name": "LayoutModel",
      "state": {}
     },
     "3e446eb0542c47c7b00372463c01f02c": {
      "model_module": "@jupyter-widgets/controls",
      "model_module_version": "1.5.0",
      "model_name": "DescriptionStyleModel",
      "state": {
       "description_width": ""
      }
     },
     "3e7d3e129b56406b8d2ce71fba5b63f3": {
      "model_module": "@jupyter-widgets/controls",
      "model_module_version": "1.5.0",
      "model_name": "DescriptionStyleModel",
      "state": {
       "description_width": ""
      }
     },
     "3e9b4a31b7f442549165181f1307c839": {
      "model_module": "@jupyter-widgets/controls",
      "model_module_version": "1.5.0",
      "model_name": "ProgressStyleModel",
      "state": {
       "description_width": "initial"
      }
     },
     "3eb1e000a669405381e7d38733fa7952": {
      "model_module": "@jupyter-widgets/controls",
      "model_module_version": "1.5.0",
      "model_name": "DescriptionStyleModel",
      "state": {
       "description_width": ""
      }
     },
     "3ef0312039cb48a491024af6fa53d52e": {
      "model_module": "@jupyter-widgets/controls",
      "model_module_version": "1.5.0",
      "model_name": "HBoxModel",
      "state": {
       "children": [
        "IPY_MODEL_c52baff0e79c461e886eff295082a008",
        "IPY_MODEL_05c241edbee44c60afd28d4743653d4e"
       ],
       "layout": "IPY_MODEL_691419a7178f49c4a5f92b0d0d6c6710"
      }
     },
     "3f0da84afc664b928c1c3c6f015df884": {
      "model_module": "@jupyter-widgets/controls",
      "model_module_version": "1.5.0",
      "model_name": "FloatProgressModel",
      "state": {
       "bar_style": "success",
       "layout": "IPY_MODEL_bb83dcf06d194d6d931c7c4718140d66",
       "max": 43,
       "style": "IPY_MODEL_1bec6d7794c54cd8a531f675b2f06801",
       "value": 43
      }
     },
     "4026cd4890624b4d986261ba6a8027b6": {
      "model_module": "@jupyter-widgets/controls",
      "model_module_version": "1.5.0",
      "model_name": "FloatProgressModel",
      "state": {
       "bar_style": "success",
       "layout": "IPY_MODEL_84cbb400a5e54c459874b6839a08fca3",
       "max": 85,
       "style": "IPY_MODEL_8412ebb3b01b41478e52ae5c2cc55f29",
       "value": 85
      }
     },
     "40505bbbf4584810ac769e6a0eaa8156": {
      "model_module": "@jupyter-widgets/controls",
      "model_module_version": "1.5.0",
      "model_name": "DescriptionStyleModel",
      "state": {
       "description_width": ""
      }
     },
     "4063a8baf9df4cdebd46d4e2d1a9a1b3": {
      "model_module": "@jupyter-widgets/base",
      "model_module_version": "1.2.0",
      "model_name": "LayoutModel",
      "state": {}
     },
     "40800fc3a0d149eba8c18fbd85e2e98d": {
      "model_module": "@jupyter-widgets/controls",
      "model_module_version": "1.5.0",
      "model_name": "HTMLModel",
      "state": {
       "layout": "IPY_MODEL_2e51a25eb1a640dba23a8d1a125ad1a8",
       "style": "IPY_MODEL_a05ba9e3dcfe42b384e0f50d1b1d5781",
       "value": "Epoch [10/10]: 100%|██████████| 246/246 [00:33&lt;00:00,  7.31it/s, loss=0.00186]"
      }
     },
     "40ba25eaa6af482191ff9a244ba8abba": {
      "model_module": "@jupyter-widgets/base",
      "model_module_version": "1.2.0",
      "model_name": "LayoutModel",
      "state": {}
     },
     "414d6fb8d088418490991d794055173d": {
      "model_module": "@jupyter-widgets/base",
      "model_module_version": "1.2.0",
      "model_name": "LayoutModel",
      "state": {}
     },
     "416f4174ad5b4fcbb3cb0a1d4cb53dbf": {
      "model_module": "@jupyter-widgets/base",
      "model_module_version": "1.2.0",
      "model_name": "LayoutModel",
      "state": {}
     },
     "41c59a6643f547e29ea3869ec3f52a71": {
      "model_module": "@jupyter-widgets/base",
      "model_module_version": "1.2.0",
      "model_name": "LayoutModel",
      "state": {}
     },
     "424be86f053d416a9483fc1f63b2c620": {
      "model_module": "@jupyter-widgets/controls",
      "model_module_version": "1.5.0",
      "model_name": "ProgressStyleModel",
      "state": {
       "description_width": "initial"
      }
     },
     "424e794b842b49faa6418504e6d2aa14": {
      "model_module": "@jupyter-widgets/base",
      "model_module_version": "1.2.0",
      "model_name": "LayoutModel",
      "state": {}
     },
     "42791111080947c08405c1fcc34aca38": {
      "model_module": "@jupyter-widgets/controls",
      "model_module_version": "1.5.0",
      "model_name": "ProgressStyleModel",
      "state": {
       "description_width": "initial"
      }
     },
     "42cdee8444d048b088cc24de7aa09fd0": {
      "model_module": "@jupyter-widgets/controls",
      "model_module_version": "1.5.0",
      "model_name": "DescriptionStyleModel",
      "state": {
       "description_width": ""
      }
     },
     "42f78f9e93654021a4f4a89de4f9ba27": {
      "model_module": "@jupyter-widgets/controls",
      "model_module_version": "1.5.0",
      "model_name": "HTMLModel",
      "state": {
       "layout": "IPY_MODEL_93ac66b03c3a4635b5ce38113774b21f",
       "style": "IPY_MODEL_1edfe3764b87406db04048e84d96746b",
       "value": "Epoch [23/50]: 100%|██████████| 85/85 [00:03&lt;00:00, 23.33it/s, loss=0.0235]"
      }
     },
     "430880635abd49da9dcb62d68606ab17": {
      "model_module": "@jupyter-widgets/controls",
      "model_module_version": "1.5.0",
      "model_name": "FloatProgressModel",
      "state": {
       "layout": "IPY_MODEL_74138d84ed3a48cc922216e1b14ca988",
       "max": 500,
       "style": "IPY_MODEL_829669722d0d4fa5a2291265fde09f41",
       "value": 47
      }
     },
     "430965d1b666469cbb06245ee95e0b0f": {
      "model_module": "@jupyter-widgets/controls",
      "model_module_version": "1.5.0",
      "model_name": "HTMLModel",
      "state": {
       "layout": "IPY_MODEL_871c11e49e084c8faeb73d7e158272d3",
       "style": "IPY_MODEL_8fc4fc1484194a58865547bb54aa6090",
       "value": "Epoch [11/50]: 100%|██████████| 43/43 [00:10&lt;00:00,  4.12it/s, loss=0.00629]"
      }
     },
     "4332469d9d294e0b8a8b48008fc2e7a7": {
      "model_module": "@jupyter-widgets/base",
      "model_module_version": "1.2.0",
      "model_name": "LayoutModel",
      "state": {}
     },
     "43ac49fce86b4ebb9abb6146634e1178": {
      "model_module": "@jupyter-widgets/base",
      "model_module_version": "1.2.0",
      "model_name": "LayoutModel",
      "state": {}
     },
     "44916afe81fe4faaa9dae9897beb3c38": {
      "model_module": "@jupyter-widgets/controls",
      "model_module_version": "1.5.0",
      "model_name": "FloatProgressModel",
      "state": {
       "bar_style": "success",
       "layout": "IPY_MODEL_132af0bd2e25420b88738e1ca9cc45c6",
       "max": 43,
       "style": "IPY_MODEL_0e83a8f1d4f64d63a9d25653d52858dc",
       "value": 43
      }
     },
     "46706b2f88db4e5bb3a8053c4b7a728f": {
      "model_module": "@jupyter-widgets/controls",
      "model_module_version": "1.5.0",
      "model_name": "HTMLModel",
      "state": {
       "layout": "IPY_MODEL_2c6c7968bc3b4d4c91119fa6fc3f4403",
       "style": "IPY_MODEL_e04ac88f75a446ecb3953d26d7be4b44",
       "value": "Epoch [28/50]: 100%|██████████| 43/43 [00:10&lt;00:00,  4.21it/s, loss=0.00249]"
      }
     },
     "46a2899da8734b5eb87c98540a348504": {
      "model_module": "@jupyter-widgets/controls",
      "model_module_version": "1.5.0",
      "model_name": "HTMLModel",
      "state": {
       "layout": "IPY_MODEL_d094a43256c24595857f1f1a6610cb14",
       "style": "IPY_MODEL_4b27895e376940c5be267cf3ce9fdb32",
       "value": "Epoch [41/50]: 100%|██████████| 43/43 [00:11&lt;00:00,  3.82it/s, loss=0.00256]"
      }
     },
     "46b5048cd3a44164a8a01316792e9008": {
      "model_module": "@jupyter-widgets/base",
      "model_module_version": "1.2.0",
      "model_name": "LayoutModel",
      "state": {}
     },
     "475d00bb826444bc896955b914a32368": {
      "model_module": "@jupyter-widgets/controls",
      "model_module_version": "1.5.0",
      "model_name": "FloatProgressModel",
      "state": {
       "bar_style": "success",
       "layout": "IPY_MODEL_e36a06331b25434b91710f0dcb1b420a",
       "max": 85,
       "style": "IPY_MODEL_f53198fd1f4641c0a4aff22b7befbc32",
       "value": 85
      }
     },
     "478d9e6d9a5d4faeb01f97d526166e49": {
      "model_module": "@jupyter-widgets/base",
      "model_module_version": "1.2.0",
      "model_name": "LayoutModel",
      "state": {}
     },
     "47f81c37f5cf447092bb01b73dfe241a": {
      "model_module": "@jupyter-widgets/controls",
      "model_module_version": "1.5.0",
      "model_name": "ProgressStyleModel",
      "state": {
       "description_width": "initial"
      }
     },
     "481f1572c97c4a12ac174e90de883051": {
      "model_module": "@jupyter-widgets/base",
      "model_module_version": "1.2.0",
      "model_name": "LayoutModel",
      "state": {}
     },
     "4869430ab807498c93db8f0eeeb4143e": {
      "model_module": "@jupyter-widgets/base",
      "model_module_version": "1.2.0",
      "model_name": "LayoutModel",
      "state": {}
     },
     "487bc9779f0f406cbca296e81d54582e": {
      "model_module": "@jupyter-widgets/base",
      "model_module_version": "1.2.0",
      "model_name": "LayoutModel",
      "state": {}
     },
     "48ce9202072a4bed839b8c3bdd167daa": {
      "model_module": "@jupyter-widgets/controls",
      "model_module_version": "1.5.0",
      "model_name": "HBoxModel",
      "state": {
       "children": [
        "IPY_MODEL_d23e19bac0eb461d83bd1fd27769b5a3",
        "IPY_MODEL_7a1bb72cb0f14596b8ec569b34c41fcc"
       ],
       "layout": "IPY_MODEL_c8701f322bbe4f50a5f95482dde13e76"
      }
     },
     "494dc3502e774c5fafe947032cc56e73": {
      "model_module": "@jupyter-widgets/controls",
      "model_module_version": "1.5.0",
      "model_name": "HBoxModel",
      "state": {
       "children": [
        "IPY_MODEL_c29b86dbe9e04028898c917f377fcdc8",
        "IPY_MODEL_42f78f9e93654021a4f4a89de4f9ba27"
       ],
       "layout": "IPY_MODEL_2b311cf7beea49c9a4c202885b25d9ee"
      }
     },
     "49bf74a6796f4b9e91d0f5a442606bf6": {
      "model_module": "@jupyter-widgets/controls",
      "model_module_version": "1.5.0",
      "model_name": "DescriptionStyleModel",
      "state": {
       "description_width": ""
      }
     },
     "4a22b3c8b8924660b23a4e75bdd15ceb": {
      "model_module": "@jupyter-widgets/controls",
      "model_module_version": "1.5.0",
      "model_name": "HTMLModel",
      "state": {
       "layout": "IPY_MODEL_3b9b355469e24e1ab86a968655183a99",
       "style": "IPY_MODEL_8a3fffaf739b454893d6892215f99afa",
       "value": "Epoch [37/50]: 100%|██████████| 85/85 [00:03&lt;00:00, 23.65it/s, loss=0.0194]"
      }
     },
     "4a349d63fdc04cef8f3288fe24ff0169": {
      "model_module": "@jupyter-widgets/controls",
      "model_module_version": "1.5.0",
      "model_name": "ProgressStyleModel",
      "state": {
       "description_width": "initial"
      }
     },
     "4a3c1717a7c3405cb3a07750a7f7f969": {
      "model_module": "@jupyter-widgets/base",
      "model_module_version": "1.2.0",
      "model_name": "LayoutModel",
      "state": {}
     },
     "4a3dbee03f4b4898b4f690a51e122452": {
      "model_module": "@jupyter-widgets/controls",
      "model_module_version": "1.5.0",
      "model_name": "FloatProgressModel",
      "state": {
       "bar_style": "success",
       "layout": "IPY_MODEL_02368674bd194f9ab53e516f11137d3e",
       "max": 43,
       "style": "IPY_MODEL_878efd03010d487a938b24bf22434bb8",
       "value": 43
      }
     },
     "4a7c4ed2fd954e4ab5ec8c69d6baed52": {
      "model_module": "@jupyter-widgets/controls",
      "model_module_version": "1.5.0",
      "model_name": "HTMLModel",
      "state": {
       "layout": "IPY_MODEL_fd435127f1e54895a6a3dcfb1d780042",
       "style": "IPY_MODEL_b8be2897ecae43449183a13363449bd9",
       "value": "Epoch [5/50]: 100%|██████████| 43/43 [00:10&lt;00:00,  4.08it/s, loss=0.0101]"
      }
     },
     "4a93e73382cf42dc81e9753f199f2292": {
      "model_module": "@jupyter-widgets/controls",
      "model_module_version": "1.5.0",
      "model_name": "FloatProgressModel",
      "state": {
       "bar_style": "success",
       "layout": "IPY_MODEL_206d55bd385b4e019934c09d26226c04",
       "max": 85,
       "style": "IPY_MODEL_2880a9c1e1de43bab7539f236ab95b43",
       "value": 85
      }
     },
     "4b27895e376940c5be267cf3ce9fdb32": {
      "model_module": "@jupyter-widgets/controls",
      "model_module_version": "1.5.0",
      "model_name": "DescriptionStyleModel",
      "state": {
       "description_width": ""
      }
     },
     "4b3a05a3a1764d0b9ea1d667843ec8b4": {
      "model_module": "@jupyter-widgets/controls",
      "model_module_version": "1.5.0",
      "model_name": "ProgressStyleModel",
      "state": {
       "description_width": "initial"
      }
     },
     "4b52114678944f0e82b77d4345bb6347": {
      "model_module": "@jupyter-widgets/base",
      "model_module_version": "1.2.0",
      "model_name": "LayoutModel",
      "state": {}
     },
     "4b5926456a3f413e9c7feb2c2ab1bb48": {
      "model_module": "@jupyter-widgets/base",
      "model_module_version": "1.2.0",
      "model_name": "LayoutModel",
      "state": {}
     },
     "4c269b78a22d467587bcd989ab606759": {
      "model_module": "@jupyter-widgets/controls",
      "model_module_version": "1.5.0",
      "model_name": "FloatProgressModel",
      "state": {
       "bar_style": "success",
       "layout": "IPY_MODEL_672e492b850844109ae0d8bd0db71d60",
       "max": 500,
       "style": "IPY_MODEL_d8be73e35050495b9d18dd6b70d25c3d",
       "value": 500
      }
     },
     "4d3cd4dd42d949699ded519c157c9923": {
      "model_module": "@jupyter-widgets/base",
      "model_module_version": "1.2.0",
      "model_name": "LayoutModel",
      "state": {}
     },
     "4d9863162cb04534adcbd7e552afe9fe": {
      "model_module": "@jupyter-widgets/base",
      "model_module_version": "1.2.0",
      "model_name": "LayoutModel",
      "state": {}
     },
     "4dce7fc100964e03b90b352cf1fb04a8": {
      "model_module": "@jupyter-widgets/controls",
      "model_module_version": "1.5.0",
      "model_name": "HBoxModel",
      "state": {
       "children": [
        "IPY_MODEL_538698e0e8ba41c29cd24e5e4493ef3c",
        "IPY_MODEL_8631ef5c8381456c9e60c11922e7bc5b"
       ],
       "layout": "IPY_MODEL_074c864028cf4705830cbb5dda437d97"
      }
     },
     "4dde35e969584db3b216eed81425a5cb": {
      "model_module": "@jupyter-widgets/base",
      "model_module_version": "1.2.0",
      "model_name": "LayoutModel",
      "state": {}
     },
     "4e2c78223ccc49d8ab330b885a7080a3": {
      "model_module": "@jupyter-widgets/controls",
      "model_module_version": "1.5.0",
      "model_name": "DescriptionStyleModel",
      "state": {
       "description_width": ""
      }
     },
     "4e85019efece4925af0da4898e8c7994": {
      "model_module": "@jupyter-widgets/base",
      "model_module_version": "1.2.0",
      "model_name": "LayoutModel",
      "state": {}
     },
     "4eb7c1b60b0d4ff9bedabb8dbf78c1f0": {
      "model_module": "@jupyter-widgets/base",
      "model_module_version": "1.2.0",
      "model_name": "LayoutModel",
      "state": {}
     },
     "4eddb8cbe17945f0b827ff65d5594cfa": {
      "model_module": "@jupyter-widgets/controls",
      "model_module_version": "1.5.0",
      "model_name": "HTMLModel",
      "state": {
       "layout": "IPY_MODEL_a94854f1f99844f6ae51f04b55ecbd46",
       "style": "IPY_MODEL_a4578c6dabb242f7892a95a225778166",
       "value": "Epoch [3/50]: 100%|██████████| 85/85 [00:04&lt;00:00, 19.04it/s, loss=0.0854]"
      }
     },
     "4ef01c1d6945425999a65c0c1a69023e": {
      "model_module": "@jupyter-widgets/base",
      "model_module_version": "1.2.0",
      "model_name": "LayoutModel",
      "state": {}
     },
     "4efd4130ee044d0fb7a6847ba49cfdea": {
      "model_module": "@jupyter-widgets/controls",
      "model_module_version": "1.5.0",
      "model_name": "HTMLModel",
      "state": {
       "layout": "IPY_MODEL_324212631583449085af358d833bb89f",
       "style": "IPY_MODEL_52ddd9cf895044199f30eea8d5d6da64",
       "value": "Epoch [7/10]: 100%|██████████| 246/246 [00:35&lt;00:00,  6.88it/s, loss=0.00286]"
      }
     },
     "4f4b9ca24885436c9813e1cb280dff97": {
      "model_module": "@jupyter-widgets/base",
      "model_module_version": "1.2.0",
      "model_name": "LayoutModel",
      "state": {}
     },
     "4f8b27d264a74e14a304e9bd315c5bd0": {
      "model_module": "@jupyter-widgets/controls",
      "model_module_version": "1.5.0",
      "model_name": "ProgressStyleModel",
      "state": {
       "description_width": "initial"
      }
     },
     "4f94a973fc084fc19f2094dd714912f6": {
      "model_module": "@jupyter-widgets/controls",
      "model_module_version": "1.5.0",
      "model_name": "ProgressStyleModel",
      "state": {
       "description_width": "initial"
      }
     },
     "4f979860c9134a3eb4f4a65397566515": {
      "model_module": "@jupyter-widgets/controls",
      "model_module_version": "1.5.0",
      "model_name": "HBoxModel",
      "state": {
       "children": [
        "IPY_MODEL_6dae42079b38445ebed99f557a0ca385",
        "IPY_MODEL_e720a44763da40609e935ca2adbc2146"
       ],
       "layout": "IPY_MODEL_6bd8937b16e4449897cb190b536fd410"
      }
     },
     "4fa4b40f0c104a67a09eeaea9cb04e11": {
      "model_module": "@jupyter-widgets/controls",
      "model_module_version": "1.5.0",
      "model_name": "DescriptionStyleModel",
      "state": {
       "description_width": ""
      }
     },
     "4fdbbf5a8e824a4d90519ea996d6df1c": {
      "model_module": "@jupyter-widgets/base",
      "model_module_version": "1.2.0",
      "model_name": "LayoutModel",
      "state": {}
     },
     "4fe8f524d5fe4b35b89dac04851acfd3": {
      "model_module": "@jupyter-widgets/base",
      "model_module_version": "1.2.0",
      "model_name": "LayoutModel",
      "state": {}
     },
     "503b0edbbf5947658c7ab57e1d760cb8": {
      "model_module": "@jupyter-widgets/controls",
      "model_module_version": "1.5.0",
      "model_name": "FloatProgressModel",
      "state": {
       "bar_style": "success",
       "layout": "IPY_MODEL_0332a68cbcb6404eae9ccedd39127af1",
       "max": 85,
       "style": "IPY_MODEL_5b3d7baee65149e69f7ce92b97f34043",
       "value": 85
      }
     },
     "50535d2c6b5541d9bef43b8cefbaed73": {
      "model_module": "@jupyter-widgets/base",
      "model_module_version": "1.2.0",
      "model_name": "LayoutModel",
      "state": {}
     },
     "506a280a3a4f403a8ceb562136847d57": {
      "model_module": "@jupyter-widgets/base",
      "model_module_version": "1.2.0",
      "model_name": "LayoutModel",
      "state": {}
     },
     "506cfacbd10d450fb53661950c374fc7": {
      "model_module": "@jupyter-widgets/controls",
      "model_module_version": "1.5.0",
      "model_name": "HTMLModel",
      "state": {
       "layout": "IPY_MODEL_6bac57cb4f2b48038d91dae6499fbf07",
       "style": "IPY_MODEL_935ef7c587b14957a863d571ae06f679",
       "value": "Epoch [21/50]: 100%|██████████| 43/43 [00:10&lt;00:00,  4.12it/s, loss=0.00288]"
      }
     },
     "5101a7e8361f4a399d78d770d85260c1": {
      "model_module": "@jupyter-widgets/base",
      "model_module_version": "1.2.0",
      "model_name": "LayoutModel",
      "state": {}
     },
     "5110b8562c904a4cb0b728201d3204a5": {
      "model_module": "@jupyter-widgets/base",
      "model_module_version": "1.2.0",
      "model_name": "LayoutModel",
      "state": {}
     },
     "512c1ee85c404495a10675e69f2bb4ac": {
      "model_module": "@jupyter-widgets/controls",
      "model_module_version": "1.5.0",
      "model_name": "ProgressStyleModel",
      "state": {
       "description_width": "initial"
      }
     },
     "51aff7816bbf4441831c685caaa8cf77": {
      "model_module": "@jupyter-widgets/controls",
      "model_module_version": "1.5.0",
      "model_name": "HBoxModel",
      "state": {
       "children": [
        "IPY_MODEL_cffde12876554ea89d443a448984d38d",
        "IPY_MODEL_5d3cde6babb44df690cb98d738623880"
       ],
       "layout": "IPY_MODEL_9b341eea010e4ed8a4703622983c1a4e"
      }
     },
     "522f9bbfb08849f698655a686b94cf41": {
      "model_module": "@jupyter-widgets/controls",
      "model_module_version": "1.5.0",
      "model_name": "FloatProgressModel",
      "state": {
       "bar_style": "success",
       "layout": "IPY_MODEL_d80e9e00a4914b69bb5e12dcd39f843f",
       "max": 43,
       "style": "IPY_MODEL_3e9b4a31b7f442549165181f1307c839",
       "value": 43
      }
     },
     "52c3d3773df94b1f875f1e06ba41a0da": {
      "model_module": "@jupyter-widgets/base",
      "model_module_version": "1.2.0",
      "model_name": "LayoutModel",
      "state": {}
     },
     "52c6619e707d47d3ab182851b144ef7e": {
      "model_module": "@jupyter-widgets/controls",
      "model_module_version": "1.5.0",
      "model_name": "HBoxModel",
      "state": {
       "children": [
        "IPY_MODEL_0a3e43c7e6fb42649faf12c67feb8ba5",
        "IPY_MODEL_21c36269f32a4558bf3820e842567f85"
       ],
       "layout": "IPY_MODEL_7f4a1d2968b74189bd59cadb128f12b1"
      }
     },
     "52ddd9cf895044199f30eea8d5d6da64": {
      "model_module": "@jupyter-widgets/controls",
      "model_module_version": "1.5.0",
      "model_name": "DescriptionStyleModel",
      "state": {
       "description_width": ""
      }
     },
     "531ef174b62c42369b4282b84a648d4b": {
      "model_module": "@jupyter-widgets/controls",
      "model_module_version": "1.5.0",
      "model_name": "HBoxModel",
      "state": {
       "children": [
        "IPY_MODEL_066cbbfa1d3642e5ac143225e27030de",
        "IPY_MODEL_7777aafc3d2748a38fa739d45068ba59"
       ],
       "layout": "IPY_MODEL_0f5952d003784d1e81d193590accf309"
      }
     },
     "537c4f5d92eb467ead47a71a7e78ab0c": {
      "model_module": "@jupyter-widgets/controls",
      "model_module_version": "1.5.0",
      "model_name": "FloatProgressModel",
      "state": {
       "bar_style": "success",
       "layout": "IPY_MODEL_667a74e284be413cb2dad4ce61a6bdb9",
       "max": 246,
       "style": "IPY_MODEL_cfd8afad09a9464e95d393317f17fed3",
       "value": 246
      }
     },
     "538698e0e8ba41c29cd24e5e4493ef3c": {
      "model_module": "@jupyter-widgets/controls",
      "model_module_version": "1.5.0",
      "model_name": "FloatProgressModel",
      "state": {
       "bar_style": "success",
       "layout": "IPY_MODEL_d5e74ea180a34bd2959086246aecef13",
       "max": 85,
       "style": "IPY_MODEL_015ef1d54e524159a2da98b04314530c",
       "value": 85
      }
     },
     "5432dc55944741c4972040503b64d9a7": {
      "model_module": "@jupyter-widgets/controls",
      "model_module_version": "1.5.0",
      "model_name": "HTMLModel",
      "state": {
       "layout": "IPY_MODEL_4b5926456a3f413e9c7feb2c2ab1bb48",
       "style": "IPY_MODEL_85e4449f988a4490806c5e4c3e7d6d34",
       "value": "Epoch [46/50]: 100%|██████████| 85/85 [00:10&lt;00:00,  8.09it/s, loss=0.0208]"
      }
     },
     "545f17eccc394dcfaafb5bdb001c2b1a": {
      "model_module": "@jupyter-widgets/controls",
      "model_module_version": "1.5.0",
      "model_name": "DescriptionStyleModel",
      "state": {
       "description_width": ""
      }
     },
     "54df04a9deac46289a8874d22f53c295": {
      "model_module": "@jupyter-widgets/controls",
      "model_module_version": "1.5.0",
      "model_name": "HBoxModel",
      "state": {
       "children": [
        "IPY_MODEL_e65d1314983b4dd8b9a7c3313fd0ddae",
        "IPY_MODEL_0e254e4a46534d07ad22fd12e473d694"
       ],
       "layout": "IPY_MODEL_bd6bd6629ec24cbe9ba13773a6795939"
      }
     },
     "550b6e167a8d4c13959be8fdb44be1a7": {
      "model_module": "@jupyter-widgets/controls",
      "model_module_version": "1.5.0",
      "model_name": "HTMLModel",
      "state": {
       "layout": "IPY_MODEL_8abc4acdbbc847d88340754600e3a90c",
       "style": "IPY_MODEL_e2369d5276734e98ab26db2cf2da9e04",
       "value": "Epoch [39/50]: 100%|██████████| 43/43 [00:10&lt;00:00,  4.22it/s, loss=0.00117]"
      }
     },
     "5561c3a988a84d83b9a54104efe55f80": {
      "model_module": "@jupyter-widgets/base",
      "model_module_version": "1.2.0",
      "model_name": "LayoutModel",
      "state": {}
     },
     "55d5a78d3b5b49e1ac4096b0d06be122": {
      "model_module": "@jupyter-widgets/base",
      "model_module_version": "1.2.0",
      "model_name": "LayoutModel",
      "state": {}
     },
     "55da1cecb95444f9bf1f9d8f259fa768": {
      "model_module": "@jupyter-widgets/controls",
      "model_module_version": "1.5.0",
      "model_name": "ProgressStyleModel",
      "state": {
       "description_width": "initial"
      }
     },
     "56364e3f12884761985b01c388d076dc": {
      "model_module": "@jupyter-widgets/controls",
      "model_module_version": "1.5.0",
      "model_name": "DescriptionStyleModel",
      "state": {
       "description_width": ""
      }
     },
     "563a6c37fc6b486cb7c002132568b4c2": {
      "model_module": "@jupyter-widgets/controls",
      "model_module_version": "1.5.0",
      "model_name": "DescriptionStyleModel",
      "state": {
       "description_width": ""
      }
     },
     "56ad53b671ba446d9c81444f1a08d466": {
      "model_module": "@jupyter-widgets/base",
      "model_module_version": "1.2.0",
      "model_name": "LayoutModel",
      "state": {}
     },
     "578edb33b5af456885ef4711f38d3ba7": {
      "model_module": "@jupyter-widgets/base",
      "model_module_version": "1.2.0",
      "model_name": "LayoutModel",
      "state": {}
     },
     "579a928a2a6546f5aa801a59f4d5ef1e": {
      "model_module": "@jupyter-widgets/controls",
      "model_module_version": "1.5.0",
      "model_name": "FloatProgressModel",
      "state": {
       "bar_style": "success",
       "layout": "IPY_MODEL_ee6a20a53184423e9795a044af56aae1",
       "max": 246,
       "style": "IPY_MODEL_5941bdca0d95440f9d2d7f3a5622c425",
       "value": 246
      }
     },
     "579e2dbdded9426595f084647c6dda1f": {
      "model_module": "@jupyter-widgets/base",
      "model_module_version": "1.2.0",
      "model_name": "LayoutModel",
      "state": {}
     },
     "57ab5bc01e2047a5bdc137fc15942168": {
      "model_module": "@jupyter-widgets/controls",
      "model_module_version": "1.5.0",
      "model_name": "HTMLModel",
      "state": {
       "layout": "IPY_MODEL_b9d8d88a87fa4f27882ae66d12474d1f",
       "style": "IPY_MODEL_80d18b922539491d9b9654906a094c32",
       "value": "Epoch [47/50]: 100%|██████████| 85/85 [00:03&lt;00:00, 23.65it/s, loss=0.0143]"
      }
     },
     "57af4a1d0f08443cbe2ae92b52ce9b04": {
      "model_module": "@jupyter-widgets/base",
      "model_module_version": "1.2.0",
      "model_name": "LayoutModel",
      "state": {}
     },
     "583ce396559c4aabaf43d70520496aa0": {
      "model_module": "@jupyter-widgets/base",
      "model_module_version": "1.2.0",
      "model_name": "LayoutModel",
      "state": {}
     },
     "58505761f8c344fb84dbd624cbba898b": {
      "model_module": "@jupyter-widgets/controls",
      "model_module_version": "1.5.0",
      "model_name": "HTMLModel",
      "state": {
       "layout": "IPY_MODEL_98bf0bf5e3ea433384e00d6aa242a397",
       "style": "IPY_MODEL_de603766d6824e519a6718aab7237cb9",
       "value": "Epoch [15/50]: 100%|██████████| 43/43 [00:10&lt;00:00,  4.12it/s, loss=0.00603]"
      }
     },
     "587e65a7c0e84583af618b2b0448f565": {
      "model_module": "@jupyter-widgets/controls",
      "model_module_version": "1.5.0",
      "model_name": "HBoxModel",
      "state": {
       "children": [
        "IPY_MODEL_5f16608e0c294b89b57ffa37fd33c19a",
        "IPY_MODEL_960fb380ca434bb4945a3434ec95bc04"
       ],
       "layout": "IPY_MODEL_e74ffc161b574b7ea6bc6cd3591f4b6c"
      }
     },
     "5941bdca0d95440f9d2d7f3a5622c425": {
      "model_module": "@jupyter-widgets/controls",
      "model_module_version": "1.5.0",
      "model_name": "ProgressStyleModel",
      "state": {
       "description_width": "initial"
      }
     },
     "599713e3844d4b148828bbbb77caff36": {
      "model_module": "@jupyter-widgets/controls",
      "model_module_version": "1.5.0",
      "model_name": "FloatProgressModel",
      "state": {
       "bar_style": "success",
       "layout": "IPY_MODEL_6d73065f85f24eef91cf6cc3ac1f772e",
       "max": 43,
       "style": "IPY_MODEL_953d1f30b24245f49b7e4fa7d3003dc7",
       "value": 43
      }
     },
     "59eecf6cee384435995ff29a189278c1": {
      "model_module": "@jupyter-widgets/controls",
      "model_module_version": "1.5.0",
      "model_name": "FloatProgressModel",
      "state": {
       "bar_style": "success",
       "layout": "IPY_MODEL_689c64c236424538bd60f5209a5952a0",
       "max": 85,
       "style": "IPY_MODEL_b64393d09c244c2b91cd239e347e7a00",
       "value": 85
      }
     },
     "5a139c84470c4e9b8369f2cf0d3536fb": {
      "model_module": "@jupyter-widgets/controls",
      "model_module_version": "1.5.0",
      "model_name": "HTMLModel",
      "state": {
       "layout": "IPY_MODEL_a3cc9d2ca5ef4b688893036c44bc91ff",
       "style": "IPY_MODEL_f0490a0380a645d4aa82a8d74fae8244",
       "value": "Epoch [28/50]: 100%|██████████| 85/85 [00:03&lt;00:00, 23.01it/s, loss=0.0216]"
      }
     },
     "5a361591619443a291e4fe5318429e3e": {
      "model_module": "@jupyter-widgets/controls",
      "model_module_version": "1.5.0",
      "model_name": "HTMLModel",
      "state": {
       "layout": "IPY_MODEL_81dc8ef6c98b47ccbbed63767c7a464a",
       "style": "IPY_MODEL_eb0abe4eb6c346a6ba127d0e349591cf",
       "value": "Epoch [3/50]: 100%|██████████| 43/43 [00:10&lt;00:00,  3.99it/s, loss=0.0154]"
      }
     },
     "5a4ee121147d4575a5e471c74d0ef21d": {
      "model_module": "@jupyter-widgets/controls",
      "model_module_version": "1.5.0",
      "model_name": "ProgressStyleModel",
      "state": {
       "description_width": "initial"
      }
     },
     "5ae42336fb664de4a7ee01512a54a387": {
      "model_module": "@jupyter-widgets/base",
      "model_module_version": "1.2.0",
      "model_name": "LayoutModel",
      "state": {}
     },
     "5b0c76a7efcf42408023b31679d573f8": {
      "model_module": "@jupyter-widgets/controls",
      "model_module_version": "1.5.0",
      "model_name": "FloatProgressModel",
      "state": {
       "bar_style": "success",
       "layout": "IPY_MODEL_55d5a78d3b5b49e1ac4096b0d06be122",
       "max": 43,
       "style": "IPY_MODEL_d15ac561568b487d9dff051ea2070fd6",
       "value": 43
      }
     },
     "5b3d7baee65149e69f7ce92b97f34043": {
      "model_module": "@jupyter-widgets/controls",
      "model_module_version": "1.5.0",
      "model_name": "ProgressStyleModel",
      "state": {
       "description_width": "initial"
      }
     },
     "5b7370d6032447aebe269f54d8d14613": {
      "model_module": "@jupyter-widgets/base",
      "model_module_version": "1.2.0",
      "model_name": "LayoutModel",
      "state": {}
     },
     "5be5a6e219da47aa9dd51e6e573cab05": {
      "model_module": "@jupyter-widgets/base",
      "model_module_version": "1.2.0",
      "model_name": "LayoutModel",
      "state": {}
     },
     "5bfcfc5b47d747d99afeba9c39a92553": {
      "model_module": "@jupyter-widgets/controls",
      "model_module_version": "1.5.0",
      "model_name": "FloatProgressModel",
      "state": {
       "bar_style": "success",
       "layout": "IPY_MODEL_c13ef11a89094a28afec2b4323b1e3df",
       "max": 43,
       "style": "IPY_MODEL_066c586215f545c098de4bb03deadfdb",
       "value": 43
      }
     },
     "5c8f45dd72e04a1cbe44445185e8d3d2": {
      "model_module": "@jupyter-widgets/controls",
      "model_module_version": "1.5.0",
      "model_name": "HTMLModel",
      "state": {
       "layout": "IPY_MODEL_7b219823ff0245009a51215a987439b3",
       "style": "IPY_MODEL_b21e802b0b084e3a8a4ab286ac9adaeb",
       "value": "Epoch [30/50]: 100%|██████████| 43/43 [00:10&lt;00:00,  4.23it/s, loss=0.00252]"
      }
     },
     "5d28fd12cb2c4cf6987788876a26b84f": {
      "model_module": "@jupyter-widgets/controls",
      "model_module_version": "1.5.0",
      "model_name": "HBoxModel",
      "state": {
       "children": [
        "IPY_MODEL_216610673f4040eeb00ab1286dc8ebed",
        "IPY_MODEL_e93025d091904e958457426fb3e88d63"
       ],
       "layout": "IPY_MODEL_6b58003475a3463eb8f07a561cfd2fe5"
      }
     },
     "5d3cde6babb44df690cb98d738623880": {
      "model_module": "@jupyter-widgets/controls",
      "model_module_version": "1.5.0",
      "model_name": "HTMLModel",
      "state": {
       "layout": "IPY_MODEL_f966e4577258488586299ae54cbe5222",
       "style": "IPY_MODEL_65f8a76f9dc6427d9b0270361a5164ef",
       "value": "Epoch [22/50]: 100%|██████████| 85/85 [00:03&lt;00:00, 23.17it/s, loss=0.0262]"
      }
     },
     "5e106a0a3bbe4694a5287e4625e8ec88": {
      "model_module": "@jupyter-widgets/base",
      "model_module_version": "1.2.0",
      "model_name": "LayoutModel",
      "state": {}
     },
     "5eaec668672148c097a0942002bfc085": {
      "model_module": "@jupyter-widgets/base",
      "model_module_version": "1.2.0",
      "model_name": "LayoutModel",
      "state": {}
     },
     "5eb22ed3d271493685d70d1ac9fa89b6": {
      "model_module": "@jupyter-widgets/controls",
      "model_module_version": "1.5.0",
      "model_name": "HBoxModel",
      "state": {
       "children": [
        "IPY_MODEL_0bde6295beda4519a833a436b58fc606",
        "IPY_MODEL_c0d0a64fad064f56aeff425ec25813b2"
       ],
       "layout": "IPY_MODEL_57af4a1d0f08443cbe2ae92b52ce9b04"
      }
     },
     "5eb2fa9dac7e43629144b6bce8eae994": {
      "model_module": "@jupyter-widgets/base",
      "model_module_version": "1.2.0",
      "model_name": "LayoutModel",
      "state": {}
     },
     "5ecb83dfec3a472580aa1cee31c75417": {
      "model_module": "@jupyter-widgets/controls",
      "model_module_version": "1.5.0",
      "model_name": "HBoxModel",
      "state": {
       "children": [
        "IPY_MODEL_4a93e73382cf42dc81e9753f199f2292",
        "IPY_MODEL_65ee065ebc14491b934455e15d16ff50"
       ],
       "layout": "IPY_MODEL_40ba25eaa6af482191ff9a244ba8abba"
      }
     },
     "5eeb9b97d1104a519d818581793dffb7": {
      "model_module": "@jupyter-widgets/controls",
      "model_module_version": "1.5.0",
      "model_name": "DescriptionStyleModel",
      "state": {
       "description_width": ""
      }
     },
     "5f16608e0c294b89b57ffa37fd33c19a": {
      "model_module": "@jupyter-widgets/controls",
      "model_module_version": "1.5.0",
      "model_name": "FloatProgressModel",
      "state": {
       "bar_style": "success",
       "layout": "IPY_MODEL_05a68916d28241a29b9beb1b04c952e0",
       "max": 85,
       "style": "IPY_MODEL_a1a7a2a508b64369961b66f1b41dc711",
       "value": 85
      }
     },
     "5f4f112fc1fd4d69afa2b49b4e41ac75": {
      "model_module": "@jupyter-widgets/controls",
      "model_module_version": "1.5.0",
      "model_name": "HBoxModel",
      "state": {
       "children": [
        "IPY_MODEL_043acaf3214341b99f329887b0ab7f99",
        "IPY_MODEL_8a7a1bae446947fbb6937f4a2d670354"
       ],
       "layout": "IPY_MODEL_0d917c44c96f4567862f468b69794730"
      }
     },
     "5f54e2917d51474f9e576346b8a5fa6b": {
      "model_module": "@jupyter-widgets/base",
      "model_module_version": "1.2.0",
      "model_name": "LayoutModel",
      "state": {}
     },
     "5f7e8ab9874d4989a08c7c298f463c81": {
      "model_module": "@jupyter-widgets/base",
      "model_module_version": "1.2.0",
      "model_name": "LayoutModel",
      "state": {}
     },
     "5fbfd104420b4cf4a8d32e6851ab1d16": {
      "model_module": "@jupyter-widgets/controls",
      "model_module_version": "1.5.0",
      "model_name": "DescriptionStyleModel",
      "state": {
       "description_width": ""
      }
     },
     "5fcece3d7b9b4eef813f5784d543e2eb": {
      "model_module": "@jupyter-widgets/base",
      "model_module_version": "1.2.0",
      "model_name": "LayoutModel",
      "state": {}
     },
     "5fd5ed23208e42e9a2cb47dd854bb1fa": {
      "model_module": "@jupyter-widgets/controls",
      "model_module_version": "1.5.0",
      "model_name": "DescriptionStyleModel",
      "state": {
       "description_width": ""
      }
     },
     "6094e266de464800b94a24fb5ebccf32": {
      "model_module": "@jupyter-widgets/base",
      "model_module_version": "1.2.0",
      "model_name": "LayoutModel",
      "state": {}
     },
     "60e72c0d971d43ad80deb2000a416b1e": {
      "model_module": "@jupyter-widgets/controls",
      "model_module_version": "1.5.0",
      "model_name": "FloatProgressModel",
      "state": {
       "bar_style": "success",
       "layout": "IPY_MODEL_6239a67f2e594b7bb379eeffffd8d37a",
       "max": 43,
       "style": "IPY_MODEL_6736d0ccc5d64bec9ead97d705f85ce6",
       "value": 43
      }
     },
     "61375bb7bde2446c9062cf8c79847818": {
      "model_module": "@jupyter-widgets/controls",
      "model_module_version": "1.5.0",
      "model_name": "HTMLModel",
      "state": {
       "layout": "IPY_MODEL_e01eb7e618e34375b931dd55a0d5d592",
       "style": "IPY_MODEL_f8a88596f5d64bc6b15dd1b80b69c1ea",
       "value": "Epoch [36/50]: 100%|██████████| 43/43 [00:10&lt;00:00,  4.22it/s, loss=0.00184]"
      }
     },
     "61dda33c362041bba382827cb8e7db73": {
      "model_module": "@jupyter-widgets/base",
      "model_module_version": "1.2.0",
      "model_name": "LayoutModel",
      "state": {}
     },
     "61f821bddd7c4f36a17e15c4f2798197": {
      "model_module": "@jupyter-widgets/controls",
      "model_module_version": "1.5.0",
      "model_name": "FloatProgressModel",
      "state": {
       "bar_style": "success",
       "layout": "IPY_MODEL_5e106a0a3bbe4694a5287e4625e8ec88",
       "max": 85,
       "style": "IPY_MODEL_1529c008d87547ab9383b695d6309b83",
       "value": 85
      }
     },
     "622c73337e03495b86416a53336b277d": {
      "model_module": "@jupyter-widgets/base",
      "model_module_version": "1.2.0",
      "model_name": "LayoutModel",
      "state": {}
     },
     "6239a67f2e594b7bb379eeffffd8d37a": {
      "model_module": "@jupyter-widgets/base",
      "model_module_version": "1.2.0",
      "model_name": "LayoutModel",
      "state": {}
     },
     "62469c38eb39488db543a9451da07e9a": {
      "model_module": "@jupyter-widgets/base",
      "model_module_version": "1.2.0",
      "model_name": "LayoutModel",
      "state": {}
     },
     "62adb0c2a5a54b7abc0dd8d569d3bce7": {
      "model_module": "@jupyter-widgets/controls",
      "model_module_version": "1.5.0",
      "model_name": "FloatProgressModel",
      "state": {
       "bar_style": "success",
       "layout": "IPY_MODEL_bf4b31fff9a74c19859205dd311b61fd",
       "max": 85,
       "style": "IPY_MODEL_668192b6339d4e98978f2bbcd6fd3743",
       "value": 85
      }
     },
     "62c6ae88c2c340c596a9fa9fdd809e5f": {
      "model_module": "@jupyter-widgets/base",
      "model_module_version": "1.2.0",
      "model_name": "LayoutModel",
      "state": {}
     },
     "63054c393e6c4f6285526ec8c9a34894": {
      "model_module": "@jupyter-widgets/controls",
      "model_module_version": "1.5.0",
      "model_name": "HTMLModel",
      "state": {
       "layout": "IPY_MODEL_8048ab8fbedc45d4ad4a24246270efc6",
       "style": "IPY_MODEL_c5ebb19ea93249f799429369e0c8b6cb",
       "value": "Epoch [43/50]: 100%|██████████| 43/43 [00:10&lt;00:00,  4.10it/s, loss=0.00116]"
      }
     },
     "631d679559e64961b88541299d58c8d4": {
      "model_module": "@jupyter-widgets/controls",
      "model_module_version": "1.5.0",
      "model_name": "DescriptionStyleModel",
      "state": {
       "description_width": ""
      }
     },
     "6400d7ecb0eb436585548be641678888": {
      "model_module": "@jupyter-widgets/controls",
      "model_module_version": "1.5.0",
      "model_name": "FloatProgressModel",
      "state": {
       "bar_style": "success",
       "layout": "IPY_MODEL_8c59d5c4c8e0430181ea0a23f4af7a84",
       "max": 246,
       "style": "IPY_MODEL_2665a2e673134b9488b1e851066184d5",
       "value": 246
      }
     },
     "643443a481174f1fbdd97c87be518615": {
      "model_module": "@jupyter-widgets/controls",
      "model_module_version": "1.5.0",
      "model_name": "HBoxModel",
      "state": {
       "children": [
        "IPY_MODEL_0015429d874d489fb953a763bccf676a",
        "IPY_MODEL_46a2899da8734b5eb87c98540a348504"
       ],
       "layout": "IPY_MODEL_414d6fb8d088418490991d794055173d"
      }
     },
     "64a843077d2b4920ad2f41710abd61e5": {
      "model_module": "@jupyter-widgets/controls",
      "model_module_version": "1.5.0",
      "model_name": "ProgressStyleModel",
      "state": {
       "description_width": "initial"
      }
     },
     "64d34c0c06544a46bf7be274f5cebc79": {
      "model_module": "@jupyter-widgets/base",
      "model_module_version": "1.2.0",
      "model_name": "LayoutModel",
      "state": {}
     },
     "64e7d228d0b84078bdd1c5a2f503b6f2": {
      "model_module": "@jupyter-widgets/base",
      "model_module_version": "1.2.0",
      "model_name": "LayoutModel",
      "state": {}
     },
     "650e6064c39d420ea83c71b6865fb37d": {
      "model_module": "@jupyter-widgets/controls",
      "model_module_version": "1.5.0",
      "model_name": "ProgressStyleModel",
      "state": {
       "description_width": "initial"
      }
     },
     "6510a6c01cfc421eb2e01b2dc0413b66": {
      "model_module": "@jupyter-widgets/controls",
      "model_module_version": "1.5.0",
      "model_name": "ProgressStyleModel",
      "state": {
       "description_width": "initial"
      }
     },
     "6538905da3314f63bf06398a248adcb6": {
      "model_module": "@jupyter-widgets/controls",
      "model_module_version": "1.5.0",
      "model_name": "DescriptionStyleModel",
      "state": {
       "description_width": ""
      }
     },
     "65b6cb01e4124ca4ad72edd05229e634": {
      "model_module": "@jupyter-widgets/base",
      "model_module_version": "1.2.0",
      "model_name": "LayoutModel",
      "state": {}
     },
     "65dbc22ec6224ef1bc653901fa1bb45a": {
      "model_module": "@jupyter-widgets/controls",
      "model_module_version": "1.5.0",
      "model_name": "DescriptionStyleModel",
      "state": {
       "description_width": ""
      }
     },
     "65ed6dd4c55f4b92aa5eebaa98daa32c": {
      "model_module": "@jupyter-widgets/base",
      "model_module_version": "1.2.0",
      "model_name": "LayoutModel",
      "state": {}
     },
     "65ee065ebc14491b934455e15d16ff50": {
      "model_module": "@jupyter-widgets/controls",
      "model_module_version": "1.5.0",
      "model_name": "HTMLModel",
      "state": {
       "layout": "IPY_MODEL_8e5537a0ed2049e4b7bc841b8806438f",
       "style": "IPY_MODEL_25d86b61c1014e00ba100c99c2c7ba61",
       "value": "Epoch [31/50]: 100%|██████████| 85/85 [00:03&lt;00:00, 23.64it/s, loss=0.0207]"
      }
     },
     "65f8a76f9dc6427d9b0270361a5164ef": {
      "model_module": "@jupyter-widgets/controls",
      "model_module_version": "1.5.0",
      "model_name": "DescriptionStyleModel",
      "state": {
       "description_width": ""
      }
     },
     "66210b0853ef4e3c89e86222661e7b79": {
      "model_module": "@jupyter-widgets/controls",
      "model_module_version": "1.5.0",
      "model_name": "DescriptionStyleModel",
      "state": {
       "description_width": ""
      }
     },
     "6624f78dae3a43ff960fda8f81b6ddc8": {
      "model_module": "@jupyter-widgets/controls",
      "model_module_version": "1.5.0",
      "model_name": "HBoxModel",
      "state": {
       "children": [
        "IPY_MODEL_3f0da84afc664b928c1c3c6f015df884",
        "IPY_MODEL_96844da88a5140d2bcd7adff944b7832"
       ],
       "layout": "IPY_MODEL_aa6fe10ed7bd4277b4747e2d9a742c14"
      }
     },
     "667105cb7d9349b89264b82c7ee786e9": {
      "model_module": "@jupyter-widgets/base",
      "model_module_version": "1.2.0",
      "model_name": "LayoutModel",
      "state": {}
     },
     "667a74e284be413cb2dad4ce61a6bdb9": {
      "model_module": "@jupyter-widgets/base",
      "model_module_version": "1.2.0",
      "model_name": "LayoutModel",
      "state": {}
     },
     "668192b6339d4e98978f2bbcd6fd3743": {
      "model_module": "@jupyter-widgets/controls",
      "model_module_version": "1.5.0",
      "model_name": "ProgressStyleModel",
      "state": {
       "description_width": "initial"
      }
     },
     "66fbde006923470bb220fcabfb57d724": {
      "model_module": "@jupyter-widgets/controls",
      "model_module_version": "1.5.0",
      "model_name": "ProgressStyleModel",
      "state": {
       "description_width": "initial"
      }
     },
     "672e492b850844109ae0d8bd0db71d60": {
      "model_module": "@jupyter-widgets/base",
      "model_module_version": "1.2.0",
      "model_name": "LayoutModel",
      "state": {}
     },
     "6736d0ccc5d64bec9ead97d705f85ce6": {
      "model_module": "@jupyter-widgets/controls",
      "model_module_version": "1.5.0",
      "model_name": "ProgressStyleModel",
      "state": {
       "description_width": "initial"
      }
     },
     "67e0d51e8aa84da89c095dcc33969a7c": {
      "model_module": "@jupyter-widgets/controls",
      "model_module_version": "1.5.0",
      "model_name": "ProgressStyleModel",
      "state": {
       "description_width": "initial"
      }
     },
     "680d16d62c0143f6ad2b9b6238d40861": {
      "model_module": "@jupyter-widgets/controls",
      "model_module_version": "1.5.0",
      "model_name": "HTMLModel",
      "state": {
       "layout": "IPY_MODEL_0fe8df1851aa44458cf68da309277743",
       "style": "IPY_MODEL_70264ffde35a4bbea36bcbe6dd2a13b1",
       "value": "Epoch [6/50]: 100%|██████████| 85/85 [00:04&lt;00:00, 18.56it/s, loss=0.0577]"
      }
     },
     "684dacddb8bb4b90abe26a044a7bb608": {
      "model_module": "@jupyter-widgets/controls",
      "model_module_version": "1.5.0",
      "model_name": "HBoxModel",
      "state": {
       "children": [
        "IPY_MODEL_522f9bbfb08849f698655a686b94cf41",
        "IPY_MODEL_89704190ba4c42748982a184671b846c"
       ],
       "layout": "IPY_MODEL_b3500a34ee7c492da09f684bcde5db12"
      }
     },
     "689c64c236424538bd60f5209a5952a0": {
      "model_module": "@jupyter-widgets/base",
      "model_module_version": "1.2.0",
      "model_name": "LayoutModel",
      "state": {}
     },
     "68ae0a9b62c24ab6a38fe5fad3edc7ed": {
      "model_module": "@jupyter-widgets/controls",
      "model_module_version": "1.5.0",
      "model_name": "DescriptionStyleModel",
      "state": {
       "description_width": ""
      }
     },
     "68b5534f28fd45749cb8fed9c478b1c9": {
      "model_module": "@jupyter-widgets/base",
      "model_module_version": "1.2.0",
      "model_name": "LayoutModel",
      "state": {}
     },
     "691419a7178f49c4a5f92b0d0d6c6710": {
      "model_module": "@jupyter-widgets/base",
      "model_module_version": "1.2.0",
      "model_name": "LayoutModel",
      "state": {}
     },
     "69300699124a42da891269d8804295a1": {
      "model_module": "@jupyter-widgets/controls",
      "model_module_version": "1.5.0",
      "model_name": "FloatProgressModel",
      "state": {
       "bar_style": "success",
       "layout": "IPY_MODEL_46b5048cd3a44164a8a01316792e9008",
       "max": 85,
       "style": "IPY_MODEL_158a5c54189c4c25b94df092c3cf89cd",
       "value": 85
      }
     },
     "696c6e1e2e7545ec8fb749609d5f46a9": {
      "model_module": "@jupyter-widgets/controls",
      "model_module_version": "1.5.0",
      "model_name": "HBoxModel",
      "state": {
       "children": [
        "IPY_MODEL_503b0edbbf5947658c7ab57e1d760cb8",
        "IPY_MODEL_f7f8775d14b54b0084716c34c54c969d"
       ],
       "layout": "IPY_MODEL_7b43baa921b7413682c09b53fc57f45e"
      }
     },
     "69cb6e726c6b42edb31b2db80a7b392a": {
      "model_module": "@jupyter-widgets/controls",
      "model_module_version": "1.5.0",
      "model_name": "DescriptionStyleModel",
      "state": {
       "description_width": ""
      }
     },
     "69ee0e8690cd49a3ac16e6f8cc160d64": {
      "model_module": "@jupyter-widgets/controls",
      "model_module_version": "1.5.0",
      "model_name": "HBoxModel",
      "state": {
       "children": [
        "IPY_MODEL_088921588e2a4b498c691b97d3b3a43e",
        "IPY_MODEL_914c12fd1cc3430bafedca5eb671cc9e"
       ],
       "layout": "IPY_MODEL_4e85019efece4925af0da4898e8c7994"
      }
     },
     "6a04d54343684d1390703772241c8a4f": {
      "model_module": "@jupyter-widgets/controls",
      "model_module_version": "1.5.0",
      "model_name": "FloatProgressModel",
      "state": {
       "bar_style": "success",
       "layout": "IPY_MODEL_7429417826d44b86baba7c8789666ba2",
       "max": 43,
       "style": "IPY_MODEL_daf833045e75486cad1ab28c44bc315a",
       "value": 43
      }
     },
     "6a908b5a9034461492cdf50fc93eb19d": {
      "model_module": "@jupyter-widgets/controls",
      "model_module_version": "1.5.0",
      "model_name": "FloatProgressModel",
      "state": {
       "bar_style": "success",
       "layout": "IPY_MODEL_0880d18bf34a4e699bbb4de58d4b4ebe",
       "max": 43,
       "style": "IPY_MODEL_e209d46932f9424da1cfdadb0c4815f9",
       "value": 43
      }
     },
     "6ac090511ecb4d339c66d99c20656f47": {
      "model_module": "@jupyter-widgets/controls",
      "model_module_version": "1.5.0",
      "model_name": "HTMLModel",
      "state": {
       "layout": "IPY_MODEL_5eb2fa9dac7e43629144b6bce8eae994",
       "style": "IPY_MODEL_1b26738293aa4c5da13557c79a6c45be",
       "value": "Epoch [42/50]: 100%|██████████| 85/85 [00:03&lt;00:00, 23.55it/s, loss=0.0162]"
      }
     },
     "6b4cd859d52a405ba8f1cfcc760680fb": {
      "model_module": "@jupyter-widgets/base",
      "model_module_version": "1.2.0",
      "model_name": "LayoutModel",
      "state": {}
     },
     "6b58003475a3463eb8f07a561cfd2fe5": {
      "model_module": "@jupyter-widgets/base",
      "model_module_version": "1.2.0",
      "model_name": "LayoutModel",
      "state": {}
     },
     "6b60ae2f7f874134b3a499f362eac8d6": {
      "model_module": "@jupyter-widgets/base",
      "model_module_version": "1.2.0",
      "model_name": "LayoutModel",
      "state": {}
     },
     "6bac57cb4f2b48038d91dae6499fbf07": {
      "model_module": "@jupyter-widgets/base",
      "model_module_version": "1.2.0",
      "model_name": "LayoutModel",
      "state": {}
     },
     "6bbb73ccb0c44bdfa0893c7e5270b60b": {
      "model_module": "@jupyter-widgets/controls",
      "model_module_version": "1.5.0",
      "model_name": "ProgressStyleModel",
      "state": {
       "description_width": "initial"
      }
     },
     "6bd8937b16e4449897cb190b536fd410": {
      "model_module": "@jupyter-widgets/base",
      "model_module_version": "1.2.0",
      "model_name": "LayoutModel",
      "state": {}
     },
     "6c04e004ddb349cf8ca890a2b52c72bf": {
      "model_module": "@jupyter-widgets/controls",
      "model_module_version": "1.5.0",
      "model_name": "HTMLModel",
      "state": {
       "layout": "IPY_MODEL_0095c32b5a494420a2f759e29b7a7850",
       "style": "IPY_MODEL_73619ae8faca44ffbd52897385eb998b",
       "value": "Epoch [21/50]: 100%|██████████| 85/85 [00:03&lt;00:00, 23.04it/s, loss=0.0281]"
      }
     },
     "6ce9d34e7cef43efbd526aed3033d093": {
      "model_module": "@jupyter-widgets/base",
      "model_module_version": "1.2.0",
      "model_name": "LayoutModel",
      "state": {}
     },
     "6cfdb794b6ae414f97fcd05e2c383648": {
      "model_module": "@jupyter-widgets/controls",
      "model_module_version": "1.5.0",
      "model_name": "DescriptionStyleModel",
      "state": {
       "description_width": ""
      }
     },
     "6d1e92043c8f43c193444c553dc4a90c": {
      "model_module": "@jupyter-widgets/base",
      "model_module_version": "1.2.0",
      "model_name": "LayoutModel",
      "state": {}
     },
     "6d3b1d3cc3a84a2fa50df245846c16ba": {
      "model_module": "@jupyter-widgets/base",
      "model_module_version": "1.2.0",
      "model_name": "LayoutModel",
      "state": {}
     },
     "6d4e2df32cce4b5c892459ba7b5fc0bd": {
      "model_module": "@jupyter-widgets/controls",
      "model_module_version": "1.5.0",
      "model_name": "ProgressStyleModel",
      "state": {
       "description_width": "initial"
      }
     },
     "6d73065f85f24eef91cf6cc3ac1f772e": {
      "model_module": "@jupyter-widgets/base",
      "model_module_version": "1.2.0",
      "model_name": "LayoutModel",
      "state": {}
     },
     "6dae42079b38445ebed99f557a0ca385": {
      "model_module": "@jupyter-widgets/controls",
      "model_module_version": "1.5.0",
      "model_name": "FloatProgressModel",
      "state": {
       "bar_style": "success",
       "layout": "IPY_MODEL_a374ad4025be44f9a2eaf6f476d6c88a",
       "max": 246,
       "style": "IPY_MODEL_80ee9444d7bf4404aa6567e7c03699f1",
       "value": 246
      }
     },
     "6e25f4dc07de446ca92c27e5483947d8": {
      "model_module": "@jupyter-widgets/controls",
      "model_module_version": "1.5.0",
      "model_name": "FloatProgressModel",
      "state": {
       "bar_style": "success",
       "layout": "IPY_MODEL_5ae42336fb664de4a7ee01512a54a387",
       "max": 43,
       "style": "IPY_MODEL_b203840b7f084a7a8e67754a0257e15e",
       "value": 43
      }
     },
     "6e6e3987374f42a6918967ac68e9adce": {
      "model_module": "@jupyter-widgets/base",
      "model_module_version": "1.2.0",
      "model_name": "LayoutModel",
      "state": {}
     },
     "6e7e596accac483fb7a87cb56066b3bb": {
      "model_module": "@jupyter-widgets/controls",
      "model_module_version": "1.5.0",
      "model_name": "ProgressStyleModel",
      "state": {
       "description_width": "initial"
      }
     },
     "6eec75d7de7644e9860068806d702055": {
      "model_module": "@jupyter-widgets/base",
      "model_module_version": "1.2.0",
      "model_name": "LayoutModel",
      "state": {}
     },
     "6f050b1e1945489cb44fc1ebc620f331": {
      "model_module": "@jupyter-widgets/controls",
      "model_module_version": "1.5.0",
      "model_name": "DescriptionStyleModel",
      "state": {
       "description_width": ""
      }
     },
     "6f4b5cf479bb414197dbcba84f62c377": {
      "model_module": "@jupyter-widgets/controls",
      "model_module_version": "1.5.0",
      "model_name": "HBoxModel",
      "state": {
       "children": [
        "IPY_MODEL_8fefb2ca93484aac9683ee1e2164e38a",
        "IPY_MODEL_2f9de61a01e742019f6b7ec050ce5a41"
       ],
       "layout": "IPY_MODEL_ece2b28545eb44068256e1b75efa5bda"
      }
     },
     "6f8152f347ac4d9a9b9eb8dbbc2a7b0a": {
      "model_module": "@jupyter-widgets/controls",
      "model_module_version": "1.5.0",
      "model_name": "FloatProgressModel",
      "state": {
       "bar_style": "success",
       "layout": "IPY_MODEL_eca366a8c88b428c97b4366b983f2f02",
       "max": 246,
       "style": "IPY_MODEL_038eea52728643da92f775c35510d9ec",
       "value": 246
      }
     },
     "6f86cf0f20804bedb2d9cd31ffbd8050": {
      "model_module": "@jupyter-widgets/controls",
      "model_module_version": "1.5.0",
      "model_name": "FloatProgressModel",
      "state": {
       "bar_style": "success",
       "layout": "IPY_MODEL_c929f85a76264aafb9547022f960893b",
       "max": 500,
       "style": "IPY_MODEL_72970b78e6d64745a4774e4004581192",
       "value": 500
      }
     },
     "6f889bf08ded44d3b5819e42eeb5b608": {
      "model_module": "@jupyter-widgets/controls",
      "model_module_version": "1.5.0",
      "model_name": "DescriptionStyleModel",
      "state": {
       "description_width": ""
      }
     },
     "70264ffde35a4bbea36bcbe6dd2a13b1": {
      "model_module": "@jupyter-widgets/controls",
      "model_module_version": "1.5.0",
      "model_name": "DescriptionStyleModel",
      "state": {
       "description_width": ""
      }
     },
     "70448b6a661f4065b6a80fc5d5ad1401": {
      "model_module": "@jupyter-widgets/base",
      "model_module_version": "1.2.0",
      "model_name": "LayoutModel",
      "state": {}
     },
     "7073a6cfb02640989bb37426685140ea": {
      "model_module": "@jupyter-widgets/controls",
      "model_module_version": "1.5.0",
      "model_name": "DescriptionStyleModel",
      "state": {
       "description_width": ""
      }
     },
     "707d8a9f769843699dbd3d756b974768": {
      "model_module": "@jupyter-widgets/controls",
      "model_module_version": "1.5.0",
      "model_name": "HBoxModel",
      "state": {
       "children": [
        "IPY_MODEL_4026cd4890624b4d986261ba6a8027b6",
        "IPY_MODEL_1682c512641e4b1f96eaa80ae01f2e88"
       ],
       "layout": "IPY_MODEL_c528be5072f943bb9933bb120fec2cd9"
      }
     },
     "70ce13014c734368bdd8fd99db4c4415": {
      "model_module": "@jupyter-widgets/base",
      "model_module_version": "1.2.0",
      "model_name": "LayoutModel",
      "state": {}
     },
     "7109797a9d7847008aefa96bd2e4c60a": {
      "model_module": "@jupyter-widgets/controls",
      "model_module_version": "1.5.0",
      "model_name": "ProgressStyleModel",
      "state": {
       "description_width": "initial"
      }
     },
     "7110d8cf84d34e51a4bba252a89056e0": {
      "model_module": "@jupyter-widgets/controls",
      "model_module_version": "1.5.0",
      "model_name": "HTMLModel",
      "state": {
       "layout": "IPY_MODEL_96accba4233a460d9395d32f5324a561",
       "style": "IPY_MODEL_124d10f4846e46dfb9c93ff5824ca77a",
       "value": "Epoch [31/50]: 100%|██████████| 43/43 [00:10&lt;00:00,  4.23it/s, loss=0.00227]"
      }
     },
     "714e9ccd1bff48cb83f4246fdf9493e3": {
      "model_module": "@jupyter-widgets/controls",
      "model_module_version": "1.5.0",
      "model_name": "ProgressStyleModel",
      "state": {
       "description_width": "initial"
      }
     },
     "7156a72530be4318b3509a9a778451dc": {
      "model_module": "@jupyter-widgets/controls",
      "model_module_version": "1.5.0",
      "model_name": "HBoxModel",
      "state": {
       "children": [
        "IPY_MODEL_7333fc287e1c4daa80c0f268409d82d0",
        "IPY_MODEL_da320fa7668741849bd80006e789ec91"
       ],
       "layout": "IPY_MODEL_28d287f399ec42aaad4262e709ecb815"
      }
     },
     "71850bb1a881462e864154908a5bb050": {
      "model_module": "@jupyter-widgets/base",
      "model_module_version": "1.2.0",
      "model_name": "LayoutModel",
      "state": {}
     },
     "7198725fda6645f48422bbad39d0f677": {
      "model_module": "@jupyter-widgets/controls",
      "model_module_version": "1.5.0",
      "model_name": "HBoxModel",
      "state": {
       "children": [
        "IPY_MODEL_ab0bb73f2676449e8ee1424934f9aed6",
        "IPY_MODEL_b00650dd807d46c2b67176961a3d8aad"
       ],
       "layout": "IPY_MODEL_68b5534f28fd45749cb8fed9c478b1c9"
      }
     },
     "7216a7ca30f5441e9e80037efafde3de": {
      "model_module": "@jupyter-widgets/base",
      "model_module_version": "1.2.0",
      "model_name": "LayoutModel",
      "state": {}
     },
     "72970b78e6d64745a4774e4004581192": {
      "model_module": "@jupyter-widgets/controls",
      "model_module_version": "1.5.0",
      "model_name": "ProgressStyleModel",
      "state": {
       "description_width": "initial"
      }
     },
     "72a47e2085bd48be89feb2250d0b47fd": {
      "model_module": "@jupyter-widgets/controls",
      "model_module_version": "1.5.0",
      "model_name": "HBoxModel",
      "state": {
       "children": [
        "IPY_MODEL_ac5a5a22522644e59156c21e675b0636",
        "IPY_MODEL_d209c8ddccff4c5dbe915f3dfeeb036f"
       ],
       "layout": "IPY_MODEL_ef2d24a3c7dc45b2824f5c86ab4922e6"
      }
     },
     "72e7d850c3f74fdfbbe73738edfcd740": {
      "model_module": "@jupyter-widgets/controls",
      "model_module_version": "1.5.0",
      "model_name": "ProgressStyleModel",
      "state": {
       "description_width": "initial"
      }
     },
     "7333fc287e1c4daa80c0f268409d82d0": {
      "model_module": "@jupyter-widgets/controls",
      "model_module_version": "1.5.0",
      "model_name": "FloatProgressModel",
      "state": {
       "bar_style": "success",
       "layout": "IPY_MODEL_7a43a99ff8674e3f8625f48963db20ec",
       "max": 85,
       "style": "IPY_MODEL_893c20c00d10425d95fc565d0ee9c5c1",
       "value": 85
      }
     },
     "735001bf00794f78a84c35f384771f9e": {
      "model_module": "@jupyter-widgets/controls",
      "model_module_version": "1.5.0",
      "model_name": "ProgressStyleModel",
      "state": {
       "description_width": "initial"
      }
     },
     "73619ae8faca44ffbd52897385eb998b": {
      "model_module": "@jupyter-widgets/controls",
      "model_module_version": "1.5.0",
      "model_name": "DescriptionStyleModel",
      "state": {
       "description_width": ""
      }
     },
     "74138d84ed3a48cc922216e1b14ca988": {
      "model_module": "@jupyter-widgets/base",
      "model_module_version": "1.2.0",
      "model_name": "LayoutModel",
      "state": {}
     },
     "7425b0a9f957444682fc1c769f18b98c": {
      "model_module": "@jupyter-widgets/controls",
      "model_module_version": "1.5.0",
      "model_name": "FloatProgressModel",
      "state": {
       "bar_style": "success",
       "layout": "IPY_MODEL_6094e266de464800b94a24fb5ebccf32",
       "max": 43,
       "style": "IPY_MODEL_3c4709dd74354f8db55e401673efa63f",
       "value": 43
      }
     },
     "7429417826d44b86baba7c8789666ba2": {
      "model_module": "@jupyter-widgets/base",
      "model_module_version": "1.2.0",
      "model_name": "LayoutModel",
      "state": {}
     },
     "74dcc5853c7e45948302755847365250": {
      "model_module": "@jupyter-widgets/controls",
      "model_module_version": "1.5.0",
      "model_name": "HBoxModel",
      "state": {
       "children": [
        "IPY_MODEL_14c778224a38447b8fe09a85f4756982",
        "IPY_MODEL_2899fc04296145f392584d2b3ac38005"
       ],
       "layout": "IPY_MODEL_a5423b79b7e84538a3696c203b4f4ce8"
      }
     },
     "74eda2b64b974855be62c66f5e8c8551": {
      "model_module": "@jupyter-widgets/base",
      "model_module_version": "1.2.0",
      "model_name": "LayoutModel",
      "state": {}
     },
     "74ffed8831af4a6cabef12997f12c2c8": {
      "model_module": "@jupyter-widgets/controls",
      "model_module_version": "1.5.0",
      "model_name": "FloatProgressModel",
      "state": {
       "bar_style": "success",
       "layout": "IPY_MODEL_0995872ef86648b0bf173db68cdf0d29",
       "max": 85,
       "style": "IPY_MODEL_7614c0a4de3c4336a02d389c902d6d31",
       "value": 85
      }
     },
     "750fa4ebf0e3413392c456aa45ba212b": {
      "model_module": "@jupyter-widgets/base",
      "model_module_version": "1.2.0",
      "model_name": "LayoutModel",
      "state": {}
     },
     "7570dacf1b934c1e8850a7d06ba5697c": {
      "model_module": "@jupyter-widgets/controls",
      "model_module_version": "1.5.0",
      "model_name": "FloatProgressModel",
      "state": {
       "bar_style": "success",
       "layout": "IPY_MODEL_8f2537bb7822425bb5fef2ef9e4e9f67",
       "max": 85,
       "style": "IPY_MODEL_2073d4ee86404fe781913a173d54d5e8",
       "value": 85
      }
     },
     "76095c8038524d6b9007ebd1ad05ea2d": {
      "model_module": "@jupyter-widgets/base",
      "model_module_version": "1.2.0",
      "model_name": "LayoutModel",
      "state": {}
     },
     "7614c0a4de3c4336a02d389c902d6d31": {
      "model_module": "@jupyter-widgets/controls",
      "model_module_version": "1.5.0",
      "model_name": "ProgressStyleModel",
      "state": {
       "description_width": "initial"
      }
     },
     "7618c9007b5b4e699372e3db27e35ffd": {
      "model_module": "@jupyter-widgets/controls",
      "model_module_version": "1.5.0",
      "model_name": "FloatProgressModel",
      "state": {
       "bar_style": "success",
       "layout": "IPY_MODEL_96dbbfa248d24ca59f9afaf014d57c90",
       "max": 43,
       "style": "IPY_MODEL_4a349d63fdc04cef8f3288fe24ff0169",
       "value": 43
      }
     },
     "762f6ede249845958dab7bcd5922ae85": {
      "model_module": "@jupyter-widgets/controls",
      "model_module_version": "1.5.0",
      "model_name": "DescriptionStyleModel",
      "state": {
       "description_width": ""
      }
     },
     "76a71439bb5b4d5ca020098aa113ca99": {
      "model_module": "@jupyter-widgets/controls",
      "model_module_version": "1.5.0",
      "model_name": "DescriptionStyleModel",
      "state": {
       "description_width": ""
      }
     },
     "76c68a69865e4d76a98a8c21626916ec": {
      "model_module": "@jupyter-widgets/base",
      "model_module_version": "1.2.0",
      "model_name": "LayoutModel",
      "state": {}
     },
     "773260e1ee094db68ee49b47ea844edd": {
      "model_module": "@jupyter-widgets/base",
      "model_module_version": "1.2.0",
      "model_name": "LayoutModel",
      "state": {}
     },
     "7757af2331c9498d8f327a32c7785897": {
      "model_module": "@jupyter-widgets/controls",
      "model_module_version": "1.5.0",
      "model_name": "ProgressStyleModel",
      "state": {
       "description_width": "initial"
      }
     },
     "775c5f7541334b8aaa603c989c5a240c": {
      "model_module": "@jupyter-widgets/controls",
      "model_module_version": "1.5.0",
      "model_name": "HBoxModel",
      "state": {
       "children": [
        "IPY_MODEL_948f79becff34cfe89691eb88a5e0ed0",
        "IPY_MODEL_a3826581fec7463a960f62472c800c35"
       ],
       "layout": "IPY_MODEL_cbccda27aae2483996183a0dbfc0b68b"
      }
     },
     "776676fb75f2470ab5d85e3c41005169": {
      "model_module": "@jupyter-widgets/base",
      "model_module_version": "1.2.0",
      "model_name": "LayoutModel",
      "state": {}
     },
     "7777aafc3d2748a38fa739d45068ba59": {
      "model_module": "@jupyter-widgets/controls",
      "model_module_version": "1.5.0",
      "model_name": "HTMLModel",
      "state": {
       "layout": "IPY_MODEL_042fbbe643ff4b3c9a8befbb080d629c",
       "style": "IPY_MODEL_40505bbbf4584810ac769e6a0eaa8156",
       "value": "Epoch [33/50]: 100%|██████████| 85/85 [00:12&lt;00:00,  6.90it/s, loss=0.0224]"
      }
     },
     "77aee9363937402b8236716ba5dbd108": {
      "model_module": "@jupyter-widgets/base",
      "model_module_version": "1.2.0",
      "model_name": "LayoutModel",
      "state": {}
     },
     "77d80ed6a8ef43f9a76eeddcc44dfdca": {
      "model_module": "@jupyter-widgets/controls",
      "model_module_version": "1.5.0",
      "model_name": "HBoxModel",
      "state": {
       "children": [
        "IPY_MODEL_fd693c0e81954bf4aa1ea558d7f74aec",
        "IPY_MODEL_4a22b3c8b8924660b23a4e75bdd15ceb"
       ],
       "layout": "IPY_MODEL_1dbbe7d606924a1395fb78e75e9302df"
      }
     },
     "77f2d91465074b8baba906f9ff2a9956": {
      "model_module": "@jupyter-widgets/base",
      "model_module_version": "1.2.0",
      "model_name": "LayoutModel",
      "state": {}
     },
     "77f3676c032d44f6b9b3072bfb7c9c3a": {
      "model_module": "@jupyter-widgets/controls",
      "model_module_version": "1.5.0",
      "model_name": "FloatProgressModel",
      "state": {
       "bar_style": "success",
       "layout": "IPY_MODEL_b57adcb203ce4234bf9ed57ce1c5e524",
       "max": 43,
       "style": "IPY_MODEL_ef44218611d94022933439b5713dcb42",
       "value": 43
      }
     },
     "7843ec05f77a46a78ae0b7df855f74ab": {
      "model_module": "@jupyter-widgets/controls",
      "model_module_version": "1.5.0",
      "model_name": "HBoxModel",
      "state": {
       "children": [
        "IPY_MODEL_c6352d2f02df4b74b49ead4fba8a6768",
        "IPY_MODEL_88016e1e72034635ab9dbcc08e1ca754"
       ],
       "layout": "IPY_MODEL_2fe195541fd441f195d3c5747813fffe"
      }
     },
     "785237e0b9ea4ea4aaa12a7255d1657e": {
      "model_module": "@jupyter-widgets/controls",
      "model_module_version": "1.5.0",
      "model_name": "FloatProgressModel",
      "state": {
       "bar_style": "success",
       "layout": "IPY_MODEL_ba346bd835554dac87ab2d1515e21b8f",
       "max": 85,
       "style": "IPY_MODEL_6bbb73ccb0c44bdfa0893c7e5270b60b",
       "value": 85
      }
     },
     "7876e73f83894144a9cd3936b2898a2e": {
      "model_module": "@jupyter-widgets/base",
      "model_module_version": "1.2.0",
      "model_name": "LayoutModel",
      "state": {}
     },
     "796e3e0c148f4d42baf917f5bdaa2283": {
      "model_module": "@jupyter-widgets/controls",
      "model_module_version": "1.5.0",
      "model_name": "ProgressStyleModel",
      "state": {
       "description_width": "initial"
      }
     },
     "79810a29255a4cf7b422f96b51471a6d": {
      "model_module": "@jupyter-widgets/base",
      "model_module_version": "1.2.0",
      "model_name": "LayoutModel",
      "state": {}
     },
     "79d4ee5bc49a4f10a14c875ce989ac42": {
      "model_module": "@jupyter-widgets/base",
      "model_module_version": "1.2.0",
      "model_name": "LayoutModel",
      "state": {}
     },
     "79e9a423b32241639df605724c06cf2e": {
      "model_module": "@jupyter-widgets/controls",
      "model_module_version": "1.5.0",
      "model_name": "ProgressStyleModel",
      "state": {
       "description_width": "initial"
      }
     },
     "79f46a9841ac4e969791a84e1817d56d": {
      "model_module": "@jupyter-widgets/controls",
      "model_module_version": "1.5.0",
      "model_name": "ProgressStyleModel",
      "state": {
       "description_width": "initial"
      }
     },
     "7a0262fe369d4b0294980226d88ea2d7": {
      "model_module": "@jupyter-widgets/base",
      "model_module_version": "1.2.0",
      "model_name": "LayoutModel",
      "state": {}
     },
     "7a0a4286f812422589805fef30175339": {
      "model_module": "@jupyter-widgets/base",
      "model_module_version": "1.2.0",
      "model_name": "LayoutModel",
      "state": {}
     },
     "7a1bb72cb0f14596b8ec569b34c41fcc": {
      "model_module": "@jupyter-widgets/controls",
      "model_module_version": "1.5.0",
      "model_name": "HTMLModel",
      "state": {
       "layout": "IPY_MODEL_b6399caa1e064c3a99f5124dc4a5bc9a",
       "style": "IPY_MODEL_c8a6abe20e2c4229a22f3589962980ee",
       "value": "Epoch [8/50]: 100%|██████████| 43/43 [00:10&lt;00:00,  4.12it/s, loss=0.00549]"
      }
     },
     "7a40b505e8c4431f887e9f0d599b6714": {
      "model_module": "@jupyter-widgets/controls",
      "model_module_version": "1.5.0",
      "model_name": "HTMLModel",
      "state": {
       "layout": "IPY_MODEL_773260e1ee094db68ee49b47ea844edd",
       "style": "IPY_MODEL_e43c402c89304283a5db4e8e8aea910e",
       "value": "Epoch [33/50]: 100%|██████████| 43/43 [00:10&lt;00:00,  4.21it/s, loss=0.00229]"
      }
     },
     "7a43a99ff8674e3f8625f48963db20ec": {
      "model_module": "@jupyter-widgets/base",
      "model_module_version": "1.2.0",
      "model_name": "LayoutModel",
      "state": {}
     },
     "7ab9ddae7ed946c4868dfd458a650ab9": {
      "model_module": "@jupyter-widgets/base",
      "model_module_version": "1.2.0",
      "model_name": "LayoutModel",
      "state": {}
     },
     "7b219823ff0245009a51215a987439b3": {
      "model_module": "@jupyter-widgets/base",
      "model_module_version": "1.2.0",
      "model_name": "LayoutModel",
      "state": {}
     },
     "7b43baa921b7413682c09b53fc57f45e": {
      "model_module": "@jupyter-widgets/base",
      "model_module_version": "1.2.0",
      "model_name": "LayoutModel",
      "state": {}
     },
     "7b73c7151c6a4d7395e5ee1c27d15318": {
      "model_module": "@jupyter-widgets/controls",
      "model_module_version": "1.5.0",
      "model_name": "FloatProgressModel",
      "state": {
       "bar_style": "success",
       "layout": "IPY_MODEL_8c2e2b8f6fc6440f9c2f9ad5ac37e15c",
       "max": 85,
       "style": "IPY_MODEL_f1f4b6dfddce46898852169504bf5807",
       "value": 85
      }
     },
     "7b94c9a9ef124badb2590c9ed91847c8": {
      "model_module": "@jupyter-widgets/controls",
      "model_module_version": "1.5.0",
      "model_name": "HBoxModel",
      "state": {
       "children": [
        "IPY_MODEL_a0620ae5d2b845cf9bcb611c59a66930",
        "IPY_MODEL_8721a9f8bef34f99bed34824ce6193f8"
       ],
       "layout": "IPY_MODEL_298b57e536a44397ba3336363ca10cdf"
      }
     },
     "7c20087431154798bb201fb54640661b": {
      "model_module": "@jupyter-widgets/base",
      "model_module_version": "1.2.0",
      "model_name": "LayoutModel",
      "state": {}
     },
     "7c24ab86626e41dd823fbc5c6b89d9b0": {
      "model_module": "@jupyter-widgets/controls",
      "model_module_version": "1.5.0",
      "model_name": "HBoxModel",
      "state": {
       "children": [
        "IPY_MODEL_c8f3b1fd90d74bc59ecf857d88aa0825",
        "IPY_MODEL_d3956e785b484895b5ebba625543569e"
       ],
       "layout": "IPY_MODEL_3b9213498c404189aa9c647371c7b8c7"
      }
     },
     "7c93bd4526704a56958cedcef042b78f": {
      "model_module": "@jupyter-widgets/controls",
      "model_module_version": "1.5.0",
      "model_name": "FloatProgressModel",
      "state": {
       "bar_style": "success",
       "layout": "IPY_MODEL_eb869770803d40a5823271a00d12deae",
       "max": 85,
       "style": "IPY_MODEL_ddfbae072962414384ab98b78c38431f",
       "value": 85
      }
     },
     "7caa972971164e528114ba9cf1c923b3": {
      "model_module": "@jupyter-widgets/base",
      "model_module_version": "1.2.0",
      "model_name": "LayoutModel",
      "state": {}
     },
     "7cb0cf9d6a934a4a95680f2bd56e530a": {
      "model_module": "@jupyter-widgets/base",
      "model_module_version": "1.2.0",
      "model_name": "LayoutModel",
      "state": {}
     },
     "7d30d12449d54c729b8c19ca7e7a6def": {
      "model_module": "@jupyter-widgets/base",
      "model_module_version": "1.2.0",
      "model_name": "LayoutModel",
      "state": {}
     },
     "7df586755bf0438cb75d188a76f72da5": {
      "model_module": "@jupyter-widgets/controls",
      "model_module_version": "1.5.0",
      "model_name": "HTMLModel",
      "state": {
       "layout": "IPY_MODEL_90c68a461e374f40a4170462784342e9",
       "style": "IPY_MODEL_8d415f74aa5247e2b09a3acde3400376",
       "value": "Epoch [10/50]: 100%|██████████| 43/43 [00:10&lt;00:00,  4.12it/s, loss=0.00674]"
      }
     },
     "7dfbc73ded3b437a876227c169e119d9": {
      "model_module": "@jupyter-widgets/controls",
      "model_module_version": "1.5.0",
      "model_name": "HTMLModel",
      "state": {
       "layout": "IPY_MODEL_a93fa2d0f6414b3fb054b6344e2be0da",
       "style": "IPY_MODEL_11f757ccc1f241048cabdbdf59a9b089",
       "value": "Epoch [29/50]: 100%|██████████| 43/43 [00:10&lt;00:00,  4.21it/s, loss=0.00252]"
      }
     },
     "7e0e4bb4a83244199043004bc6b930ea": {
      "model_module": "@jupyter-widgets/base",
      "model_module_version": "1.2.0",
      "model_name": "LayoutModel",
      "state": {}
     },
     "7e4960212f364037b852b5d8e6945e0c": {
      "model_module": "@jupyter-widgets/controls",
      "model_module_version": "1.5.0",
      "model_name": "FloatProgressModel",
      "state": {
       "bar_style": "success",
       "layout": "IPY_MODEL_13c856368ab54e1187bb3c9a6ca1a63b",
       "max": 43,
       "style": "IPY_MODEL_c466d4d2a625447f86c0fc2b19f9e479",
       "value": 43
      }
     },
     "7e576d6fb5e94e4a9c695298a96d2c5e": {
      "model_module": "@jupyter-widgets/controls",
      "model_module_version": "1.5.0",
      "model_name": "ProgressStyleModel",
      "state": {
       "description_width": "initial"
      }
     },
     "7ef9e3c931e940b38dd43c32bd7d24f5": {
      "model_module": "@jupyter-widgets/base",
      "model_module_version": "1.2.0",
      "model_name": "LayoutModel",
      "state": {}
     },
     "7f20d55750bb4caeaa50fde141864a72": {
      "model_module": "@jupyter-widgets/base",
      "model_module_version": "1.2.0",
      "model_name": "LayoutModel",
      "state": {}
     },
     "7f32dc174a064387bad2b5a1ebcdc45d": {
      "model_module": "@jupyter-widgets/controls",
      "model_module_version": "1.5.0",
      "model_name": "HBoxModel",
      "state": {
       "children": [
        "IPY_MODEL_a52dd7dc5c8448ac84358c3a2b107b91",
        "IPY_MODEL_ad51cf0af2884b9995b46cbaf63f800d"
       ],
       "layout": "IPY_MODEL_c17f0739ffcb45519156957a5518c5e1"
      }
     },
     "7f4a1d2968b74189bd59cadb128f12b1": {
      "model_module": "@jupyter-widgets/base",
      "model_module_version": "1.2.0",
      "model_name": "LayoutModel",
      "state": {}
     },
     "7f913c7d05cf4f1abd21c5e89b62367a": {
      "model_module": "@jupyter-widgets/controls",
      "model_module_version": "1.5.0",
      "model_name": "ProgressStyleModel",
      "state": {
       "description_width": "initial"
      }
     },
     "7fd20ed8eb2d4b71917203b4893e6bf4": {
      "model_module": "@jupyter-widgets/controls",
      "model_module_version": "1.5.0",
      "model_name": "FloatProgressModel",
      "state": {
       "bar_style": "success",
       "layout": "IPY_MODEL_389db35d91b8496cb28d9cc772ed9a78",
       "max": 85,
       "style": "IPY_MODEL_820537e8a8ac4c609c05c72f3fe2f4b9",
       "value": 85
      }
     },
     "7fd874ea8dc14063bd0d7239806f18d8": {
      "model_module": "@jupyter-widgets/controls",
      "model_module_version": "1.5.0",
      "model_name": "HTMLModel",
      "state": {
       "layout": "IPY_MODEL_dcbb362bce5748789b878e3473c69415",
       "style": "IPY_MODEL_3bc453d0f12f43239a30beb7dbf9be88",
       "value": "Epoch [7/50]: 100%|██████████| 43/43 [00:10&lt;00:00,  4.13it/s, loss=0.00827]"
      }
     },
     "7ff4c9fde87d4ab5a36fe2c955f03a51": {
      "model_module": "@jupyter-widgets/base",
      "model_module_version": "1.2.0",
      "model_name": "LayoutModel",
      "state": {}
     },
     "8048ab8fbedc45d4ad4a24246270efc6": {
      "model_module": "@jupyter-widgets/base",
      "model_module_version": "1.2.0",
      "model_name": "LayoutModel",
      "state": {}
     },
     "805a70e4abea48ad8bc51dbcfcb14ad9": {
      "model_module": "@jupyter-widgets/controls",
      "model_module_version": "1.5.0",
      "model_name": "FloatProgressModel",
      "state": {
       "bar_style": "success",
       "layout": "IPY_MODEL_a028529a1d4c46558a2d67f7062ba4a3",
       "max": 43,
       "style": "IPY_MODEL_d1bbd31fe1d4400d9dff1685b1bcded1",
       "value": 43
      }
     },
     "8077109357c9495ba18b7c945fbafccf": {
      "model_module": "@jupyter-widgets/controls",
      "model_module_version": "1.5.0",
      "model_name": "ProgressStyleModel",
      "state": {
       "description_width": "initial"
      }
     },
     "807a2222797e400392db9b9ecf621a9a": {
      "model_module": "@jupyter-widgets/base",
      "model_module_version": "1.2.0",
      "model_name": "LayoutModel",
      "state": {}
     },
     "80d18b922539491d9b9654906a094c32": {
      "model_module": "@jupyter-widgets/controls",
      "model_module_version": "1.5.0",
      "model_name": "DescriptionStyleModel",
      "state": {
       "description_width": ""
      }
     },
     "80ee9444d7bf4404aa6567e7c03699f1": {
      "model_module": "@jupyter-widgets/controls",
      "model_module_version": "1.5.0",
      "model_name": "ProgressStyleModel",
      "state": {
       "description_width": "initial"
      }
     },
     "816e5149dc2448429876cbd3a87447fb": {
      "model_module": "@jupyter-widgets/base",
      "model_module_version": "1.2.0",
      "model_name": "LayoutModel",
      "state": {}
     },
     "817524f15ae34409b0a24bb6dcb6dbcf": {
      "model_module": "@jupyter-widgets/controls",
      "model_module_version": "1.5.0",
      "model_name": "FloatProgressModel",
      "state": {
       "bar_style": "success",
       "layout": "IPY_MODEL_5eaec668672148c097a0942002bfc085",
       "max": 85,
       "style": "IPY_MODEL_f80d42bc67864bf8bdb19e5c4b959562",
       "value": 85
      }
     },
     "81dc8ef6c98b47ccbbed63767c7a464a": {
      "model_module": "@jupyter-widgets/base",
      "model_module_version": "1.2.0",
      "model_name": "LayoutModel",
      "state": {}
     },
     "81f6d59138dd4f6688bdd725a5df5a6c": {
      "model_module": "@jupyter-widgets/controls",
      "model_module_version": "1.5.0",
      "model_name": "FloatProgressModel",
      "state": {
       "bar_style": "success",
       "layout": "IPY_MODEL_4eb7c1b60b0d4ff9bedabb8dbf78c1f0",
       "max": 85,
       "style": "IPY_MODEL_b0b448b6519342b19e19e270cf5b045b",
       "value": 85
      }
     },
     "820537e8a8ac4c609c05c72f3fe2f4b9": {
      "model_module": "@jupyter-widgets/controls",
      "model_module_version": "1.5.0",
      "model_name": "ProgressStyleModel",
      "state": {
       "description_width": "initial"
      }
     },
     "8245a480e56d4b84af25c1f8dd3f93c1": {
      "model_module": "@jupyter-widgets/base",
      "model_module_version": "1.2.0",
      "model_name": "LayoutModel",
      "state": {}
     },
     "82585ef1a61f4d65a68c24a61d9375bd": {
      "model_module": "@jupyter-widgets/controls",
      "model_module_version": "1.5.0",
      "model_name": "ProgressStyleModel",
      "state": {
       "description_width": "initial"
      }
     },
     "829669722d0d4fa5a2291265fde09f41": {
      "model_module": "@jupyter-widgets/controls",
      "model_module_version": "1.5.0",
      "model_name": "ProgressStyleModel",
      "state": {
       "description_width": "initial"
      }
     },
     "831374229fe74445bb5660f11ad6a377": {
      "model_module": "@jupyter-widgets/controls",
      "model_module_version": "1.5.0",
      "model_name": "FloatProgressModel",
      "state": {
       "bar_style": "success",
       "layout": "IPY_MODEL_aa35af54b6a64de7aa89f50fb6e456bc",
       "max": 85,
       "style": "IPY_MODEL_79f46a9841ac4e969791a84e1817d56d",
       "value": 85
      }
     },
     "83ae628268af4d3baa905c280bbb56cc": {
      "model_module": "@jupyter-widgets/base",
      "model_module_version": "1.2.0",
      "model_name": "LayoutModel",
      "state": {}
     },
     "83ca5f0edad841299bcb0e2f8d6510ef": {
      "model_module": "@jupyter-widgets/controls",
      "model_module_version": "1.5.0",
      "model_name": "DescriptionStyleModel",
      "state": {
       "description_width": ""
      }
     },
     "83ffcfb50f6d432a8c588f56c0e7c4f9": {
      "model_module": "@jupyter-widgets/controls",
      "model_module_version": "1.5.0",
      "model_name": "HTMLModel",
      "state": {
       "layout": "IPY_MODEL_d3f5f8aac3e64a2f92379347927a5ce7",
       "style": "IPY_MODEL_b08e7de48a4f4510b08ea88e2834b53a",
       "value": "Epoch [2/2]: 100%|██████████| 246/246 [00:33&lt;00:00,  7.27it/s, loss=0.0123]"
      }
     },
     "8412ebb3b01b41478e52ae5c2cc55f29": {
      "model_module": "@jupyter-widgets/controls",
      "model_module_version": "1.5.0",
      "model_name": "ProgressStyleModel",
      "state": {
       "description_width": "initial"
      }
     },
     "8450e5d298cd418d84b0ddfeed2420de": {
      "model_module": "@jupyter-widgets/base",
      "model_module_version": "1.2.0",
      "model_name": "LayoutModel",
      "state": {}
     },
     "846007a48c41410b9680539f43816870": {
      "model_module": "@jupyter-widgets/controls",
      "model_module_version": "1.5.0",
      "model_name": "DescriptionStyleModel",
      "state": {
       "description_width": ""
      }
     },
     "8475484af0bc4b80a12126317484ba86": {
      "model_module": "@jupyter-widgets/controls",
      "model_module_version": "1.5.0",
      "model_name": "ProgressStyleModel",
      "state": {
       "description_width": "initial"
      }
     },
     "8485e850e8d4478694ae5753198b9716": {
      "model_module": "@jupyter-widgets/base",
      "model_module_version": "1.2.0",
      "model_name": "LayoutModel",
      "state": {}
     },
     "84bdf2b7fa99474a889c1d4189fe46c5": {
      "model_module": "@jupyter-widgets/controls",
      "model_module_version": "1.5.0",
      "model_name": "HTMLModel",
      "state": {
       "layout": "IPY_MODEL_3ac62e2c2bd248f9831ba74fdbc60c90",
       "style": "IPY_MODEL_08af9d6af0854cf983af6e7b033d967e",
       "value": "Epoch [49/50]: 100%|██████████| 43/43 [00:10&lt;00:00,  4.05it/s, loss=0.00126]"
      }
     },
     "84cbb400a5e54c459874b6839a08fca3": {
      "model_module": "@jupyter-widgets/base",
      "model_module_version": "1.2.0",
      "model_name": "LayoutModel",
      "state": {}
     },
     "858d5f68641b45f88c125b041bde9dde": {
      "model_module": "@jupyter-widgets/base",
      "model_module_version": "1.2.0",
      "model_name": "LayoutModel",
      "state": {}
     },
     "85962d8663ff46a3a793926ebfc86283": {
      "model_module": "@jupyter-widgets/controls",
      "model_module_version": "1.5.0",
      "model_name": "HTMLModel",
      "state": {
       "layout": "IPY_MODEL_0409189d93a54ed7806828dd85b7b676",
       "style": "IPY_MODEL_a784120cb2c14b6986b049718cd9614d",
       "value": "Epoch [2/10]: 100%|██████████| 246/246 [00:34&lt;00:00,  7.15it/s, loss=0.0121]"
      }
     },
     "85d8c01a6b7d4482b95d99b080138c2a": {
      "model_module": "@jupyter-widgets/controls",
      "model_module_version": "1.5.0",
      "model_name": "HTMLModel",
      "state": {
       "layout": "IPY_MODEL_b70d91a5ea124bf8afd3f9bafa82dc66",
       "style": "IPY_MODEL_56364e3f12884761985b01c388d076dc",
       "value": "Epoch [26/50]: 100%|██████████| 43/43 [00:10&lt;00:00,  4.12it/s, loss=0.00349]"
      }
     },
     "85e3a23da07949dfa6b0165fe1eeed1f": {
      "model_module": "@jupyter-widgets/controls",
      "model_module_version": "1.5.0",
      "model_name": "ProgressStyleModel",
      "state": {
       "description_width": "initial"
      }
     },
     "85e4449f988a4490806c5e4c3e7d6d34": {
      "model_module": "@jupyter-widgets/controls",
      "model_module_version": "1.5.0",
      "model_name": "DescriptionStyleModel",
      "state": {
       "description_width": ""
      }
     },
     "8631ef5c8381456c9e60c11922e7bc5b": {
      "model_module": "@jupyter-widgets/controls",
      "model_module_version": "1.5.0",
      "model_name": "HTMLModel",
      "state": {
       "layout": "IPY_MODEL_5101a7e8361f4a399d78d770d85260c1",
       "style": "IPY_MODEL_df53de3c9f4e4db7b48af996ee96de73",
       "value": "Epoch [3/50]: 100%|██████████| 85/85 [00:04&lt;00:00, 18.63it/s, loss=0.0323]"
      }
     },
     "863acaa92bc04c18975568ec52574af0": {
      "model_module": "@jupyter-widgets/controls",
      "model_module_version": "1.5.0",
      "model_name": "HTMLModel",
      "state": {
       "layout": "IPY_MODEL_0194af5e50884a24a9e5249f9c694387",
       "style": "IPY_MODEL_13ed0dbf4ba748e5bdaf756b824579a4",
       "value": "Epoch [50/50]: 100%|██████████| 85/85 [00:03&lt;00:00, 23.77it/s, loss=0.0186]"
      }
     },
     "869ab19d8a4341ac9b3bda7180604b25": {
      "model_module": "@jupyter-widgets/base",
      "model_module_version": "1.2.0",
      "model_name": "LayoutModel",
      "state": {}
     },
     "870989d7dcad49fdb51a6be4257a8d1e": {
      "model_module": "@jupyter-widgets/base",
      "model_module_version": "1.2.0",
      "model_name": "LayoutModel",
      "state": {}
     },
     "871c11e49e084c8faeb73d7e158272d3": {
      "model_module": "@jupyter-widgets/base",
      "model_module_version": "1.2.0",
      "model_name": "LayoutModel",
      "state": {}
     },
     "8721a9f8bef34f99bed34824ce6193f8": {
      "model_module": "@jupyter-widgets/controls",
      "model_module_version": "1.5.0",
      "model_name": "HTMLModel",
      "state": {
       "layout": "IPY_MODEL_8f561cd6f53f439584174927075267cf",
       "style": "IPY_MODEL_d1ea50c4c9c243878b49170c06fd7c89",
       "value": "Epoch [24/50]: 100%|██████████| 43/43 [00:10&lt;00:00,  4.12it/s, loss=0.00254]"
      }
     },
     "878efd03010d487a938b24bf22434bb8": {
      "model_module": "@jupyter-widgets/controls",
      "model_module_version": "1.5.0",
      "model_name": "ProgressStyleModel",
      "state": {
       "description_width": "initial"
      }
     },
     "87a6e66eda40472aae805ecf0b3c86c8": {
      "model_module": "@jupyter-widgets/controls",
      "model_module_version": "1.5.0",
      "model_name": "ProgressStyleModel",
      "state": {
       "description_width": "initial"
      }
     },
     "88016e1e72034635ab9dbcc08e1ca754": {
      "model_module": "@jupyter-widgets/controls",
      "model_module_version": "1.5.0",
      "model_name": "HTMLModel",
      "state": {
       "layout": "IPY_MODEL_dfe0b02dd41d4c7e92544d82e833c4ee",
       "style": "IPY_MODEL_d701b4dc9b024a47af11876866470236",
       "value": "Epoch [1/2]: 100%|██████████| 246/246 [00:33&lt;00:00,  7.31it/s, loss=0.0241]"
      }
     },
     "885458ffac8a41b7a9dcc2ed5e599da8": {
      "model_module": "@jupyter-widgets/controls",
      "model_module_version": "1.5.0",
      "model_name": "HBoxModel",
      "state": {
       "children": [
        "IPY_MODEL_6f8152f347ac4d9a9b9eb8dbbc2a7b0a",
        "IPY_MODEL_f9a4514e047f44c1acf730c7083f28ce"
       ],
       "layout": "IPY_MODEL_776676fb75f2470ab5d85e3c41005169"
      }
     },
     "88834e3d76c14eb88ede089fd5b2b723": {
      "model_module": "@jupyter-widgets/base",
      "model_module_version": "1.2.0",
      "model_name": "LayoutModel",
      "state": {}
     },
     "893c20c00d10425d95fc565d0ee9c5c1": {
      "model_module": "@jupyter-widgets/controls",
      "model_module_version": "1.5.0",
      "model_name": "ProgressStyleModel",
      "state": {
       "description_width": "initial"
      }
     },
     "89704190ba4c42748982a184671b846c": {
      "model_module": "@jupyter-widgets/controls",
      "model_module_version": "1.5.0",
      "model_name": "HTMLModel",
      "state": {
       "layout": "IPY_MODEL_89ea300311834652b357db6e02e18e78",
       "style": "IPY_MODEL_3e7d3e129b56406b8d2ce71fba5b63f3",
       "value": "Epoch [17/50]: 100%|██████████| 43/43 [00:10&lt;00:00,  4.12it/s, loss=0.00343]"
      }
     },
     "89a21689810a413ba0796706d74917bd": {
      "model_module": "@jupyter-widgets/controls",
      "model_module_version": "1.5.0",
      "model_name": "FloatProgressModel",
      "state": {
       "bar_style": "success",
       "layout": "IPY_MODEL_1e9c35d848e74b73bca928cd96aa4b9f",
       "max": 85,
       "style": "IPY_MODEL_64a843077d2b4920ad2f41710abd61e5",
       "value": 85
      }
     },
     "89a589ca0c21458eab068dddf4393eab": {
      "model_module": "@jupyter-widgets/controls",
      "model_module_version": "1.5.0",
      "model_name": "HBoxModel",
      "state": {
       "children": [
        "IPY_MODEL_228a7fca063c47ce9a73ea745c46c3b5",
        "IPY_MODEL_5432dc55944741c4972040503b64d9a7"
       ],
       "layout": "IPY_MODEL_88834e3d76c14eb88ede089fd5b2b723"
      }
     },
     "89ea300311834652b357db6e02e18e78": {
      "model_module": "@jupyter-widgets/base",
      "model_module_version": "1.2.0",
      "model_name": "LayoutModel",
      "state": {}
     },
     "8a3fffaf739b454893d6892215f99afa": {
      "model_module": "@jupyter-widgets/controls",
      "model_module_version": "1.5.0",
      "model_name": "DescriptionStyleModel",
      "state": {
       "description_width": ""
      }
     },
     "8a53ed395bd541fc88ee5b1a0ebce605": {
      "model_module": "@jupyter-widgets/controls",
      "model_module_version": "1.5.0",
      "model_name": "HTMLModel",
      "state": {
       "layout": "IPY_MODEL_478d9e6d9a5d4faeb01f97d526166e49",
       "style": "IPY_MODEL_201c9800f446426abe3cc5e8d4ea6769",
       "value": "Epoch [46/50]: 100%|██████████| 43/43 [00:10&lt;00:00,  4.13it/s, loss=0.0011]"
      }
     },
     "8a6a6bdc0ae34201b480a2c45eebf6df": {
      "model_module": "@jupyter-widgets/base",
      "model_module_version": "1.2.0",
      "model_name": "LayoutModel",
      "state": {}
     },
     "8a7a1bae446947fbb6937f4a2d670354": {
      "model_module": "@jupyter-widgets/controls",
      "model_module_version": "1.5.0",
      "model_name": "HTMLModel",
      "state": {
       "layout": "IPY_MODEL_c2ca2fd294a144f3bfcfdd61443f37f4",
       "style": "IPY_MODEL_631d679559e64961b88541299d58c8d4",
       "value": "Epoch [40/50]: 100%|██████████| 43/43 [00:10&lt;00:00,  4.22it/s, loss=0.00153]"
      }
     },
     "8abc4acdbbc847d88340754600e3a90c": {
      "model_module": "@jupyter-widgets/base",
      "model_module_version": "1.2.0",
      "model_name": "LayoutModel",
      "state": {}
     },
     "8acb8d91865944f1bc886b750658e268": {
      "model_module": "@jupyter-widgets/controls",
      "model_module_version": "1.5.0",
      "model_name": "ProgressStyleModel",
      "state": {
       "description_width": "initial"
      }
     },
     "8ae7e7f4214547c6b38b7ae6c68ec066": {
      "model_module": "@jupyter-widgets/controls",
      "model_module_version": "1.5.0",
      "model_name": "HBoxModel",
      "state": {
       "children": [
        "IPY_MODEL_ea4010b7c45e49fd83fe3cd83d9fe6c7",
        "IPY_MODEL_4eddb8cbe17945f0b827ff65d5594cfa"
       ],
       "layout": "IPY_MODEL_0c24a3f38b094364b39e79869eb70da9"
      }
     },
     "8afaa85cef32460c8ca288a7e5d8bf43": {
      "model_module": "@jupyter-widgets/controls",
      "model_module_version": "1.5.0",
      "model_name": "HTMLModel",
      "state": {
       "layout": "IPY_MODEL_ee7bf34cdfc3470297d998534524d91d",
       "style": "IPY_MODEL_846007a48c41410b9680539f43816870",
       "value": "Epoch [2/50]: 100%|██████████| 43/43 [00:10&lt;00:00,  4.08it/s, loss=0.0355]"
      }
     },
     "8b9d5a2fa71a4966aa1d037dd06d6e86": {
      "model_module": "@jupyter-widgets/base",
      "model_module_version": "1.2.0",
      "model_name": "LayoutModel",
      "state": {}
     },
     "8c2e2b8f6fc6440f9c2f9ad5ac37e15c": {
      "model_module": "@jupyter-widgets/base",
      "model_module_version": "1.2.0",
      "model_name": "LayoutModel",
      "state": {}
     },
     "8c59d5c4c8e0430181ea0a23f4af7a84": {
      "model_module": "@jupyter-widgets/base",
      "model_module_version": "1.2.0",
      "model_name": "LayoutModel",
      "state": {}
     },
     "8cd78ceba12245b79fc0ddf04650bb86": {
      "model_module": "@jupyter-widgets/base",
      "model_module_version": "1.2.0",
      "model_name": "LayoutModel",
      "state": {}
     },
     "8d415f74aa5247e2b09a3acde3400376": {
      "model_module": "@jupyter-widgets/controls",
      "model_module_version": "1.5.0",
      "model_name": "DescriptionStyleModel",
      "state": {
       "description_width": ""
      }
     },
     "8db7b1f5641941f4a62bf3d66407a210": {
      "model_module": "@jupyter-widgets/controls",
      "model_module_version": "1.5.0",
      "model_name": "ProgressStyleModel",
      "state": {
       "description_width": "initial"
      }
     },
     "8df896dfa86a4ba2950385a32e56ca60": {
      "model_module": "@jupyter-widgets/controls",
      "model_module_version": "1.5.0",
      "model_name": "DescriptionStyleModel",
      "state": {
       "description_width": ""
      }
     },
     "8e5537a0ed2049e4b7bc841b8806438f": {
      "model_module": "@jupyter-widgets/base",
      "model_module_version": "1.2.0",
      "model_name": "LayoutModel",
      "state": {}
     },
     "8f2537bb7822425bb5fef2ef9e4e9f67": {
      "model_module": "@jupyter-widgets/base",
      "model_module_version": "1.2.0",
      "model_name": "LayoutModel",
      "state": {}
     },
     "8f2573b6ad384c9fa5a368d18664ebd4": {
      "model_module": "@jupyter-widgets/base",
      "model_module_version": "1.2.0",
      "model_name": "LayoutModel",
      "state": {}
     },
     "8f25a014b89740518060cdfb1e87af15": {
      "model_module": "@jupyter-widgets/base",
      "model_module_version": "1.2.0",
      "model_name": "LayoutModel",
      "state": {}
     },
     "8f486faa6f2c4327a49fd631a0f83649": {
      "model_module": "@jupyter-widgets/controls",
      "model_module_version": "1.5.0",
      "model_name": "ProgressStyleModel",
      "state": {
       "description_width": "initial"
      }
     },
     "8f561cd6f53f439584174927075267cf": {
      "model_module": "@jupyter-widgets/base",
      "model_module_version": "1.2.0",
      "model_name": "LayoutModel",
      "state": {}
     },
     "8f58d76683dc4610a4088a12095b2bc4": {
      "model_module": "@jupyter-widgets/base",
      "model_module_version": "1.2.0",
      "model_name": "LayoutModel",
      "state": {}
     },
     "8fc4fc1484194a58865547bb54aa6090": {
      "model_module": "@jupyter-widgets/controls",
      "model_module_version": "1.5.0",
      "model_name": "DescriptionStyleModel",
      "state": {
       "description_width": ""
      }
     },
     "8fefb2ca93484aac9683ee1e2164e38a": {
      "model_module": "@jupyter-widgets/controls",
      "model_module_version": "1.5.0",
      "model_name": "FloatProgressModel",
      "state": {
       "bar_style": "success",
       "layout": "IPY_MODEL_e65558c807b344909a86fb3b21d00493",
       "max": 246,
       "style": "IPY_MODEL_0e39d142c4f64c619947b7fbd0b0f7e0",
       "value": 246
      }
     },
     "90c68a461e374f40a4170462784342e9": {
      "model_module": "@jupyter-widgets/base",
      "model_module_version": "1.2.0",
      "model_name": "LayoutModel",
      "state": {}
     },
     "914c12fd1cc3430bafedca5eb671cc9e": {
      "model_module": "@jupyter-widgets/controls",
      "model_module_version": "1.5.0",
      "model_name": "HTMLModel",
      "state": {
       "layout": "IPY_MODEL_4d9863162cb04534adcbd7e552afe9fe",
       "style": "IPY_MODEL_c063446eeb3f4adf86448e7c4f9c7cd0",
       "value": "Epoch [38/50]: 100%|██████████| 85/85 [00:03&lt;00:00, 23.88it/s, loss=0.0172]"
      }
     },
     "91edb2d591104f8dbd1c4112ba20eb66": {
      "model_module": "@jupyter-widgets/controls",
      "model_module_version": "1.5.0",
      "model_name": "FloatProgressModel",
      "state": {
       "bar_style": "success",
       "layout": "IPY_MODEL_77aee9363937402b8236716ba5dbd108",
       "max": 43,
       "style": "IPY_MODEL_2e3b5bb354ec49c9b9b718a3363a1cf1",
       "value": 43
      }
     },
     "91f5b26a545f4e47a6ec6b7e1db36b90": {
      "model_module": "@jupyter-widgets/controls",
      "model_module_version": "1.5.0",
      "model_name": "DescriptionStyleModel",
      "state": {
       "description_width": ""
      }
     },
     "927f0996aa424f3b9998c98b613ebd09": {
      "model_module": "@jupyter-widgets/base",
      "model_module_version": "1.2.0",
      "model_name": "LayoutModel",
      "state": {}
     },
     "93548c927ceb41feac9a9a8d1d93e675": {
      "model_module": "@jupyter-widgets/controls",
      "model_module_version": "1.5.0",
      "model_name": "ProgressStyleModel",
      "state": {
       "description_width": "initial"
      }
     },
     "935ef7c587b14957a863d571ae06f679": {
      "model_module": "@jupyter-widgets/controls",
      "model_module_version": "1.5.0",
      "model_name": "DescriptionStyleModel",
      "state": {
       "description_width": ""
      }
     },
     "93ac66b03c3a4635b5ce38113774b21f": {
      "model_module": "@jupyter-widgets/base",
      "model_module_version": "1.2.0",
      "model_name": "LayoutModel",
      "state": {}
     },
     "93d8c680dfef4d2eb3aad746d8c7beef": {
      "model_module": "@jupyter-widgets/base",
      "model_module_version": "1.2.0",
      "model_name": "LayoutModel",
      "state": {}
     },
     "940ebb8855ce4e6aa2c03761523fb9ea": {
      "model_module": "@jupyter-widgets/controls",
      "model_module_version": "1.5.0",
      "model_name": "HBoxModel",
      "state": {
       "children": [
        "IPY_MODEL_b22a6aee0f0c4f7bbcc5b3e7f3a383ca",
        "IPY_MODEL_218b9f13bd70408d85d56fa5f6062db2"
       ],
       "layout": "IPY_MODEL_9c3673be90714cd59e0fbe56298d5a38"
      }
     },
     "948f79becff34cfe89691eb88a5e0ed0": {
      "model_module": "@jupyter-widgets/controls",
      "model_module_version": "1.5.0",
      "model_name": "FloatProgressModel",
      "state": {
       "bar_style": "success",
       "layout": "IPY_MODEL_9f01c13f6258438ebc889ad3976a8c58",
       "max": 43,
       "style": "IPY_MODEL_93548c927ceb41feac9a9a8d1d93e675",
       "value": 43
      }
     },
     "953d1f30b24245f49b7e4fa7d3003dc7": {
      "model_module": "@jupyter-widgets/controls",
      "model_module_version": "1.5.0",
      "model_name": "ProgressStyleModel",
      "state": {
       "description_width": "initial"
      }
     },
     "9573b82268ba403cacdcf59df9c678ee": {
      "model_module": "@jupyter-widgets/controls",
      "model_module_version": "1.5.0",
      "model_name": "ProgressStyleModel",
      "state": {
       "description_width": "initial"
      }
     },
     "95a89957481f4c31bac06d0976fd5d70": {
      "model_module": "@jupyter-widgets/controls",
      "model_module_version": "1.5.0",
      "model_name": "HTMLModel",
      "state": {
       "layout": "IPY_MODEL_4d3cd4dd42d949699ded519c157c9923",
       "style": "IPY_MODEL_b58ae775b63940079131471df6e99cfb",
       "value": "Epoch [34/50]: 100%|██████████| 43/43 [00:10&lt;00:00,  4.22it/s, loss=0.00357]"
      }
     },
     "95ae8df302ef4a53ae9c14700b4db53e": {
      "model_module": "@jupyter-widgets/controls",
      "model_module_version": "1.5.0",
      "model_name": "DescriptionStyleModel",
      "state": {
       "description_width": ""
      }
     },
     "95d872fb4b074ae2bdc846711df5cb5d": {
      "model_module": "@jupyter-widgets/base",
      "model_module_version": "1.2.0",
      "model_name": "LayoutModel",
      "state": {}
     },
     "95e30fc4043e4022a17c54a389d09cc1": {
      "model_module": "@jupyter-widgets/base",
      "model_module_version": "1.2.0",
      "model_name": "LayoutModel",
      "state": {}
     },
     "960fb380ca434bb4945a3434ec95bc04": {
      "model_module": "@jupyter-widgets/controls",
      "model_module_version": "1.5.0",
      "model_name": "HTMLModel",
      "state": {
       "layout": "IPY_MODEL_000bb6d5ac65481694fb8aca1db85be5",
       "style": "IPY_MODEL_c3473147fa5d46d79915bc768a3ca5a3",
       "value": "Epoch [2/50]: 100%|██████████| 85/85 [00:04&lt;00:00, 18.56it/s, loss=0.0914]"
      }
     },
     "96446fe4001445e7a06d387a76665b08": {
      "model_module": "@jupyter-widgets/base",
      "model_module_version": "1.2.0",
      "model_name": "LayoutModel",
      "state": {}
     },
     "9665668fa99b482c8db12326705ccb72": {
      "model_module": "@jupyter-widgets/controls",
      "model_module_version": "1.5.0",
      "model_name": "HBoxModel",
      "state": {
       "children": [
        "IPY_MODEL_bd44f263240b4afb86fbe2a6caa34ada",
        "IPY_MODEL_c6082938dc684b42b02e33efb506429d"
       ],
       "layout": "IPY_MODEL_1955c0f6b2a74797b6d606aa841e0f8a"
      }
     },
     "967d8402f1184efeae793556d8209018": {
      "model_module": "@jupyter-widgets/base",
      "model_module_version": "1.2.0",
      "model_name": "LayoutModel",
      "state": {}
     },
     "96844da88a5140d2bcd7adff944b7832": {
      "model_module": "@jupyter-widgets/controls",
      "model_module_version": "1.5.0",
      "model_name": "HTMLModel",
      "state": {
       "layout": "IPY_MODEL_f39797579bce4c86ac0b759df43d02d1",
       "style": "IPY_MODEL_f71e9a2877b744039ed7e8cac3525d3b",
       "value": "Epoch [27/50]: 100%|██████████| 43/43 [00:10&lt;00:00,  4.21it/s, loss=0.00219]"
      }
     },
     "96accba4233a460d9395d32f5324a561": {
      "model_module": "@jupyter-widgets/base",
      "model_module_version": "1.2.0",
      "model_name": "LayoutModel",
      "state": {}
     },
     "96dbbfa248d24ca59f9afaf014d57c90": {
      "model_module": "@jupyter-widgets/base",
      "model_module_version": "1.2.0",
      "model_name": "LayoutModel",
      "state": {}
     },
     "9744bb29385545bd89bbbdd612b5257a": {
      "model_module": "@jupyter-widgets/controls",
      "model_module_version": "1.5.0",
      "model_name": "HBoxModel",
      "state": {
       "children": [
        "IPY_MODEL_ef9588824d34441da418b747dd8b2b93",
        "IPY_MODEL_a34194b7e9fd44f1a59b15a6413f7183"
       ],
       "layout": "IPY_MODEL_051e2ce9aee84c16a8858a8f0cb32d98"
      }
     },
     "97948d44067e4b288a9c52c6a1a2d77c": {
      "model_module": "@jupyter-widgets/base",
      "model_module_version": "1.2.0",
      "model_name": "LayoutModel",
      "state": {}
     },
     "97f16cb1887f4f96b9a46a18f334a60b": {
      "model_module": "@jupyter-widgets/controls",
      "model_module_version": "1.5.0",
      "model_name": "FloatProgressModel",
      "state": {
       "bar_style": "success",
       "layout": "IPY_MODEL_927f0996aa424f3b9998c98b613ebd09",
       "max": 85,
       "style": "IPY_MODEL_2d9989193cbd4394958b027324b58b09",
       "value": 85
      }
     },
     "9811fb8dfca2402382b78d80662caf82": {
      "model_module": "@jupyter-widgets/base",
      "model_module_version": "1.2.0",
      "model_name": "LayoutModel",
      "state": {}
     },
     "98ae8d67d2904880b0443163159e52c8": {
      "model_module": "@jupyter-widgets/controls",
      "model_module_version": "1.5.0",
      "model_name": "HTMLModel",
      "state": {
       "layout": "IPY_MODEL_c025ff7a9d0941e7a68af5a7a2638257",
       "style": "IPY_MODEL_2094ab9307b94b829bdf4e42c656f83e",
       "value": "Epoch [16/50]: 100%|██████████| 85/85 [00:04&lt;00:00, 19.37it/s, loss=0.032]"
      }
     },
     "98b166857f5e45518b669f45384122df": {
      "model_module": "@jupyter-widgets/controls",
      "model_module_version": "1.5.0",
      "model_name": "ProgressStyleModel",
      "state": {
       "description_width": "initial"
      }
     },
     "98bf0bf5e3ea433384e00d6aa242a397": {
      "model_module": "@jupyter-widgets/base",
      "model_module_version": "1.2.0",
      "model_name": "LayoutModel",
      "state": {}
     },
     "991872c549cd4680b00530c8f0fd835c": {
      "model_module": "@jupyter-widgets/controls",
      "model_module_version": "1.5.0",
      "model_name": "HTMLModel",
      "state": {
       "layout": "IPY_MODEL_cd0d856a8cb5467aa3f56cd99c0290b2",
       "style": "IPY_MODEL_b86933047b6b4d0ab91de992862262c7",
       "value": "Epoch [18/50]: 100%|██████████| 43/43 [00:10&lt;00:00,  4.12it/s, loss=0.00377]"
      }
     },
     "9953aa84812847539b064d43f4650216": {
      "model_module": "@jupyter-widgets/controls",
      "model_module_version": "1.5.0",
      "model_name": "DescriptionStyleModel",
      "state": {
       "description_width": ""
      }
     },
     "9a28763b63674afbb7e0bcc25aad33a1": {
      "model_module": "@jupyter-widgets/base",
      "model_module_version": "1.2.0",
      "model_name": "LayoutModel",
      "state": {}
     },
     "9a2b31a950f34d91a5899dd26478a973": {
      "model_module": "@jupyter-widgets/controls",
      "model_module_version": "1.5.0",
      "model_name": "DescriptionStyleModel",
      "state": {
       "description_width": ""
      }
     },
     "9a4d2386bbf347db971a29f390d5104e": {
      "model_module": "@jupyter-widgets/controls",
      "model_module_version": "1.5.0",
      "model_name": "HTMLModel",
      "state": {
       "layout": "IPY_MODEL_7d30d12449d54c729b8c19ca7e7a6def",
       "style": "IPY_MODEL_49bf74a6796f4b9e91d0f5a442606bf6",
       "value": "Epoch [32/50]: 100%|██████████| 85/85 [00:03&lt;00:00, 23.80it/s, loss=0.0195]"
      }
     },
     "9a7be95ad5034cb8b5e4c4116e6e8ef8": {
      "model_module": "@jupyter-widgets/controls",
      "model_module_version": "1.5.0",
      "model_name": "DescriptionStyleModel",
      "state": {
       "description_width": ""
      }
     },
     "9a83fdae3ab14f11973e360a58f70737": {
      "model_module": "@jupyter-widgets/controls",
      "model_module_version": "1.5.0",
      "model_name": "DescriptionStyleModel",
      "state": {
       "description_width": ""
      }
     },
     "9ae314fdba6b491387f31c2bbf5f798d": {
      "model_module": "@jupyter-widgets/base",
      "model_module_version": "1.2.0",
      "model_name": "LayoutModel",
      "state": {}
     },
     "9b341eea010e4ed8a4703622983c1a4e": {
      "model_module": "@jupyter-widgets/base",
      "model_module_version": "1.2.0",
      "model_name": "LayoutModel",
      "state": {}
     },
     "9b83fc0fd2a543ce92a923516482c864": {
      "model_module": "@jupyter-widgets/controls",
      "model_module_version": "1.5.0",
      "model_name": "DescriptionStyleModel",
      "state": {
       "description_width": ""
      }
     },
     "9be2f994771642f493dfa70d85ee0189": {
      "model_module": "@jupyter-widgets/base",
      "model_module_version": "1.2.0",
      "model_name": "LayoutModel",
      "state": {}
     },
     "9c129cca21364fc18fe224ae9d2c6361": {
      "model_module": "@jupyter-widgets/base",
      "model_module_version": "1.2.0",
      "model_name": "LayoutModel",
      "state": {}
     },
     "9c145c788b424d029e7b1ab84aeec0a0": {
      "model_module": "@jupyter-widgets/base",
      "model_module_version": "1.2.0",
      "model_name": "LayoutModel",
      "state": {}
     },
     "9c3673be90714cd59e0fbe56298d5a38": {
      "model_module": "@jupyter-widgets/base",
      "model_module_version": "1.2.0",
      "model_name": "LayoutModel",
      "state": {}
     },
     "9c3e024d3d034490a83c9b69b4737d04": {
      "model_module": "@jupyter-widgets/controls",
      "model_module_version": "1.5.0",
      "model_name": "FloatProgressModel",
      "state": {
       "bar_style": "success",
       "layout": "IPY_MODEL_07ff6847f48845068189aceec8533b40",
       "max": 85,
       "style": "IPY_MODEL_05cf640944dd4f0cbd54b18471fed9e4",
       "value": 85
      }
     },
     "9c55e3cf216f47bc82ffc03e81e28f19": {
      "model_module": "@jupyter-widgets/controls",
      "model_module_version": "1.5.0",
      "model_name": "FloatProgressModel",
      "state": {
       "bar_style": "success",
       "layout": "IPY_MODEL_95d872fb4b074ae2bdc846711df5cb5d",
       "max": 246,
       "style": "IPY_MODEL_aee9c09d3ca24fa786916434e3fe2a3a",
       "value": 246
      }
     },
     "9c6bac12a7594f58b97d52765cb13f66": {
      "model_module": "@jupyter-widgets/controls",
      "model_module_version": "1.5.0",
      "model_name": "HBoxModel",
      "state": {
       "children": [
        "IPY_MODEL_74ffed8831af4a6cabef12997f12c2c8",
        "IPY_MODEL_5a139c84470c4e9b8369f2cf0d3536fb"
       ],
       "layout": "IPY_MODEL_667105cb7d9349b89264b82c7ee786e9"
      }
     },
     "9cbe81bc0d3f40ebb8a7bee9423454ed": {
      "model_module": "@jupyter-widgets/controls",
      "model_module_version": "1.5.0",
      "model_name": "FloatProgressModel",
      "state": {
       "bar_style": "success",
       "layout": "IPY_MODEL_c6c7f401f4a44ce9862cad254d818876",
       "max": 85,
       "style": "IPY_MODEL_7757af2331c9498d8f327a32c7785897",
       "value": 85
      }
     },
     "9d0b85eaedfc4cd6ad387b77e10d8a50": {
      "model_module": "@jupyter-widgets/controls",
      "model_module_version": "1.5.0",
      "model_name": "HBoxModel",
      "state": {
       "children": [
        "IPY_MODEL_b809ab99c1ee4cec86248cd3283f4fc3",
        "IPY_MODEL_7110d8cf84d34e51a4bba252a89056e0"
       ],
       "layout": "IPY_MODEL_19efd6e16a8a4353bdcbeeb9ecd18633"
      }
     },
     "9d6329d010aa4d368722796ce8ed347e": {
      "model_module": "@jupyter-widgets/controls",
      "model_module_version": "1.5.0",
      "model_name": "FloatProgressModel",
      "state": {
       "bar_style": "success",
       "layout": "IPY_MODEL_e0a0a1b3784448f5a90409a5056c6595",
       "max": 43,
       "style": "IPY_MODEL_d1cb6a08958e4cdcb4d561490ec4f8d0",
       "value": 43
      }
     },
     "9ebd86bd1361426ea622e9496f1c3636": {
      "model_module": "@jupyter-widgets/controls",
      "model_module_version": "1.5.0",
      "model_name": "HBoxModel",
      "state": {
       "children": [
        "IPY_MODEL_ee26958ac8714e4aa6b4c9fa2d8782c0",
        "IPY_MODEL_61375bb7bde2446c9062cf8c79847818"
       ],
       "layout": "IPY_MODEL_76095c8038524d6b9007ebd1ad05ea2d"
      }
     },
     "9f01c13f6258438ebc889ad3976a8c58": {
      "model_module": "@jupyter-widgets/base",
      "model_module_version": "1.2.0",
      "model_name": "LayoutModel",
      "state": {}
     },
     "9f53f6487ab14d84932a29eff2934d2d": {
      "model_module": "@jupyter-widgets/controls",
      "model_module_version": "1.5.0",
      "model_name": "FloatProgressModel",
      "state": {
       "bar_style": "success",
       "layout": "IPY_MODEL_d1e3d8f26502477b8556f02bdffeb49e",
       "max": 85,
       "style": "IPY_MODEL_5a4ee121147d4575a5e471c74d0ef21d",
       "value": 85
      }
     },
     "a028529a1d4c46558a2d67f7062ba4a3": {
      "model_module": "@jupyter-widgets/base",
      "model_module_version": "1.2.0",
      "model_name": "LayoutModel",
      "state": {}
     },
     "a05ba9e3dcfe42b384e0f50d1b1d5781": {
      "model_module": "@jupyter-widgets/controls",
      "model_module_version": "1.5.0",
      "model_name": "DescriptionStyleModel",
      "state": {
       "description_width": ""
      }
     },
     "a0620ae5d2b845cf9bcb611c59a66930": {
      "model_module": "@jupyter-widgets/controls",
      "model_module_version": "1.5.0",
      "model_name": "FloatProgressModel",
      "state": {
       "bar_style": "success",
       "layout": "IPY_MODEL_61dda33c362041bba382827cb8e7db73",
       "max": 43,
       "style": "IPY_MODEL_a849ac9a37c54565a8ba4e1d4e363f6e",
       "value": 43
      }
     },
     "a1a7a2a508b64369961b66f1b41dc711": {
      "model_module": "@jupyter-widgets/controls",
      "model_module_version": "1.5.0",
      "model_name": "ProgressStyleModel",
      "state": {
       "description_width": "initial"
      }
     },
     "a1bd48b37c0a44e4a22c8467de8133f5": {
      "model_module": "@jupyter-widgets/controls",
      "model_module_version": "1.5.0",
      "model_name": "HBoxModel",
      "state": {
       "children": [
        "IPY_MODEL_599713e3844d4b148828bbbb77caff36",
        "IPY_MODEL_5c8f45dd72e04a1cbe44445185e8d3d2"
       ],
       "layout": "IPY_MODEL_25c198f8211d4cdbb76fd4f687d4de24"
      }
     },
     "a205becf92e4404299ab116f2b8cc9e2": {
      "model_module": "@jupyter-widgets/base",
      "model_module_version": "1.2.0",
      "model_name": "LayoutModel",
      "state": {}
     },
     "a34194b7e9fd44f1a59b15a6413f7183": {
      "model_module": "@jupyter-widgets/controls",
      "model_module_version": "1.5.0",
      "model_name": "HTMLModel",
      "state": {
       "layout": "IPY_MODEL_25cb1bea19024528a446261bbb72b18e",
       "style": "IPY_MODEL_91f5b26a545f4e47a6ec6b7e1db36b90",
       "value": "Epoch [17/50]: 100%|██████████| 85/85 [00:03&lt;00:00, 21.47it/s, loss=0.0302]"
      }
     },
     "a358c6c1fee44aa5915c9a1d09862444": {
      "model_module": "@jupyter-widgets/controls",
      "model_module_version": "1.5.0",
      "model_name": "ProgressStyleModel",
      "state": {
       "description_width": "initial"
      }
     },
     "a36efbaa5d05407683afcb85645d47ee": {
      "model_module": "@jupyter-widgets/base",
      "model_module_version": "1.2.0",
      "model_name": "LayoutModel",
      "state": {}
     },
     "a374ad4025be44f9a2eaf6f476d6c88a": {
      "model_module": "@jupyter-widgets/base",
      "model_module_version": "1.2.0",
      "model_name": "LayoutModel",
      "state": {}
     },
     "a3826581fec7463a960f62472c800c35": {
      "model_module": "@jupyter-widgets/controls",
      "model_module_version": "1.5.0",
      "model_name": "HTMLModel",
      "state": {
       "layout": "IPY_MODEL_1866ec535d244baabd818d1f80e3e7ed",
       "style": "IPY_MODEL_95ae8df302ef4a53ae9c14700b4db53e",
       "value": "Epoch [50/50]: 100%|██████████| 43/43 [00:10&lt;00:00,  4.09it/s, loss=0.00104]"
      }
     },
     "a3cc9d2ca5ef4b688893036c44bc91ff": {
      "model_module": "@jupyter-widgets/base",
      "model_module_version": "1.2.0",
      "model_name": "LayoutModel",
      "state": {}
     },
     "a401eabb6d4c4d39b590fc609de38494": {
      "model_module": "@jupyter-widgets/controls",
      "model_module_version": "1.5.0",
      "model_name": "FloatProgressModel",
      "state": {
       "bar_style": "success",
       "layout": "IPY_MODEL_7caa972971164e528114ba9cf1c923b3",
       "max": 43,
       "style": "IPY_MODEL_735001bf00794f78a84c35f384771f9e",
       "value": 43
      }
     },
     "a40869fa1a5f4a03b7b77d646a240946": {
      "model_module": "@jupyter-widgets/base",
      "model_module_version": "1.2.0",
      "model_name": "LayoutModel",
      "state": {}
     },
     "a40f9c11642947718a3f0942379e70a9": {
      "model_module": "@jupyter-widgets/controls",
      "model_module_version": "1.5.0",
      "model_name": "HTMLModel",
      "state": {
       "layout": "IPY_MODEL_a703a4483264420c8446be70c9bb4ac8",
       "style": "IPY_MODEL_04247dc129444d1f8717dc4744b7ee96",
       "value": "Epoch [34/50]: 100%|██████████| 85/85 [00:03&lt;00:00, 23.89it/s, loss=0.0179]"
      }
     },
     "a4578c6dabb242f7892a95a225778166": {
      "model_module": "@jupyter-widgets/controls",
      "model_module_version": "1.5.0",
      "model_name": "DescriptionStyleModel",
      "state": {
       "description_width": ""
      }
     },
     "a4cc795aabb94690a052fdcc5328da18": {
      "model_module": "@jupyter-widgets/base",
      "model_module_version": "1.2.0",
      "model_name": "LayoutModel",
      "state": {}
     },
     "a52dd7dc5c8448ac84358c3a2b107b91": {
      "model_module": "@jupyter-widgets/controls",
      "model_module_version": "1.5.0",
      "model_name": "FloatProgressModel",
      "state": {
       "bar_style": "success",
       "layout": "IPY_MODEL_ec2915b138604e42a460af69ddbb4a77",
       "max": 85,
       "style": "IPY_MODEL_37c7b85b5b8c4c51ba412f529dea762d",
       "value": 85
      }
     },
     "a5423b79b7e84538a3696c203b4f4ce8": {
      "model_module": "@jupyter-widgets/base",
      "model_module_version": "1.2.0",
      "model_name": "LayoutModel",
      "state": {}
     },
     "a66207afd7244451bee98e73bed12575": {
      "model_module": "@jupyter-widgets/controls",
      "model_module_version": "1.5.0",
      "model_name": "FloatProgressModel",
      "state": {
       "bar_style": "success",
       "layout": "IPY_MODEL_d061e018aadf4d8086395bb0f1bd42d4",
       "max": 85,
       "style": "IPY_MODEL_efbb747e78e146b7842136e47f9a7c39",
       "value": 85
      }
     },
     "a6bf0d572c034b81b9ffce3d5cb68bcf": {
      "model_module": "@jupyter-widgets/base",
      "model_module_version": "1.2.0",
      "model_name": "LayoutModel",
      "state": {}
     },
     "a703397a75a54228847e30e9b4c77397": {
      "model_module": "@jupyter-widgets/controls",
      "model_module_version": "1.5.0",
      "model_name": "HBoxModel",
      "state": {
       "children": [
        "IPY_MODEL_1ab003602df74f229f1bd4b09d9250db",
        "IPY_MODEL_f3e51df856a741f99138629a4d8c4d6c"
       ],
       "layout": "IPY_MODEL_05d118b528a54fb8bfc61b0a7ec01926"
      }
     },
     "a703a4483264420c8446be70c9bb4ac8": {
      "model_module": "@jupyter-widgets/base",
      "model_module_version": "1.2.0",
      "model_name": "LayoutModel",
      "state": {}
     },
     "a72a865d76e44aeab8fca18975d11e66": {
      "model_module": "@jupyter-widgets/base",
      "model_module_version": "1.2.0",
      "model_name": "LayoutModel",
      "state": {}
     },
     "a784120cb2c14b6986b049718cd9614d": {
      "model_module": "@jupyter-widgets/controls",
      "model_module_version": "1.5.0",
      "model_name": "DescriptionStyleModel",
      "state": {
       "description_width": ""
      }
     },
     "a7b134a84c084e29b41b124358326222": {
      "model_module": "@jupyter-widgets/controls",
      "model_module_version": "1.5.0",
      "model_name": "ProgressStyleModel",
      "state": {
       "description_width": "initial"
      }
     },
     "a7c5bc97dd0e4eec90a54715e9ba9469": {
      "model_module": "@jupyter-widgets/base",
      "model_module_version": "1.2.0",
      "model_name": "LayoutModel",
      "state": {}
     },
     "a7cb73ea52094d2cbbafff01e8b84cd5": {
      "model_module": "@jupyter-widgets/controls",
      "model_module_version": "1.5.0",
      "model_name": "DescriptionStyleModel",
      "state": {
       "description_width": ""
      }
     },
     "a849ac9a37c54565a8ba4e1d4e363f6e": {
      "model_module": "@jupyter-widgets/controls",
      "model_module_version": "1.5.0",
      "model_name": "ProgressStyleModel",
      "state": {
       "description_width": "initial"
      }
     },
     "a8522beb36c140c69e9850effad83695": {
      "model_module": "@jupyter-widgets/controls",
      "model_module_version": "1.5.0",
      "model_name": "HTMLModel",
      "state": {
       "layout": "IPY_MODEL_f9b36a4f84544e90920a23baae71509b",
       "style": "IPY_MODEL_a7cb73ea52094d2cbbafff01e8b84cd5",
       "value": "Epoch [23/50]: 100%|██████████| 43/43 [00:10&lt;00:00,  4.13it/s, loss=0.00244]"
      }
     },
     "a8997906934d46459d966beffa010abe": {
      "model_module": "@jupyter-widgets/base",
      "model_module_version": "1.2.0",
      "model_name": "LayoutModel",
      "state": {}
     },
     "a8c86e4167404ceba378be6dfa36732c": {
      "model_module": "@jupyter-widgets/controls",
      "model_module_version": "1.5.0",
      "model_name": "HBoxModel",
      "state": {
       "children": [
        "IPY_MODEL_9cbe81bc0d3f40ebb8a7bee9423454ed",
        "IPY_MODEL_16a6f2b559ff4e32b3ac7de162b7d939"
       ],
       "layout": "IPY_MODEL_b23cdd8d70324fe2b25eb4a528cabc6e"
      }
     },
     "a9107cebc35b407b8e3538320c732fd2": {
      "model_module": "@jupyter-widgets/base",
      "model_module_version": "1.2.0",
      "model_name": "LayoutModel",
      "state": {}
     },
     "a92b7a62b17d4ca4887b4e30064de374": {
      "model_module": "@jupyter-widgets/controls",
      "model_module_version": "1.5.0",
      "model_name": "ProgressStyleModel",
      "state": {
       "description_width": "initial"
      }
     },
     "a93fa2d0f6414b3fb054b6344e2be0da": {
      "model_module": "@jupyter-widgets/base",
      "model_module_version": "1.2.0",
      "model_name": "LayoutModel",
      "state": {}
     },
     "a94854f1f99844f6ae51f04b55ecbd46": {
      "model_module": "@jupyter-widgets/base",
      "model_module_version": "1.2.0",
      "model_name": "LayoutModel",
      "state": {}
     },
     "a96fedbad815434a9b3d1dd2e9f5f019": {
      "model_module": "@jupyter-widgets/base",
      "model_module_version": "1.2.0",
      "model_name": "LayoutModel",
      "state": {}
     },
     "aa35af54b6a64de7aa89f50fb6e456bc": {
      "model_module": "@jupyter-widgets/base",
      "model_module_version": "1.2.0",
      "model_name": "LayoutModel",
      "state": {}
     },
     "aa5d2c4998c945f183c92a99ed6d77ac": {
      "model_module": "@jupyter-widgets/controls",
      "model_module_version": "1.5.0",
      "model_name": "HBoxModel",
      "state": {
       "children": [
        "IPY_MODEL_7e4960212f364037b852b5d8e6945e0c",
        "IPY_MODEL_e84119c45b314869b56232e7a14f785b"
       ],
       "layout": "IPY_MODEL_04d53d7b9b8b499280558387f49dd457"
      }
     },
     "aa6fe10ed7bd4277b4747e2d9a742c14": {
      "model_module": "@jupyter-widgets/base",
      "model_module_version": "1.2.0",
      "model_name": "LayoutModel",
      "state": {}
     },
     "aae0a123425c4802aabedb47d1c355ad": {
      "model_module": "@jupyter-widgets/controls",
      "model_module_version": "1.5.0",
      "model_name": "DescriptionStyleModel",
      "state": {
       "description_width": ""
      }
     },
     "ab02dbab31804debbcb279848e5f47cd": {
      "model_module": "@jupyter-widgets/controls",
      "model_module_version": "1.5.0",
      "model_name": "HBoxModel",
      "state": {
       "children": [
        "IPY_MODEL_59eecf6cee384435995ff29a189278c1",
        "IPY_MODEL_ff839fd3b7fb48f0b48c83aa7988a03f"
       ],
       "layout": "IPY_MODEL_f688a06a7cf140d8a2f4f902ad5d5617"
      }
     },
     "ab04a270fc5a4350999c28501ad2e7ca": {
      "model_module": "@jupyter-widgets/base",
      "model_module_version": "1.2.0",
      "model_name": "LayoutModel",
      "state": {}
     },
     "ab0bb73f2676449e8ee1424934f9aed6": {
      "model_module": "@jupyter-widgets/controls",
      "model_module_version": "1.5.0",
      "model_name": "FloatProgressModel",
      "state": {
       "bar_style": "success",
       "layout": "IPY_MODEL_9be2f994771642f493dfa70d85ee0189",
       "max": 246,
       "style": "IPY_MODEL_714e9ccd1bff48cb83f4246fdf9493e3",
       "value": 246
      }
     },
     "abf173c95cd847b5bb98c1a5c94f0549": {
      "model_module": "@jupyter-widgets/controls",
      "model_module_version": "1.5.0",
      "model_name": "HTMLModel",
      "state": {
       "layout": "IPY_MODEL_65ed6dd4c55f4b92aa5eebaa98daa32c",
       "style": "IPY_MODEL_e187a3a49b804d3dba8e9a494cc824d8",
       "value": "Epoch [20/50]: 100%|██████████| 43/43 [00:10&lt;00:00,  4.13it/s, loss=0.00293]"
      }
     },
     "ac5a5a22522644e59156c21e675b0636": {
      "model_module": "@jupyter-widgets/controls",
      "model_module_version": "1.5.0",
      "model_name": "FloatProgressModel",
      "state": {
       "bar_style": "success",
       "layout": "IPY_MODEL_5fcece3d7b9b4eef813f5784d543e2eb",
       "max": 85,
       "style": "IPY_MODEL_0dfbbee784dc48fe93eff4efb2a5430c",
       "value": 85
      }
     },
     "ac6f714e259c4e6e8df23e2e2eb1f7db": {
      "model_module": "@jupyter-widgets/controls",
      "model_module_version": "1.5.0",
      "model_name": "ProgressStyleModel",
      "state": {
       "description_width": "initial"
      }
     },
     "ac7390465f7e45f8a65071f6f867ff6a": {
      "model_module": "@jupyter-widgets/controls",
      "model_module_version": "1.5.0",
      "model_name": "HTMLModel",
      "state": {
       "layout": "IPY_MODEL_3be11b353dc8472faf9e5ad1485c276f",
       "style": "IPY_MODEL_25baa8f3932e474c82af399f24c64540",
       "value": "Epoch [4/10]: 100%|██████████| 246/246 [00:36&lt;00:00,  6.80it/s, loss=0.00549]"
      }
     },
     "ac91bef50e3a4c7abf8495dad65d7ac1": {
      "model_module": "@jupyter-widgets/controls",
      "model_module_version": "1.5.0",
      "model_name": "HBoxModel",
      "state": {
       "children": [
        "IPY_MODEL_bd63563030f44ecf9bea6ecc98f5b5c6",
        "IPY_MODEL_7fd874ea8dc14063bd0d7239806f18d8"
       ],
       "layout": "IPY_MODEL_bf6225a31962483ab3cf8b755e77c222"
      }
     },
     "ad0d15d572a04c6eaca027ecbbf46957": {
      "model_module": "@jupyter-widgets/controls",
      "model_module_version": "1.5.0",
      "model_name": "ProgressStyleModel",
      "state": {
       "description_width": "initial"
      }
     },
     "ad1f189afc1f4d54811c50a5b2f7f28b": {
      "model_module": "@jupyter-widgets/base",
      "model_module_version": "1.2.0",
      "model_name": "LayoutModel",
      "state": {}
     },
     "ad2c4c2ad0e7430ea0e0e12a5cf9861f": {
      "model_module": "@jupyter-widgets/controls",
      "model_module_version": "1.5.0",
      "model_name": "FloatProgressModel",
      "state": {
       "bar_style": "success",
       "layout": "IPY_MODEL_ae2e5720128c4ceb8cc1a47ab5fe85c3",
       "max": 43,
       "style": "IPY_MODEL_a7b134a84c084e29b41b124358326222",
       "value": 43
      }
     },
     "ad51cf0af2884b9995b46cbaf63f800d": {
      "model_module": "@jupyter-widgets/controls",
      "model_module_version": "1.5.0",
      "model_name": "HTMLModel",
      "state": {
       "layout": "IPY_MODEL_1ab84a517f3346418f04fbc4bf8acea0",
       "style": "IPY_MODEL_3cdc2027b55449918fb033b482cf5b9d",
       "value": "Epoch [29/50]: 100%|██████████| 85/85 [00:03&lt;00:00, 23.12it/s, loss=0.0216]"
      }
     },
     "ad5ed350bda24d75a5015fe14aa49dcd": {
      "model_module": "@jupyter-widgets/controls",
      "model_module_version": "1.5.0",
      "model_name": "ProgressStyleModel",
      "state": {
       "description_width": "initial"
      }
     },
     "ad95a04daa254a7ea5d63feffb4064e4": {
      "model_module": "@jupyter-widgets/controls",
      "model_module_version": "1.5.0",
      "model_name": "HBoxModel",
      "state": {
       "children": [
        "IPY_MODEL_785237e0b9ea4ea4aaa12a7255d1657e",
        "IPY_MODEL_f71bad9a636b42b29cbe0ec0958753b3"
       ],
       "layout": "IPY_MODEL_17ed79c8ae2e4daea13e0d8ea7b4f914"
      }
     },
     "adb8940fda414263bcc9df93e2fec5c1": {
      "model_module": "@jupyter-widgets/controls",
      "model_module_version": "1.5.0",
      "model_name": "ProgressStyleModel",
      "state": {
       "description_width": "initial"
      }
     },
     "ae2cac96fe0e4edd85459e3a9d70cc30": {
      "model_module": "@jupyter-widgets/controls",
      "model_module_version": "1.5.0",
      "model_name": "HBoxModel",
      "state": {
       "children": [
        "IPY_MODEL_1d6c88de07024060bf30987042726bec",
        "IPY_MODEL_de34d0b1feff496eb57ffab3831f4a90"
       ],
       "layout": "IPY_MODEL_8485e850e8d4478694ae5753198b9716"
      }
     },
     "ae2e5720128c4ceb8cc1a47ab5fe85c3": {
      "model_module": "@jupyter-widgets/base",
      "model_module_version": "1.2.0",
      "model_name": "LayoutModel",
      "state": {}
     },
     "aeb729c9432d4f80a43b207b84013735": {
      "model_module": "@jupyter-widgets/controls",
      "model_module_version": "1.5.0",
      "model_name": "HTMLModel",
      "state": {
       "layout": "IPY_MODEL_c98b2a9b5d5d4bdcbc087fb9c8a9b01b",
       "style": "IPY_MODEL_4fa4b40f0c104a67a09eeaea9cb04e11",
       "value": "Epoch [14/50]: 100%|██████████| 85/85 [00:04&lt;00:00, 18.87it/s, loss=0.035]"
      }
     },
     "aec7dad7a8cb4c73943382909a60d9ad": {
      "model_module": "@jupyter-widgets/controls",
      "model_module_version": "1.5.0",
      "model_name": "HBoxModel",
      "state": {
       "children": [
        "IPY_MODEL_e53ee1b8e9f94636977be93be57808df",
        "IPY_MODEL_8a53ed395bd541fc88ee5b1a0ebce605"
       ],
       "layout": "IPY_MODEL_5561c3a988a84d83b9a54104efe55f80"
      }
     },
     "aee9c09d3ca24fa786916434e3fe2a3a": {
      "model_module": "@jupyter-widgets/controls",
      "model_module_version": "1.5.0",
      "model_name": "ProgressStyleModel",
      "state": {
       "description_width": "initial"
      }
     },
     "af0b70bb6fe64a88a17f879d58c4ef1d": {
      "model_module": "@jupyter-widgets/controls",
      "model_module_version": "1.5.0",
      "model_name": "HTMLModel",
      "state": {
       "layout": "IPY_MODEL_0a6a0c6d5db246fa8c62777295b5625a",
       "style": "IPY_MODEL_3230f3f3f8b44d6a8c9d2ab1e131376c",
       "value": "Epoch [18/50]: 100%|██████████| 85/85 [00:06&lt;00:00, 13.06it/s, loss=0.0292]"
      }
     },
     "af56b654fb23460cac888a3989b06633": {
      "model_module": "@jupyter-widgets/base",
      "model_module_version": "1.2.0",
      "model_name": "LayoutModel",
      "state": {}
     },
     "b00650dd807d46c2b67176961a3d8aad": {
      "model_module": "@jupyter-widgets/controls",
      "model_module_version": "1.5.0",
      "model_name": "HTMLModel",
      "state": {
       "layout": "IPY_MODEL_b714b69da8d34fefb514d5ec4efb93bb",
       "style": "IPY_MODEL_dde78e390b974e709f757d9188ca0229",
       "value": "Epoch [1/2]: 100%|██████████| 246/246 [00:34&lt;00:00,  7.08it/s, loss=0.0303]"
      }
     },
     "b0125cb8659a447c889202bc309ca22c": {
      "model_module": "@jupyter-widgets/controls",
      "model_module_version": "1.5.0",
      "model_name": "HBoxModel",
      "state": {
       "children": [
        "IPY_MODEL_f84898f0be2045a2a5705e381790a29d",
        "IPY_MODEL_991872c549cd4680b00530c8f0fd835c"
       ],
       "layout": "IPY_MODEL_7a0a4286f812422589805fef30175339"
      }
     },
     "b022dace98104cafb4b5ef9a24f9778c": {
      "model_module": "@jupyter-widgets/controls",
      "model_module_version": "1.5.0",
      "model_name": "HBoxModel",
      "state": {
       "children": [
        "IPY_MODEL_831374229fe74445bb5660f11ad6a377",
        "IPY_MODEL_c6240c0e52b74c2793b93089171f9b82"
       ],
       "layout": "IPY_MODEL_487bc9779f0f406cbca296e81d54582e"
      }
     },
     "b0309374b03f41bb9912bdb383b5e569": {
      "model_module": "@jupyter-widgets/base",
      "model_module_version": "1.2.0",
      "model_name": "LayoutModel",
      "state": {}
     },
     "b08e7de48a4f4510b08ea88e2834b53a": {
      "model_module": "@jupyter-widgets/controls",
      "model_module_version": "1.5.0",
      "model_name": "DescriptionStyleModel",
      "state": {
       "description_width": ""
      }
     },
     "b0b448b6519342b19e19e270cf5b045b": {
      "model_module": "@jupyter-widgets/controls",
      "model_module_version": "1.5.0",
      "model_name": "ProgressStyleModel",
      "state": {
       "description_width": "initial"
      }
     },
     "b0d11a0efc7043919558460594e2b649": {
      "model_module": "@jupyter-widgets/controls",
      "model_module_version": "1.5.0",
      "model_name": "DescriptionStyleModel",
      "state": {
       "description_width": ""
      }
     },
     "b0f5eaae01c24375a5d1be2c619ad268": {
      "model_module": "@jupyter-widgets/base",
      "model_module_version": "1.2.0",
      "model_name": "LayoutModel",
      "state": {}
     },
     "b165a85916b14eb9bd3b7999e2ea3d94": {
      "model_module": "@jupyter-widgets/controls",
      "model_module_version": "1.5.0",
      "model_name": "FloatProgressModel",
      "state": {
       "bar_style": "success",
       "layout": "IPY_MODEL_cc259974af144739ba894ee15199fb74",
       "max": 43,
       "style": "IPY_MODEL_79e9a423b32241639df605724c06cf2e",
       "value": 43
      }
     },
     "b19667b97f1247c8a50ca3337b394465": {
      "model_module": "@jupyter-widgets/controls",
      "model_module_version": "1.5.0",
      "model_name": "HBoxModel",
      "state": {
       "children": [
        "IPY_MODEL_d9e9f9adf20d44f0b9e604530f728b33",
        "IPY_MODEL_30daf7425d064619a9c6ec474a82df60"
       ],
       "layout": "IPY_MODEL_0e717337a9564c528d1269df6eae5c5b"
      }
     },
     "b203840b7f084a7a8e67754a0257e15e": {
      "model_module": "@jupyter-widgets/controls",
      "model_module_version": "1.5.0",
      "model_name": "ProgressStyleModel",
      "state": {
       "description_width": "initial"
      }
     },
     "b21e802b0b084e3a8a4ab286ac9adaeb": {
      "model_module": "@jupyter-widgets/controls",
      "model_module_version": "1.5.0",
      "model_name": "DescriptionStyleModel",
      "state": {
       "description_width": ""
      }
     },
     "b22a6aee0f0c4f7bbcc5b3e7f3a383ca": {
      "model_module": "@jupyter-widgets/controls",
      "model_module_version": "1.5.0",
      "model_name": "FloatProgressModel",
      "state": {
       "bar_style": "success",
       "layout": "IPY_MODEL_36c27153340e46d390f1d0b2235079c1",
       "max": 85,
       "style": "IPY_MODEL_8475484af0bc4b80a12126317484ba86",
       "value": 85
      }
     },
     "b23cdd8d70324fe2b25eb4a528cabc6e": {
      "model_module": "@jupyter-widgets/base",
      "model_module_version": "1.2.0",
      "model_name": "LayoutModel",
      "state": {}
     },
     "b25e6fee078f4430889928f40634d6ab": {
      "model_module": "@jupyter-widgets/base",
      "model_module_version": "1.2.0",
      "model_name": "LayoutModel",
      "state": {}
     },
     "b3500a34ee7c492da09f684bcde5db12": {
      "model_module": "@jupyter-widgets/base",
      "model_module_version": "1.2.0",
      "model_name": "LayoutModel",
      "state": {}
     },
     "b386bf7eb8404514a43b523d5b8b2ef3": {
      "model_module": "@jupyter-widgets/controls",
      "model_module_version": "1.5.0",
      "model_name": "DescriptionStyleModel",
      "state": {
       "description_width": ""
      }
     },
     "b39a121244ac43a890ec38d75cbeb6ad": {
      "model_module": "@jupyter-widgets/controls",
      "model_module_version": "1.5.0",
      "model_name": "FloatProgressModel",
      "state": {
       "bar_style": "success",
       "layout": "IPY_MODEL_002af09ed4e441cc8f6fdc236a39ceb0",
       "max": 85,
       "style": "IPY_MODEL_a358c6c1fee44aa5915c9a1d09862444",
       "value": 85
      }
     },
     "b3b36604b5124e20bfb0c95c12f176e8": {
      "model_module": "@jupyter-widgets/controls",
      "model_module_version": "1.5.0",
      "model_name": "HBoxModel",
      "state": {
       "children": [
        "IPY_MODEL_7618c9007b5b4e699372e3db27e35ffd",
        "IPY_MODEL_232db4a4d3ed4b37ac131d7192b20390"
       ],
       "layout": "IPY_MODEL_e37df288be424a1e9f588e430b2369f8"
      }
     },
     "b3c7f37929dd4c529bb8fccf5924961d": {
      "model_module": "@jupyter-widgets/controls",
      "model_module_version": "1.5.0",
      "model_name": "HBoxModel",
      "state": {
       "children": [
        "IPY_MODEL_d50e0880b40f4e5da1724a98f280e8e6",
        "IPY_MODEL_4a7c4ed2fd954e4ab5ec8c69d6baed52"
       ],
       "layout": "IPY_MODEL_7e0e4bb4a83244199043004bc6b930ea"
      }
     },
     "b3eb5295d0a94f559f94865586b5f75c": {
      "model_module": "@jupyter-widgets/controls",
      "model_module_version": "1.5.0",
      "model_name": "DescriptionStyleModel",
      "state": {
       "description_width": ""
      }
     },
     "b42c9360ef1a4791a05cfa1391a82f1f": {
      "model_module": "@jupyter-widgets/controls",
      "model_module_version": "1.5.0",
      "model_name": "HBoxModel",
      "state": {
       "children": [
        "IPY_MODEL_24d549b4676a4e52878d21b10b5cf5e8",
        "IPY_MODEL_550b6e167a8d4c13959be8fdb44be1a7"
       ],
       "layout": "IPY_MODEL_52c3d3773df94b1f875f1e06ba41a0da"
      }
     },
     "b482f5127ca84b0a86d57f19b1061313": {
      "model_module": "@jupyter-widgets/base",
      "model_module_version": "1.2.0",
      "model_name": "LayoutModel",
      "state": {}
     },
     "b4b7e7b9f67d46dc9846a66d2efcfb33": {
      "model_module": "@jupyter-widgets/base",
      "model_module_version": "1.2.0",
      "model_name": "LayoutModel",
      "state": {}
     },
     "b57adcb203ce4234bf9ed57ce1c5e524": {
      "model_module": "@jupyter-widgets/base",
      "model_module_version": "1.2.0",
      "model_name": "LayoutModel",
      "state": {}
     },
     "b57c643760d94858bbb03520b08c3dc5": {
      "model_module": "@jupyter-widgets/controls",
      "model_module_version": "1.5.0",
      "model_name": "ProgressStyleModel",
      "state": {
       "description_width": "initial"
      }
     },
     "b58ae775b63940079131471df6e99cfb": {
      "model_module": "@jupyter-widgets/controls",
      "model_module_version": "1.5.0",
      "model_name": "DescriptionStyleModel",
      "state": {
       "description_width": ""
      }
     },
     "b611ef0273f3414991a79ecbbe599c41": {
      "model_module": "@jupyter-widgets/base",
      "model_module_version": "1.2.0",
      "model_name": "LayoutModel",
      "state": {}
     },
     "b623f7c263cb4b52a27e2508033313e7": {
      "model_module": "@jupyter-widgets/base",
      "model_module_version": "1.2.0",
      "model_name": "LayoutModel",
      "state": {}
     },
     "b6399caa1e064c3a99f5124dc4a5bc9a": {
      "model_module": "@jupyter-widgets/base",
      "model_module_version": "1.2.0",
      "model_name": "LayoutModel",
      "state": {}
     },
     "b64393d09c244c2b91cd239e347e7a00": {
      "model_module": "@jupyter-widgets/controls",
      "model_module_version": "1.5.0",
      "model_name": "ProgressStyleModel",
      "state": {
       "description_width": "initial"
      }
     },
     "b68e44f7bf3247eca27f79227ce5eabd": {
      "model_module": "@jupyter-widgets/controls",
      "model_module_version": "1.5.0",
      "model_name": "HTMLModel",
      "state": {
       "layout": "IPY_MODEL_13670e72b2134c3aba08ce3783b91900",
       "style": "IPY_MODEL_d7afb3f2ced04b4991294d1cfbe83fa1",
       "value": "Epoch [14/50]: 100%|██████████| 43/43 [00:10&lt;00:00,  4.12it/s, loss=0.00493]"
      }
     },
     "b700bcac0a9947f3a8539f61b0885aac": {
      "model_module": "@jupyter-widgets/base",
      "model_module_version": "1.2.0",
      "model_name": "LayoutModel",
      "state": {}
     },
     "b70d91a5ea124bf8afd3f9bafa82dc66": {
      "model_module": "@jupyter-widgets/base",
      "model_module_version": "1.2.0",
      "model_name": "LayoutModel",
      "state": {}
     },
     "b714b69da8d34fefb514d5ec4efb93bb": {
      "model_module": "@jupyter-widgets/base",
      "model_module_version": "1.2.0",
      "model_name": "LayoutModel",
      "state": {}
     },
     "b8027e6eef054f3c861c732a6cdd00a3": {
      "model_module": "@jupyter-widgets/controls",
      "model_module_version": "1.5.0",
      "model_name": "DescriptionStyleModel",
      "state": {
       "description_width": ""
      }
     },
     "b809ab99c1ee4cec86248cd3283f4fc3": {
      "model_module": "@jupyter-widgets/controls",
      "model_module_version": "1.5.0",
      "model_name": "FloatProgressModel",
      "state": {
       "bar_style": "success",
       "layout": "IPY_MODEL_f30ab5039595481d91662b77cf4c043f",
       "max": 43,
       "style": "IPY_MODEL_eb9cbd41fec64856a45c4609eb8984ff",
       "value": 43
      }
     },
     "b86933047b6b4d0ab91de992862262c7": {
      "model_module": "@jupyter-widgets/controls",
      "model_module_version": "1.5.0",
      "model_name": "DescriptionStyleModel",
      "state": {
       "description_width": ""
      }
     },
     "b89cee2941ef46d3833dc3e771ffe774": {
      "model_module": "@jupyter-widgets/controls",
      "model_module_version": "1.5.0",
      "model_name": "HTMLModel",
      "state": {
       "layout": "IPY_MODEL_6ce9d34e7cef43efbd526aed3033d093",
       "style": "IPY_MODEL_4e2c78223ccc49d8ab330b885a7080a3",
       "value": "Epoch [43/50]: 100%|██████████| 85/85 [00:03&lt;00:00, 23.66it/s, loss=0.0184]"
      }
     },
     "b8be2897ecae43449183a13363449bd9": {
      "model_module": "@jupyter-widgets/controls",
      "model_module_version": "1.5.0",
      "model_name": "DescriptionStyleModel",
      "state": {
       "description_width": ""
      }
     },
     "b8bf81348be64c8d99df3f255e4274b2": {
      "model_module": "@jupyter-widgets/controls",
      "model_module_version": "1.5.0",
      "model_name": "HBoxModel",
      "state": {
       "children": [
        "IPY_MODEL_131756d86b564e8fa79598cbe6e77ffc",
        "IPY_MODEL_a40f9c11642947718a3f0942379e70a9"
       ],
       "layout": "IPY_MODEL_c1928d03e05a45b0a2ae088ab7180067"
      }
     },
     "b8de2865926947c9a01c102d4011be8e": {
      "model_module": "@jupyter-widgets/controls",
      "model_module_version": "1.5.0",
      "model_name": "HBoxModel",
      "state": {
       "children": [
        "IPY_MODEL_d0ff2e32c4fc4d1083bd226230413eb1",
        "IPY_MODEL_0d12e972bb994805acc67ab86ebe4c3a"
       ],
       "layout": "IPY_MODEL_1c8f790680614816aa1c94b42f867b9f"
      }
     },
     "b92f25f6ce354ebd9e1936b2905c18a4": {
      "model_module": "@jupyter-widgets/controls",
      "model_module_version": "1.5.0",
      "model_name": "DescriptionStyleModel",
      "state": {
       "description_width": ""
      }
     },
     "b9595a511a1a44e4b6e7fef19ec00d22": {
      "model_module": "@jupyter-widgets/controls",
      "model_module_version": "1.5.0",
      "model_name": "DescriptionStyleModel",
      "state": {
       "description_width": ""
      }
     },
     "b9d8d88a87fa4f27882ae66d12474d1f": {
      "model_module": "@jupyter-widgets/base",
      "model_module_version": "1.2.0",
      "model_name": "LayoutModel",
      "state": {}
     },
     "b9e2872a5f1843abbf327c69fc672218": {
      "model_module": "@jupyter-widgets/controls",
      "model_module_version": "1.5.0",
      "model_name": "HBoxModel",
      "state": {
       "children": [
        "IPY_MODEL_5bfcfc5b47d747d99afeba9c39a92553",
        "IPY_MODEL_7df586755bf0438cb75d188a76f72da5"
       ],
       "layout": "IPY_MODEL_21776674402843488b71a677b643a41a"
      }
     },
     "ba346bd835554dac87ab2d1515e21b8f": {
      "model_module": "@jupyter-widgets/base",
      "model_module_version": "1.2.0",
      "model_name": "LayoutModel",
      "state": {}
     },
     "bab5b381426d4d04940e03731a498127": {
      "model_module": "@jupyter-widgets/base",
      "model_module_version": "1.2.0",
      "model_name": "LayoutModel",
      "state": {}
     },
     "bb1003a09eb34c55acc75d17f34d608b": {
      "model_module": "@jupyter-widgets/base",
      "model_module_version": "1.2.0",
      "model_name": "LayoutModel",
      "state": {}
     },
     "bb1b63f489334f09908c134f88561267": {
      "model_module": "@jupyter-widgets/controls",
      "model_module_version": "1.5.0",
      "model_name": "DescriptionStyleModel",
      "state": {
       "description_width": ""
      }
     },
     "bb2eaa22c0d14e60a8a2aa9903d9113b": {
      "model_module": "@jupyter-widgets/controls",
      "model_module_version": "1.5.0",
      "model_name": "HBoxModel",
      "state": {
       "children": [
        "IPY_MODEL_b165a85916b14eb9bd3b7999e2ea3d94",
        "IPY_MODEL_04cd0cbb759e4b448202ced7c91e8116"
       ],
       "layout": "IPY_MODEL_edcd64b4f2a3475cadeceb9df87d193f"
      }
     },
     "bb83dcf06d194d6d931c7c4718140d66": {
      "model_module": "@jupyter-widgets/base",
      "model_module_version": "1.2.0",
      "model_name": "LayoutModel",
      "state": {}
     },
     "bb9305521baf4217a847dc9cc172ce75": {
      "model_module": "@jupyter-widgets/base",
      "model_module_version": "1.2.0",
      "model_name": "LayoutModel",
      "state": {}
     },
     "bb9e026c08e14103b005001758ea36e3": {
      "model_module": "@jupyter-widgets/base",
      "model_module_version": "1.2.0",
      "model_name": "LayoutModel",
      "state": {}
     },
     "bbbb7f2155274579af09b340ce4bbd2d": {
      "model_module": "@jupyter-widgets/controls",
      "model_module_version": "1.5.0",
      "model_name": "HBoxModel",
      "state": {
       "children": [
        "IPY_MODEL_5b0c76a7efcf42408023b31679d573f8",
        "IPY_MODEL_85d8c01a6b7d4482b95d99b080138c2a"
       ],
       "layout": "IPY_MODEL_1d25a7f5e9c445e3925e23c2b2ffd6f5"
      }
     },
     "bbe95ce18c8b47a4a65ceeacd24746aa": {
      "model_module": "@jupyter-widgets/base",
      "model_module_version": "1.2.0",
      "model_name": "LayoutModel",
      "state": {}
     },
     "bd44f263240b4afb86fbe2a6caa34ada": {
      "model_module": "@jupyter-widgets/controls",
      "model_module_version": "1.5.0",
      "model_name": "FloatProgressModel",
      "state": {
       "bar_style": "success",
       "layout": "IPY_MODEL_b0f5eaae01c24375a5d1be2c619ad268",
       "max": 43,
       "style": "IPY_MODEL_39acbc32c5a5446a8d37285ea67b7be1",
       "value": 43
      }
     },
     "bd63563030f44ecf9bea6ecc98f5b5c6": {
      "model_module": "@jupyter-widgets/controls",
      "model_module_version": "1.5.0",
      "model_name": "FloatProgressModel",
      "state": {
       "bar_style": "success",
       "layout": "IPY_MODEL_579e2dbdded9426595f084647c6dda1f",
       "max": 43,
       "style": "IPY_MODEL_ded3d1935b594242ae4f784fa2609182",
       "value": 43
      }
     },
     "bd6bd6629ec24cbe9ba13773a6795939": {
      "model_module": "@jupyter-widgets/base",
      "model_module_version": "1.2.0",
      "model_name": "LayoutModel",
      "state": {}
     },
     "bdb511e7da1344f488a4b240145dcb55": {
      "model_module": "@jupyter-widgets/controls",
      "model_module_version": "1.5.0",
      "model_name": "FloatProgressModel",
      "state": {
       "bar_style": "success",
       "layout": "IPY_MODEL_160d6777127c4d25bb434b9aaf40f9d5",
       "max": 43,
       "style": "IPY_MODEL_c35a76518c5a4eb48e5c5262076281e5",
       "value": 43
      }
     },
     "bdfd7e534bb04e988f48a4eb9f235461": {
      "model_module": "@jupyter-widgets/controls",
      "model_module_version": "1.5.0",
      "model_name": "HBoxModel",
      "state": {
       "children": [
        "IPY_MODEL_31adb6b5f9bc4d3fb3cb199d7a64ef02",
        "IPY_MODEL_c1230782cbcb489dadc628dfc179399c"
       ],
       "layout": "IPY_MODEL_26c07395e63640c898647dbc6eaf0eab"
      }
     },
     "be35eb6052604b20afb29c8ea57aed12": {
      "model_module": "@jupyter-widgets/base",
      "model_module_version": "1.2.0",
      "model_name": "LayoutModel",
      "state": {}
     },
     "bedc5085512f49b2ae3d85bd70b4e692": {
      "model_module": "@jupyter-widgets/base",
      "model_module_version": "1.2.0",
      "model_name": "LayoutModel",
      "state": {}
     },
     "bf4b31fff9a74c19859205dd311b61fd": {
      "model_module": "@jupyter-widgets/base",
      "model_module_version": "1.2.0",
      "model_name": "LayoutModel",
      "state": {}
     },
     "bf6225a31962483ab3cf8b755e77c222": {
      "model_module": "@jupyter-widgets/base",
      "model_module_version": "1.2.0",
      "model_name": "LayoutModel",
      "state": {}
     },
     "c025ff7a9d0941e7a68af5a7a2638257": {
      "model_module": "@jupyter-widgets/base",
      "model_module_version": "1.2.0",
      "model_name": "LayoutModel",
      "state": {}
     },
     "c063446eeb3f4adf86448e7c4f9c7cd0": {
      "model_module": "@jupyter-widgets/controls",
      "model_module_version": "1.5.0",
      "model_name": "DescriptionStyleModel",
      "state": {
       "description_width": ""
      }
     },
     "c097be73ae3845c784b50a307570dfc2": {
      "model_module": "@jupyter-widgets/controls",
      "model_module_version": "1.5.0",
      "model_name": "HTMLModel",
      "state": {
       "layout": "IPY_MODEL_41c59a6643f547e29ea3869ec3f52a71",
       "style": "IPY_MODEL_aae0a123425c4802aabedb47d1c355ad",
       "value": "Epoch [1/50]: 100%|██████████| 85/85 [00:04&lt;00:00, 18.46it/s, loss=0.231]"
      }
     },
     "c0d0a64fad064f56aeff425ec25813b2": {
      "model_module": "@jupyter-widgets/controls",
      "model_module_version": "1.5.0",
      "model_name": "HTMLModel",
      "state": {
       "layout": "IPY_MODEL_c8f27ba18f014e51b62ac6c790cf6535",
       "style": "IPY_MODEL_3e446eb0542c47c7b00372463c01f02c",
       "value": "Epoch [38/50]: 100%|██████████| 43/43 [00:10&lt;00:00,  4.22it/s, loss=0.00134]"
      }
     },
     "c1230782cbcb489dadc628dfc179399c": {
      "model_module": "@jupyter-widgets/controls",
      "model_module_version": "1.5.0",
      "model_name": "HTMLModel",
      "state": {
       "layout": "IPY_MODEL_30d74032c21b49fa8a8d74904bed06e2",
       "style": "IPY_MODEL_b9595a511a1a44e4b6e7fef19ec00d22",
       "value": "Epoch [3/50]: 100%|██████████| 500/500 [01:16&lt;00:00,  6.55it/s, loss=0.00309]"
      }
     },
     "c13897baa5af45f4b8d37b0a8dd0542f": {
      "model_module": "@jupyter-widgets/base",
      "model_module_version": "1.2.0",
      "model_name": "LayoutModel",
      "state": {}
     },
     "c13ef11a89094a28afec2b4323b1e3df": {
      "model_module": "@jupyter-widgets/base",
      "model_module_version": "1.2.0",
      "model_name": "LayoutModel",
      "state": {}
     },
     "c14c2cd26ea34060b770f8e3ea18095f": {
      "model_module": "@jupyter-widgets/controls",
      "model_module_version": "1.5.0",
      "model_name": "HBoxModel",
      "state": {
       "children": [
        "IPY_MODEL_62adb0c2a5a54b7abc0dd8d569d3bce7",
        "IPY_MODEL_33e946b14dc24f2f89027612c8e9e2e9"
       ],
       "layout": "IPY_MODEL_2e073cc9bfce462a969a07a62a948177"
      }
     },
     "c1682cca204545e6b228e0df971f68b6": {
      "model_module": "@jupyter-widgets/controls",
      "model_module_version": "1.5.0",
      "model_name": "DescriptionStyleModel",
      "state": {
       "description_width": ""
      }
     },
     "c16d1dc1769d4648ac2256a5ad390e99": {
      "model_module": "@jupyter-widgets/controls",
      "model_module_version": "1.5.0",
      "model_name": "DescriptionStyleModel",
      "state": {
       "description_width": ""
      }
     },
     "c17f0739ffcb45519156957a5518c5e1": {
      "model_module": "@jupyter-widgets/base",
      "model_module_version": "1.2.0",
      "model_name": "LayoutModel",
      "state": {}
     },
     "c1928d03e05a45b0a2ae088ab7180067": {
      "model_module": "@jupyter-widgets/base",
      "model_module_version": "1.2.0",
      "model_name": "LayoutModel",
      "state": {}
     },
     "c1a78a5fea21439584e85393e25b3ae0": {
      "model_module": "@jupyter-widgets/base",
      "model_module_version": "1.2.0",
      "model_name": "LayoutModel",
      "state": {}
     },
     "c21897b684c0470bab1b3c492fe560e9": {
      "model_module": "@jupyter-widgets/base",
      "model_module_version": "1.2.0",
      "model_name": "LayoutModel",
      "state": {}
     },
     "c28905844a984d90a1af1f3727ef9d3b": {
      "model_module": "@jupyter-widgets/controls",
      "model_module_version": "1.5.0",
      "model_name": "HBoxModel",
      "state": {
       "children": [
        "IPY_MODEL_c6cd22f859a64fdea860a233468fdfe9",
        "IPY_MODEL_15b92dbf73814bbbb8903db4be36a4a5"
       ],
       "layout": "IPY_MODEL_34a72851820f420ea8e60abea8096b6d"
      }
     },
     "c29b86dbe9e04028898c917f377fcdc8": {
      "model_module": "@jupyter-widgets/controls",
      "model_module_version": "1.5.0",
      "model_name": "FloatProgressModel",
      "state": {
       "bar_style": "success",
       "layout": "IPY_MODEL_2b25544b39c24d019b758c16728ca880",
       "max": 85,
       "style": "IPY_MODEL_cb864e2535de4e1096a4d2d59858a06d",
       "value": 85
      }
     },
     "c2ca2fd294a144f3bfcfdd61443f37f4": {
      "model_module": "@jupyter-widgets/base",
      "model_module_version": "1.2.0",
      "model_name": "LayoutModel",
      "state": {}
     },
     "c341f7560b6d49828e3b8e38a7694944": {
      "model_module": "@jupyter-widgets/controls",
      "model_module_version": "1.5.0",
      "model_name": "ProgressStyleModel",
      "state": {
       "description_width": "initial"
      }
     },
     "c3473147fa5d46d79915bc768a3ca5a3": {
      "model_module": "@jupyter-widgets/controls",
      "model_module_version": "1.5.0",
      "model_name": "DescriptionStyleModel",
      "state": {
       "description_width": ""
      }
     },
     "c35a76518c5a4eb48e5c5262076281e5": {
      "model_module": "@jupyter-widgets/controls",
      "model_module_version": "1.5.0",
      "model_name": "ProgressStyleModel",
      "state": {
       "description_width": "initial"
      }
     },
     "c38e38baf7984549b427f657e8ef7453": {
      "model_module": "@jupyter-widgets/base",
      "model_module_version": "1.2.0",
      "model_name": "LayoutModel",
      "state": {}
     },
     "c39e5f1b02964b459061b033483d0d45": {
      "model_module": "@jupyter-widgets/base",
      "model_module_version": "1.2.0",
      "model_name": "LayoutModel",
      "state": {}
     },
     "c466d4d2a625447f86c0fc2b19f9e479": {
      "model_module": "@jupyter-widgets/controls",
      "model_module_version": "1.5.0",
      "model_name": "ProgressStyleModel",
      "state": {
       "description_width": "initial"
      }
     },
     "c49ce703af414ed590b32bea139f89f1": {
      "model_module": "@jupyter-widgets/controls",
      "model_module_version": "1.5.0",
      "model_name": "ProgressStyleModel",
      "state": {
       "description_width": "initial"
      }
     },
     "c528be5072f943bb9933bb120fec2cd9": {
      "model_module": "@jupyter-widgets/base",
      "model_module_version": "1.2.0",
      "model_name": "LayoutModel",
      "state": {}
     },
     "c52baff0e79c461e886eff295082a008": {
      "model_module": "@jupyter-widgets/controls",
      "model_module_version": "1.5.0",
      "model_name": "FloatProgressModel",
      "state": {
       "bar_style": "success",
       "layout": "IPY_MODEL_a7c5bc97dd0e4eec90a54715e9ba9469",
       "max": 85,
       "style": "IPY_MODEL_f93a1b0d8f20464f82049f6789b663ab",
       "value": 85
      }
     },
     "c55fa05edeb04b5eb2b0ce0724cc9418": {
      "model_module": "@jupyter-widgets/controls",
      "model_module_version": "1.5.0",
      "model_name": "HBoxModel",
      "state": {
       "children": [
        "IPY_MODEL_9c3e024d3d034490a83c9b69b4737d04",
        "IPY_MODEL_9a4d2386bbf347db971a29f390d5104e"
       ],
       "layout": "IPY_MODEL_8f25a014b89740518060cdfb1e87af15"
      }
     },
     "c5ebb19ea93249f799429369e0c8b6cb": {
      "model_module": "@jupyter-widgets/controls",
      "model_module_version": "1.5.0",
      "model_name": "DescriptionStyleModel",
      "state": {
       "description_width": ""
      }
     },
     "c5f2cbe36550421d8c83b5c34002aa7a": {
      "model_module": "@jupyter-widgets/controls",
      "model_module_version": "1.5.0",
      "model_name": "DescriptionStyleModel",
      "state": {
       "description_width": ""
      }
     },
     "c5ff11168b024d92a935238e026206a1": {
      "model_module": "@jupyter-widgets/controls",
      "model_module_version": "1.5.0",
      "model_name": "HBoxModel",
      "state": {
       "children": [
        "IPY_MODEL_7c93bd4526704a56958cedcef042b78f",
        "IPY_MODEL_075e33f6cc4f4bf39ee08f7c68760ede"
       ],
       "layout": "IPY_MODEL_64d34c0c06544a46bf7be274f5cebc79"
      }
     },
     "c6082938dc684b42b02e33efb506429d": {
      "model_module": "@jupyter-widgets/controls",
      "model_module_version": "1.5.0",
      "model_name": "HTMLModel",
      "state": {
       "layout": "IPY_MODEL_56ad53b671ba446d9c81444f1a08d466",
       "style": "IPY_MODEL_22c56893476f41d98d8470713ac49e23",
       "value": "Epoch [12/50]: 100%|██████████| 43/43 [00:10&lt;00:00,  4.12it/s, loss=0.00444]"
      }
     },
     "c6240c0e52b74c2793b93089171f9b82": {
      "model_module": "@jupyter-widgets/controls",
      "model_module_version": "1.5.0",
      "model_name": "HTMLModel",
      "state": {
       "layout": "IPY_MODEL_08c68ea29a7a4158810b2bfcd828a70d",
       "style": "IPY_MODEL_6f889bf08ded44d3b5819e42eeb5b608",
       "value": "Epoch [10/50]: 100%|██████████| 85/85 [00:04&lt;00:00, 18.78it/s, loss=0.0386]"
      }
     },
     "c6352d2f02df4b74b49ead4fba8a6768": {
      "model_module": "@jupyter-widgets/controls",
      "model_module_version": "1.5.0",
      "model_name": "FloatProgressModel",
      "state": {
       "bar_style": "success",
       "layout": "IPY_MODEL_6d3b1d3cc3a84a2fa50df245846c16ba",
       "max": 246,
       "style": "IPY_MODEL_da132f59974f4cb88f4ff2ac93190653",
       "value": 246
      }
     },
     "c63f02ee867843aa81dabf5056a7de07": {
      "model_module": "@jupyter-widgets/base",
      "model_module_version": "1.2.0",
      "model_name": "LayoutModel",
      "state": {}
     },
     "c6524b8e72464b2788b2497c7e9b3947": {
      "model_module": "@jupyter-widgets/base",
      "model_module_version": "1.2.0",
      "model_name": "LayoutModel",
      "state": {}
     },
     "c6c7f401f4a44ce9862cad254d818876": {
      "model_module": "@jupyter-widgets/base",
      "model_module_version": "1.2.0",
      "model_name": "LayoutModel",
      "state": {}
     },
     "c6cd22f859a64fdea860a233468fdfe9": {
      "model_module": "@jupyter-widgets/controls",
      "model_module_version": "1.5.0",
      "model_name": "FloatProgressModel",
      "state": {
       "bar_style": "success",
       "layout": "IPY_MODEL_7216a7ca30f5441e9e80037efafde3de",
       "max": 246,
       "style": "IPY_MODEL_650e6064c39d420ea83c71b6865fb37d",
       "value": 246
      }
     },
     "c74c22d9e23d4004a65bd0e3c3c29e6f": {
      "model_module": "@jupyter-widgets/controls",
      "model_module_version": "1.5.0",
      "model_name": "HTMLModel",
      "state": {
       "layout": "IPY_MODEL_bb9e026c08e14103b005001758ea36e3",
       "style": "IPY_MODEL_c92fa0708f1847e4a9bcdb6ca789adb5",
       "value": "Epoch [16/50]: 100%|██████████| 43/43 [00:10&lt;00:00,  4.13it/s, loss=0.0038]"
      }
     },
     "c792c583139b4f67ba53c1c0161dc8fc": {
      "model_module": "@jupyter-widgets/base",
      "model_module_version": "1.2.0",
      "model_name": "LayoutModel",
      "state": {}
     },
     "c7ad64e5307446fb8fb7712ecbffe9bd": {
      "model_module": "@jupyter-widgets/base",
      "model_module_version": "1.2.0",
      "model_name": "LayoutModel",
      "state": {}
     },
     "c8701f322bbe4f50a5f95482dde13e76": {
      "model_module": "@jupyter-widgets/base",
      "model_module_version": "1.2.0",
      "model_name": "LayoutModel",
      "state": {}
     },
     "c87858bdfa35410a8acffa4cda914c2a": {
      "model_module": "@jupyter-widgets/controls",
      "model_module_version": "1.5.0",
      "model_name": "HBoxModel",
      "state": {
       "children": [
        "IPY_MODEL_011f603408e641fdbe576dc682470001",
        "IPY_MODEL_399d37d311864352ae2bbafd355bfde4"
       ],
       "layout": "IPY_MODEL_a9107cebc35b407b8e3538320c732fd2"
      }
     },
     "c8a6abe20e2c4229a22f3589962980ee": {
      "model_module": "@jupyter-widgets/controls",
      "model_module_version": "1.5.0",
      "model_name": "DescriptionStyleModel",
      "state": {
       "description_width": ""
      }
     },
     "c8b7cc15ea9143b3ae949bf03248a11e": {
      "model_module": "@jupyter-widgets/controls",
      "model_module_version": "1.5.0",
      "model_name": "ProgressStyleModel",
      "state": {
       "description_width": "initial"
      }
     },
     "c8f27ba18f014e51b62ac6c790cf6535": {
      "model_module": "@jupyter-widgets/base",
      "model_module_version": "1.2.0",
      "model_name": "LayoutModel",
      "state": {}
     },
     "c8f3b1fd90d74bc59ecf857d88aa0825": {
      "model_module": "@jupyter-widgets/controls",
      "model_module_version": "1.5.0",
      "model_name": "FloatProgressModel",
      "state": {
       "bar_style": "success",
       "layout": "IPY_MODEL_bb1003a09eb34c55acc75d17f34d608b",
       "max": 85,
       "style": "IPY_MODEL_adb8940fda414263bcc9df93e2fec5c1",
       "value": 85
      }
     },
     "c929f85a76264aafb9547022f960893b": {
      "model_module": "@jupyter-widgets/base",
      "model_module_version": "1.2.0",
      "model_name": "LayoutModel",
      "state": {}
     },
     "c92fa0708f1847e4a9bcdb6ca789adb5": {
      "model_module": "@jupyter-widgets/controls",
      "model_module_version": "1.5.0",
      "model_name": "DescriptionStyleModel",
      "state": {
       "description_width": ""
      }
     },
     "c98b2a9b5d5d4bdcbc087fb9c8a9b01b": {
      "model_module": "@jupyter-widgets/base",
      "model_module_version": "1.2.0",
      "model_name": "LayoutModel",
      "state": {}
     },
     "c9b2b3175c4140559740bff10885ef4c": {
      "model_module": "@jupyter-widgets/controls",
      "model_module_version": "1.5.0",
      "model_name": "HTMLModel",
      "state": {
       "layout": "IPY_MODEL_f7c6264ebd2f4afaa3fb76aa9aa350cc",
       "style": "IPY_MODEL_42cdee8444d048b088cc24de7aa09fd0",
       "value": "Epoch [35/50]: 100%|██████████| 85/85 [00:03&lt;00:00, 23.56it/s, loss=0.0223]"
      }
     },
     "ca02935da4c846f8adc26c0723ede6ad": {
      "model_module": "@jupyter-widgets/base",
      "model_module_version": "1.2.0",
      "model_name": "LayoutModel",
      "state": {}
     },
     "cb3815591ff44e769629534617a60c9e": {
      "model_module": "@jupyter-widgets/controls",
      "model_module_version": "1.5.0",
      "model_name": "HBoxModel",
      "state": {
       "children": [
        "IPY_MODEL_09d5334b860e45629a92f7c4afaaf1af",
        "IPY_MODEL_58505761f8c344fb84dbd624cbba898b"
       ],
       "layout": "IPY_MODEL_c21897b684c0470bab1b3c492fe560e9"
      }
     },
     "cb789ac86ca7415496a6a077e9f40c0d": {
      "model_module": "@jupyter-widgets/controls",
      "model_module_version": "1.5.0",
      "model_name": "DescriptionStyleModel",
      "state": {
       "description_width": ""
      }
     },
     "cb8004f86fc64b6784cbd1207f4ed6b8": {
      "model_module": "@jupyter-widgets/controls",
      "model_module_version": "1.5.0",
      "model_name": "DescriptionStyleModel",
      "state": {
       "description_width": ""
      }
     },
     "cb864e2535de4e1096a4d2d59858a06d": {
      "model_module": "@jupyter-widgets/controls",
      "model_module_version": "1.5.0",
      "model_name": "ProgressStyleModel",
      "state": {
       "description_width": "initial"
      }
     },
     "cbccda27aae2483996183a0dbfc0b68b": {
      "model_module": "@jupyter-widgets/base",
      "model_module_version": "1.2.0",
      "model_name": "LayoutModel",
      "state": {}
     },
     "cc259974af144739ba894ee15199fb74": {
      "model_module": "@jupyter-widgets/base",
      "model_module_version": "1.2.0",
      "model_name": "LayoutModel",
      "state": {}
     },
     "cc429d12bb124aa2bd2f8c3560aed175": {
      "model_module": "@jupyter-widgets/controls",
      "model_module_version": "1.5.0",
      "model_name": "DescriptionStyleModel",
      "state": {
       "description_width": ""
      }
     },
     "cd0d856a8cb5467aa3f56cd99c0290b2": {
      "model_module": "@jupyter-widgets/base",
      "model_module_version": "1.2.0",
      "model_name": "LayoutModel",
      "state": {}
     },
     "cd2a3aaf71be4cd48955f003581d4e8d": {
      "model_module": "@jupyter-widgets/base",
      "model_module_version": "1.2.0",
      "model_name": "LayoutModel",
      "state": {}
     },
     "cdcb34d95bbc4aa889d6fbb6868cbe87": {
      "model_module": "@jupyter-widgets/controls",
      "model_module_version": "1.5.0",
      "model_name": "HTMLModel",
      "state": {
       "layout": "IPY_MODEL_ab04a270fc5a4350999c28501ad2e7ca",
       "style": "IPY_MODEL_bb1b63f489334f09908c134f88561267",
       "value": "Epoch [6/50]: 100%|██████████| 43/43 [00:10&lt;00:00,  4.12it/s, loss=0.00628]"
      }
     },
     "cdfdda8fa26b404498c11b3170418d33": {
      "model_module": "@jupyter-widgets/base",
      "model_module_version": "1.2.0",
      "model_name": "LayoutModel",
      "state": {}
     },
     "ce001112f20a4f8e8ab9e5e134b82ac3": {
      "model_module": "@jupyter-widgets/controls",
      "model_module_version": "1.5.0",
      "model_name": "HTMLModel",
      "state": {
       "layout": "IPY_MODEL_af56b654fb23460cac888a3989b06633",
       "style": "IPY_MODEL_c1682cca204545e6b228e0df971f68b6",
       "value": "Epoch [40/50]: 100%|██████████| 85/85 [00:03&lt;00:00, 23.63it/s, loss=0.02]"
      }
     },
     "ce1ebe773b9b45b09a03b46dc06e3975": {
      "model_module": "@jupyter-widgets/controls",
      "model_module_version": "1.5.0",
      "model_name": "HBoxModel",
      "state": {
       "children": [
        "IPY_MODEL_7fd20ed8eb2d4b71917203b4893e6bf4",
        "IPY_MODEL_aeb729c9432d4f80a43b207b84013735"
       ],
       "layout": "IPY_MODEL_622c73337e03495b86416a53336b277d"
      }
     },
     "ceee62700886449a85e92481d3a18c16": {
      "model_module": "@jupyter-widgets/controls",
      "model_module_version": "1.5.0",
      "model_name": "HBoxModel",
      "state": {
       "children": [
        "IPY_MODEL_9f53f6487ab14d84932a29eff2934d2d",
        "IPY_MODEL_6ac090511ecb4d339c66d99c20656f47"
       ],
       "layout": "IPY_MODEL_4f4b9ca24885436c9813e1cb280dff97"
      }
     },
     "cf8597e9f6d44984a97e9ee98aa88b72": {
      "model_module": "@jupyter-widgets/base",
      "model_module_version": "1.2.0",
      "model_name": "LayoutModel",
      "state": {}
     },
     "cfd8afad09a9464e95d393317f17fed3": {
      "model_module": "@jupyter-widgets/controls",
      "model_module_version": "1.5.0",
      "model_name": "ProgressStyleModel",
      "state": {
       "description_width": "initial"
      }
     },
     "cffde12876554ea89d443a448984d38d": {
      "model_module": "@jupyter-widgets/controls",
      "model_module_version": "1.5.0",
      "model_name": "FloatProgressModel",
      "state": {
       "bar_style": "success",
       "layout": "IPY_MODEL_c13897baa5af45f4b8d37b0a8dd0542f",
       "max": 85,
       "style": "IPY_MODEL_a92b7a62b17d4ca4887b4e30064de374",
       "value": 85
      }
     },
     "d061e018aadf4d8086395bb0f1bd42d4": {
      "model_module": "@jupyter-widgets/base",
      "model_module_version": "1.2.0",
      "model_name": "LayoutModel",
      "state": {}
     },
     "d094a43256c24595857f1f1a6610cb14": {
      "model_module": "@jupyter-widgets/base",
      "model_module_version": "1.2.0",
      "model_name": "LayoutModel",
      "state": {}
     },
     "d0be1162363b4abd983f7f980ac3cc92": {
      "model_module": "@jupyter-widgets/base",
      "model_module_version": "1.2.0",
      "model_name": "LayoutModel",
      "state": {}
     },
     "d0dc8ead577b4ef88f324440012e0e75": {
      "model_module": "@jupyter-widgets/base",
      "model_module_version": "1.2.0",
      "model_name": "LayoutModel",
      "state": {}
     },
     "d0ff2e32c4fc4d1083bd226230413eb1": {
      "model_module": "@jupyter-widgets/controls",
      "model_module_version": "1.5.0",
      "model_name": "FloatProgressModel",
      "state": {
       "bar_style": "success",
       "layout": "IPY_MODEL_ca02935da4c846f8adc26c0723ede6ad",
       "max": 246,
       "style": "IPY_MODEL_d1919d03204d4e40867b752f8e3c6f44",
       "value": 246
      }
     },
     "d15ac561568b487d9dff051ea2070fd6": {
      "model_module": "@jupyter-widgets/controls",
      "model_module_version": "1.5.0",
      "model_name": "ProgressStyleModel",
      "state": {
       "description_width": "initial"
      }
     },
     "d1919d03204d4e40867b752f8e3c6f44": {
      "model_module": "@jupyter-widgets/controls",
      "model_module_version": "1.5.0",
      "model_name": "ProgressStyleModel",
      "state": {
       "description_width": "initial"
      }
     },
     "d1bbd31fe1d4400d9dff1685b1bcded1": {
      "model_module": "@jupyter-widgets/controls",
      "model_module_version": "1.5.0",
      "model_name": "ProgressStyleModel",
      "state": {
       "description_width": "initial"
      }
     },
     "d1cb6a08958e4cdcb4d561490ec4f8d0": {
      "model_module": "@jupyter-widgets/controls",
      "model_module_version": "1.5.0",
      "model_name": "ProgressStyleModel",
      "state": {
       "description_width": "initial"
      }
     },
     "d1e3d8f26502477b8556f02bdffeb49e": {
      "model_module": "@jupyter-widgets/base",
      "model_module_version": "1.2.0",
      "model_name": "LayoutModel",
      "state": {}
     },
     "d1ea50c4c9c243878b49170c06fd7c89": {
      "model_module": "@jupyter-widgets/controls",
      "model_module_version": "1.5.0",
      "model_name": "DescriptionStyleModel",
      "state": {
       "description_width": ""
      }
     },
     "d209c8ddccff4c5dbe915f3dfeeb036f": {
      "model_module": "@jupyter-widgets/controls",
      "model_module_version": "1.5.0",
      "model_name": "HTMLModel",
      "state": {
       "layout": "IPY_MODEL_62469c38eb39488db543a9451da07e9a",
       "style": "IPY_MODEL_cc429d12bb124aa2bd2f8c3560aed175",
       "value": "Epoch [1/50]: 100%|██████████| 85/85 [00:04&lt;00:00, 18.56it/s, loss=0.175]"
      }
     },
     "d225b7fd4e4e4e108db613c75632dcfd": {
      "model_module": "@jupyter-widgets/controls",
      "model_module_version": "1.5.0",
      "model_name": "FloatProgressModel",
      "state": {
       "bar_style": "success",
       "layout": "IPY_MODEL_ad1f189afc1f4d54811c50a5b2f7f28b",
       "max": 85,
       "style": "IPY_MODEL_8f486faa6f2c4327a49fd631a0f83649",
       "value": 85
      }
     },
     "d23e19bac0eb461d83bd1fd27769b5a3": {
      "model_module": "@jupyter-widgets/controls",
      "model_module_version": "1.5.0",
      "model_name": "FloatProgressModel",
      "state": {
       "bar_style": "success",
       "layout": "IPY_MODEL_cdfdda8fa26b404498c11b3170418d33",
       "max": 43,
       "style": "IPY_MODEL_f4830413cea74a9dbd4292a7957677d0",
       "value": 43
      }
     },
     "d24aaf89c17f44558164a3a25ac718c6": {
      "model_module": "@jupyter-widgets/base",
      "model_module_version": "1.2.0",
      "model_name": "LayoutModel",
      "state": {}
     },
     "d2dcfd6dd976483b9c2e75e531e9397f": {
      "model_module": "@jupyter-widgets/controls",
      "model_module_version": "1.5.0",
      "model_name": "HBoxModel",
      "state": {
       "children": [
        "IPY_MODEL_7570dacf1b934c1e8850a7d06ba5697c",
        "IPY_MODEL_1697022d0db64302aa275a3b92c9a48a"
       ],
       "layout": "IPY_MODEL_870989d7dcad49fdb51a6be4257a8d1e"
      }
     },
     "d2e8b60390934673a21d38e1eac56955": {
      "model_module": "@jupyter-widgets/controls",
      "model_module_version": "1.5.0",
      "model_name": "FloatProgressModel",
      "state": {
       "bar_style": "success",
       "layout": "IPY_MODEL_4fdbbf5a8e824a4d90519ea996d6df1c",
       "max": 85,
       "style": "IPY_MODEL_e7b1e8e1c6f44a1da3bf076d3104d8fd",
       "value": 85
      }
     },
     "d3095ea844dc4999961894c4793e828a": {
      "model_module": "@jupyter-widgets/controls",
      "model_module_version": "1.5.0",
      "model_name": "ProgressStyleModel",
      "state": {
       "description_width": "initial"
      }
     },
     "d33480d59d4940b896e43e52c72e6c2e": {
      "model_module": "@jupyter-widgets/controls",
      "model_module_version": "1.5.0",
      "model_name": "HBoxModel",
      "state": {
       "children": [
        "IPY_MODEL_81f6d59138dd4f6688bdd725a5df5a6c",
        "IPY_MODEL_260816a9fd954491b4426db17dbd70de"
       ],
       "layout": "IPY_MODEL_869ab19d8a4341ac9b3bda7180604b25"
      }
     },
     "d35c7b45000a405c815b1da7fe178e46": {
      "model_module": "@jupyter-widgets/controls",
      "model_module_version": "1.5.0",
      "model_name": "HBoxModel",
      "state": {
       "children": [
        "IPY_MODEL_1174732e97e54078b3f6643f4b93d4bf",
        "IPY_MODEL_0c9dc376bee04c8086a77a631a3269ea"
       ],
       "layout": "IPY_MODEL_65b6cb01e4124ca4ad72edd05229e634"
      }
     },
     "d3956e785b484895b5ebba625543569e": {
      "model_module": "@jupyter-widgets/controls",
      "model_module_version": "1.5.0",
      "model_name": "HTMLModel",
      "state": {
       "layout": "IPY_MODEL_02171d924af54cbaba8fd957ecca25bd",
       "style": "IPY_MODEL_9a2b31a950f34d91a5899dd26478a973",
       "value": "Epoch [7/50]: 100%|██████████| 85/85 [00:04&lt;00:00, 18.88it/s, loss=0.0543]"
      }
     },
     "d3f5f8aac3e64a2f92379347927a5ce7": {
      "model_module": "@jupyter-widgets/base",
      "model_module_version": "1.2.0",
      "model_name": "LayoutModel",
      "state": {}
     },
     "d424a8ffbc654eaca6c475a90331eb1e": {
      "model_module": "@jupyter-widgets/controls",
      "model_module_version": "1.5.0",
      "model_name": "HBoxModel",
      "state": {
       "children": [
        "IPY_MODEL_19f8161ff4384d44997e0cb9314477c5",
        "IPY_MODEL_83ffcfb50f6d432a8c588f56c0e7c4f9"
       ],
       "layout": "IPY_MODEL_d0be1162363b4abd983f7f980ac3cc92"
      }
     },
     "d468857ee9184cb5b5784162a184b2e6": {
      "model_module": "@jupyter-widgets/controls",
      "model_module_version": "1.5.0",
      "model_name": "HTMLModel",
      "state": {
       "layout": "IPY_MODEL_858d5f68641b45f88c125b041bde9dde",
       "style": "IPY_MODEL_9a83fdae3ab14f11973e360a58f70737",
       "value": "Epoch [1/50]: 100%|██████████| 500/500 [01:20&lt;00:00,  6.21it/s, loss=0.0124]"
      }
     },
     "d499f54e48a84910848c4c7c170cf488": {
      "model_module": "@jupyter-widgets/base",
      "model_module_version": "1.2.0",
      "model_name": "LayoutModel",
      "state": {}
     },
     "d4ccccc47a6644eead75853248835488": {
      "model_module": "@jupyter-widgets/controls",
      "model_module_version": "1.5.0",
      "model_name": "HBoxModel",
      "state": {
       "children": [
        "IPY_MODEL_805a70e4abea48ad8bc51dbcfcb14ad9",
        "IPY_MODEL_b68e44f7bf3247eca27f79227ce5eabd"
       ],
       "layout": "IPY_MODEL_c38e38baf7984549b427f657e8ef7453"
      }
     },
     "d50e0880b40f4e5da1724a98f280e8e6": {
      "model_module": "@jupyter-widgets/controls",
      "model_module_version": "1.5.0",
      "model_name": "FloatProgressModel",
      "state": {
       "bar_style": "success",
       "layout": "IPY_MODEL_8f58d76683dc4610a4088a12095b2bc4",
       "max": 43,
       "style": "IPY_MODEL_4f8b27d264a74e14a304e9bd315c5bd0",
       "value": 43
      }
     },
     "d513076974204b9d9ddc2ed0fcd6a354": {
      "model_module": "@jupyter-widgets/base",
      "model_module_version": "1.2.0",
      "model_name": "LayoutModel",
      "state": {}
     },
     "d524f4e2569b48d6896c89675d7649cc": {
      "model_module": "@jupyter-widgets/base",
      "model_module_version": "1.2.0",
      "model_name": "LayoutModel",
      "state": {}
     },
     "d5bab4ded11e42af8e45b89b7f5798fc": {
      "model_module": "@jupyter-widgets/controls",
      "model_module_version": "1.5.0",
      "model_name": "ProgressStyleModel",
      "state": {
       "description_width": "initial"
      }
     },
     "d5e74ea180a34bd2959086246aecef13": {
      "model_module": "@jupyter-widgets/base",
      "model_module_version": "1.2.0",
      "model_name": "LayoutModel",
      "state": {}
     },
     "d6ae10d541ce4d6e96103eae91c1ca88": {
      "model_module": "@jupyter-widgets/controls",
      "model_module_version": "1.5.0",
      "model_name": "DescriptionStyleModel",
      "state": {
       "description_width": ""
      }
     },
     "d6dfb09fe4c8461c8f38e788c5416006": {
      "model_module": "@jupyter-widgets/controls",
      "model_module_version": "1.5.0",
      "model_name": "HBoxModel",
      "state": {
       "children": [
        "IPY_MODEL_4a3dbee03f4b4898b4f690a51e122452",
        "IPY_MODEL_abf173c95cd847b5bb98c1a5c94f0549"
       ],
       "layout": "IPY_MODEL_9c129cca21364fc18fe224ae9d2c6361"
      }
     },
     "d701b4dc9b024a47af11876866470236": {
      "model_module": "@jupyter-widgets/controls",
      "model_module_version": "1.5.0",
      "model_name": "DescriptionStyleModel",
      "state": {
       "description_width": ""
      }
     },
     "d756a97bc05544998d328a80a1179048": {
      "model_module": "@jupyter-widgets/controls",
      "model_module_version": "1.5.0",
      "model_name": "DescriptionStyleModel",
      "state": {
       "description_width": ""
      }
     },
     "d7afb3f2ced04b4991294d1cfbe83fa1": {
      "model_module": "@jupyter-widgets/controls",
      "model_module_version": "1.5.0",
      "model_name": "DescriptionStyleModel",
      "state": {
       "description_width": ""
      }
     },
     "d80e9e00a4914b69bb5e12dcd39f843f": {
      "model_module": "@jupyter-widgets/base",
      "model_module_version": "1.2.0",
      "model_name": "LayoutModel",
      "state": {}
     },
     "d8760cee4b7b4abeb8f102ec4c6f9824": {
      "model_module": "@jupyter-widgets/base",
      "model_module_version": "1.2.0",
      "model_name": "LayoutModel",
      "state": {}
     },
     "d8be73e35050495b9d18dd6b70d25c3d": {
      "model_module": "@jupyter-widgets/controls",
      "model_module_version": "1.5.0",
      "model_name": "ProgressStyleModel",
      "state": {
       "description_width": "initial"
      }
     },
     "d8fbbfe568fa49c0afb0b904d7e98256": {
      "model_module": "@jupyter-widgets/controls",
      "model_module_version": "1.5.0",
      "model_name": "HBoxModel",
      "state": {
       "children": [
        "IPY_MODEL_69300699124a42da891269d8804295a1",
        "IPY_MODEL_680d16d62c0143f6ad2b9b6238d40861"
       ],
       "layout": "IPY_MODEL_71850bb1a881462e864154908a5bb050"
      }
     },
     "d9c338df1c21475caed9539c05d9189a": {
      "model_module": "@jupyter-widgets/controls",
      "model_module_version": "1.5.0",
      "model_name": "FloatProgressModel",
      "state": {
       "bar_style": "success",
       "layout": "IPY_MODEL_2ca2e55434074efb80fab47151b05699",
       "max": 43,
       "style": "IPY_MODEL_8db7b1f5641941f4a62bf3d66407a210",
       "value": 43
      }
     },
     "d9e9f9adf20d44f0b9e604530f728b33": {
      "model_module": "@jupyter-widgets/controls",
      "model_module_version": "1.5.0",
      "model_name": "FloatProgressModel",
      "state": {
       "bar_style": "success",
       "layout": "IPY_MODEL_d524f4e2569b48d6896c89675d7649cc",
       "max": 85,
       "style": "IPY_MODEL_1761682c957344c99f66baf08f1885ef",
       "value": 85
      }
     },
     "da132f59974f4cb88f4ff2ac93190653": {
      "model_module": "@jupyter-widgets/controls",
      "model_module_version": "1.5.0",
      "model_name": "ProgressStyleModel",
      "state": {
       "description_width": "initial"
      }
     },
     "da29580cac2e4468817d8e094f62a416": {
      "model_module": "@jupyter-widgets/controls",
      "model_module_version": "1.5.0",
      "model_name": "HBoxModel",
      "state": {
       "children": [
        "IPY_MODEL_2f3d0add20f247eb88d307a824529e94",
        "IPY_MODEL_40800fc3a0d149eba8c18fbd85e2e98d"
       ],
       "layout": "IPY_MODEL_338c26d3e5cb4784bbee3f8affac9bac"
      }
     },
     "da320fa7668741849bd80006e789ec91": {
      "model_module": "@jupyter-widgets/controls",
      "model_module_version": "1.5.0",
      "model_name": "HTMLModel",
      "state": {
       "layout": "IPY_MODEL_a36efbaa5d05407683afcb85645d47ee",
       "style": "IPY_MODEL_265b6b1e60704459b7484a80a3c53129",
       "value": "Epoch [48/50]: 100%|██████████| 85/85 [00:03&lt;00:00, 23.33it/s, loss=0.0152]"
      }
     },
     "da94ecd1ec14413d8687731322f63da4": {
      "model_module": "@jupyter-widgets/controls",
      "model_module_version": "1.5.0",
      "model_name": "HBoxModel",
      "state": {
       "children": [
        "IPY_MODEL_e20728d2a7ba406382056308fc18cbe3",
        "IPY_MODEL_0588edd9e11b4c879b12b016e9f3bf34"
       ],
       "layout": "IPY_MODEL_2f5f4c2c2aee4599bc5082cc1f84c83e"
      }
     },
     "daf833045e75486cad1ab28c44bc315a": {
      "model_module": "@jupyter-widgets/controls",
      "model_module_version": "1.5.0",
      "model_name": "ProgressStyleModel",
      "state": {
       "description_width": "initial"
      }
     },
     "db7f6b6ff15f497d8a47b69f7710d708": {
      "model_module": "@jupyter-widgets/controls",
      "model_module_version": "1.5.0",
      "model_name": "HTMLModel",
      "state": {
       "layout": "IPY_MODEL_7a0262fe369d4b0294980226d88ea2d7",
       "style": "IPY_MODEL_5eeb9b97d1104a519d818581793dffb7",
       "value": "Epoch [1/50]: 100%|██████████| 43/43 [00:10&lt;00:00,  4.10it/s, loss=0.341]"
      }
     },
     "dbe8c986c9b044f0bb7351e1759973e3": {
      "model_module": "@jupyter-widgets/base",
      "model_module_version": "1.2.0",
      "model_name": "LayoutModel",
      "state": {}
     },
     "dcbb362bce5748789b878e3473c69415": {
      "model_module": "@jupyter-widgets/base",
      "model_module_version": "1.2.0",
      "model_name": "LayoutModel",
      "state": {}
     },
     "dd1af1160c81404dbbb13ebe62d3ff82": {
      "model_module": "@jupyter-widgets/base",
      "model_module_version": "1.2.0",
      "model_name": "LayoutModel",
      "state": {}
     },
     "dde78e390b974e709f757d9188ca0229": {
      "model_module": "@jupyter-widgets/controls",
      "model_module_version": "1.5.0",
      "model_name": "DescriptionStyleModel",
      "state": {
       "description_width": ""
      }
     },
     "ddfbae072962414384ab98b78c38431f": {
      "model_module": "@jupyter-widgets/controls",
      "model_module_version": "1.5.0",
      "model_name": "ProgressStyleModel",
      "state": {
       "description_width": "initial"
      }
     },
     "de34d0b1feff496eb57ffab3831f4a90": {
      "model_module": "@jupyter-widgets/controls",
      "model_module_version": "1.5.0",
      "model_name": "HTMLModel",
      "state": {
       "layout": "IPY_MODEL_4dde35e969584db3b216eed81425a5cb",
       "style": "IPY_MODEL_b0d11a0efc7043919558460594e2b649",
       "value": "Epoch [42/50]: 100%|██████████| 43/43 [00:10&lt;00:00,  4.10it/s, loss=0.00114]"
      }
     },
     "de603766d6824e519a6718aab7237cb9": {
      "model_module": "@jupyter-widgets/controls",
      "model_module_version": "1.5.0",
      "model_name": "DescriptionStyleModel",
      "state": {
       "description_width": ""
      }
     },
     "de98d5ddcac44a9e8b55dac535e2f513": {
      "model_module": "@jupyter-widgets/controls",
      "model_module_version": "1.5.0",
      "model_name": "HBoxModel",
      "state": {
       "children": [
        "IPY_MODEL_d225b7fd4e4e4e108db613c75632dcfd",
        "IPY_MODEL_b89cee2941ef46d3833dc3e771ffe774"
       ],
       "layout": "IPY_MODEL_79d4ee5bc49a4f10a14c875ce989ac42"
      }
     },
     "ded3d1935b594242ae4f784fa2609182": {
      "model_module": "@jupyter-widgets/controls",
      "model_module_version": "1.5.0",
      "model_name": "ProgressStyleModel",
      "state": {
       "description_width": "initial"
      }
     },
     "def303b2b6404e94a49de745c12ae7c0": {
      "model_module": "@jupyter-widgets/base",
      "model_module_version": "1.2.0",
      "model_name": "LayoutModel",
      "state": {}
     },
     "def5d9db965c47278208baa16191f920": {
      "model_module": "@jupyter-widgets/controls",
      "model_module_version": "1.5.0",
      "model_name": "ProgressStyleModel",
      "state": {
       "description_width": "initial"
      }
     },
     "df53de3c9f4e4db7b48af996ee96de73": {
      "model_module": "@jupyter-widgets/controls",
      "model_module_version": "1.5.0",
      "model_name": "DescriptionStyleModel",
      "state": {
       "description_width": ""
      }
     },
     "df689aa46bdc47b1848163caa4f37d0d": {
      "model_module": "@jupyter-widgets/controls",
      "model_module_version": "1.5.0",
      "model_name": "ProgressStyleModel",
      "state": {
       "description_width": "initial"
      }
     },
     "df77781337f04815bd935f11ef7ae0a1": {
      "model_module": "@jupyter-widgets/controls",
      "model_module_version": "1.5.0",
      "model_name": "HTMLModel",
      "state": {
       "layout": "IPY_MODEL_12186645888b42a49fb907e56458b826",
       "style": "IPY_MODEL_69cb6e726c6b42edb31b2db80a7b392a",
       "value": "Epoch [2/2]: 100%|██████████| 246/246 [00:33&lt;00:00,  7.37it/s, loss=0.0128]"
      }
     },
     "dfe0b02dd41d4c7e92544d82e833c4ee": {
      "model_module": "@jupyter-widgets/base",
      "model_module_version": "1.2.0",
      "model_name": "LayoutModel",
      "state": {}
     },
     "e01eb7e618e34375b931dd55a0d5d592": {
      "model_module": "@jupyter-widgets/base",
      "model_module_version": "1.2.0",
      "model_name": "LayoutModel",
      "state": {}
     },
     "e04ac88f75a446ecb3953d26d7be4b44": {
      "model_module": "@jupyter-widgets/controls",
      "model_module_version": "1.5.0",
      "model_name": "DescriptionStyleModel",
      "state": {
       "description_width": ""
      }
     },
     "e0a0a1b3784448f5a90409a5056c6595": {
      "model_module": "@jupyter-widgets/base",
      "model_module_version": "1.2.0",
      "model_name": "LayoutModel",
      "state": {}
     },
     "e0c2fc5d002c4b6583f8004aa423f9ef": {
      "model_module": "@jupyter-widgets/controls",
      "model_module_version": "1.5.0",
      "model_name": "HTMLModel",
      "state": {
       "layout": "IPY_MODEL_2ba537f6ede747949a3ec7c4633f746f",
       "style": "IPY_MODEL_f775b65f37934799bc8d20e0954cdccb",
       "value": "Epoch [6/10]: 100%|██████████| 246/246 [00:35&lt;00:00,  6.88it/s, loss=0.00358]"
      }
     },
     "e15355ab87d341aca07606f443e1b94b": {
      "model_module": "@jupyter-widgets/controls",
      "model_module_version": "1.5.0",
      "model_name": "HBoxModel",
      "state": {
       "children": [
        "IPY_MODEL_3580e4b209ff4fdda039bf8d061f0fc3",
        "IPY_MODEL_07994a36e1494722ad7ff2076139f043"
       ],
       "layout": "IPY_MODEL_d499f54e48a84910848c4c7c170cf488"
      }
     },
     "e187a3a49b804d3dba8e9a494cc824d8": {
      "model_module": "@jupyter-widgets/controls",
      "model_module_version": "1.5.0",
      "model_name": "DescriptionStyleModel",
      "state": {
       "description_width": ""
      }
     },
     "e1adc1dfca874b608b5b48f78eb169f9": {
      "model_module": "@jupyter-widgets/base",
      "model_module_version": "1.2.0",
      "model_name": "LayoutModel",
      "state": {}
     },
     "e1ed3af01b984017a6852f13cb64c14c": {
      "model_module": "@jupyter-widgets/controls",
      "model_module_version": "1.5.0",
      "model_name": "FloatProgressModel",
      "state": {
       "bar_style": "success",
       "layout": "IPY_MODEL_c7ad64e5307446fb8fb7712ecbffe9bd",
       "max": 43,
       "style": "IPY_MODEL_069cc88f5a11471abed96aaa71ac1cb9",
       "value": 43
      }
     },
     "e20728d2a7ba406382056308fc18cbe3": {
      "model_module": "@jupyter-widgets/controls",
      "model_module_version": "1.5.0",
      "model_name": "FloatProgressModel",
      "state": {
       "bar_style": "success",
       "layout": "IPY_MODEL_424e794b842b49faa6418504e6d2aa14",
       "max": 43,
       "style": "IPY_MODEL_8077109357c9495ba18b7c945fbafccf",
       "value": 43
      }
     },
     "e209d46932f9424da1cfdadb0c4815f9": {
      "model_module": "@jupyter-widgets/controls",
      "model_module_version": "1.5.0",
      "model_name": "ProgressStyleModel",
      "state": {
       "description_width": "initial"
      }
     },
     "e2369d5276734e98ab26db2cf2da9e04": {
      "model_module": "@jupyter-widgets/controls",
      "model_module_version": "1.5.0",
      "model_name": "DescriptionStyleModel",
      "state": {
       "description_width": ""
      }
     },
     "e36a06331b25434b91710f0dcb1b420a": {
      "model_module": "@jupyter-widgets/base",
      "model_module_version": "1.2.0",
      "model_name": "LayoutModel",
      "state": {}
     },
     "e37df288be424a1e9f588e430b2369f8": {
      "model_module": "@jupyter-widgets/base",
      "model_module_version": "1.2.0",
      "model_name": "LayoutModel",
      "state": {}
     },
     "e3c942645a6a4cf181b98fe484be6cf9": {
      "model_module": "@jupyter-widgets/base",
      "model_module_version": "1.2.0",
      "model_name": "LayoutModel",
      "state": {}
     },
     "e41e2337c2bd44348b5fcf2c4e383588": {
      "model_module": "@jupyter-widgets/controls",
      "model_module_version": "1.5.0",
      "model_name": "HTMLModel",
      "state": {
       "layout": "IPY_MODEL_308cdd7f09cc43d6891b40bfbe16c3f4",
       "style": "IPY_MODEL_c5f2cbe36550421d8c83b5c34002aa7a",
       "value": "Epoch [25/50]: 100%|██████████| 43/43 [00:10&lt;00:00,  4.13it/s, loss=0.00218]"
      }
     },
     "e43c402c89304283a5db4e8e8aea910e": {
      "model_module": "@jupyter-widgets/controls",
      "model_module_version": "1.5.0",
      "model_name": "DescriptionStyleModel",
      "state": {
       "description_width": ""
      }
     },
     "e4485b5e69914b9e971b56781dada398": {
      "model_module": "@jupyter-widgets/controls",
      "model_module_version": "1.5.0",
      "model_name": "HBoxModel",
      "state": {
       "children": [
        "IPY_MODEL_ea6bcc0406c6484da4c36f4ceecdcdc3",
        "IPY_MODEL_863acaa92bc04c18975568ec52574af0"
       ],
       "layout": "IPY_MODEL_f6e5fb0b38e54ae1b23715f171eac4ff"
      }
     },
     "e44c46df7caa4e15947e7a0856436d05": {
      "model_module": "@jupyter-widgets/base",
      "model_module_version": "1.2.0",
      "model_name": "LayoutModel",
      "state": {}
     },
     "e47375c2105741cd99027d232be9c11e": {
      "model_module": "@jupyter-widgets/controls",
      "model_module_version": "1.5.0",
      "model_name": "HBoxModel",
      "state": {
       "children": [
        "IPY_MODEL_a66207afd7244451bee98e73bed12575",
        "IPY_MODEL_31b25d74eabf44adba8b2bb3aaf72880"
       ],
       "layout": "IPY_MODEL_186dac5f678e4388b764793526b12ddc"
      }
     },
     "e494c510bbaf482297326b682e2f5fdf": {
      "model_module": "@jupyter-widgets/controls",
      "model_module_version": "1.5.0",
      "model_name": "FloatProgressModel",
      "state": {
       "bar_style": "success",
       "layout": "IPY_MODEL_4b52114678944f0e82b77d4345bb6347",
       "max": 246,
       "style": "IPY_MODEL_fa1e73d45da54130bd159c0634eb0666",
       "value": 246
      }
     },
     "e53ee1b8e9f94636977be93be57808df": {
      "model_module": "@jupyter-widgets/controls",
      "model_module_version": "1.5.0",
      "model_name": "FloatProgressModel",
      "state": {
       "bar_style": "success",
       "layout": "IPY_MODEL_8b9d5a2fa71a4966aa1d037dd06d6e86",
       "max": 43,
       "style": "IPY_MODEL_ea9086bd05e64f04bf06bae0c1853002",
       "value": 43
      }
     },
     "e5adc608422c4a43a3d07a77fcedd567": {
      "model_module": "@jupyter-widgets/controls",
      "model_module_version": "1.5.0",
      "model_name": "DescriptionStyleModel",
      "state": {
       "description_width": ""
      }
     },
     "e65558c807b344909a86fb3b21d00493": {
      "model_module": "@jupyter-widgets/base",
      "model_module_version": "1.2.0",
      "model_name": "LayoutModel",
      "state": {}
     },
     "e65d1314983b4dd8b9a7c3313fd0ddae": {
      "model_module": "@jupyter-widgets/controls",
      "model_module_version": "1.5.0",
      "model_name": "FloatProgressModel",
      "state": {
       "bar_style": "success",
       "layout": "IPY_MODEL_b4b7e7b9f67d46dc9846a66d2efcfb33",
       "max": 43,
       "style": "IPY_MODEL_4b3a05a3a1764d0b9ea1d667843ec8b4",
       "value": 43
      }
     },
     "e720a44763da40609e935ca2adbc2146": {
      "model_module": "@jupyter-widgets/controls",
      "model_module_version": "1.5.0",
      "model_name": "HTMLModel",
      "state": {
       "layout": "IPY_MODEL_8a6a6bdc0ae34201b480a2c45eebf6df",
       "style": "IPY_MODEL_83ca5f0edad841299bcb0e2f8d6510ef",
       "value": "Epoch [1/2]: 100%|██████████| 246/246 [00:33&lt;00:00,  7.36it/s, loss=0.0313]"
      }
     },
     "e74a540721a64d2b8c8b743ebec1c93c": {
      "model_module": "@jupyter-widgets/controls",
      "model_module_version": "1.5.0",
      "model_name": "FloatProgressModel",
      "state": {
       "bar_style": "success",
       "layout": "IPY_MODEL_4063a8baf9df4cdebd46d4e2d1a9a1b3",
       "max": 43,
       "style": "IPY_MODEL_ac6f714e259c4e6e8df23e2e2eb1f7db",
       "value": 43
      }
     },
     "e74ffc161b574b7ea6bc6cd3591f4b6c": {
      "model_module": "@jupyter-widgets/base",
      "model_module_version": "1.2.0",
      "model_name": "LayoutModel",
      "state": {}
     },
     "e7a5b23eee7e42a28c95f7bf9bc95f42": {
      "model_module": "@jupyter-widgets/controls",
      "model_module_version": "1.5.0",
      "model_name": "HBoxModel",
      "state": {
       "children": [
        "IPY_MODEL_328a6322acd04088a050335b0c89374b",
        "IPY_MODEL_224b525214a44edf86704de487f975ba"
       ],
       "layout": "IPY_MODEL_43ac49fce86b4ebb9abb6146634e1178"
      }
     },
     "e7b1e8e1c6f44a1da3bf076d3104d8fd": {
      "model_module": "@jupyter-widgets/controls",
      "model_module_version": "1.5.0",
      "model_name": "ProgressStyleModel",
      "state": {
       "description_width": "initial"
      }
     },
     "e84119c45b314869b56232e7a14f785b": {
      "model_module": "@jupyter-widgets/controls",
      "model_module_version": "1.5.0",
      "model_name": "HTMLModel",
      "state": {
       "layout": "IPY_MODEL_a72a865d76e44aeab8fca18975d11e66",
       "style": "IPY_MODEL_e914b54ac5824a23af2919012fd4314b",
       "value": "Epoch [22/50]: 100%|██████████| 43/43 [00:10&lt;00:00,  4.13it/s, loss=0.00286]"
      }
     },
     "e877304c30324a19a5987aef9ee05f68": {
      "model_module": "@jupyter-widgets/base",
      "model_module_version": "1.2.0",
      "model_name": "LayoutModel",
      "state": {}
     },
     "e914b54ac5824a23af2919012fd4314b": {
      "model_module": "@jupyter-widgets/controls",
      "model_module_version": "1.5.0",
      "model_name": "DescriptionStyleModel",
      "state": {
       "description_width": ""
      }
     },
     "e93025d091904e958457426fb3e88d63": {
      "model_module": "@jupyter-widgets/controls",
      "model_module_version": "1.5.0",
      "model_name": "HTMLModel",
      "state": {
       "layout": "IPY_MODEL_dd1af1160c81404dbbb13ebe62d3ff82",
       "style": "IPY_MODEL_d6ae10d541ce4d6e96103eae91c1ca88",
       "value": "Epoch [48/50]: 100%|██████████| 43/43 [00:10&lt;00:00,  4.07it/s, loss=0.00125]"
      }
     },
     "e938e48ab1ee46138e57c32ea2ec635f": {
      "model_module": "@jupyter-widgets/base",
      "model_module_version": "1.2.0",
      "model_name": "LayoutModel",
      "state": {}
     },
     "e93c3c8795924fa29395807b1c4fc56b": {
      "model_module": "@jupyter-widgets/controls",
      "model_module_version": "1.5.0",
      "model_name": "FloatProgressModel",
      "state": {
       "bar_style": "success",
       "layout": "IPY_MODEL_5b7370d6032447aebe269f54d8d14613",
       "max": 43,
       "style": "IPY_MODEL_c341f7560b6d49828e3b8e38a7694944",
       "value": 43
      }
     },
     "e96d67942e1746248b09b35b1d9b2f3a": {
      "model_module": "@jupyter-widgets/controls",
      "model_module_version": "1.5.0",
      "model_name": "HBoxModel",
      "state": {
       "children": [
        "IPY_MODEL_6400d7ecb0eb436585548be641678888",
        "IPY_MODEL_e0c2fc5d002c4b6583f8004aa423f9ef"
       ],
       "layout": "IPY_MODEL_a6bf0d572c034b81b9ffce3d5cb68bcf"
      }
     },
     "ea4010b7c45e49fd83fe3cd83d9fe6c7": {
      "model_module": "@jupyter-widgets/controls",
      "model_module_version": "1.5.0",
      "model_name": "FloatProgressModel",
      "state": {
       "bar_style": "success",
       "layout": "IPY_MODEL_2396f5fa2df246fdb75de8462508df04",
       "max": 85,
       "style": "IPY_MODEL_42791111080947c08405c1fcc34aca38",
       "value": 85
      }
     },
     "ea4c0840ff1b4150bd1f4c9d6705ac05": {
      "model_module": "@jupyter-widgets/base",
      "model_module_version": "1.2.0",
      "model_name": "LayoutModel",
      "state": {}
     },
     "ea6bcc0406c6484da4c36f4ceecdcdc3": {
      "model_module": "@jupyter-widgets/controls",
      "model_module_version": "1.5.0",
      "model_name": "FloatProgressModel",
      "state": {
       "bar_style": "success",
       "layout": "IPY_MODEL_18f070a7c43149949caca1a59bd6b9be",
       "max": 85,
       "style": "IPY_MODEL_f80056371728472284f4ba09aa6e4550",
       "value": 85
      }
     },
     "ea9086bd05e64f04bf06bae0c1853002": {
      "model_module": "@jupyter-widgets/controls",
      "model_module_version": "1.5.0",
      "model_name": "ProgressStyleModel",
      "state": {
       "description_width": "initial"
      }
     },
     "eae9a95fce36468c949664bfe3596740": {
      "model_module": "@jupyter-widgets/controls",
      "model_module_version": "1.5.0",
      "model_name": "DescriptionStyleModel",
      "state": {
       "description_width": ""
      }
     },
     "eaec75dedf2249e19f9c2ffde3c389b8": {
      "model_module": "@jupyter-widgets/base",
      "model_module_version": "1.2.0",
      "model_name": "LayoutModel",
      "state": {}
     },
     "eb0abe4eb6c346a6ba127d0e349591cf": {
      "model_module": "@jupyter-widgets/controls",
      "model_module_version": "1.5.0",
      "model_name": "DescriptionStyleModel",
      "state": {
       "description_width": ""
      }
     },
     "eb869770803d40a5823271a00d12deae": {
      "model_module": "@jupyter-widgets/base",
      "model_module_version": "1.2.0",
      "model_name": "LayoutModel",
      "state": {}
     },
     "eb9cbd41fec64856a45c4609eb8984ff": {
      "model_module": "@jupyter-widgets/controls",
      "model_module_version": "1.5.0",
      "model_name": "ProgressStyleModel",
      "state": {
       "description_width": "initial"
      }
     },
     "ec2915b138604e42a460af69ddbb4a77": {
      "model_module": "@jupyter-widgets/base",
      "model_module_version": "1.2.0",
      "model_name": "LayoutModel",
      "state": {}
     },
     "ec4dd599be454416bd7cc78559debc0a": {
      "model_module": "@jupyter-widgets/controls",
      "model_module_version": "1.5.0",
      "model_name": "DescriptionStyleModel",
      "state": {
       "description_width": ""
      }
     },
     "ec4e2e9835bb4bafbeeae4f423d512da": {
      "model_module": "@jupyter-widgets/controls",
      "model_module_version": "1.5.0",
      "model_name": "HBoxModel",
      "state": {
       "children": [
        "IPY_MODEL_e1ed3af01b984017a6852f13cb64c14c",
        "IPY_MODEL_430965d1b666469cbb06245ee95e0b0f"
       ],
       "layout": "IPY_MODEL_967d8402f1184efeae793556d8209018"
      }
     },
     "ec6e9e1e00034d9495137f7d8115237b": {
      "model_module": "@jupyter-widgets/base",
      "model_module_version": "1.2.0",
      "model_name": "LayoutModel",
      "state": {}
     },
     "eca366a8c88b428c97b4366b983f2f02": {
      "model_module": "@jupyter-widgets/base",
      "model_module_version": "1.2.0",
      "model_name": "LayoutModel",
      "state": {}
     },
     "ece2b28545eb44068256e1b75efa5bda": {
      "model_module": "@jupyter-widgets/base",
      "model_module_version": "1.2.0",
      "model_name": "LayoutModel",
      "state": {}
     },
     "ed94a221fb224a408bbd38dfe97c11df": {
      "model_module": "@jupyter-widgets/controls",
      "model_module_version": "1.5.0",
      "model_name": "HBoxModel",
      "state": {
       "children": [
        "IPY_MODEL_d2e8b60390934673a21d38e1eac56955",
        "IPY_MODEL_fb8c729e984d440f8dce36e83b85c685"
       ],
       "layout": "IPY_MODEL_807a2222797e400392db9b9ecf621a9a"
      }
     },
     "eda25062498b40ee9565aebe29243056": {
      "model_module": "@jupyter-widgets/controls",
      "model_module_version": "1.5.0",
      "model_name": "DescriptionStyleModel",
      "state": {
       "description_width": ""
      }
     },
     "edb64bba3b6f48f390ff0ee8ef0e523e": {
      "model_module": "@jupyter-widgets/controls",
      "model_module_version": "1.5.0",
      "model_name": "DescriptionStyleModel",
      "state": {
       "description_width": ""
      }
     },
     "edcd64b4f2a3475cadeceb9df87d193f": {
      "model_module": "@jupyter-widgets/base",
      "model_module_version": "1.2.0",
      "model_name": "LayoutModel",
      "state": {}
     },
     "ee26958ac8714e4aa6b4c9fa2d8782c0": {
      "model_module": "@jupyter-widgets/controls",
      "model_module_version": "1.5.0",
      "model_name": "FloatProgressModel",
      "state": {
       "bar_style": "success",
       "layout": "IPY_MODEL_750fa4ebf0e3413392c456aa45ba212b",
       "max": 43,
       "style": "IPY_MODEL_7109797a9d7847008aefa96bd2e4c60a",
       "value": 43
      }
     },
     "ee329bdfbbac447da79725ed1ca375f1": {
      "model_module": "@jupyter-widgets/base",
      "model_module_version": "1.2.0",
      "model_name": "LayoutModel",
      "state": {}
     },
     "ee69855a5ba2466495cfdd6acf11da37": {
      "model_module": "@jupyter-widgets/controls",
      "model_module_version": "1.5.0",
      "model_name": "DescriptionStyleModel",
      "state": {
       "description_width": ""
      }
     },
     "ee6a20a53184423e9795a044af56aae1": {
      "model_module": "@jupyter-widgets/base",
      "model_module_version": "1.2.0",
      "model_name": "LayoutModel",
      "state": {}
     },
     "ee7bf34cdfc3470297d998534524d91d": {
      "model_module": "@jupyter-widgets/base",
      "model_module_version": "1.2.0",
      "model_name": "LayoutModel",
      "state": {}
     },
     "ee84d81181fc4a778c651085a1d2af9c": {
      "model_module": "@jupyter-widgets/base",
      "model_module_version": "1.2.0",
      "model_name": "LayoutModel",
      "state": {}
     },
     "eea45b09d8a04084bcf4d26a4da6641c": {
      "model_module": "@jupyter-widgets/base",
      "model_module_version": "1.2.0",
      "model_name": "LayoutModel",
      "state": {}
     },
     "ef2d24a3c7dc45b2824f5c86ab4922e6": {
      "model_module": "@jupyter-widgets/base",
      "model_module_version": "1.2.0",
      "model_name": "LayoutModel",
      "state": {}
     },
     "ef2fb131cd064b739f732fa296f38339": {
      "model_module": "@jupyter-widgets/controls",
      "model_module_version": "1.5.0",
      "model_name": "HTMLModel",
      "state": {
       "layout": "IPY_MODEL_bab5b381426d4d04940e03731a498127",
       "style": "IPY_MODEL_b3eb5295d0a94f559f94865586b5f75c",
       "value": "Epoch [4/50]: 100%|██████████| 43/43 [00:10&lt;00:00,  4.07it/s, loss=0.0181]"
      }
     },
     "ef3f5d28152d46cf8c2391652659491a": {
      "model_module": "@jupyter-widgets/controls",
      "model_module_version": "1.5.0",
      "model_name": "DescriptionStyleModel",
      "state": {
       "description_width": ""
      }
     },
     "ef44218611d94022933439b5713dcb42": {
      "model_module": "@jupyter-widgets/controls",
      "model_module_version": "1.5.0",
      "model_name": "ProgressStyleModel",
      "state": {
       "description_width": "initial"
      }
     },
     "ef9588824d34441da418b747dd8b2b93": {
      "model_module": "@jupyter-widgets/controls",
      "model_module_version": "1.5.0",
      "model_name": "FloatProgressModel",
      "state": {
       "bar_style": "success",
       "layout": "IPY_MODEL_9c145c788b424d029e7b1ab84aeec0a0",
       "max": 85,
       "style": "IPY_MODEL_424be86f053d416a9483fc1f63b2c620",
       "value": 85
      }
     },
     "ef9bdb266dc64e919f61a31d72c88035": {
      "model_module": "@jupyter-widgets/base",
      "model_module_version": "1.2.0",
      "model_name": "LayoutModel",
      "state": {}
     },
     "efbb747e78e146b7842136e47f9a7c39": {
      "model_module": "@jupyter-widgets/controls",
      "model_module_version": "1.5.0",
      "model_name": "ProgressStyleModel",
      "state": {
       "description_width": "initial"
      }
     },
     "efd0b5aa9edb4468884ddd2ede0d2885": {
      "model_module": "@jupyter-widgets/controls",
      "model_module_version": "1.5.0",
      "model_name": "HBoxModel",
      "state": {
       "children": [
        "IPY_MODEL_430880635abd49da9dcb62d68606ab17",
        "IPY_MODEL_0da1f648e2624eea969f87445b223443"
       ],
       "layout": "IPY_MODEL_b623f7c263cb4b52a27e2508033313e7"
      }
     },
     "f0490a0380a645d4aa82a8d74fae8244": {
      "model_module": "@jupyter-widgets/controls",
      "model_module_version": "1.5.0",
      "model_name": "DescriptionStyleModel",
      "state": {
       "description_width": ""
      }
     },
     "f0a5fd569f2249d1bacfc73f834ff4e9": {
      "model_module": "@jupyter-widgets/controls",
      "model_module_version": "1.5.0",
      "model_name": "ProgressStyleModel",
      "state": {
       "description_width": "initial"
      }
     },
     "f1be49d83c3d4222b265c8e74bed2278": {
      "model_module": "@jupyter-widgets/controls",
      "model_module_version": "1.5.0",
      "model_name": "FloatProgressModel",
      "state": {
       "bar_style": "success",
       "layout": "IPY_MODEL_2ff7775067fe4dc8b55ac163b98ba4f0",
       "max": 246,
       "style": "IPY_MODEL_85e3a23da07949dfa6b0165fe1eeed1f",
       "value": 246
      }
     },
     "f1e86e80ca394880a16ab9016751f77c": {
      "model_module": "@jupyter-widgets/base",
      "model_module_version": "1.2.0",
      "model_name": "LayoutModel",
      "state": {}
     },
     "f1f4b6dfddce46898852169504bf5807": {
      "model_module": "@jupyter-widgets/controls",
      "model_module_version": "1.5.0",
      "model_name": "ProgressStyleModel",
      "state": {
       "description_width": "initial"
      }
     },
     "f24d8ea4a24c4fb6b8d5a1181a4bc4f7": {
      "model_module": "@jupyter-widgets/controls",
      "model_module_version": "1.5.0",
      "model_name": "FloatProgressModel",
      "state": {
       "bar_style": "success",
       "layout": "IPY_MODEL_70448b6a661f4065b6a80fc5d5ad1401",
       "max": 85,
       "style": "IPY_MODEL_c8b7cc15ea9143b3ae949bf03248a11e",
       "value": 85
      }
     },
     "f28ec78e28194549b81f931d35ebf061": {
      "model_module": "@jupyter-widgets/controls",
      "model_module_version": "1.5.0",
      "model_name": "HBoxModel",
      "state": {
       "children": [
        "IPY_MODEL_b39a121244ac43a890ec38d75cbeb6ad",
        "IPY_MODEL_fcd2f5485323430eae382a40be24b8d2"
       ],
       "layout": "IPY_MODEL_583ce396559c4aabaf43d70520496aa0"
      }
     },
     "f30ab5039595481d91662b77cf4c043f": {
      "model_module": "@jupyter-widgets/base",
      "model_module_version": "1.2.0",
      "model_name": "LayoutModel",
      "state": {}
     },
     "f35cb8dc9a43402d9b327e600822d64d": {
      "model_module": "@jupyter-widgets/controls",
      "model_module_version": "1.5.0",
      "model_name": "HBoxModel",
      "state": {
       "children": [
        "IPY_MODEL_7425b0a9f957444682fc1c769f18b98c",
        "IPY_MODEL_5a361591619443a291e4fe5318429e3e"
       ],
       "layout": "IPY_MODEL_eea45b09d8a04084bcf4d26a4da6641c"
      }
     },
     "f39797579bce4c86ac0b759df43d02d1": {
      "model_module": "@jupyter-widgets/base",
      "model_module_version": "1.2.0",
      "model_name": "LayoutModel",
      "state": {}
     },
     "f3e51df856a741f99138629a4d8c4d6c": {
      "model_module": "@jupyter-widgets/controls",
      "model_module_version": "1.5.0",
      "model_name": "HTMLModel",
      "state": {
       "layout": "IPY_MODEL_0e2c4a2466fb46f08d706b7b50429d29",
       "style": "IPY_MODEL_66210b0853ef4e3c89e86222661e7b79",
       "value": "Epoch [37/50]: 100%|██████████| 43/43 [00:10&lt;00:00,  4.22it/s, loss=0.00139]"
      }
     },
     "f4830413cea74a9dbd4292a7957677d0": {
      "model_module": "@jupyter-widgets/controls",
      "model_module_version": "1.5.0",
      "model_name": "ProgressStyleModel",
      "state": {
       "description_width": "initial"
      }
     },
     "f4a6856561344cdca967109cd7f27c73": {
      "model_module": "@jupyter-widgets/controls",
      "model_module_version": "1.5.0",
      "model_name": "HBoxModel",
      "state": {
       "children": [
        "IPY_MODEL_295ac53d8df144bd84f82d67e5c7616e",
        "IPY_MODEL_85962d8663ff46a3a793926ebfc86283"
       ],
       "layout": "IPY_MODEL_5f7e8ab9874d4989a08c7c298f463c81"
      }
     },
     "f50fee0367be4c7cbedc7b41e836699d": {
      "model_module": "@jupyter-widgets/controls",
      "model_module_version": "1.5.0",
      "model_name": "HBoxModel",
      "state": {
       "children": [
        "IPY_MODEL_e74a540721a64d2b8c8b743ebec1c93c",
        "IPY_MODEL_7dfbc73ded3b437a876227c169e119d9"
       ],
       "layout": "IPY_MODEL_f1e86e80ca394880a16ab9016751f77c"
      }
     },
     "f53198fd1f4641c0a4aff22b7befbc32": {
      "model_module": "@jupyter-widgets/controls",
      "model_module_version": "1.5.0",
      "model_name": "ProgressStyleModel",
      "state": {
       "description_width": "initial"
      }
     },
     "f54cb62f84ac4856ae9dc64321f60996": {
      "model_module": "@jupyter-widgets/controls",
      "model_module_version": "1.5.0",
      "model_name": "HBoxModel",
      "state": {
       "children": [
        "IPY_MODEL_2e995a8e12b74557be9591e030e5d0dc",
        "IPY_MODEL_c74c22d9e23d4004a65bd0e3c3c29e6f"
       ],
       "layout": "IPY_MODEL_c1a78a5fea21439584e85393e25b3ae0"
      }
     },
     "f572b0c2e1ae4c2ca8e0a91540a43b4e": {
      "model_module": "@jupyter-widgets/base",
      "model_module_version": "1.2.0",
      "model_name": "LayoutModel",
      "state": {}
     },
     "f5acf92adb2f4daf967475befd86b001": {
      "model_module": "@jupyter-widgets/base",
      "model_module_version": "1.2.0",
      "model_name": "LayoutModel",
      "state": {}
     },
     "f60e098accb74a14b3d7bc113b76b66d": {
      "model_module": "@jupyter-widgets/controls",
      "model_module_version": "1.5.0",
      "model_name": "HTMLModel",
      "state": {
       "layout": "IPY_MODEL_31e47cbd177940c8bdfe79317f7b91cc",
       "style": "IPY_MODEL_2522d58122dd41ed94e42244a30ae822",
       "value": "Epoch [19/50]: 100%|██████████| 43/43 [00:10&lt;00:00,  4.10it/s, loss=0.00291]"
      }
     },
     "f688a06a7cf140d8a2f4f902ad5d5617": {
      "model_module": "@jupyter-widgets/base",
      "model_module_version": "1.2.0",
      "model_name": "LayoutModel",
      "state": {}
     },
     "f6b69cdd503e41868c071bf22229f6d2": {
      "model_module": "@jupyter-widgets/controls",
      "model_module_version": "1.5.0",
      "model_name": "FloatProgressModel",
      "state": {
       "bar_style": "success",
       "layout": "IPY_MODEL_e3c942645a6a4cf181b98fe484be6cf9",
       "max": 85,
       "style": "IPY_MODEL_87a6e66eda40472aae805ecf0b3c86c8",
       "value": 85
      }
     },
     "f6e5fb0b38e54ae1b23715f171eac4ff": {
      "model_module": "@jupyter-widgets/base",
      "model_module_version": "1.2.0",
      "model_name": "LayoutModel",
      "state": {}
     },
     "f71bad9a636b42b29cbe0ec0958753b3": {
      "model_module": "@jupyter-widgets/controls",
      "model_module_version": "1.5.0",
      "model_name": "HTMLModel",
      "state": {
       "layout": "IPY_MODEL_b25e6fee078f4430889928f40634d6ab",
       "style": "IPY_MODEL_0cced78205704eae9e89bb0cbf18b73e",
       "value": "Epoch [9/50]: 100%|██████████| 85/85 [00:04&lt;00:00, 18.91it/s, loss=0.0451]"
      }
     },
     "f71e9a2877b744039ed7e8cac3525d3b": {
      "model_module": "@jupyter-widgets/controls",
      "model_module_version": "1.5.0",
      "model_name": "DescriptionStyleModel",
      "state": {
       "description_width": ""
      }
     },
     "f775b65f37934799bc8d20e0954cdccb": {
      "model_module": "@jupyter-widgets/controls",
      "model_module_version": "1.5.0",
      "model_name": "DescriptionStyleModel",
      "state": {
       "description_width": ""
      }
     },
     "f7c6264ebd2f4afaa3fb76aa9aa350cc": {
      "model_module": "@jupyter-widgets/base",
      "model_module_version": "1.2.0",
      "model_name": "LayoutModel",
      "state": {}
     },
     "f7f8775d14b54b0084716c34c54c969d": {
      "model_module": "@jupyter-widgets/controls",
      "model_module_version": "1.5.0",
      "model_name": "HTMLModel",
      "state": {
       "layout": "IPY_MODEL_9811fb8dfca2402382b78d80662caf82",
       "style": "IPY_MODEL_8df896dfa86a4ba2950385a32e56ca60",
       "value": "Epoch [19/50]: 100%|██████████| 85/85 [00:12&lt;00:00,  6.85it/s, loss=0.0304]"
      }
     },
     "f80056371728472284f4ba09aa6e4550": {
      "model_module": "@jupyter-widgets/controls",
      "model_module_version": "1.5.0",
      "model_name": "ProgressStyleModel",
      "state": {
       "description_width": "initial"
      }
     },
     "f80d42bc67864bf8bdb19e5c4b959562": {
      "model_module": "@jupyter-widgets/controls",
      "model_module_version": "1.5.0",
      "model_name": "ProgressStyleModel",
      "state": {
       "description_width": "initial"
      }
     },
     "f81f4f88da2f42888dede064eea17e21": {
      "model_module": "@jupyter-widgets/controls",
      "model_module_version": "1.5.0",
      "model_name": "HTMLModel",
      "state": {
       "layout": "IPY_MODEL_e1adc1dfca874b608b5b48f78eb169f9",
       "style": "IPY_MODEL_1e056d4c051848a99ff4d50ff3793342",
       "value": "Epoch [9/10]: 100%|██████████| 246/246 [00:33&lt;00:00,  7.33it/s, loss=0.00231]"
      }
     },
     "f8343486b5c141258d15b381f28bb61e": {
      "model_module": "@jupyter-widgets/controls",
      "model_module_version": "1.5.0",
      "model_name": "HBoxModel",
      "state": {
       "children": [
        "IPY_MODEL_44916afe81fe4faaa9dae9897beb3c38",
        "IPY_MODEL_db7f6b6ff15f497d8a47b69f7710d708"
       ],
       "layout": "IPY_MODEL_506a280a3a4f403a8ceb562136847d57"
      }
     },
     "f84898f0be2045a2a5705e381790a29d": {
      "model_module": "@jupyter-widgets/controls",
      "model_module_version": "1.5.0",
      "model_name": "FloatProgressModel",
      "state": {
       "bar_style": "success",
       "layout": "IPY_MODEL_50535d2c6b5541d9bef43b8cefbaed73",
       "max": 43,
       "style": "IPY_MODEL_df689aa46bdc47b1848163caa4f37d0d",
       "value": 43
      }
     },
     "f8915da2ce034a6e874a50c54013af6f": {
      "model_module": "@jupyter-widgets/controls",
      "model_module_version": "1.5.0",
      "model_name": "HBoxModel",
      "state": {
       "children": [
        "IPY_MODEL_0b8c48f3281c4725923afcc40ef0fb07",
        "IPY_MODEL_2476f526116b4128a38bf6325c942fa5"
       ],
       "layout": "IPY_MODEL_bedc5085512f49b2ae3d85bd70b4e692"
      }
     },
     "f8981edfd7a74cba9b6d31383174e703": {
      "model_module": "@jupyter-widgets/controls",
      "model_module_version": "1.5.0",
      "model_name": "HBoxModel",
      "state": {
       "children": [
        "IPY_MODEL_f24d8ea4a24c4fb6b8d5a1181a4bc4f7",
        "IPY_MODEL_98ae8d67d2904880b0443163159e52c8"
       ],
       "layout": "IPY_MODEL_a8997906934d46459d966beffa010abe"
      }
     },
     "f8a0e7cf5f864a3883558296274c1578": {
      "model_module": "@jupyter-widgets/controls",
      "model_module_version": "1.5.0",
      "model_name": "DescriptionStyleModel",
      "state": {
       "description_width": ""
      }
     },
     "f8a88596f5d64bc6b15dd1b80b69c1ea": {
      "model_module": "@jupyter-widgets/controls",
      "model_module_version": "1.5.0",
      "model_name": "DescriptionStyleModel",
      "state": {
       "description_width": ""
      }
     },
     "f8f401559b704df0ab70cf645d2f5304": {
      "model_module": "@jupyter-widgets/base",
      "model_module_version": "1.2.0",
      "model_name": "LayoutModel",
      "state": {}
     },
     "f8ff185fd13f4f2ca3c8e32a05f635b9": {
      "model_module": "@jupyter-widgets/controls",
      "model_module_version": "1.5.0",
      "model_name": "HBoxModel",
      "state": {
       "children": [
        "IPY_MODEL_1707311967b64234a44a8d00c2d50ded",
        "IPY_MODEL_af0b70bb6fe64a88a17f879d58c4ef1d"
       ],
       "layout": "IPY_MODEL_76c68a69865e4d76a98a8c21626916ec"
      }
     },
     "f93a1b0d8f20464f82049f6789b663ab": {
      "model_module": "@jupyter-widgets/controls",
      "model_module_version": "1.5.0",
      "model_name": "ProgressStyleModel",
      "state": {
       "description_width": "initial"
      }
     },
     "f966e4577258488586299ae54cbe5222": {
      "model_module": "@jupyter-widgets/base",
      "model_module_version": "1.2.0",
      "model_name": "LayoutModel",
      "state": {}
     },
     "f9a4514e047f44c1acf730c7083f28ce": {
      "model_module": "@jupyter-widgets/controls",
      "model_module_version": "1.5.0",
      "model_name": "HTMLModel",
      "state": {
       "layout": "IPY_MODEL_c792c583139b4f67ba53c1c0161dc8fc",
       "style": "IPY_MODEL_545f17eccc394dcfaafb5bdb001c2b1a",
       "value": "Epoch [3/10]: 100%|██████████| 246/246 [00:36&lt;00:00,  6.69it/s, loss=0.00618]"
      }
     },
     "f9b36a4f84544e90920a23baae71509b": {
      "model_module": "@jupyter-widgets/base",
      "model_module_version": "1.2.0",
      "model_name": "LayoutModel",
      "state": {}
     },
     "fa1e73d45da54130bd159c0634eb0666": {
      "model_module": "@jupyter-widgets/controls",
      "model_module_version": "1.5.0",
      "model_name": "ProgressStyleModel",
      "state": {
       "description_width": "initial"
      }
     },
     "fa4ce66b6966436eaff70c8278832217": {
      "model_module": "@jupyter-widgets/controls",
      "model_module_version": "1.5.0",
      "model_name": "HBoxModel",
      "state": {
       "children": [
        "IPY_MODEL_2cae76586619477db8a77964358dfcea",
        "IPY_MODEL_a8522beb36c140c69e9850effad83695"
       ],
       "layout": "IPY_MODEL_fe3e213699ad4e659f7aaf3e4234a83e"
      }
     },
     "fa98a50e7ce0413584efeb9dad6140d5": {
      "model_module": "@jupyter-widgets/controls",
      "model_module_version": "1.5.0",
      "model_name": "HBoxModel",
      "state": {
       "children": [
        "IPY_MODEL_1601e94ec7b04b5380ec20fbb88ec26b",
        "IPY_MODEL_f60e098accb74a14b3d7bc113b76b66d"
       ],
       "layout": "IPY_MODEL_416f4174ad5b4fcbb3cb0a1d4cb53dbf"
      }
     },
     "fb015e37a3a54586b49ba362f02b55f0": {
      "model_module": "@jupyter-widgets/controls",
      "model_module_version": "1.5.0",
      "model_name": "ProgressStyleModel",
      "state": {
       "description_width": "initial"
      }
     },
     "fb8c729e984d440f8dce36e83b85c685": {
      "model_module": "@jupyter-widgets/controls",
      "model_module_version": "1.5.0",
      "model_name": "HTMLModel",
      "state": {
       "layout": "IPY_MODEL_4fe8f524d5fe4b35b89dac04851acfd3",
       "style": "IPY_MODEL_cb789ac86ca7415496a6a077e9f40c0d",
       "value": "Epoch [45/50]: 100%|██████████| 85/85 [00:03&lt;00:00, 23.87it/s, loss=0.0165]"
      }
     },
     "fc7eaa6cd32c4368b5177e5f2e2add49": {
      "model_module": "@jupyter-widgets/controls",
      "model_module_version": "1.5.0",
      "model_name": "HTMLModel",
      "state": {
       "layout": "IPY_MODEL_fe95af560ea945d1b3194b4b2d2a8576",
       "style": "IPY_MODEL_9a7be95ad5034cb8b5e4c4116e6e8ef8",
       "value": "Epoch [49/50]: 100%|██████████| 85/85 [00:03&lt;00:00, 23.72it/s, loss=0.0166]"
      }
     },
     "fcd2f5485323430eae382a40be24b8d2": {
      "model_module": "@jupyter-widgets/controls",
      "model_module_version": "1.5.0",
      "model_name": "HTMLModel",
      "state": {
       "layout": "IPY_MODEL_a4cc795aabb94690a052fdcc5328da18",
       "style": "IPY_MODEL_01100d4ed84f456e9f33510a2858665e",
       "value": "Epoch [44/50]: 100%|██████████| 85/85 [00:03&lt;00:00, 23.64it/s, loss=0.0179]"
      }
     },
     "fd435127f1e54895a6a3dcfb1d780042": {
      "model_module": "@jupyter-widgets/base",
      "model_module_version": "1.2.0",
      "model_name": "LayoutModel",
      "state": {}
     },
     "fd693c0e81954bf4aa1ea558d7f74aec": {
      "model_module": "@jupyter-widgets/controls",
      "model_module_version": "1.5.0",
      "model_name": "FloatProgressModel",
      "state": {
       "bar_style": "success",
       "layout": "IPY_MODEL_578edb33b5af456885ef4711f38d3ba7",
       "max": 85,
       "style": "IPY_MODEL_6d4e2df32cce4b5c892459ba7b5fc0bd",
       "value": 85
      }
     },
     "fddd1331b4ed4c64bb9711a5dd6dd51b": {
      "model_module": "@jupyter-widgets/controls",
      "model_module_version": "1.5.0",
      "model_name": "HBoxModel",
      "state": {
       "children": [
        "IPY_MODEL_61f821bddd7c4f36a17e15c4f2798197",
        "IPY_MODEL_57ab5bc01e2047a5bdc137fc15942168"
       ],
       "layout": "IPY_MODEL_1eac5207aaa4442f81cd2aad3af9b8bb"
      }
     },
     "fe3e213699ad4e659f7aaf3e4234a83e": {
      "model_module": "@jupyter-widgets/base",
      "model_module_version": "1.2.0",
      "model_name": "LayoutModel",
      "state": {}
     },
     "fe79a31630a24a52872e8d9c319169f3": {
      "model_module": "@jupyter-widgets/controls",
      "model_module_version": "1.5.0",
      "model_name": "HBoxModel",
      "state": {
       "children": [
        "IPY_MODEL_475d00bb826444bc896955b914a32368",
        "IPY_MODEL_235ee7afb1e645609715d5551e542960"
       ],
       "layout": "IPY_MODEL_8f2573b6ad384c9fa5a368d18664ebd4"
      }
     },
     "fe95af560ea945d1b3194b4b2d2a8576": {
      "model_module": "@jupyter-widgets/base",
      "model_module_version": "1.2.0",
      "model_name": "LayoutModel",
      "state": {}
     },
     "feaf53ef47b149c1a6405d8c3d31d13a": {
      "model_module": "@jupyter-widgets/controls",
      "model_module_version": "1.5.0",
      "model_name": "HBoxModel",
      "state": {
       "children": [
        "IPY_MODEL_2177da689a764f11a4d3d9a69f1d595b",
        "IPY_MODEL_cdcb34d95bbc4aa889d6fbb6868cbe87"
       ],
       "layout": "IPY_MODEL_b482f5127ca84b0a86d57f19b1061313"
      }
     },
     "fed7da5c1daf4355a2f18786f79e9cd2": {
      "model_module": "@jupyter-widgets/base",
      "model_module_version": "1.2.0",
      "model_name": "LayoutModel",
      "state": {}
     },
     "ff839fd3b7fb48f0b48c83aa7988a03f": {
      "model_module": "@jupyter-widgets/controls",
      "model_module_version": "1.5.0",
      "model_name": "HTMLModel",
      "state": {
       "layout": "IPY_MODEL_7ab9ddae7ed946c4868dfd458a650ab9",
       "style": "IPY_MODEL_65dbc22ec6224ef1bc653901fa1bb45a",
       "value": "Epoch [36/50]: 100%|██████████| 85/85 [00:03&lt;00:00, 23.68it/s, loss=0.0224]"
      }
     }
    },
    "version_major": 2,
    "version_minor": 0
   }
  }
 },
 "nbformat": 4,
 "nbformat_minor": 4
}
