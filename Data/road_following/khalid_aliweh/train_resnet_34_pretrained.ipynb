{
 "cells": [
  {
   "cell_type": "markdown",
   "metadata": {},
   "source": [
    "# Road Follower - Train Model\n",
    "\n",
    "In this notebook we will train a neural network to take an input image, and output a set of x, y values corresponding to a target.\n",
    "\n",
    "We will be using PyTorch deep learning framework to train ResNet18 neural network architecture model for road follower application."
   ]
  },
  {
   "cell_type": "code",
   "execution_count": 1,
   "metadata": {},
   "outputs": [],
   "source": [
    "import torch\n",
    "import torch.optim as optim\n",
    "import torch.nn.functional as F\n",
    "import torchvision\n",
    "import torchvision.datasets as datasets\n",
    "import torchvision.models as models\n",
    "import torchvision.transforms as transforms\n",
    "import glob\n",
    "import PIL.Image\n",
    "import os\n",
    "import numpy as np\n",
    "from ignite.handlers import ModelCheckpoint"
   ]
  },
  {
   "cell_type": "markdown",
   "metadata": {},
   "source": [
    "### Download and extract data\n",
    "\n",
    "Before you start, you should upload the ``road_following_<Date&Time>.zip`` file that you created in the ``data_collection.ipynb`` notebook on the robot. \n",
    "\n",
    "> If you're training on the JetBot you collected data on, you can skip this!\n",
    "\n",
    "You should then extract this dataset by calling the command below:"
   ]
  },
  {
   "cell_type": "code",
   "execution_count": null,
   "metadata": {},
   "outputs": [],
   "source": [
    "!unzip -q road_following.zip"
   ]
  },
  {
   "cell_type": "code",
   "execution_count": 2,
   "metadata": {},
   "outputs": [],
   "source": [
    "def pre_process_pil_image(image_path, image):\n",
    "    x = float(get_x(os.path.basename(image_path)))\n",
    "    y = float(get_y(os.path.basename(image_path)))\n",
    "\n",
    "    color_jitter = transforms.ColorJitter(0.3, 0.3, 0.3, 0.3)\n",
    "    image = color_jitter(image)\n",
    "    image = transforms.functional.resize(image, (224, 224))\n",
    "    image = transforms.functional.to_tensor(image)\n",
    "    image = image.numpy()[::-1].copy()\n",
    "    image = torch.from_numpy(image)\n",
    "    image = transforms.functional.normalize(image, [0.485, 0.456, 0.406], [0.229, 0.224, 0.225])\n",
    "\n",
    "    return image, torch.tensor([x, y]).float()"
   ]
  },
  {
   "cell_type": "markdown",
   "metadata": {},
   "source": [
    "### Create Dataset Instance\n",
    "\n",
    "Here we create a custom ``torch.utils.data.Dataset`` implementation, which implements the ``__len__`` and ``__getitem__`` functions.  This class\n",
    "is responsible for loading images and parsing the x, y values from the image filenames.  Because we implement the ``torch.utils.data.Dataset`` class,\n",
    "we can use all of the torch data utilities :)\n",
    "\n",
    "We hard coded some transformations (like color jitter) into our dataset.  We made random horizontal flips optional (in case you want to follow a non-symmetric path, like a road\n",
    "where we need to 'stay right').  If it doesn't matter whether your robot follows some convention, you could enable flips to augment the dataset."
   ]
  },
  {
   "cell_type": "code",
   "execution_count": 3,
   "metadata": {},
   "outputs": [],
   "source": [
    "def get_x(path):\n",
    "    \"\"\"Gets the x value from the image filename\"\"\"\n",
    "    return (float(int(path[3:6])) - 50.0) / 50.0\n",
    "\n",
    "def get_y(path):\n",
    "    \"\"\"Gets the y value from the image filename\"\"\"\n",
    "    return (float(int(path[7:10])) - 50.0) / 50.0\n",
    "\n",
    "image_paths = glob.glob(os.path.join('dataset_xy', '*.jpg'))\n",
    "\n",
    "import matplotlib.pyplot as plt\n",
    "from PIL import Image\n",
    "\n",
    "\n",
    "augmented_dataset = []\n",
    "for image_path in image_paths:\n",
    "    original_image = PIL.Image.open(image_path)\n",
    "    brightness_enhancer = PIL.ImageEnhance.Brightness(original_image)\n",
    "#     mode_image = original_image.filter(PIL.ImageFilter.ModeFilter(5))        \n",
    "#     blurred_image = original_image.filter(PIL.ImageFilter.GaussianBlur(5))   \n",
    "#     sharp_image = original_image.filter(PIL.ImageFilter.UnsharpMask(7))   \n",
    "#     enhanced_image = original_image.filter(PIL.ImageFilter.EDGE_ENHANCE_MORE())\n",
    "    dark_image = brightness_enhancer.enhance(0.4)\n",
    "#     bright_image = brightness_enhancer.enhance(3)\n",
    "\n",
    "    augmented_dataset.append(pre_process_pil_image(image_path, original_image))            \n",
    "#     augmented_dataset.append(pre_process_pil_image(image_path, mode_image))\n",
    "    augmented_dataset.append(pre_process_pil_image(image_path, dark_image))\n",
    "#     augmented_dataset.append(pre_process_pil_image(image_path, bright_image))\n"
   ]
  },
  {
   "cell_type": "code",
   "execution_count": 4,
   "metadata": {},
   "outputs": [
    {
     "data": {
      "text/plain": [
       "1124"
      ]
     },
     "execution_count": 4,
     "metadata": {},
     "output_type": "execute_result"
    }
   ],
   "source": [
    "len(augmented_dataset)"
   ]
  },
  {
   "cell_type": "code",
   "execution_count": 5,
   "metadata": {},
   "outputs": [
    {
     "data": {
      "text/plain": [
       "562"
      ]
     },
     "execution_count": 5,
     "metadata": {},
     "output_type": "execute_result"
    }
   ],
   "source": [
    "len(image_paths)"
   ]
  },
  {
   "cell_type": "markdown",
   "metadata": {},
   "source": [
    "### Split dataset into train and test sets\n",
    "Once we read dataset, we will split data set in train and test sets. In this example we split train and test a 90%-10%. The test set will be used to verify the accuracy of the model we train."
   ]
  },
  {
   "cell_type": "code",
   "execution_count": 7,
   "metadata": {},
   "outputs": [],
   "source": [
    "test_percent = 0.3\n",
    "num_test = int(test_percent * len(augmented_dataset))\n",
    "train_dataset, test_dataset = torch.utils.data.random_split(augmented_dataset, [len(augmented_dataset) - num_test, num_test])"
   ]
  },
  {
   "cell_type": "markdown",
   "metadata": {},
   "source": [
    "### Create data loaders to load data in batches\n",
    "\n",
    "We use ``DataLoader`` class to load data in batches, shuffle data and allow using multi-subprocesses. In this example we use batch size of 64. Batch size will be based on memory available with your GPU and it can impact accuracy of the model."
   ]
  },
  {
   "cell_type": "code",
   "execution_count": 7,
   "metadata": {},
   "outputs": [],
   "source": [
    "train_loader = torch.utils.data.DataLoader(\n",
    "    train_dataset,\n",
    "    batch_size=16,\n",
    "    shuffle=True,\n",
    "    num_workers=4 # Only one worker to work around windows10 bug!\n",
    ")\n",
    "\n",
    "test_loader = torch.utils.data.DataLoader(\n",
    "    test_dataset,\n",
    "    batch_size=16,\n",
    "    shuffle=True,\n",
    "    num_workers=4 # Only one worker to work around windows10 bug!\n",
    ")"
   ]
  },
  {
   "cell_type": "markdown",
   "metadata": {},
   "source": [
    "### Define Neural Network Model \n",
    "\n",
    "We use ResNet-18 model available on PyTorch TorchVision. \n",
    "\n",
    "In a process called transfer learning, we can repurpose a pre-trained model (trained on millions of images) for a new task that has possibly much less data available.\n",
    "\n",
    "\n",
    "More details on ResNet-18 : https://github.com/pytorch/vision/blob/master/torchvision/models/resnet.py\n",
    "\n",
    "More Details on Transfer Learning: https://www.youtube.com/watch?v=yofjFQddwHE "
   ]
  },
  {
   "cell_type": "code",
   "execution_count": null,
   "metadata": {},
   "outputs": [],
   "source": [
    "model = models.resnet18(pretrained=False, progress=True)"
   ]
  },
  {
   "cell_type": "markdown",
   "metadata": {},
   "source": [
    "ResNet model has fully connect (fc) final layer with 512 as ``in_features`` and we will be training for regression thus ``out_features`` as 1\n",
    "\n",
    "Finally, we transfer our model for execution on the GPU"
   ]
  },
  {
   "cell_type": "code",
   "execution_count": null,
   "metadata": {},
   "outputs": [],
   "source": [
    "model.fc = torch.nn.Linear(512, 2)\n",
    "device = torch.device('cuda')\n",
    "model = model.to(device)"
   ]
  },
  {
   "cell_type": "markdown",
   "metadata": {},
   "source": [
    "<span style=\"font-family: Arial; font-size:1.4em;color:blue;\">The restnet model layers</span>"
   ]
  },
  {
   "cell_type": "code",
   "execution_count": null,
   "metadata": {
    "scrolled": false
   },
   "outputs": [],
   "source": [
    "for idx, m in enumerate(model.modules()):\n",
    "    print(idx, '->', m)"
   ]
  },
  {
   "cell_type": "markdown",
   "metadata": {},
   "source": [
    "### Train Regression:\n",
    "\n",
    "We train for 50 epochs and save best model if the loss is reduced. "
   ]
  },
  {
   "cell_type": "code",
   "execution_count": null,
   "metadata": {},
   "outputs": [],
   "source": [
    "NUM_EPOCHS = 1\n",
    "BEST_MODEL_PATH = 'best_augmented_steering_model_xy_1.pth'\n",
    "optimizer = optim.Adam(model.parameters())\n",
    "\n",
    "import time\n",
    "\n",
    "print('Statring training ....')\n",
    "val_loss_total = np.array([])\n",
    "loss_total = np.array([])\n",
    "best_loss = 1e9\n",
    "\n",
    "total = 0\n",
    "\n",
    "train_accuracy = 0.0\n",
    "validation_accuracy = 0.0\n",
    "equality = 0.0\n",
    "test_loss = 0.0\n",
    "train_accuracy = 0.0\n",
    "\n",
    "since = time.time()\n",
    "\n",
    "# def accuracy_quick(model, data_x, data_y):\n",
    "#     # calling code must set mode = 'train' or 'eval'\n",
    "#     X = T.Tensor(data_x)\n",
    "#     Y = T.LongTensor(data_y)\n",
    "#     oupt = model(X)\n",
    "#     (max_vals, arg_maxs) = T.max(oupt.data, dim=1) \n",
    "#     # arg_maxs is tensor of indices [0, 1, 0, 2, 1, 1 . . ]\n",
    "#     num_correct = T.sum(Y==arg_maxs)\n",
    "#     acc = (num_correct * 100.0 / len(data_y))\n",
    "#     return acc.item()  # percentage based\n",
    "\n",
    "\n",
    "# def accuracy(true,pred):\n",
    "#     acc = (true.max(-1) == pred.max(-1)).float().detach().numpy()\n",
    "#     return float(100 * acc.sum() / len(acc))\n",
    "\n",
    "for epoch in range(NUM_EPOCHS):\n",
    "    print('Epoch {}/{}'.format(epoch, NUM_EPOCHS - 1))\n",
    "    print('-' * 10)\n",
    "    \n",
    "    model.train()\n",
    "    train_loss = 0.0\n",
    "#     train_accuracy = 0.0\n",
    "    \n",
    "#     running_loss = 0.0\n",
    "    running_corrects = 0\n",
    "    \n",
    "    for images, labels in iter(train_loader):\n",
    "        images = images.to(device)\n",
    "        labels = labels.to(device)\n",
    "        optimizer.zero_grad()\n",
    "        outputs = model(images)\n",
    "        loss = F.mse_loss(outputs, labels) \n",
    "        preds = torch.max(outputs.data,1)\n",
    "        train_loss += float(loss)\n",
    "        loss.backward()\n",
    "        optimizer.step()\n",
    "    train_loss /= len(train_loader)\n",
    "    epoch_acc =  running_corrects / len(train_loader)\n",
    "    \n",
    "\n",
    "\n",
    "    model.eval()\n",
    "    test_loss = 0.0\n",
    "    for images, labels in iter(test_loader):\n",
    "        images = images.to(device)\n",
    "        labels = labels.to(device)\n",
    "        outputs = model(images)\n",
    "        loss = F.mse_loss(outputs, labels)\n",
    "        test_loss += float(loss)\n",
    "    test_loss /= len(test_loader)\n",
    "\n",
    "    loss_total = np.append(loss_total,[train_loss])\n",
    "    val_loss_total = np.append(val_loss_total,[test_loss])\n",
    "#     print('{} Loss: {:.4f} Acc: {:.4f}'.format(\n",
    "#                 epoch, test_loss, epoch_acc))\n",
    "    \n",
    "    print('Train Loss: {:.4f} Validation Loss: {:.4f} '.format(train_loss, test_loss))\n",
    "#     print('train accuracy %f' % (train_accuracy))\n",
    "\n",
    "    if test_loss < best_loss:\n",
    "        print(f\"saving to best model file in epoch {epoch}\")\n",
    "        torch.save(model.state_dict(), BEST_MODEL_PATH)\n",
    "        print('done saving')\n",
    "        best_loss = test_loss"
   ]
  },
  {
   "cell_type": "code",
   "execution_count": null,
   "metadata": {},
   "outputs": [],
   "source": [
    "epochs = range(NUM_EPOCHS)\n",
    "\n",
    "import matplotlib.pyplot as plt\n",
    "\n",
    "plt.figure()\n",
    "\n",
    "plt.plot(epochs, loss_total, 'bo', label='Training loss')\n",
    "plt.plot(epochs, val_loss_total, 'b', label='Validation loss')\n",
    "plt.title('Training and validation loss')\n",
    "plt.legend()\n",
    "\n",
    "plt.show()"
   ]
  },
  {
   "cell_type": "code",
   "execution_count": null,
   "metadata": {},
   "outputs": [],
   "source": [
    "epochs = range(NUM_EPOCHS)\n",
    "import matplotlib.pyplot as plt\n",
    "\n",
    "plt.figure()\n",
    "\n",
    "plt.plot(epochs, loss_total, 'bo', label='Training loss')\n",
    "plt.plot(epochs, val_loss_total, 'b', label='Validation loss')\n",
    "plt.title('Training and validation loss')\n",
    "plt.legend()\n",
    "\n",
    "plt.show()"
   ]
  },
  {
   "cell_type": "code",
   "execution_count": null,
   "metadata": {},
   "outputs": [],
   "source": [
    " torch.save(model.state_dict(), BEST_MODEL_PATH)"
   ]
  },
  {
   "cell_type": "markdown",
   "metadata": {},
   "source": [
    "Once the model is trained, it will generate ``best_steering_model_xy.pth`` file which you can use for inferencing in the live demo notebook.\n",
    "\n",
    "If you trained on a different machine other than JetBot, you'll need to upload this to the JetBot to the ``road_following`` example folder."
   ]
  },
  {
   "cell_type": "code",
   "execution_count": 8,
   "metadata": {
    "scrolled": false
   },
   "outputs": [
    {
     "name": "stderr",
     "output_type": "stream",
     "text": [
      "C:\\Users\\khali\\anaconda3\\envs\\python3env\\lib\\site-packages\\ignite\\handlers\\checkpoint.py:702: UserWarning: Argument save_interval is deprecated and should be None. This argument will be removed in 0.5.0.Please, use events filtering instead, e.g. Events.ITERATION_STARTED(every=1000)\n",
      "  warnings.warn(msg)\n"
     ]
    },
    {
     "data": {
      "application/vnd.jupyter.widget-view+json": {
       "model_id": "2ac2f31799894b0e8585c0f5412deba0",
       "version_major": 2,
       "version_minor": 0
      },
      "text/plain": [
       "HBox(children=(FloatProgress(value=0.0, max=99.0), HTML(value='')))"
      ]
     },
     "metadata": {},
     "output_type": "display_data"
    },
    {
     "name": "stdout",
     "output_type": "stream",
     "text": [
      "Epoch[1] Loss: 0.0581\n",
      "\n",
      "Training Results - Epoch: 1  Avg accuracy: 0.814 Avg loss: 0.0609\n",
      "Validation Results - Epoch: 1  Avg accuracy: 0.865 Avg loss: 0.0404\n"
     ]
    },
    {
     "data": {
      "application/vnd.jupyter.widget-view+json": {
       "model_id": "95367e163d604564a4b6206280e94563",
       "version_major": 2,
       "version_minor": 0
      },
      "text/plain": [
       "HBox(children=(FloatProgress(value=0.0, max=99.0), HTML(value='')))"
      ]
     },
     "metadata": {},
     "output_type": "display_data"
    },
    {
     "name": "stdout",
     "output_type": "stream",
     "text": [
      "Epoch[2] Loss: 0.0336\n",
      "Epoch[2] Loss: 0.0115\n",
      "\n",
      "Training Results - Epoch: 2  Avg accuracy: 0.898 Avg loss: 0.0102\n",
      "Validation Results - Epoch: 2  Avg accuracy: 0.896 Avg loss: 0.0088\n"
     ]
    },
    {
     "data": {
      "application/vnd.jupyter.widget-view+json": {
       "model_id": "46ddbc25253f43698c105b71c7abb63f",
       "version_major": 2,
       "version_minor": 0
      },
      "text/plain": [
       "HBox(children=(FloatProgress(value=0.0, max=99.0), HTML(value='')))"
      ]
     },
     "metadata": {},
     "output_type": "display_data"
    },
    {
     "name": "stdout",
     "output_type": "stream",
     "text": [
      "Epoch[3] Loss: 0.0117\n",
      "Epoch[3] Loss: 0.0267\n",
      "\n",
      "Training Results - Epoch: 3  Avg accuracy: 0.889 Avg loss: 0.0044\n",
      "Validation Results - Epoch: 3  Avg accuracy: 0.914 Avg loss: 0.0049\n"
     ]
    },
    {
     "data": {
      "application/vnd.jupyter.widget-view+json": {
       "model_id": "24fe91bf9ad340508d9cb373f4f4120c",
       "version_major": 2,
       "version_minor": 0
      },
      "text/plain": [
       "HBox(children=(FloatProgress(value=0.0, max=99.0), HTML(value='')))"
      ]
     },
     "metadata": {},
     "output_type": "display_data"
    },
    {
     "name": "stdout",
     "output_type": "stream",
     "text": [
      "Epoch[4] Loss: 0.0041\n",
      "Epoch[4] Loss: 0.0028\n",
      "\n",
      "Training Results - Epoch: 4  Avg accuracy: 0.921 Avg loss: 0.0037\n",
      "Validation Results - Epoch: 4  Avg accuracy: 0.923 Avg loss: 0.0037\n"
     ]
    },
    {
     "data": {
      "application/vnd.jupyter.widget-view+json": {
       "model_id": "bf26c64372c84fc59c2bf883a5cdac66",
       "version_major": 2,
       "version_minor": 0
      },
      "text/plain": [
       "HBox(children=(FloatProgress(value=0.0, max=99.0), HTML(value='')))"
      ]
     },
     "metadata": {},
     "output_type": "display_data"
    },
    {
     "name": "stdout",
     "output_type": "stream",
     "text": [
      "Epoch[5] Loss: 0.0096\n",
      "Epoch[5] Loss: 0.0040\n",
      "\n",
      "Training Results - Epoch: 5  Avg accuracy: 0.867 Avg loss: 0.0026\n",
      "Validation Results - Epoch: 5  Avg accuracy: 0.889 Avg loss: 0.0035\n"
     ]
    },
    {
     "data": {
      "application/vnd.jupyter.widget-view+json": {
       "model_id": "9e310aa2b35c424c96505b01d144252f",
       "version_major": 2,
       "version_minor": 0
      },
      "text/plain": [
       "HBox(children=(FloatProgress(value=0.0, max=99.0), HTML(value='')))"
      ]
     },
     "metadata": {},
     "output_type": "display_data"
    },
    {
     "name": "stdout",
     "output_type": "stream",
     "text": [
      "Epoch[6] Loss: 0.0016\n",
      "Epoch[6] Loss: 0.0023\n",
      "\n",
      "Training Results - Epoch: 6  Avg accuracy: 0.912 Avg loss: 0.0032\n",
      "Validation Results - Epoch: 6  Avg accuracy: 0.927 Avg loss: 0.0037\n"
     ]
    },
    {
     "data": {
      "application/vnd.jupyter.widget-view+json": {
       "model_id": "d9ae842bc2c34dce8d1028e7901e0c3c",
       "version_major": 2,
       "version_minor": 0
      },
      "text/plain": [
       "HBox(children=(FloatProgress(value=0.0, max=99.0), HTML(value='')))"
      ]
     },
     "metadata": {},
     "output_type": "display_data"
    },
    {
     "name": "stdout",
     "output_type": "stream",
     "text": [
      "Epoch[7] Loss: 0.0024\n",
      "Epoch[7] Loss: 0.0031\n",
      "\n",
      "Training Results - Epoch: 7  Avg accuracy: 0.859 Avg loss: 0.0013\n",
      "Validation Results - Epoch: 7  Avg accuracy: 0.872 Avg loss: 0.0022\n"
     ]
    },
    {
     "data": {
      "application/vnd.jupyter.widget-view+json": {
       "model_id": "2dd285cf8b3b464cbd3b5d2e16d86627",
       "version_major": 2,
       "version_minor": 0
      },
      "text/plain": [
       "HBox(children=(FloatProgress(value=0.0, max=99.0), HTML(value='')))"
      ]
     },
     "metadata": {},
     "output_type": "display_data"
    },
    {
     "name": "stdout",
     "output_type": "stream",
     "text": [
      "Epoch[8] Loss: 0.0007\n",
      "Epoch[8] Loss: 0.0007\n",
      "\n",
      "Training Results - Epoch: 8  Avg accuracy: 0.941 Avg loss: 0.0010\n",
      "Validation Results - Epoch: 8  Avg accuracy: 0.953 Avg loss: 0.0017\n"
     ]
    },
    {
     "data": {
      "application/vnd.jupyter.widget-view+json": {
       "model_id": "204f6c3f361943ec8fb7e33ff03cee6f",
       "version_major": 2,
       "version_minor": 0
      },
      "text/plain": [
       "HBox(children=(FloatProgress(value=0.0, max=99.0), HTML(value='')))"
      ]
     },
     "metadata": {},
     "output_type": "display_data"
    },
    {
     "name": "stdout",
     "output_type": "stream",
     "text": [
      "Epoch[9] Loss: 0.0010\n",
      "Epoch[9] Loss: 0.0017\n",
      "\n",
      "Training Results - Epoch: 9  Avg accuracy: 0.875 Avg loss: 0.0011\n",
      "Validation Results - Epoch: 9  Avg accuracy: 0.902 Avg loss: 0.0018\n"
     ]
    },
    {
     "data": {
      "application/vnd.jupyter.widget-view+json": {
       "model_id": "4162a34c39dd4d6c816ad8eeca78c032",
       "version_major": 2,
       "version_minor": 0
      },
      "text/plain": [
       "HBox(children=(FloatProgress(value=0.0, max=99.0), HTML(value='')))"
      ]
     },
     "metadata": {},
     "output_type": "display_data"
    },
    {
     "name": "stdout",
     "output_type": "stream",
     "text": [
      "Epoch[10] Loss: 0.0024\n",
      "Epoch[10] Loss: 0.0017\n",
      "\n",
      "Training Results - Epoch: 10  Avg accuracy: 0.929 Avg loss: 0.0011\n",
      "Validation Results - Epoch: 10  Avg accuracy: 0.942 Avg loss: 0.0022\n"
     ]
    },
    {
     "data": {
      "application/vnd.jupyter.widget-view+json": {
       "model_id": "a5fec5b1d78a4be89e17f0a14757ebe8",
       "version_major": 2,
       "version_minor": 0
      },
      "text/plain": [
       "HBox(children=(FloatProgress(value=0.0, max=99.0), HTML(value='')))"
      ]
     },
     "metadata": {},
     "output_type": "display_data"
    },
    {
     "name": "stdout",
     "output_type": "stream",
     "text": [
      "Epoch[11] Loss: 0.0011\n",
      "Epoch[11] Loss: 0.0018\n",
      "\n",
      "Training Results - Epoch: 11  Avg accuracy: 0.957 Avg loss: 0.0033\n",
      "Validation Results - Epoch: 11  Avg accuracy: 0.944 Avg loss: 0.0035\n"
     ]
    },
    {
     "data": {
      "application/vnd.jupyter.widget-view+json": {
       "model_id": "0f959a1e244c4a5f9381b41e82b41cc5",
       "version_major": 2,
       "version_minor": 0
      },
      "text/plain": [
       "HBox(children=(FloatProgress(value=0.0, max=99.0), HTML(value='')))"
      ]
     },
     "metadata": {},
     "output_type": "display_data"
    },
    {
     "name": "stdout",
     "output_type": "stream",
     "text": [
      "Epoch[12] Loss: 0.0012\n",
      "Epoch[12] Loss: 0.0009\n",
      "\n",
      "Training Results - Epoch: 12  Avg accuracy: 0.868 Avg loss: 0.0009\n",
      "Validation Results - Epoch: 12  Avg accuracy: 0.904 Avg loss: 0.0016\n"
     ]
    },
    {
     "data": {
      "application/vnd.jupyter.widget-view+json": {
       "model_id": "d0fcdb59c9b04629aeff7b20d215cfe2",
       "version_major": 2,
       "version_minor": 0
      },
      "text/plain": [
       "HBox(children=(FloatProgress(value=0.0, max=99.0), HTML(value='')))"
      ]
     },
     "metadata": {},
     "output_type": "display_data"
    },
    {
     "name": "stdout",
     "output_type": "stream",
     "text": [
      "Epoch[13] Loss: 0.0011\n",
      "Epoch[13] Loss: 0.0016\n",
      "\n",
      "Training Results - Epoch: 13  Avg accuracy: 0.956 Avg loss: 0.0015\n",
      "Validation Results - Epoch: 13  Avg accuracy: 0.955 Avg loss: 0.0021\n"
     ]
    },
    {
     "data": {
      "application/vnd.jupyter.widget-view+json": {
       "model_id": "012d720049584efe8e17595a6bc123d3",
       "version_major": 2,
       "version_minor": 0
      },
      "text/plain": [
       "HBox(children=(FloatProgress(value=0.0, max=99.0), HTML(value='')))"
      ]
     },
     "metadata": {},
     "output_type": "display_data"
    },
    {
     "name": "stdout",
     "output_type": "stream",
     "text": [
      "Epoch[14] Loss: 0.0016\n",
      "Epoch[14] Loss: 0.0009\n",
      "\n",
      "Training Results - Epoch: 14  Avg accuracy: 0.837 Avg loss: 0.0009\n",
      "Validation Results - Epoch: 14  Avg accuracy: 0.861 Avg loss: 0.0016\n"
     ]
    },
    {
     "data": {
      "application/vnd.jupyter.widget-view+json": {
       "model_id": "ef94cebda8354fb8bda86f75180cdf45",
       "version_major": 2,
       "version_minor": 0
      },
      "text/plain": [
       "HBox(children=(FloatProgress(value=0.0, max=99.0), HTML(value='')))"
      ]
     },
     "metadata": {},
     "output_type": "display_data"
    },
    {
     "name": "stdout",
     "output_type": "stream",
     "text": [
      "Epoch[15] Loss: 0.0009\n",
      "Epoch[15] Loss: 0.0005\n",
      "\n",
      "Training Results - Epoch: 15  Avg accuracy: 0.816 Avg loss: 0.0014\n",
      "Validation Results - Epoch: 15  Avg accuracy: 0.850 Avg loss: 0.0019\n"
     ]
    },
    {
     "data": {
      "application/vnd.jupyter.widget-view+json": {
       "model_id": "6621b23c0d4f44f8a731224e141b4c95",
       "version_major": 2,
       "version_minor": 0
      },
      "text/plain": [
       "HBox(children=(FloatProgress(value=0.0, max=99.0), HTML(value='')))"
      ]
     },
     "metadata": {},
     "output_type": "display_data"
    },
    {
     "name": "stdout",
     "output_type": "stream",
     "text": [
      "Epoch[16] Loss: 0.0008\n",
      "Epoch[16] Loss: 0.0009\n",
      "\n",
      "Training Results - Epoch: 16  Avg accuracy: 0.925 Avg loss: 0.0006\n",
      "Validation Results - Epoch: 16  Avg accuracy: 0.941 Avg loss: 0.0010\n"
     ]
    },
    {
     "data": {
      "application/vnd.jupyter.widget-view+json": {
       "model_id": "a7011a6026374abb874303013ef99537",
       "version_major": 2,
       "version_minor": 0
      },
      "text/plain": [
       "HBox(children=(FloatProgress(value=0.0, max=99.0), HTML(value='')))"
      ]
     },
     "metadata": {},
     "output_type": "display_data"
    },
    {
     "name": "stdout",
     "output_type": "stream",
     "text": [
      "Epoch[17] Loss: 0.0005\n",
      "Epoch[17] Loss: 0.0005\n",
      "\n",
      "Training Results - Epoch: 17  Avg accuracy: 0.921 Avg loss: 0.0007\n",
      "Validation Results - Epoch: 17  Avg accuracy: 0.921 Avg loss: 0.0013\n"
     ]
    },
    {
     "data": {
      "application/vnd.jupyter.widget-view+json": {
       "model_id": "c7f2dc36c6cc4339aabd1b66989cd3fa",
       "version_major": 2,
       "version_minor": 0
      },
      "text/plain": [
       "HBox(children=(FloatProgress(value=0.0, max=99.0), HTML(value='')))"
      ]
     },
     "metadata": {},
     "output_type": "display_data"
    },
    {
     "name": "stdout",
     "output_type": "stream",
     "text": [
      "Epoch[18] Loss: 0.0012\n",
      "Epoch[18] Loss: 0.0016\n",
      "\n",
      "Training Results - Epoch: 18  Avg accuracy: 0.899 Avg loss: 0.0011\n",
      "Validation Results - Epoch: 18  Avg accuracy: 0.920 Avg loss: 0.0013\n"
     ]
    },
    {
     "data": {
      "application/vnd.jupyter.widget-view+json": {
       "model_id": "59278dcc0ea94bf09b52fa20f9717f68",
       "version_major": 2,
       "version_minor": 0
      },
      "text/plain": [
       "HBox(children=(FloatProgress(value=0.0, max=99.0), HTML(value='')))"
      ]
     },
     "metadata": {},
     "output_type": "display_data"
    },
    {
     "name": "stdout",
     "output_type": "stream",
     "text": [
      "Epoch[19] Loss: 0.0006\n",
      "Epoch[19] Loss: 0.0010\n",
      "\n",
      "Training Results - Epoch: 19  Avg accuracy: 0.963 Avg loss: 0.0016\n",
      "Validation Results - Epoch: 19  Avg accuracy: 0.957 Avg loss: 0.0020\n"
     ]
    },
    {
     "data": {
      "application/vnd.jupyter.widget-view+json": {
       "model_id": "4607a070c901408eba4774e4e4c962e9",
       "version_major": 2,
       "version_minor": 0
      },
      "text/plain": [
       "HBox(children=(FloatProgress(value=0.0, max=99.0), HTML(value='')))"
      ]
     },
     "metadata": {},
     "output_type": "display_data"
    },
    {
     "name": "stdout",
     "output_type": "stream",
     "text": [
      "Epoch[20] Loss: 0.0008\n",
      "Epoch[20] Loss: 0.0007\n",
      "\n",
      "Training Results - Epoch: 20  Avg accuracy: 0.971 Avg loss: 0.0009\n",
      "Validation Results - Epoch: 20  Avg accuracy: 0.973 Avg loss: 0.0012\n"
     ]
    },
    {
     "data": {
      "application/vnd.jupyter.widget-view+json": {
       "model_id": "4508c30bc47a4c1e96417b3b0a567f84",
       "version_major": 2,
       "version_minor": 0
      },
      "text/plain": [
       "HBox(children=(FloatProgress(value=0.0, max=99.0), HTML(value='')))"
      ]
     },
     "metadata": {},
     "output_type": "display_data"
    },
    {
     "name": "stdout",
     "output_type": "stream",
     "text": [
      "Epoch[21] Loss: 0.0006\n",
      "Epoch[21] Loss: 0.0007\n",
      "\n",
      "Training Results - Epoch: 21  Avg accuracy: 0.972 Avg loss: 0.0009\n",
      "Validation Results - Epoch: 21  Avg accuracy: 0.967 Avg loss: 0.0012\n"
     ]
    },
    {
     "data": {
      "application/vnd.jupyter.widget-view+json": {
       "model_id": "f82b7a74e8104425a128276339c516dd",
       "version_major": 2,
       "version_minor": 0
      },
      "text/plain": [
       "HBox(children=(FloatProgress(value=0.0, max=99.0), HTML(value='')))"
      ]
     },
     "metadata": {},
     "output_type": "display_data"
    },
    {
     "name": "stdout",
     "output_type": "stream",
     "text": [
      "Epoch[22] Loss: 0.0002\n",
      "Epoch[22] Loss: 0.0006\n",
      "\n",
      "Training Results - Epoch: 22  Avg accuracy: 0.880 Avg loss: 0.0004\n",
      "Validation Results - Epoch: 22  Avg accuracy: 0.905 Avg loss: 0.0009\n"
     ]
    },
    {
     "data": {
      "application/vnd.jupyter.widget-view+json": {
       "model_id": "b347549f75f1488589277e49ba035081",
       "version_major": 2,
       "version_minor": 0
      },
      "text/plain": [
       "HBox(children=(FloatProgress(value=0.0, max=99.0), HTML(value='')))"
      ]
     },
     "metadata": {},
     "output_type": "display_data"
    },
    {
     "name": "stdout",
     "output_type": "stream",
     "text": [
      "Epoch[23] Loss: 0.0009\n",
      "Epoch[23] Loss: 0.0004\n",
      "\n",
      "Training Results - Epoch: 23  Avg accuracy: 0.975 Avg loss: 0.0012\n",
      "Validation Results - Epoch: 23  Avg accuracy: 0.969 Avg loss: 0.0014\n"
     ]
    },
    {
     "data": {
      "application/vnd.jupyter.widget-view+json": {
       "model_id": "5d5ab24747264720b17af3fbd54525a1",
       "version_major": 2,
       "version_minor": 0
      },
      "text/plain": [
       "HBox(children=(FloatProgress(value=0.0, max=99.0), HTML(value='')))"
      ]
     },
     "metadata": {},
     "output_type": "display_data"
    },
    {
     "name": "stdout",
     "output_type": "stream",
     "text": [
      "Epoch[24] Loss: 0.0007\n",
      "Epoch[24] Loss: 0.0006\n",
      "\n",
      "Training Results - Epoch: 24  Avg accuracy: 0.926 Avg loss: 0.0004\n",
      "Validation Results - Epoch: 24  Avg accuracy: 0.921 Avg loss: 0.0009\n"
     ]
    },
    {
     "data": {
      "application/vnd.jupyter.widget-view+json": {
       "model_id": "7ef52c9896ed4a9abd3b1a69fb82907a",
       "version_major": 2,
       "version_minor": 0
      },
      "text/plain": [
       "HBox(children=(FloatProgress(value=0.0, max=99.0), HTML(value='')))"
      ]
     },
     "metadata": {},
     "output_type": "display_data"
    },
    {
     "name": "stdout",
     "output_type": "stream",
     "text": [
      "Epoch[25] Loss: 0.0002\n",
      "Epoch[25] Loss: 0.0001\n",
      "\n",
      "Training Results - Epoch: 25  Avg accuracy: 0.882 Avg loss: 0.0006\n",
      "Validation Results - Epoch: 25  Avg accuracy: 0.914 Avg loss: 0.0009\n"
     ]
    },
    {
     "data": {
      "application/vnd.jupyter.widget-view+json": {
       "model_id": "f2467217b86b4a41b716469be8c0148f",
       "version_major": 2,
       "version_minor": 0
      },
      "text/plain": [
       "HBox(children=(FloatProgress(value=0.0, max=99.0), HTML(value='')))"
      ]
     },
     "metadata": {},
     "output_type": "display_data"
    },
    {
     "name": "stdout",
     "output_type": "stream",
     "text": [
      "Epoch[26] Loss: 0.0002\n",
      "Epoch[26] Loss: 0.0006\n",
      "\n",
      "Training Results - Epoch: 26  Avg accuracy: 0.980 Avg loss: 0.0006\n",
      "Validation Results - Epoch: 26  Avg accuracy: 0.973 Avg loss: 0.0009\n"
     ]
    },
    {
     "data": {
      "application/vnd.jupyter.widget-view+json": {
       "model_id": "7d3a2b59b43446978d73a774717ab369",
       "version_major": 2,
       "version_minor": 0
      },
      "text/plain": [
       "HBox(children=(FloatProgress(value=0.0, max=99.0), HTML(value='')))"
      ]
     },
     "metadata": {},
     "output_type": "display_data"
    },
    {
     "name": "stdout",
     "output_type": "stream",
     "text": [
      "Epoch[27] Loss: 0.0005\n",
      "Epoch[27] Loss: 0.0001\n",
      "\n",
      "Training Results - Epoch: 27  Avg accuracy: 0.974 Avg loss: 0.0011\n",
      "Validation Results - Epoch: 27  Avg accuracy: 0.973 Avg loss: 0.0015\n"
     ]
    },
    {
     "data": {
      "application/vnd.jupyter.widget-view+json": {
       "model_id": "ab7f6dd1234a45c88311f3b3b82fdd45",
       "version_major": 2,
       "version_minor": 0
      },
      "text/plain": [
       "HBox(children=(FloatProgress(value=0.0, max=99.0), HTML(value='')))"
      ]
     },
     "metadata": {},
     "output_type": "display_data"
    },
    {
     "name": "stdout",
     "output_type": "stream",
     "text": [
      "Epoch[28] Loss: 0.0008\n",
      "Epoch[28] Loss: 0.0004\n",
      "\n",
      "Training Results - Epoch: 28  Avg accuracy: 0.970 Avg loss: 0.0009\n",
      "Validation Results - Epoch: 28  Avg accuracy: 0.978 Avg loss: 0.0012\n"
     ]
    },
    {
     "data": {
      "application/vnd.jupyter.widget-view+json": {
       "model_id": "fa4c8fdf3c064461a74482314e7d93d7",
       "version_major": 2,
       "version_minor": 0
      },
      "text/plain": [
       "HBox(children=(FloatProgress(value=0.0, max=99.0), HTML(value='')))"
      ]
     },
     "metadata": {},
     "output_type": "display_data"
    },
    {
     "name": "stdout",
     "output_type": "stream",
     "text": [
      "Epoch[29] Loss: 0.0004\n",
      "Epoch[29] Loss: 0.0009\n",
      "\n",
      "Training Results - Epoch: 29  Avg accuracy: 0.849 Avg loss: 0.0006\n",
      "Validation Results - Epoch: 29  Avg accuracy: 0.889 Avg loss: 0.0009\n"
     ]
    },
    {
     "data": {
      "application/vnd.jupyter.widget-view+json": {
       "model_id": "bf5a92ea7e80413d8a10a7a9cc1cb267",
       "version_major": 2,
       "version_minor": 0
      },
      "text/plain": [
       "HBox(children=(FloatProgress(value=0.0, max=99.0), HTML(value='')))"
      ]
     },
     "metadata": {},
     "output_type": "display_data"
    },
    {
     "name": "stdout",
     "output_type": "stream",
     "text": [
      "Epoch[30] Loss: 0.0007\n",
      "Epoch[30] Loss: 0.0008\n",
      "\n",
      "Training Results - Epoch: 30  Avg accuracy: 0.827 Avg loss: 0.0007\n",
      "Validation Results - Epoch: 30  Avg accuracy: 0.861 Avg loss: 0.0012\n"
     ]
    },
    {
     "data": {
      "application/vnd.jupyter.widget-view+json": {
       "model_id": "6beda28b434240d99b81ab99f49632e8",
       "version_major": 2,
       "version_minor": 0
      },
      "text/plain": [
       "HBox(children=(FloatProgress(value=0.0, max=99.0), HTML(value='')))"
      ]
     },
     "metadata": {},
     "output_type": "display_data"
    },
    {
     "name": "stdout",
     "output_type": "stream",
     "text": [
      "Epoch[31] Loss: 0.0003\n",
      "Epoch[31] Loss: 0.0002\n",
      "\n",
      "Training Results - Epoch: 31  Avg accuracy: 0.871 Avg loss: 0.0004\n",
      "Validation Results - Epoch: 31  Avg accuracy: 0.904 Avg loss: 0.0008\n"
     ]
    },
    {
     "data": {
      "application/vnd.jupyter.widget-view+json": {
       "model_id": "99a8e47a7f7e4346b52ed405c4276d86",
       "version_major": 2,
       "version_minor": 0
      },
      "text/plain": [
       "HBox(children=(FloatProgress(value=0.0, max=99.0), HTML(value='')))"
      ]
     },
     "metadata": {},
     "output_type": "display_data"
    },
    {
     "name": "stdout",
     "output_type": "stream",
     "text": [
      "Epoch[32] Loss: 0.0009\n",
      "Epoch[32] Loss: 0.0006\n",
      "\n",
      "Training Results - Epoch: 32  Avg accuracy: 0.870 Avg loss: 0.0003\n",
      "Validation Results - Epoch: 32  Avg accuracy: 0.915 Avg loss: 0.0007\n"
     ]
    },
    {
     "data": {
      "application/vnd.jupyter.widget-view+json": {
       "model_id": "bacf9bd47c014291ac31dbfcf6f38986",
       "version_major": 2,
       "version_minor": 0
      },
      "text/plain": [
       "HBox(children=(FloatProgress(value=0.0, max=99.0), HTML(value='')))"
      ]
     },
     "metadata": {},
     "output_type": "display_data"
    },
    {
     "name": "stdout",
     "output_type": "stream",
     "text": [
      "Epoch[33] Loss: 0.0008\n",
      "Epoch[33] Loss: 0.0006\n",
      "\n",
      "Training Results - Epoch: 33  Avg accuracy: 0.979 Avg loss: 0.0004\n",
      "Validation Results - Epoch: 33  Avg accuracy: 0.984 Avg loss: 0.0007\n"
     ]
    },
    {
     "data": {
      "application/vnd.jupyter.widget-view+json": {
       "model_id": "50fb24ff70774140bb9886e8dd5859d3",
       "version_major": 2,
       "version_minor": 0
      },
      "text/plain": [
       "HBox(children=(FloatProgress(value=0.0, max=99.0), HTML(value='')))"
      ]
     },
     "metadata": {},
     "output_type": "display_data"
    },
    {
     "name": "stdout",
     "output_type": "stream",
     "text": [
      "Epoch[34] Loss: 0.0003\n",
      "Epoch[34] Loss: 0.0004\n",
      "\n",
      "Training Results - Epoch: 34  Avg accuracy: 0.990 Avg loss: 0.0004\n",
      "Validation Results - Epoch: 34  Avg accuracy: 0.979 Avg loss: 0.0007\n"
     ]
    },
    {
     "data": {
      "application/vnd.jupyter.widget-view+json": {
       "model_id": "c35b721758e5401b83e60762065854c8",
       "version_major": 2,
       "version_minor": 0
      },
      "text/plain": [
       "HBox(children=(FloatProgress(value=0.0, max=99.0), HTML(value='')))"
      ]
     },
     "metadata": {},
     "output_type": "display_data"
    },
    {
     "name": "stdout",
     "output_type": "stream",
     "text": [
      "Epoch[35] Loss: 0.0002\n",
      "Epoch[35] Loss: 0.0002\n",
      "\n",
      "Training Results - Epoch: 35  Avg accuracy: 0.950 Avg loss: 0.0002\n",
      "Validation Results - Epoch: 35  Avg accuracy: 0.944 Avg loss: 0.0005\n"
     ]
    },
    {
     "data": {
      "application/vnd.jupyter.widget-view+json": {
       "model_id": "905b2453dfbf4f8684485d14ed75fb94",
       "version_major": 2,
       "version_minor": 0
      },
      "text/plain": [
       "HBox(children=(FloatProgress(value=0.0, max=99.0), HTML(value='')))"
      ]
     },
     "metadata": {},
     "output_type": "display_data"
    },
    {
     "name": "stdout",
     "output_type": "stream",
     "text": [
      "Epoch[36] Loss: 0.0005\n",
      "Epoch[36] Loss: 0.0003\n",
      "\n",
      "Training Results - Epoch: 36  Avg accuracy: 0.983 Avg loss: 0.0007\n",
      "Validation Results - Epoch: 36  Avg accuracy: 0.981 Avg loss: 0.0011\n"
     ]
    },
    {
     "data": {
      "application/vnd.jupyter.widget-view+json": {
       "model_id": "e60ae7f773de4a6682d7fa67365f94f6",
       "version_major": 2,
       "version_minor": 0
      },
      "text/plain": [
       "HBox(children=(FloatProgress(value=0.0, max=99.0), HTML(value='')))"
      ]
     },
     "metadata": {},
     "output_type": "display_data"
    },
    {
     "name": "stdout",
     "output_type": "stream",
     "text": [
      "Epoch[37] Loss: 0.0002\n",
      "Epoch[37] Loss: 0.0006\n",
      "\n",
      "Training Results - Epoch: 37  Avg accuracy: 0.982 Avg loss: 0.0005\n",
      "Validation Results - Epoch: 37  Avg accuracy: 0.985 Avg loss: 0.0008\n"
     ]
    },
    {
     "data": {
      "application/vnd.jupyter.widget-view+json": {
       "model_id": "b8fba792dec0423e9ec232d521e79bb6",
       "version_major": 2,
       "version_minor": 0
      },
      "text/plain": [
       "HBox(children=(FloatProgress(value=0.0, max=99.0), HTML(value='')))"
      ]
     },
     "metadata": {},
     "output_type": "display_data"
    },
    {
     "name": "stdout",
     "output_type": "stream",
     "text": [
      "Epoch[38] Loss: 0.0003\n",
      "Epoch[38] Loss: 0.0004\n",
      "\n",
      "Training Results - Epoch: 38  Avg accuracy: 0.981 Avg loss: 0.0003\n",
      "Validation Results - Epoch: 38  Avg accuracy: 0.978 Avg loss: 0.0006\n"
     ]
    },
    {
     "data": {
      "application/vnd.jupyter.widget-view+json": {
       "model_id": "9bea45a785284996ba38008d1beaf997",
       "version_major": 2,
       "version_minor": 0
      },
      "text/plain": [
       "HBox(children=(FloatProgress(value=0.0, max=99.0), HTML(value='')))"
      ]
     },
     "metadata": {},
     "output_type": "display_data"
    },
    {
     "name": "stdout",
     "output_type": "stream",
     "text": [
      "Epoch[39] Loss: 0.0001\n",
      "Epoch[39] Loss: 0.0004\n",
      "\n",
      "Training Results - Epoch: 39  Avg accuracy: 0.958 Avg loss: 0.0003\n",
      "Validation Results - Epoch: 39  Avg accuracy: 0.958 Avg loss: 0.0006\n"
     ]
    },
    {
     "data": {
      "application/vnd.jupyter.widget-view+json": {
       "model_id": "19414ca2178a4f37a520d6831e36e841",
       "version_major": 2,
       "version_minor": 0
      },
      "text/plain": [
       "HBox(children=(FloatProgress(value=0.0, max=99.0), HTML(value='')))"
      ]
     },
     "metadata": {},
     "output_type": "display_data"
    },
    {
     "name": "stdout",
     "output_type": "stream",
     "text": [
      "Epoch[40] Loss: 0.0005\n",
      "Epoch[40] Loss: 0.0008\n",
      "\n",
      "Training Results - Epoch: 40  Avg accuracy: 0.961 Avg loss: 0.0005\n",
      "Validation Results - Epoch: 40  Avg accuracy: 0.966 Avg loss: 0.0009\n"
     ]
    },
    {
     "data": {
      "application/vnd.jupyter.widget-view+json": {
       "model_id": "52801d9760c445bd9fea368892fe93d4",
       "version_major": 2,
       "version_minor": 0
      },
      "text/plain": [
       "HBox(children=(FloatProgress(value=0.0, max=99.0), HTML(value='')))"
      ]
     },
     "metadata": {},
     "output_type": "display_data"
    },
    {
     "name": "stdout",
     "output_type": "stream",
     "text": [
      "Epoch[41] Loss: 0.0005\n",
      "Epoch[41] Loss: 0.0005\n",
      "\n",
      "Training Results - Epoch: 41  Avg accuracy: 0.891 Avg loss: 0.0005\n",
      "Validation Results - Epoch: 41  Avg accuracy: 0.923 Avg loss: 0.0009\n"
     ]
    },
    {
     "data": {
      "application/vnd.jupyter.widget-view+json": {
       "model_id": "4809e8c2c89e4808bbc9296f7923f1a7",
       "version_major": 2,
       "version_minor": 0
      },
      "text/plain": [
       "HBox(children=(FloatProgress(value=0.0, max=99.0), HTML(value='')))"
      ]
     },
     "metadata": {},
     "output_type": "display_data"
    },
    {
     "name": "stdout",
     "output_type": "stream",
     "text": [
      "Epoch[42] Loss: 0.0003\n",
      "Epoch[42] Loss: 0.0002\n",
      "\n",
      "Training Results - Epoch: 42  Avg accuracy: 0.880 Avg loss: 0.0003\n",
      "Validation Results - Epoch: 42  Avg accuracy: 0.924 Avg loss: 0.0005\n"
     ]
    },
    {
     "data": {
      "application/vnd.jupyter.widget-view+json": {
       "model_id": "df75b7da898149a7a1ef3e10fb1d71d0",
       "version_major": 2,
       "version_minor": 0
      },
      "text/plain": [
       "HBox(children=(FloatProgress(value=0.0, max=99.0), HTML(value='')))"
      ]
     },
     "metadata": {},
     "output_type": "display_data"
    },
    {
     "name": "stdout",
     "output_type": "stream",
     "text": [
      "Epoch[43] Loss: 0.0001\n",
      "Epoch[43] Loss: 0.0006\n",
      "\n",
      "Training Results - Epoch: 43  Avg accuracy: 0.889 Avg loss: 0.0004\n",
      "Validation Results - Epoch: 43  Avg accuracy: 0.911 Avg loss: 0.0008\n"
     ]
    },
    {
     "data": {
      "application/vnd.jupyter.widget-view+json": {
       "model_id": "d8b4eb8afe9d4c7f9308a156d1ab1fe9",
       "version_major": 2,
       "version_minor": 0
      },
      "text/plain": [
       "HBox(children=(FloatProgress(value=0.0, max=99.0), HTML(value='')))"
      ]
     },
     "metadata": {},
     "output_type": "display_data"
    },
    {
     "name": "stdout",
     "output_type": "stream",
     "text": [
      "Epoch[44] Loss: 0.0005\n",
      "Epoch[44] Loss: 0.0010\n",
      "\n",
      "Training Results - Epoch: 44  Avg accuracy: 0.947 Avg loss: 0.0003\n",
      "Validation Results - Epoch: 44  Avg accuracy: 0.947 Avg loss: 0.0005\n"
     ]
    },
    {
     "data": {
      "application/vnd.jupyter.widget-view+json": {
       "model_id": "966211e82e0a4e728762ea5c465c19b3",
       "version_major": 2,
       "version_minor": 0
      },
      "text/plain": [
       "HBox(children=(FloatProgress(value=0.0, max=99.0), HTML(value='')))"
      ]
     },
     "metadata": {},
     "output_type": "display_data"
    },
    {
     "name": "stdout",
     "output_type": "stream",
     "text": [
      "Epoch[45] Loss: 0.0006\n",
      "Epoch[45] Loss: 0.0007\n",
      "\n",
      "Training Results - Epoch: 45  Avg accuracy: 0.848 Avg loss: 0.0005\n",
      "Validation Results - Epoch: 45  Avg accuracy: 0.877 Avg loss: 0.0008\n"
     ]
    },
    {
     "data": {
      "application/vnd.jupyter.widget-view+json": {
       "model_id": "9df2c4561b1a4e35b6a46ba5d3857af7",
       "version_major": 2,
       "version_minor": 0
      },
      "text/plain": [
       "HBox(children=(FloatProgress(value=0.0, max=99.0), HTML(value='')))"
      ]
     },
     "metadata": {},
     "output_type": "display_data"
    },
    {
     "name": "stdout",
     "output_type": "stream",
     "text": [
      "Epoch[46] Loss: 0.0006\n",
      "Epoch[46] Loss: 0.0015\n",
      "\n",
      "Training Results - Epoch: 46  Avg accuracy: 0.919 Avg loss: 0.0002\n",
      "Validation Results - Epoch: 46  Avg accuracy: 0.935 Avg loss: 0.0005\n"
     ]
    },
    {
     "data": {
      "application/vnd.jupyter.widget-view+json": {
       "model_id": "5cba25cfb35142399540f12a2fc0a1aa",
       "version_major": 2,
       "version_minor": 0
      },
      "text/plain": [
       "HBox(children=(FloatProgress(value=0.0, max=99.0), HTML(value='')))"
      ]
     },
     "metadata": {},
     "output_type": "display_data"
    },
    {
     "name": "stdout",
     "output_type": "stream",
     "text": [
      "Epoch[47] Loss: 0.0004\n",
      "Epoch[47] Loss: 0.0007\n",
      "\n",
      "Training Results - Epoch: 47  Avg accuracy: 0.963 Avg loss: 0.0003\n",
      "Validation Results - Epoch: 47  Avg accuracy: 0.967 Avg loss: 0.0006\n"
     ]
    },
    {
     "data": {
      "application/vnd.jupyter.widget-view+json": {
       "model_id": "c08cbfe40b3b4f56a82db14ad8613f64",
       "version_major": 2,
       "version_minor": 0
      },
      "text/plain": [
       "HBox(children=(FloatProgress(value=0.0, max=99.0), HTML(value='')))"
      ]
     },
     "metadata": {},
     "output_type": "display_data"
    },
    {
     "name": "stdout",
     "output_type": "stream",
     "text": [
      "Epoch[48] Loss: 0.0002\n",
      "Epoch[48] Loss: 0.0002\n",
      "\n",
      "Training Results - Epoch: 48  Avg accuracy: 0.854 Avg loss: 0.0004\n",
      "Validation Results - Epoch: 48  Avg accuracy: 0.889 Avg loss: 0.0007\n"
     ]
    },
    {
     "data": {
      "application/vnd.jupyter.widget-view+json": {
       "model_id": "c769c0a89cd1421e928cfe8df1ebd66c",
       "version_major": 2,
       "version_minor": 0
      },
      "text/plain": [
       "HBox(children=(FloatProgress(value=0.0, max=99.0), HTML(value='')))"
      ]
     },
     "metadata": {},
     "output_type": "display_data"
    },
    {
     "name": "stdout",
     "output_type": "stream",
     "text": [
      "Epoch[49] Loss: 0.0008\n",
      "Epoch[49] Loss: 0.0002\n",
      "\n",
      "Training Results - Epoch: 49  Avg accuracy: 0.896 Avg loss: 0.0002\n",
      "Validation Results - Epoch: 49  Avg accuracy: 0.920 Avg loss: 0.0005\n"
     ]
    },
    {
     "data": {
      "application/vnd.jupyter.widget-view+json": {
       "model_id": "b79556be254f4378a0a3038394bc00be",
       "version_major": 2,
       "version_minor": 0
      },
      "text/plain": [
       "HBox(children=(FloatProgress(value=0.0, max=99.0), HTML(value='')))"
      ]
     },
     "metadata": {},
     "output_type": "display_data"
    },
    {
     "name": "stdout",
     "output_type": "stream",
     "text": [
      "Epoch[50] Loss: 0.0007\n",
      "Epoch[50] Loss: 0.0009\n",
      "\n",
      "Training Results - Epoch: 50  Avg accuracy: 0.868 Avg loss: 0.0006\n",
      "Validation Results - Epoch: 50  Avg accuracy: 0.901 Avg loss: 0.0007\n"
     ]
    },
    {
     "data": {
      "text/plain": [
       "State:\n",
       "\titeration: 4950\n",
       "\tepoch: 50\n",
       "\tepoch_length: 99\n",
       "\tmax_epochs: 50\n",
       "\toutput: 0.0008687239023856819\n",
       "\tbatch: <class 'list'>\n",
       "\tmetrics: <class 'dict'>\n",
       "\tdataloader: <class 'torch.utils.data.dataloader.DataLoader'>\n",
       "\tseed: <class 'NoneType'>\n",
       "\ttimes: <class 'dict'>"
      ]
     },
     "execution_count": 8,
     "metadata": {},
     "output_type": "execute_result"
    }
   ],
   "source": [
    "from ignite.engine import Events, create_supervised_trainer, create_supervised_evaluator, Engine\n",
    "from ignite.metrics import Accuracy, Loss, MeanSquaredError, RunningAverage, ConfusionMatrix\n",
    "from ignite.contrib.handlers import ProgressBar\n",
    "\n",
    "val_percent = 0.3\n",
    "log_interval = 50\n",
    "NUM_EPOCHS= 50\n",
    "\n",
    "val_batch_size = int(val_percent * len(augmented_dataset))\n",
    "\n",
    "train_batch_size = len(augmented_dataset) - val_batch_size\n",
    "\n",
    "\n",
    "model = models.resnet34(pretrained=True, progress=True)\n",
    "model.fc = torch.nn.Linear(512, 2)\n",
    "device = torch.device('cuda')\n",
    "model = model.to(device)\n",
    "\n",
    "train_loader = torch.utils.data.DataLoader(\n",
    "    train_dataset,\n",
    "    batch_size=8,\n",
    "    shuffle=True,\n",
    "    num_workers=4 # Only one worker to work around windows10 bug!\n",
    ")\n",
    "\n",
    "val_loader = torch.utils.data.DataLoader(\n",
    "    test_dataset,\n",
    "    batch_size=8,\n",
    "    shuffle=True,\n",
    "    num_workers=4 # Only one worker to work around windows10 bug!\n",
    ")\n",
    "\n",
    "\n",
    "optimizer = optim.Adam(model.parameters(), lr=0.0001)\n",
    "criterion = torch.nn.MSELoss().to(device)\n",
    "\n",
    "\n",
    "def process_function(engine, batch):\n",
    "    model.train()\n",
    "    optimizer.zero_grad()\n",
    "    x, y =batch\n",
    "    x = x.to(device)\n",
    "    y = y.to(device)\n",
    "    y_pred = model(x)\n",
    "    loss = criterion(y_pred, y)\n",
    "    loss.backward()\n",
    "    optimizer.step()\n",
    "    return loss.item()\n",
    "\n",
    "\n",
    "def eval_function(engine, batch):\n",
    "    model.eval()\n",
    "    x, y = batch\n",
    "    x = x.to(device)\n",
    "    y = y.to(device)\n",
    "    y_pred = model(x)\n",
    "    return y_pred, y\n",
    "\n",
    "\n",
    "def thresholded_output_transform(output):\n",
    "    y_pred, y = output\n",
    "    y_pred_tag = torch.round(torch.sigmoid(y_pred))\n",
    "    y_pred = torch.round(y_pred)\n",
    "    y_tag = torch.round(torch.sigmoid(y))\n",
    "    y = torch.round(y_pred)\n",
    "    return  y_pred_tag, y_tag\n",
    "\n",
    "\n",
    "trainer = Engine(process_function)\n",
    "train_evaluator = Engine(eval_function)\n",
    "validation_evaluator = Engine(eval_function)\n",
    "\n",
    "\n",
    "RunningAverage(output_transform=lambda x: x).attach(trainer, 'loss')\n",
    "\n",
    "\n",
    "Accuracy(output_transform=thresholded_output_transform).attach(train_evaluator, 'accuracy')\n",
    "Loss(criterion).attach(train_evaluator, 'ce')\n",
    "\n",
    "\n",
    "Accuracy(output_transform=thresholded_output_transform).attach(validation_evaluator, 'accuracy')\n",
    "Loss(criterion).attach(validation_evaluator, 'ce')\n",
    "\n",
    "\n",
    "pbar = ProgressBar(persist=True, bar_format=\"\")\n",
    "pbar.attach(trainer, ['loss'])\n",
    "\n",
    "training_history_acc = []\n",
    "training_history = {'accuracy':[],'loss':[]}\n",
    "validation_history = {'accuracy':[],'loss':[]}\n",
    "last_epoch = []\n",
    "\n",
    "@trainer.on(Events.ITERATION_COMPLETED(every=log_interval))\n",
    "def log_training_loss(trainer):\n",
    "    print(\"Epoch[{}] Loss: {:.4f}\".format(trainer.state.epoch, trainer.state.output))\n",
    "\n",
    "@trainer.on(Events.EPOCH_COMPLETED)\n",
    "def log_training_results(trainer):\n",
    "    train_evaluator.run(train_loader)\n",
    "    metrics = train_evaluator.state.metrics\n",
    "    training_history['accuracy'].append(metrics[\"accuracy\"])\n",
    "    training_history['loss'].append(metrics[\"ce\"])\n",
    "    print(\"Training Results - Epoch: {}  Avg accuracy: {:.3f} Avg loss: {:.4f}\"\n",
    "          .format(trainer.state.epoch, metrics[\"accuracy\"], metrics[\"ce\"]))\n",
    "\n",
    "@trainer.on(Events.EPOCH_COMPLETED)\n",
    "def log_validation_results(trainer):\n",
    "    validation_evaluator.run(val_loader)\n",
    "    metrics = validation_evaluator.state.metrics\n",
    "    \n",
    "    validation_history['accuracy'].append(metrics[\"accuracy\"])\n",
    "    validation_history['loss'].append(metrics[\"ce\"])\n",
    "    print(\"Validation Results - Epoch: {}  Avg accuracy: {:.3f} Avg loss: {:.4f}\"\n",
    "          .format(trainer.state.epoch, metrics[\"accuracy\"], metrics[\"ce\"]))\n",
    "\n",
    "\n",
    "def score_function(engine):\n",
    "    val_loss = engine.state.metrics['ce']\n",
    "    return val_loss\n",
    "\n",
    "checkpointer = ModelCheckpoint('checkpoint', 'steering',\n",
    "                               save_interval=1,\n",
    "                               n_saved=2,\n",
    "                               create_dir=True,\n",
    "                               require_empty=False,\n",
    "                               save_as_state_dict=True)\n",
    "\n",
    "best_model_save = ModelCheckpoint('best_model_34',\n",
    "                                  'steering',\n",
    "                                  n_saved=1,create_dir=True,\n",
    "                                  save_as_state_dict=True,\n",
    "                                  require_empty=True,\n",
    "                                  score_function=score_function)\n",
    "\n",
    "\n",
    "trainer.add_event_handler(Events.EPOCH_COMPLETED, checkpointer, {'steering': model})\n",
    "validation_evaluator.add_event_handler(Events.EPOCH_COMPLETED, best_model_save, {'steering': model})\n",
    "\n",
    "\n",
    "trainer.run(train_loader, max_epochs=NUM_EPOCHS\n",
    "#             , epoch_length=500\n",
    "           )"
   ]
  },
  {
   "cell_type": "code",
   "execution_count": 10,
   "metadata": {},
   "outputs": [
    {
     "data": {
      "image/png": "[encoded data removed]",
      "text/plain": [
       "<Figure size 432x288 with 1 Axes>"
      ]
     },
     "metadata": {
      "needs_background": "light"
     },
     "output_type": "display_data"
    }
   ],
   "source": [
    "epochs = range(NUM_EPOCHS)\n",
    "import matplotlib.pyplot as plt\n",
    "\n",
    "plt.figure()\n",
    "\n",
    "plt.plot(epochs, training_history['loss'], 'bo', label='Training loss')\n",
    "plt.plot(epochs, validation_history['loss'], 'b', label='Validation loss')\n",
    "\n",
    "plt.title('Training and validation loss')\n",
    "plt.legend()\n",
    "\n",
    "plt.show()"
   ]
  },
  {
   "cell_type": "code",
   "execution_count": 11,
   "metadata": {},
   "outputs": [
    {
     "data": {
      "image/png": "[encoded data removed]",
      "text/plain": [
       "<Figure size 432x288 with 1 Axes>"
      ]
     },
     "metadata": {
      "needs_background": "light"
     },
     "output_type": "display_data"
    }
   ],
   "source": [
    "epochs = range(NUM_EPOCHS)\n",
    "import matplotlib.pyplot as plt\n",
    "\n",
    "plt.figure()\n",
    "\n",
    "\n",
    "plt.plot(epochs, training_history['accuracy'], 'bo', label='Training accuracy')\n",
    "plt.plot(epochs, validation_history['accuracy'], 'b', label='Validation accuracy')\n",
    "# plt.plot(epochs, state.metrics['loss'], 'r', label='loss')\n",
    "plt.title('Training and validation accuracy')\n",
    "plt.legend()\n",
    "\n",
    "plt.show()"
   ]
  }
 ],
 "metadata": {
  "kernelspec": {
   "display_name": "Python 3",
   "language": "python",
   "name": "python3"
  },
  "language_info": {
   "codemirror_mode": {
    "name": "ipython",
    "version": 3
   },
   "file_extension": ".py",
   "mimetype": "text/x-python",
   "name": "python",
   "nbconvert_exporter": "python",
   "pygments_lexer": "ipython3",
   "version": "3.7.7"
  },
  "widgets": {
   "application/vnd.jupyter.widget-state+json": {
    "state": {
     "0007a36efcf64c22a2e01d2bd22ab2fb": {
      "model_module": "@jupyter-widgets/controls",
      "model_module_version": "1.5.0",
      "model_name": "ProgressStyleModel",
      "state": {
       "description_width": "initial"
      }
     },
     "0015429d874d489fb953a763bccf676a": {
      "model_module": "@jupyter-widgets/controls",
      "model_module_version": "1.5.0",
      "model_name": "FloatProgressModel",
      "state": {
       "bar_style": "success",
       "layout": "IPY_MODEL_8cd78ceba12245b79fc0ddf04650bb86",
       "max": 43,
       "style": "IPY_MODEL_ad5ed350bda24d75a5015fe14aa49dcd",
       "value": 43
      }
     },
     "011f603408e641fdbe576dc682470001": {
      "model_module": "@jupyter-widgets/controls",
      "model_module_version": "1.5.0",
      "model_name": "FloatProgressModel",
      "state": {
       "bar_style": "success",
       "description": "100%",
       "layout": "IPY_MODEL_f5acf92adb2f4daf967475befd86b001",
       "max": 87306240,
       "style": "IPY_MODEL_c49ce703af414ed590b32bea139f89f1",
       "value": 87306240
      }
     },
     "012d720049584efe8e17595a6bc123d3": {
      "model_module": "@jupyter-widgets/controls",
      "model_module_version": "1.5.0",
      "model_name": "HBoxModel",
      "state": {
       "children": [
        "IPY_MODEL_7b42647b95d24429a9bac93f8426398a",
        "IPY_MODEL_14d525f1fb004a03b6d5523f8bf46d2e"
       ],
       "layout": "IPY_MODEL_cb953f5e2eb3471ba38253ebb7408025"
      }
     },
     "01b5c615a00f47ca899b99cedbeaa540": {
      "model_module": "@jupyter-widgets/controls",
      "model_module_version": "1.5.0",
      "model_name": "ProgressStyleModel",
      "state": {
       "description_width": "initial"
      }
     },
     "02368674bd194f9ab53e516f11137d3e": {
      "model_module": "@jupyter-widgets/base",
      "model_module_version": "1.2.0",
      "model_name": "LayoutModel",
      "state": {}
     },
     "0285100aea6a4ab4912fa60d038f90cc": {
      "model_module": "@jupyter-widgets/base",
      "model_module_version": "1.2.0",
      "model_name": "LayoutModel",
      "state": {}
     },
     "02f7c17e5ea54f92835d300057f83fe6": {
      "model_module": "@jupyter-widgets/base",
      "model_module_version": "1.2.0",
      "model_name": "LayoutModel",
      "state": {}
     },
     "032a4e3a5a1d4d1997ebf6dc6afc10bd": {
      "model_module": "@jupyter-widgets/controls",
      "model_module_version": "1.5.0",
      "model_name": "DescriptionStyleModel",
      "state": {
       "description_width": ""
      }
     },
     "03c59a620fdd4e5e8166a594eaa6d608": {
      "model_module": "@jupyter-widgets/controls",
      "model_module_version": "1.5.0",
      "model_name": "HBoxModel",
      "state": {
       "children": [
        "IPY_MODEL_91edb2d591104f8dbd1c4112ba20eb66",
        "IPY_MODEL_7a40b505e8c4431f887e9f0d599b6714"
       ],
       "layout": "IPY_MODEL_bb9305521baf4217a847dc9cc172ce75"
      }
     },
     "03ddbf59dea647fea9d4010ed4f86e9b": {
      "model_module": "@jupyter-widgets/base",
      "model_module_version": "1.2.0",
      "model_name": "LayoutModel",
      "state": {}
     },
     "043acaf3214341b99f329887b0ab7f99": {
      "model_module": "@jupyter-widgets/controls",
      "model_module_version": "1.5.0",
      "model_name": "FloatProgressModel",
      "state": {
       "bar_style": "success",
       "layout": "IPY_MODEL_1babb8f208f64bd2a89efe47a5ff0469",
       "max": 43,
       "style": "IPY_MODEL_b57c643760d94858bbb03520b08c3dc5",
       "value": 43
      }
     },
     "04cb47793a884f6395a3527706fb9e03": {
      "model_module": "@jupyter-widgets/base",
      "model_module_version": "1.2.0",
      "model_name": "LayoutModel",
      "state": {}
     },
     "04cd0cbb759e4b448202ced7c91e8116": {
      "model_module": "@jupyter-widgets/controls",
      "model_module_version": "1.5.0",
      "model_name": "HTMLModel",
      "state": {
       "layout": "IPY_MODEL_d0dc8ead577b4ef88f324440012e0e75",
       "style": "IPY_MODEL_6538905da3314f63bf06398a248adcb6",
       "value": "Epoch [47/50]: 100%|██████████| 43/43 [00:10&lt;00:00,  4.12it/s, loss=0.0011]"
      }
     },
     "04d53d7b9b8b499280558387f49dd457": {
      "model_module": "@jupyter-widgets/base",
      "model_module_version": "1.2.0",
      "model_name": "LayoutModel",
      "state": {}
     },
     "051fdaecd60243819806d5caeb44f5ab": {
      "model_module": "@jupyter-widgets/controls",
      "model_module_version": "1.5.0",
      "model_name": "DescriptionStyleModel",
      "state": {
       "description_width": ""
      }
     },
     "05273d9b5b2a4769a112478f49a04f0d": {
      "model_module": "@jupyter-widgets/base",
      "model_module_version": "1.2.0",
      "model_name": "LayoutModel",
      "state": {}
     },
     "05757bfc13514f12a4924446be80f930": {
      "model_module": "@jupyter-widgets/base",
      "model_module_version": "1.2.0",
      "model_name": "LayoutModel",
      "state": {}
     },
     "0588edd9e11b4c879b12b016e9f3bf34": {
      "model_module": "@jupyter-widgets/controls",
      "model_module_version": "1.5.0",
      "model_name": "HTMLModel",
      "state": {
       "layout": "IPY_MODEL_be35eb6052604b20afb29c8ea57aed12",
       "style": "IPY_MODEL_2e6333b379fd48b0a67214be21c9c4c9",
       "value": "Epoch [35/50]: 100%|██████████| 43/43 [00:10&lt;00:00,  4.22it/s, loss=0.0037]"
      }
     },
     "05a42a6d71c548a7b4ecc0e76b5d8bfe": {
      "model_module": "@jupyter-widgets/controls",
      "model_module_version": "1.5.0",
      "model_name": "ProgressStyleModel",
      "state": {
       "description_width": "initial"
      }
     },
     "05d118b528a54fb8bfc61b0a7ec01926": {
      "model_module": "@jupyter-widgets/base",
      "model_module_version": "1.2.0",
      "model_name": "LayoutModel",
      "state": {}
     },
     "06546a1446f941e3bd7a7b9591ace956": {
      "model_module": "@jupyter-widgets/controls",
      "model_module_version": "1.5.0",
      "model_name": "HTMLModel",
      "state": {
       "layout": "IPY_MODEL_638680a915584d54b9fea78d2305cabb",
       "style": "IPY_MODEL_707de3774f2544a79ec6b5b882148bc5",
       "value": "Epoch [9/50]: 100%|██████████| 99/99 [00:28&lt;00:00,  3.45it/s, loss=0.00158]"
      }
     },
     "066c586215f545c098de4bb03deadfdb": {
      "model_module": "@jupyter-widgets/controls",
      "model_module_version": "1.5.0",
      "model_name": "ProgressStyleModel",
      "state": {
       "description_width": "initial"
      }
     },
     "069cc88f5a11471abed96aaa71ac1cb9": {
      "model_module": "@jupyter-widgets/controls",
      "model_module_version": "1.5.0",
      "model_name": "ProgressStyleModel",
      "state": {
       "description_width": "initial"
      }
     },
     "06fe958500484aa988427255b15fa713": {
      "model_module": "@jupyter-widgets/controls",
      "model_module_version": "1.5.0",
      "model_name": "FloatProgressModel",
      "state": {
       "bar_style": "success",
       "layout": "IPY_MODEL_efa473103cd046b8ab15e148ba46e1af",
       "max": 99,
       "style": "IPY_MODEL_4af66280aa514738bfb50802cbf84e38",
       "value": 99
      }
     },
     "0797c03012af49e2ac4d58f9b0567d57": {
      "model_module": "@jupyter-widgets/controls",
      "model_module_version": "1.5.0",
      "model_name": "HTMLModel",
      "state": {
       "layout": "IPY_MODEL_c5d113133e98450596c0eb29b3743999",
       "style": "IPY_MODEL_0f870f9cdc474f769e13343e90e20177",
       "value": "Epoch [20/50]: 100%|██████████| 99/99 [00:27&lt;00:00,  3.54it/s, loss=0.000724]"
      }
     },
     "07fe5af9d886408685a71f4af96fadfe": {
      "model_module": "@jupyter-widgets/base",
      "model_module_version": "1.2.0",
      "model_name": "LayoutModel",
      "state": {}
     },
     "0880d18bf34a4e699bbb4de58d4b4ebe": {
      "model_module": "@jupyter-widgets/base",
      "model_module_version": "1.2.0",
      "model_name": "LayoutModel",
      "state": {}
     },
     "08a142d327284ebd81fbaba363cc3061": {
      "model_module": "@jupyter-widgets/controls",
      "model_module_version": "1.5.0",
      "model_name": "HTMLModel",
      "state": {
       "layout": "IPY_MODEL_757d82eae7ca4a4784fbacaf23fd7513",
       "style": "IPY_MODEL_37d99e9a41b04206ada36dfc9a5f7bce",
       "value": "Epoch [2/50]: 100%|██████████| 99/99 [00:29&lt;00:00,  3.41it/s, loss=0.0173]"
      }
     },
     "08af9d6af0854cf983af6e7b033d967e": {
      "model_module": "@jupyter-widgets/controls",
      "model_module_version": "1.5.0",
      "model_name": "DescriptionStyleModel",
      "state": {
       "description_width": ""
      }
     },
     "097b9f948f7c4bb39a2197c783ec6cf3": {
      "model_module": "@jupyter-widgets/controls",
      "model_module_version": "1.5.0",
      "model_name": "DescriptionStyleModel",
      "state": {
       "description_width": ""
      }
     },
     "09d5334b860e45629a92f7c4afaaf1af": {
      "model_module": "@jupyter-widgets/controls",
      "model_module_version": "1.5.0",
      "model_name": "FloatProgressModel",
      "state": {
       "bar_style": "success",
       "layout": "IPY_MODEL_03ddbf59dea647fea9d4010ed4f86e9b",
       "max": 43,
       "style": "IPY_MODEL_67e0d51e8aa84da89c095dcc33969a7c",
       "value": 43
      }
     },
     "0a92f5a2542a42228c47e86beb1d5ee4": {
      "model_module": "@jupyter-widgets/base",
      "model_module_version": "1.2.0",
      "model_name": "LayoutModel",
      "state": {}
     },
     "0b38c419a72e4990a7a39971b4178d51": {
      "model_module": "@jupyter-widgets/base",
      "model_module_version": "1.2.0",
      "model_name": "LayoutModel",
      "state": {}
     },
     "0b97bc514f8e41c9a9cacfeb8d70f239": {
      "model_module": "@jupyter-widgets/controls",
      "model_module_version": "1.5.0",
      "model_name": "ProgressStyleModel",
      "state": {
       "description_width": "initial"
      }
     },
     "0bde6295beda4519a833a436b58fc606": {
      "model_module": "@jupyter-widgets/controls",
      "model_module_version": "1.5.0",
      "model_name": "FloatProgressModel",
      "state": {
       "bar_style": "success",
       "layout": "IPY_MODEL_30981e81d1f84cddb3f42acecc3167cf",
       "max": 43,
       "style": "IPY_MODEL_def5d9db965c47278208baa16191f920",
       "value": 43
      }
     },
     "0bfa6cc97ed94305b750419fb044eb95": {
      "model_module": "@jupyter-widgets/base",
      "model_module_version": "1.2.0",
      "model_name": "LayoutModel",
      "state": {}
     },
     "0c12c5afb4fa442892b1e46fbdafd39c": {
      "model_module": "@jupyter-widgets/controls",
      "model_module_version": "1.5.0",
      "model_name": "HBoxModel",
      "state": {
       "children": [
        "IPY_MODEL_9d6329d010aa4d368722796ce8ed347e",
        "IPY_MODEL_63054c393e6c4f6285526ec8c9a34894"
       ],
       "layout": "IPY_MODEL_b0309374b03f41bb9912bdb383b5e569"
      }
     },
     "0d03579bcf4e4850acac98de8be8af0b": {
      "model_module": "@jupyter-widgets/base",
      "model_module_version": "1.2.0",
      "model_name": "LayoutModel",
      "state": {}
     },
     "0d284552253e4dc78af72122ab243242": {
      "model_module": "@jupyter-widgets/base",
      "model_module_version": "1.2.0",
      "model_name": "LayoutModel",
      "state": {}
     },
     "0d6b021e048b48fd95963d0dbcf00428": {
      "model_module": "@jupyter-widgets/base",
      "model_module_version": "1.2.0",
      "model_name": "LayoutModel",
      "state": {}
     },
     "0d917c44c96f4567862f468b69794730": {
      "model_module": "@jupyter-widgets/base",
      "model_module_version": "1.2.0",
      "model_name": "LayoutModel",
      "state": {}
     },
     "0da58679587346c396a0dfa469bae6da": {
      "model_module": "@jupyter-widgets/controls",
      "model_module_version": "1.5.0",
      "model_name": "DescriptionStyleModel",
      "state": {
       "description_width": ""
      }
     },
     "0df1458637634bd9ae11a1159758bc14": {
      "model_module": "@jupyter-widgets/controls",
      "model_module_version": "1.5.0",
      "model_name": "FloatProgressModel",
      "state": {
       "bar_style": "success",
       "layout": "IPY_MODEL_e71af265693e4242a5e966ef9d8db544",
       "max": 99,
       "style": "IPY_MODEL_31c9a93842a14cc6ab79ca77ccba3869",
       "value": 99
      }
     },
     "0e254e4a46534d07ad22fd12e473d694": {
      "model_module": "@jupyter-widgets/controls",
      "model_module_version": "1.5.0",
      "model_name": "HTMLModel",
      "state": {
       "layout": "IPY_MODEL_7ff4c9fde87d4ab5a36fe2c955f03a51",
       "style": "IPY_MODEL_5fbfd104420b4cf4a8d32e6851ab1d16",
       "value": "Epoch [32/50]: 100%|██████████| 43/43 [00:10&lt;00:00,  4.22it/s, loss=0.0023]"
      }
     },
     "0e2c4a2466fb46f08d706b7b50429d29": {
      "model_module": "@jupyter-widgets/base",
      "model_module_version": "1.2.0",
      "model_name": "LayoutModel",
      "state": {}
     },
     "0e83a8f1d4f64d63a9d25653d52858dc": {
      "model_module": "@jupyter-widgets/controls",
      "model_module_version": "1.5.0",
      "model_name": "ProgressStyleModel",
      "state": {
       "description_width": "initial"
      }
     },
     "0ebc67f71f8248508d56c39dfa51583d": {
      "model_module": "@jupyter-widgets/controls",
      "model_module_version": "1.5.0",
      "model_name": "HTMLModel",
      "state": {
       "layout": "IPY_MODEL_a85bd44fe2064ba9adcc3dbe5abdb8ff",
       "style": "IPY_MODEL_da9e1d447e584b97b00f190d130a405f",
       "value": "Epoch [32/50]: 100%|██████████| 99/99 [00:28&lt;00:00,  3.51it/s, loss=0.000524]"
      }
     },
     "0f01bd6ebea04e02a7991e339a212428": {
      "model_module": "@jupyter-widgets/base",
      "model_module_version": "1.2.0",
      "model_name": "LayoutModel",
      "state": {}
     },
     "0f2c12df1fae482fb5d8dfd0691094e3": {
      "model_module": "@jupyter-widgets/controls",
      "model_module_version": "1.5.0",
      "model_name": "FloatProgressModel",
      "state": {
       "bar_style": "success",
       "layout": "IPY_MODEL_55ea1a668d4b4e62a9463156ff845424",
       "max": 99,
       "style": "IPY_MODEL_6888619375c748cf843e5f07a69f577d",
       "value": 99
      }
     },
     "0f870f9cdc474f769e13343e90e20177": {
      "model_module": "@jupyter-widgets/controls",
      "model_module_version": "1.5.0",
      "model_name": "DescriptionStyleModel",
      "state": {
       "description_width": ""
      }
     },
     "0f8f32b3ff1f47038625b2e0e4f190b2": {
      "model_module": "@jupyter-widgets/base",
      "model_module_version": "1.2.0",
      "model_name": "LayoutModel",
      "state": {}
     },
     "0f959a1e244c4a5f9381b41e82b41cc5": {
      "model_module": "@jupyter-widgets/controls",
      "model_module_version": "1.5.0",
      "model_name": "HBoxModel",
      "state": {
       "children": [
        "IPY_MODEL_5c6aa558ded544b286162d2740458595",
        "IPY_MODEL_f58f292e039346b7a5e0aa08267ee2e3"
       ],
       "layout": "IPY_MODEL_fa591c8992824d5eb8531b0722a28e4a"
      }
     },
     "0fea103d5d884bed9216c40f9624ac08": {
      "model_module": "@jupyter-widgets/base",
      "model_module_version": "1.2.0",
      "model_name": "LayoutModel",
      "state": {}
     },
     "10e8f1c0401d4a5a8ee4185b87878a30": {
      "model_module": "@jupyter-widgets/controls",
      "model_module_version": "1.5.0",
      "model_name": "ProgressStyleModel",
      "state": {
       "description_width": "initial"
      }
     },
     "1131f5fa74ef4c628594d69a5cc01b7c": {
      "model_module": "@jupyter-widgets/controls",
      "model_module_version": "1.5.0",
      "model_name": "FloatProgressModel",
      "state": {
       "bar_style": "success",
       "layout": "IPY_MODEL_1d0f9b84a4af43ada3d0ee0f47d465e8",
       "max": 99,
       "style": "IPY_MODEL_604dadb9a49543f2b829c609ef07e935",
       "value": 99
      }
     },
     "113390fad4cf470c883d5aae49fcaa75": {
      "model_module": "@jupyter-widgets/controls",
      "model_module_version": "1.5.0",
      "model_name": "ProgressStyleModel",
      "state": {
       "description_width": "initial"
      }
     },
     "11f757ccc1f241048cabdbdf59a9b089": {
      "model_module": "@jupyter-widgets/controls",
      "model_module_version": "1.5.0",
      "model_name": "DescriptionStyleModel",
      "state": {
       "description_width": ""
      }
     },
     "124d10f4846e46dfb9c93ff5824ca77a": {
      "model_module": "@jupyter-widgets/controls",
      "model_module_version": "1.5.0",
      "model_name": "DescriptionStyleModel",
      "state": {
       "description_width": ""
      }
     },
     "12d7f2a0932d4ec7adedffd6e40ae5b3": {
      "model_module": "@jupyter-widgets/controls",
      "model_module_version": "1.5.0",
      "model_name": "HBoxModel",
      "state": {
       "children": [
        "IPY_MODEL_17d56fe4b9aa42679f156ee220eaa1d5",
        "IPY_MODEL_46706b2f88db4e5bb3a8053c4b7a728f"
       ],
       "layout": "IPY_MODEL_83ae628268af4d3baa905c280bbb56cc"
      }
     },
     "132af0bd2e25420b88738e1ca9cc45c6": {
      "model_module": "@jupyter-widgets/base",
      "model_module_version": "1.2.0",
      "model_name": "LayoutModel",
      "state": {}
     },
     "133e634465804e42897bf0b5d2d116af": {
      "model_module": "@jupyter-widgets/base",
      "model_module_version": "1.2.0",
      "model_name": "LayoutModel",
      "state": {}
     },
     "13670e72b2134c3aba08ce3783b91900": {
      "model_module": "@jupyter-widgets/base",
      "model_module_version": "1.2.0",
      "model_name": "LayoutModel",
      "state": {}
     },
     "13b457719ff441478c04314f159dbab1": {
      "model_module": "@jupyter-widgets/controls",
      "model_module_version": "1.5.0",
      "model_name": "HBoxModel",
      "state": {
       "children": [
        "IPY_MODEL_a401eabb6d4c4d39b590fc609de38494",
        "IPY_MODEL_30dc7ea5d87f488c9cb0fa91037d5add"
       ],
       "layout": "IPY_MODEL_4869430ab807498c93db8f0eeeb4143e"
      }
     },
     "13c70f6d3a774139966e5a52c3330e32": {
      "model_module": "@jupyter-widgets/base",
      "model_module_version": "1.2.0",
      "model_name": "LayoutModel",
      "state": {}
     },
     "13c856368ab54e1187bb3c9a6ca1a63b": {
      "model_module": "@jupyter-widgets/base",
      "model_module_version": "1.2.0",
      "model_name": "LayoutModel",
      "state": {}
     },
     "14a840ac3c434626bd2688bc6dcdf32b": {
      "model_module": "@jupyter-widgets/controls",
      "model_module_version": "1.5.0",
      "model_name": "HTMLModel",
      "state": {
       "layout": "IPY_MODEL_bbe95ce18c8b47a4a65ceeacd24746aa",
       "style": "IPY_MODEL_b386bf7eb8404514a43b523d5b8b2ef3",
       "value": "Epoch [13/50]: 100%|██████████| 43/43 [00:10&lt;00:00,  4.13it/s, loss=0.00421]"
      }
     },
     "14d525f1fb004a03b6d5523f8bf46d2e": {
      "model_module": "@jupyter-widgets/controls",
      "model_module_version": "1.5.0",
      "model_name": "HTMLModel",
      "state": {
       "layout": "IPY_MODEL_915e10fdf2724365b31b39d48cf1abda",
       "style": "IPY_MODEL_3f01d0d02b384a369cace458bbb56cee",
       "value": "Epoch [14/50]: 100%|██████████| 99/99 [00:45&lt;00:00,  2.19it/s, loss=0.00084]"
      }
     },
     "1601e94ec7b04b5380ec20fbb88ec26b": {
      "model_module": "@jupyter-widgets/controls",
      "model_module_version": "1.5.0",
      "model_name": "FloatProgressModel",
      "state": {
       "bar_style": "success",
       "layout": "IPY_MODEL_0fea103d5d884bed9216c40f9624ac08",
       "max": 43,
       "style": "IPY_MODEL_01b5c615a00f47ca899b99cedbeaa540",
       "value": 43
      }
     },
     "1607867faa654ebfa71453fed0c3ddbc": {
      "model_module": "@jupyter-widgets/controls",
      "model_module_version": "1.5.0",
      "model_name": "DescriptionStyleModel",
      "state": {
       "description_width": ""
      }
     },
     "160d6777127c4d25bb434b9aaf40f9d5": {
      "model_module": "@jupyter-widgets/base",
      "model_module_version": "1.2.0",
      "model_name": "LayoutModel",
      "state": {}
     },
     "161df3f609d54696bb911cb94dca735f": {
      "model_module": "@jupyter-widgets/controls",
      "model_module_version": "1.5.0",
      "model_name": "HBoxModel",
      "state": {
       "children": [
        "IPY_MODEL_60e72c0d971d43ad80deb2000a416b1e",
        "IPY_MODEL_e41e2337c2bd44348b5fcf2c4e383588"
       ],
       "layout": "IPY_MODEL_5f54e2917d51474f9e576346b8a5fa6b"
      }
     },
     "17d56fe4b9aa42679f156ee220eaa1d5": {
      "model_module": "@jupyter-widgets/controls",
      "model_module_version": "1.5.0",
      "model_name": "FloatProgressModel",
      "state": {
       "bar_style": "success",
       "layout": "IPY_MODEL_ee84d81181fc4a778c651085a1d2af9c",
       "max": 43,
       "style": "IPY_MODEL_fb015e37a3a54586b49ba362f02b55f0",
       "value": 43
      }
     },
     "184a74c3d2ad461a9dff4242a4a9e083": {
      "model_module": "@jupyter-widgets/base",
      "model_module_version": "1.2.0",
      "model_name": "LayoutModel",
      "state": {}
     },
     "18661b2f34e845faa1c6a85d2db16259": {
      "model_module": "@jupyter-widgets/base",
      "model_module_version": "1.2.0",
      "model_name": "LayoutModel",
      "state": {}
     },
     "1866ec535d244baabd818d1f80e3e7ed": {
      "model_module": "@jupyter-widgets/base",
      "model_module_version": "1.2.0",
      "model_name": "LayoutModel",
      "state": {}
     },
     "1901cb1ffe12446a9856dbcf58625c1e": {
      "model_module": "@jupyter-widgets/base",
      "model_module_version": "1.2.0",
      "model_name": "LayoutModel",
      "state": {}
     },
     "19414ca2178a4f37a520d6831e36e841": {
      "model_module": "@jupyter-widgets/controls",
      "model_module_version": "1.5.0",
      "model_name": "HBoxModel",
      "state": {
       "children": [
        "IPY_MODEL_0df1458637634bd9ae11a1159758bc14",
        "IPY_MODEL_454ccc08456a4098b8eadf9e23bd53b0"
       ],
       "layout": "IPY_MODEL_a73be2dc48ff4a888fd78217cfb8c576"
      }
     },
     "1955c0f6b2a74797b6d606aa841e0f8a": {
      "model_module": "@jupyter-widgets/base",
      "model_module_version": "1.2.0",
      "model_name": "LayoutModel",
      "state": {}
     },
     "19b12c8acc8648bb83240bd69122430c": {
      "model_module": "@jupyter-widgets/controls",
      "model_module_version": "1.5.0",
      "model_name": "HBoxModel",
      "state": {
       "children": [
        "IPY_MODEL_bdb511e7da1344f488a4b240145dcb55",
        "IPY_MODEL_ef2fb131cd064b739f732fa296f38339"
       ],
       "layout": "IPY_MODEL_ee329bdfbbac447da79725ed1ca375f1"
      }
     },
     "19c87d5c64934b5f92c1fc9c13ff0877": {
      "model_module": "@jupyter-widgets/base",
      "model_module_version": "1.2.0",
      "model_name": "LayoutModel",
      "state": {}
     },
     "19efd6e16a8a4353bdcbeeb9ecd18633": {
      "model_module": "@jupyter-widgets/base",
      "model_module_version": "1.2.0",
      "model_name": "LayoutModel",
      "state": {}
     },
     "1ab003602df74f229f1bd4b09d9250db": {
      "model_module": "@jupyter-widgets/controls",
      "model_module_version": "1.5.0",
      "model_name": "FloatProgressModel",
      "state": {
       "bar_style": "success",
       "layout": "IPY_MODEL_0bfa6cc97ed94305b750419fb044eb95",
       "max": 43,
       "style": "IPY_MODEL_47f81c37f5cf447092bb01b73dfe241a",
       "value": 43
      }
     },
     "1acaa73fd12f44a48a7aadfc788a5519": {
      "model_module": "@jupyter-widgets/base",
      "model_module_version": "1.2.0",
      "model_name": "LayoutModel",
      "state": {}
     },
     "1babb8f208f64bd2a89efe47a5ff0469": {
      "model_module": "@jupyter-widgets/base",
      "model_module_version": "1.2.0",
      "model_name": "LayoutModel",
      "state": {}
     },
     "1bec6d7794c54cd8a531f675b2f06801": {
      "model_module": "@jupyter-widgets/controls",
      "model_module_version": "1.5.0",
      "model_name": "ProgressStyleModel",
      "state": {
       "description_width": "initial"
      }
     },
     "1d0f9b84a4af43ada3d0ee0f47d465e8": {
      "model_module": "@jupyter-widgets/base",
      "model_module_version": "1.2.0",
      "model_name": "LayoutModel",
      "state": {}
     },
     "1d25a7f5e9c445e3925e23c2b2ffd6f5": {
      "model_module": "@jupyter-widgets/base",
      "model_module_version": "1.2.0",
      "model_name": "LayoutModel",
      "state": {}
     },
     "1d6c88de07024060bf30987042726bec": {
      "model_module": "@jupyter-widgets/controls",
      "model_module_version": "1.5.0",
      "model_name": "FloatProgressModel",
      "state": {
       "bar_style": "success",
       "layout": "IPY_MODEL_77f2d91465074b8baba906f9ff2a9956",
       "max": 43,
       "style": "IPY_MODEL_7e576d6fb5e94e4a9c695298a96d2c5e",
       "value": 43
      }
     },
     "1e3abf2988ac4df290725c1ed6700691": {
      "model_module": "@jupyter-widgets/controls",
      "model_module_version": "1.5.0",
      "model_name": "FloatProgressModel",
      "state": {
       "bar_style": "success",
       "layout": "IPY_MODEL_2ab42e5a95434ddd877da895f9da2f39",
       "max": 99,
       "style": "IPY_MODEL_fba01c93e70a409c8cb4900ea98a5add",
       "value": 99
      }
     },
     "1e776105bc0a473ea8fbcf1bc0f04365": {
      "model_module": "@jupyter-widgets/controls",
      "model_module_version": "1.5.0",
      "model_name": "HTMLModel",
      "state": {
       "layout": "IPY_MODEL_21079519f88843aea8965aebed8f3416",
       "style": "IPY_MODEL_5a5ebb1c6d9942209849ec86c59c2318",
       "value": "Epoch [38/50]: 100%|██████████| 99/99 [00:28&lt;00:00,  3.50it/s, loss=0.000453]"
      }
     },
     "1e97d6b0b35049b2a4e5314e691558a1": {
      "model_module": "@jupyter-widgets/base",
      "model_module_version": "1.2.0",
      "model_name": "LayoutModel",
      "state": {}
     },
     "1f73e585903f42949810e56737b5515f": {
      "model_module": "@jupyter-widgets/controls",
      "model_module_version": "1.5.0",
      "model_name": "ProgressStyleModel",
      "state": {
       "description_width": "initial"
      }
     },
     "1fdd1b3e878c4949a1dbefb3a8b6c153": {
      "model_module": "@jupyter-widgets/controls",
      "model_module_version": "1.5.0",
      "model_name": "HTMLModel",
      "state": {
       "layout": "IPY_MODEL_5ee07a3baad84c529e04c103bc75c6a6",
       "style": "IPY_MODEL_538b96dcc63543599f84d51aedb064d9",
       "value": "Epoch [18/50]: 100%|██████████| 99/99 [00:28&lt;00:00,  3.52it/s, loss=0.00136]"
      }
     },
     "201c9800f446426abe3cc5e8d4ea6769": {
      "model_module": "@jupyter-widgets/controls",
      "model_module_version": "1.5.0",
      "model_name": "DescriptionStyleModel",
      "state": {
       "description_width": ""
      }
     },
     "204f6c3f361943ec8fb7e33ff03cee6f": {
      "model_module": "@jupyter-widgets/controls",
      "model_module_version": "1.5.0",
      "model_name": "HBoxModel",
      "state": {
       "children": [
        "IPY_MODEL_31cd6a7b56b9453680a0a8ec394125f8",
        "IPY_MODEL_06546a1446f941e3bd7a7b9591ace956"
       ],
       "layout": "IPY_MODEL_d4000227a6d643719994719bfe37d209"
      }
     },
     "21079519f88843aea8965aebed8f3416": {
      "model_module": "@jupyter-widgets/base",
      "model_module_version": "1.2.0",
      "model_name": "LayoutModel",
      "state": {}
     },
     "216610673f4040eeb00ab1286dc8ebed": {
      "model_module": "@jupyter-widgets/controls",
      "model_module_version": "1.5.0",
      "model_name": "FloatProgressModel",
      "state": {
       "bar_style": "success",
       "layout": "IPY_MODEL_64e7d228d0b84078bdd1c5a2f503b6f2",
       "max": 43,
       "style": "IPY_MODEL_ad0d15d572a04c6eaca027ecbbf46957",
       "value": 43
      }
     },
     "21776674402843488b71a677b643a41a": {
      "model_module": "@jupyter-widgets/base",
      "model_module_version": "1.2.0",
      "model_name": "LayoutModel",
      "state": {}
     },
     "2177da689a764f11a4d3d9a69f1d595b": {
      "model_module": "@jupyter-widgets/controls",
      "model_module_version": "1.5.0",
      "model_name": "FloatProgressModel",
      "state": {
       "bar_style": "success",
       "layout": "IPY_MODEL_6d1e92043c8f43c193444c553dc4a90c",
       "max": 43,
       "style": "IPY_MODEL_8acb8d91865944f1bc886b750658e268",
       "value": 43
      }
     },
     "21f762052c3e4b899b75fc48c7f118eb": {
      "model_module": "@jupyter-widgets/controls",
      "model_module_version": "1.5.0",
      "model_name": "FloatProgressModel",
      "state": {
       "bar_style": "success",
       "layout": "IPY_MODEL_e327d3fe147744208d6940b72bd0cbd9",
       "max": 99,
       "style": "IPY_MODEL_dbc93087ebcf415d8d5362d1e72456bb",
       "value": 99
      }
     },
     "22c56893476f41d98d8470713ac49e23": {
      "model_module": "@jupyter-widgets/controls",
      "model_module_version": "1.5.0",
      "model_name": "DescriptionStyleModel",
      "state": {
       "description_width": ""
      }
     },
     "22ed1abc0b3440c5874c0e239a7a30f1": {
      "model_module": "@jupyter-widgets/controls",
      "model_module_version": "1.5.0",
      "model_name": "HTMLModel",
      "state": {
       "layout": "IPY_MODEL_1acaa73fd12f44a48a7aadfc788a5519",
       "style": "IPY_MODEL_e5adc608422c4a43a3d07a77fcedd567",
       "value": "Epoch [45/50]: 100%|██████████| 43/43 [00:10&lt;00:00,  4.11it/s, loss=0.00121]"
      }
     },
     "232db4a4d3ed4b37ac131d7192b20390": {
      "model_module": "@jupyter-widgets/controls",
      "model_module_version": "1.5.0",
      "model_name": "HTMLModel",
      "state": {
       "layout": "IPY_MODEL_5be5a6e219da47aa9dd51e6e573cab05",
       "style": "IPY_MODEL_ef3f5d28152d46cf8c2391652659491a",
       "value": "Epoch [44/50]: 100%|██████████| 43/43 [00:10&lt;00:00,  4.02it/s, loss=0.00139]"
      }
     },
     "239097dabbb44a5389c480e6ae4bda2d": {
      "model_module": "@jupyter-widgets/base",
      "model_module_version": "1.2.0",
      "model_name": "LayoutModel",
      "state": {}
     },
     "2470f3f4f63c4366aa8ff0e141a93461": {
      "model_module": "@jupyter-widgets/controls",
      "model_module_version": "1.5.0",
      "model_name": "ProgressStyleModel",
      "state": {
       "description_width": "initial"
      }
     },
     "24d549b4676a4e52878d21b10b5cf5e8": {
      "model_module": "@jupyter-widgets/controls",
      "model_module_version": "1.5.0",
      "model_name": "FloatProgressModel",
      "state": {
       "bar_style": "success",
       "layout": "IPY_MODEL_c39e5f1b02964b459061b033483d0d45",
       "max": 43,
       "style": "IPY_MODEL_82585ef1a61f4d65a68c24a61d9375bd",
       "value": 43
      }
     },
     "24fe91bf9ad340508d9cb373f4f4120c": {
      "model_module": "@jupyter-widgets/controls",
      "model_module_version": "1.5.0",
      "model_name": "HBoxModel",
      "state": {
       "children": [
        "IPY_MODEL_9859b2624a6e41d7ab4ac74e1d99beb7",
        "IPY_MODEL_c29f0c9f25f1406cb35e800f4ea4b71a"
       ],
       "layout": "IPY_MODEL_667b1c8fc4f042f087607c9fa92eeddf"
      }
     },
     "2522d58122dd41ed94e42244a30ae822": {
      "model_module": "@jupyter-widgets/controls",
      "model_module_version": "1.5.0",
      "model_name": "DescriptionStyleModel",
      "state": {
       "description_width": ""
      }
     },
     "25c198f8211d4cdbb76fd4f687d4de24": {
      "model_module": "@jupyter-widgets/base",
      "model_module_version": "1.2.0",
      "model_name": "LayoutModel",
      "state": {}
     },
     "263b159f7d9746cb99a5ea04191dfb10": {
      "model_module": "@jupyter-widgets/controls",
      "model_module_version": "1.5.0",
      "model_name": "HBoxModel",
      "state": {
       "children": [
        "IPY_MODEL_77f3676c032d44f6b9b3072bfb7c9c3a",
        "IPY_MODEL_14a840ac3c434626bd2688bc6dcdf32b"
       ],
       "layout": "IPY_MODEL_e44c46df7caa4e15947e7a0856436d05"
      }
     },
     "267e7d0877cd45ba9841334146eb545a": {
      "model_module": "@jupyter-widgets/controls",
      "model_module_version": "1.5.0",
      "model_name": "HTMLModel",
      "state": {
       "layout": "IPY_MODEL_76e47f3ec0e646dbb2067c2deeb67ead",
       "style": "IPY_MODEL_097b9f948f7c4bb39a2197c783ec6cf3",
       "value": "Epoch [19/50]: 100%|██████████| 99/99 [00:28&lt;00:00,  3.53it/s, loss=0.00103]"
      }
     },
     "26ebabbb5b23410eb84e03ef249432b7": {
      "model_module": "@jupyter-widgets/controls",
      "model_module_version": "1.5.0",
      "model_name": "ProgressStyleModel",
      "state": {
       "description_width": "initial"
      }
     },
     "28836ad409e340589425208453b4005f": {
      "model_module": "@jupyter-widgets/controls",
      "model_module_version": "1.5.0",
      "model_name": "HBoxModel",
      "state": {
       "children": [
        "IPY_MODEL_e93c3c8795924fa29395807b1c4fc56b",
        "IPY_MODEL_84bdf2b7fa99474a889c1d4189fe46c5"
       ],
       "layout": "IPY_MODEL_02f7c17e5ea54f92835d300057f83fe6"
      }
     },
     "2927af6b109441b48df902e2576937cd": {
      "model_module": "@jupyter-widgets/base",
      "model_module_version": "1.2.0",
      "model_name": "LayoutModel",
      "state": {}
     },
     "29498da2e34046a38e2f00f2bdf3679e": {
      "model_module": "@jupyter-widgets/controls",
      "model_module_version": "1.5.0",
      "model_name": "ProgressStyleModel",
      "state": {
       "description_width": "initial"
      }
     },
     "298b57e536a44397ba3336363ca10cdf": {
      "model_module": "@jupyter-widgets/base",
      "model_module_version": "1.2.0",
      "model_name": "LayoutModel",
      "state": {}
     },
     "29ba9050f6f746a584871a2e401d7b1f": {
      "model_module": "@jupyter-widgets/base",
      "model_module_version": "1.2.0",
      "model_name": "LayoutModel",
      "state": {}
     },
     "2a628b9ebac441ab85f54a0e84e2ea21": {
      "model_module": "@jupyter-widgets/controls",
      "model_module_version": "1.5.0",
      "model_name": "DescriptionStyleModel",
      "state": {
       "description_width": ""
      }
     },
     "2ab42e5a95434ddd877da895f9da2f39": {
      "model_module": "@jupyter-widgets/base",
      "model_module_version": "1.2.0",
      "model_name": "LayoutModel",
      "state": {}
     },
     "2ac2f31799894b0e8585c0f5412deba0": {
      "model_module": "@jupyter-widgets/controls",
      "model_module_version": "1.5.0",
      "model_name": "HBoxModel",
      "state": {
       "children": [
        "IPY_MODEL_387b3fb3f91045f2b6749ef880cb8584",
        "IPY_MODEL_e6f107a8417c4669ade634817181a6fa"
       ],
       "layout": "IPY_MODEL_d4b9c75928774e359ead9e32327af5a9"
      }
     },
     "2c3ec9643a2c4d00a6137398e2cb07ed": {
      "model_module": "@jupyter-widgets/controls",
      "model_module_version": "1.5.0",
      "model_name": "HBoxModel",
      "state": {
       "children": [
        "IPY_MODEL_6e25f4dc07de446ca92c27e5483947d8",
        "IPY_MODEL_2cc6a8fd6f8c4ff3a45c7d9d7c2de74b"
       ],
       "layout": "IPY_MODEL_97948d44067e4b288a9c52c6a1a2d77c"
      }
     },
     "2c6c7968bc3b4d4c91119fa6fc3f4403": {
      "model_module": "@jupyter-widgets/base",
      "model_module_version": "1.2.0",
      "model_name": "LayoutModel",
      "state": {}
     },
     "2ca2e55434074efb80fab47151b05699": {
      "model_module": "@jupyter-widgets/base",
      "model_module_version": "1.2.0",
      "model_name": "LayoutModel",
      "state": {}
     },
     "2cae76586619477db8a77964358dfcea": {
      "model_module": "@jupyter-widgets/controls",
      "model_module_version": "1.5.0",
      "model_name": "FloatProgressModel",
      "state": {
       "bar_style": "success",
       "layout": "IPY_MODEL_fed7da5c1daf4355a2f18786f79e9cd2",
       "max": 43,
       "style": "IPY_MODEL_98b166857f5e45518b669f45384122df",
       "value": 43
      }
     },
     "2cc6a8fd6f8c4ff3a45c7d9d7c2de74b": {
      "model_module": "@jupyter-widgets/controls",
      "model_module_version": "1.5.0",
      "model_name": "HTMLModel",
      "state": {
       "layout": "IPY_MODEL_35648d2b65b748a3ae72e5f5de73d0df",
       "style": "IPY_MODEL_563a6c37fc6b486cb7c002132568b4c2",
       "value": "Epoch [9/50]: 100%|██████████| 43/43 [00:10&lt;00:00,  4.10it/s, loss=0.00554]"
      }
     },
     "2d745204251440ccab13129ad05389ef": {
      "model_module": "@jupyter-widgets/controls",
      "model_module_version": "1.5.0",
      "model_name": "FloatProgressModel",
      "state": {
       "bar_style": "success",
       "layout": "IPY_MODEL_3be9999faea44e1991c3ddd5b5563480",
       "max": 99,
       "style": "IPY_MODEL_fc02a2720b6142ce84508a5f761bfa10",
       "value": 99
      }
     },
     "2d8a491064464e028b0cf9c148848a7e": {
      "model_module": "@jupyter-widgets/base",
      "model_module_version": "1.2.0",
      "model_name": "LayoutModel",
      "state": {}
     },
     "2dd285cf8b3b464cbd3b5d2e16d86627": {
      "model_module": "@jupyter-widgets/controls",
      "model_module_version": "1.5.0",
      "model_name": "HBoxModel",
      "state": {
       "children": [
        "IPY_MODEL_708a4409f5e4423f9cae117ef7adcc6e",
        "IPY_MODEL_ba63eed9b56f42caa270850e8f249c49"
       ],
       "layout": "IPY_MODEL_e1eeea8499584a728d23932c68e1578e"
      }
     },
     "2e3b5bb354ec49c9b9b718a3363a1cf1": {
      "model_module": "@jupyter-widgets/controls",
      "model_module_version": "1.5.0",
      "model_name": "ProgressStyleModel",
      "state": {
       "description_width": "initial"
      }
     },
     "2e6333b379fd48b0a67214be21c9c4c9": {
      "model_module": "@jupyter-widgets/controls",
      "model_module_version": "1.5.0",
      "model_name": "DescriptionStyleModel",
      "state": {
       "description_width": ""
      }
     },
     "2e995a8e12b74557be9591e030e5d0dc": {
      "model_module": "@jupyter-widgets/controls",
      "model_module_version": "1.5.0",
      "model_name": "FloatProgressModel",
      "state": {
       "bar_style": "success",
       "layout": "IPY_MODEL_c6524b8e72464b2788b2497c7e9b3947",
       "max": 43,
       "style": "IPY_MODEL_55da1cecb95444f9bf1f9d8f259fa768",
       "value": 43
      }
     },
     "2ef769b24b6a46ceac34f004df4cc639": {
      "model_module": "@jupyter-widgets/controls",
      "model_module_version": "1.5.0",
      "model_name": "HTMLModel",
      "state": {
       "layout": "IPY_MODEL_4ea8f477b5b047e0a15fcebbe135e83f",
       "style": "IPY_MODEL_bff653db342344a186fb186a375562cc",
       "value": "Epoch [49/50]: 100%|██████████| 99/99 [00:28&lt;00:00,  3.42it/s, loss=0.000561]"
      }
     },
     "2f5f4c2c2aee4599bc5082cc1f84c83e": {
      "model_module": "@jupyter-widgets/base",
      "model_module_version": "1.2.0",
      "model_name": "LayoutModel",
      "state": {}
     },
     "2fe56e65e51845e78933eae600218208": {
      "model_module": "@jupyter-widgets/controls",
      "model_module_version": "1.5.0",
      "model_name": "FloatProgressModel",
      "state": {
       "bar_style": "success",
       "layout": "IPY_MODEL_d3f8fb0e444443b59846d2665e2140cd",
       "max": 99,
       "style": "IPY_MODEL_05a42a6d71c548a7b4ecc0e76b5d8bfe",
       "value": 99
      }
     },
     "2ff3442a9b6f4cd18d3dadbe8047a27b": {
      "model_module": "@jupyter-widgets/controls",
      "model_module_version": "1.5.0",
      "model_name": "HTMLModel",
      "state": {
       "layout": "IPY_MODEL_638c7c881e874c799865b88ddb45dcc3",
       "style": "IPY_MODEL_d1c3426db1354f86a3ae54fbc84a7666",
       "value": "Epoch [23/50]: 100%|██████████| 99/99 [00:28&lt;00:00,  3.54it/s, loss=0.000661]"
      }
     },
     "308cdd7f09cc43d6891b40bfbe16c3f4": {
      "model_module": "@jupyter-widgets/base",
      "model_module_version": "1.2.0",
      "model_name": "LayoutModel",
      "state": {}
     },
     "30981e81d1f84cddb3f42acecc3167cf": {
      "model_module": "@jupyter-widgets/base",
      "model_module_version": "1.2.0",
      "model_name": "LayoutModel",
      "state": {}
     },
     "30dc7ea5d87f488c9cb0fa91037d5add": {
      "model_module": "@jupyter-widgets/controls",
      "model_module_version": "1.5.0",
      "model_name": "HTMLModel",
      "state": {
       "layout": "IPY_MODEL_0f01bd6ebea04e02a7991e339a212428",
       "style": "IPY_MODEL_3a9965bc28f74b96aeb1ef87f96d7c59",
       "value": "Epoch [1/50]: 100%|██████████| 43/43 [00:33&lt;00:00,  1.29it/s, loss=0.203]"
      }
     },
     "31af70be9f6d4857ae372cf3293a085f": {
      "model_module": "@jupyter-widgets/base",
      "model_module_version": "1.2.0",
      "model_name": "LayoutModel",
      "state": {}
     },
     "31c9a93842a14cc6ab79ca77ccba3869": {
      "model_module": "@jupyter-widgets/controls",
      "model_module_version": "1.5.0",
      "model_name": "ProgressStyleModel",
      "state": {
       "description_width": "initial"
      }
     },
     "31cd6a7b56b9453680a0a8ec394125f8": {
      "model_module": "@jupyter-widgets/controls",
      "model_module_version": "1.5.0",
      "model_name": "FloatProgressModel",
      "state": {
       "bar_style": "success",
       "layout": "IPY_MODEL_13c70f6d3a774139966e5a52c3330e32",
       "max": 99,
       "style": "IPY_MODEL_aad48227766547408881e7209041bb20",
       "value": 99
      }
     },
     "31e47cbd177940c8bdfe79317f7b91cc": {
      "model_module": "@jupyter-widgets/base",
      "model_module_version": "1.2.0",
      "model_name": "LayoutModel",
      "state": {}
     },
     "320fbe3bb5294a85b8067d99fb9213c0": {
      "model_module": "@jupyter-widgets/base",
      "model_module_version": "1.2.0",
      "model_name": "LayoutModel",
      "state": {}
     },
     "3220f68a95a047d592b119761caa02ab": {
      "model_module": "@jupyter-widgets/controls",
      "model_module_version": "1.5.0",
      "model_name": "FloatProgressModel",
      "state": {
       "bar_style": "success",
       "layout": "IPY_MODEL_b7174845daf140aaa36b497c4120fa51",
       "max": 99,
       "style": "IPY_MODEL_a1fc263142ab4929bd9ce730b41d2b4a",
       "value": 99
      }
     },
     "326c8c314a384d10ac9175232e37640e": {
      "model_module": "@jupyter-widgets/base",
      "model_module_version": "1.2.0",
      "model_name": "LayoutModel",
      "state": {}
     },
     "3273f4f0a5214739989b88ec2f068855": {
      "model_module": "@jupyter-widgets/base",
      "model_module_version": "1.2.0",
      "model_name": "LayoutModel",
      "state": {}
     },
     "334b7e985b1749318cf334d2b4957ccc": {
      "model_module": "@jupyter-widgets/base",
      "model_module_version": "1.2.0",
      "model_name": "LayoutModel",
      "state": {}
     },
     "348af89ddfb94c36a191c0909b3c6fb4": {
      "model_module": "@jupyter-widgets/base",
      "model_module_version": "1.2.0",
      "model_name": "LayoutModel",
      "state": {}
     },
     "35648d2b65b748a3ae72e5f5de73d0df": {
      "model_module": "@jupyter-widgets/base",
      "model_module_version": "1.2.0",
      "model_name": "LayoutModel",
      "state": {}
     },
     "36120d66d5d8425cb4c08a8451d13a7c": {
      "model_module": "@jupyter-widgets/controls",
      "model_module_version": "1.5.0",
      "model_name": "HBoxModel",
      "state": {
       "children": [
        "IPY_MODEL_6a04d54343684d1390703772241c8a4f",
        "IPY_MODEL_95a89957481f4c31bac06d0976fd5d70"
       ],
       "layout": "IPY_MODEL_29ba9050f6f746a584871a2e401d7b1f"
      }
     },
     "3689275ee8194eef9eb5a8740d087919": {
      "model_module": "@jupyter-widgets/controls",
      "model_module_version": "1.5.0",
      "model_name": "ProgressStyleModel",
      "state": {
       "description_width": "initial"
      }
     },
     "37023d878c5b4192a13de43a357a3c86": {
      "model_module": "@jupyter-widgets/controls",
      "model_module_version": "1.5.0",
      "model_name": "DescriptionStyleModel",
      "state": {
       "description_width": ""
      }
     },
     "378720fb13d04100b5c0f438087a5a72": {
      "model_module": "@jupyter-widgets/controls",
      "model_module_version": "1.5.0",
      "model_name": "HBoxModel",
      "state": {
       "children": [
        "IPY_MODEL_ad2c4c2ad0e7430ea0e0e12a5cf9861f",
        "IPY_MODEL_506cfacbd10d450fb53661950c374fc7"
       ],
       "layout": "IPY_MODEL_7f20d55750bb4caeaa50fde141864a72"
      }
     },
     "37d99e9a41b04206ada36dfc9a5f7bce": {
      "model_module": "@jupyter-widgets/controls",
      "model_module_version": "1.5.0",
      "model_name": "DescriptionStyleModel",
      "state": {
       "description_width": ""
      }
     },
     "381bd247fc0245a691445b702fcf045f": {
      "model_module": "@jupyter-widgets/base",
      "model_module_version": "1.2.0",
      "model_name": "LayoutModel",
      "state": {}
     },
     "3820ba1ba3d74ce49a3be0aa5e662017": {
      "model_module": "@jupyter-widgets/base",
      "model_module_version": "1.2.0",
      "model_name": "LayoutModel",
      "state": {}
     },
     "382505ecad2946c8b8c7d258f30d36b7": {
      "model_module": "@jupyter-widgets/base",
      "model_module_version": "1.2.0",
      "model_name": "LayoutModel",
      "state": {}
     },
     "383bd2496efc4e8bb3b70688b813b50a": {
      "model_module": "@jupyter-widgets/controls",
      "model_module_version": "1.5.0",
      "model_name": "HBoxModel",
      "state": {
       "children": [
        "IPY_MODEL_6a908b5a9034461492cdf50fc93eb19d",
        "IPY_MODEL_22ed1abc0b3440c5874c0e239a7a30f1"
       ],
       "layout": "IPY_MODEL_3e16d8175cc545b5a068e7d883b8fd90"
      }
     },
     "387b3fb3f91045f2b6749ef880cb8584": {
      "model_module": "@jupyter-widgets/controls",
      "model_module_version": "1.5.0",
      "model_name": "FloatProgressModel",
      "state": {
       "bar_style": "success",
       "layout": "IPY_MODEL_5ca7c2b0c4cd4b64b15b8dbe13be8a7e",
       "max": 99,
       "style": "IPY_MODEL_26ebabbb5b23410eb84e03ef249432b7",
       "value": 99
      }
     },
     "3964420415f24c92b0256f28cab5e41d": {
      "model_module": "@jupyter-widgets/base",
      "model_module_version": "1.2.0",
      "model_name": "LayoutModel",
      "state": {}
     },
     "399d37d311864352ae2bbafd355bfde4": {
      "model_module": "@jupyter-widgets/controls",
      "model_module_version": "1.5.0",
      "model_name": "HTMLModel",
      "state": {
       "layout": "IPY_MODEL_e938e48ab1ee46138e57c32ea2ec635f",
       "style": "IPY_MODEL_eae9a95fce36468c949664bfe3596740",
       "value": " 83.3M/83.3M [00:18&lt;00:00, 4.81MB/s]"
      }
     },
     "39acbc32c5a5446a8d37285ea67b7be1": {
      "model_module": "@jupyter-widgets/controls",
      "model_module_version": "1.5.0",
      "model_name": "ProgressStyleModel",
      "state": {
       "description_width": "initial"
      }
     },
     "3a0c1637f2a4461297237347d2011695": {
      "model_module": "@jupyter-widgets/base",
      "model_module_version": "1.2.0",
      "model_name": "LayoutModel",
      "state": {}
     },
     "3a9965bc28f74b96aeb1ef87f96d7c59": {
      "model_module": "@jupyter-widgets/controls",
      "model_module_version": "1.5.0",
      "model_name": "DescriptionStyleModel",
      "state": {
       "description_width": ""
      }
     },
     "3ac62e2c2bd248f9831ba74fdbc60c90": {
      "model_module": "@jupyter-widgets/base",
      "model_module_version": "1.2.0",
      "model_name": "LayoutModel",
      "state": {}
     },
     "3bc453d0f12f43239a30beb7dbf9be88": {
      "model_module": "@jupyter-widgets/controls",
      "model_module_version": "1.5.0",
      "model_name": "DescriptionStyleModel",
      "state": {
       "description_width": ""
      }
     },
     "3be9999faea44e1991c3ddd5b5563480": {
      "model_module": "@jupyter-widgets/base",
      "model_module_version": "1.2.0",
      "model_name": "LayoutModel",
      "state": {}
     },
     "3c4709dd74354f8db55e401673efa63f": {
      "model_module": "@jupyter-widgets/controls",
      "model_module_version": "1.5.0",
      "model_name": "ProgressStyleModel",
      "state": {
       "description_width": "initial"
      }
     },
     "3c4e9c2de8a0480ab7bea304c5447986": {
      "model_module": "@jupyter-widgets/base",
      "model_module_version": "1.2.0",
      "model_name": "LayoutModel",
      "state": {}
     },
     "3c986015e32648eda29b8bedc337a49e": {
      "model_module": "@jupyter-widgets/base",
      "model_module_version": "1.2.0",
      "model_name": "LayoutModel",
      "state": {}
     },
     "3c9cea7ca8ac4b4985a106ee910799f8": {
      "model_module": "@jupyter-widgets/controls",
      "model_module_version": "1.5.0",
      "model_name": "HTMLModel",
      "state": {
       "layout": "IPY_MODEL_57ef867ac3fd44d8a25bb2d9805b09e5",
       "style": "IPY_MODEL_fa288e0459484ecb93c7255ae43ee5e0",
       "value": "Epoch [16/50]: 100%|██████████| 99/99 [00:28&lt;00:00,  3.44it/s, loss=0.000672]"
      }
     },
     "3d78a822fbba42a79a11844c7a3b0a9f": {
      "model_module": "@jupyter-widgets/controls",
      "model_module_version": "1.5.0",
      "model_name": "HBoxModel",
      "state": {
       "children": [
        "IPY_MODEL_d9c338df1c21475caed9539c05d9189a",
        "IPY_MODEL_8afaa85cef32460c8ca288a7e5d8bf43"
       ],
       "layout": "IPY_MODEL_7ef9e3c931e940b38dd43c32bd7d24f5"
      }
     },
     "3e16d8175cc545b5a068e7d883b8fd90": {
      "model_module": "@jupyter-widgets/base",
      "model_module_version": "1.2.0",
      "model_name": "LayoutModel",
      "state": {}
     },
     "3e446eb0542c47c7b00372463c01f02c": {
      "model_module": "@jupyter-widgets/controls",
      "model_module_version": "1.5.0",
      "model_name": "DescriptionStyleModel",
      "state": {
       "description_width": ""
      }
     },
     "3e4c6f1b4fd744ce84b3425bdd06db68": {
      "model_module": "@jupyter-widgets/controls",
      "model_module_version": "1.5.0",
      "model_name": "HTMLModel",
      "state": {
       "layout": "IPY_MODEL_5e6496833f3540a28f657d2562ee9492",
       "style": "IPY_MODEL_ad94015def7d41a48a534ae27aebb3f7",
       "value": "Epoch [7/50]: 100%|██████████| 99/99 [00:30&lt;00:00,  3.21it/s, loss=0.00185]"
      }
     },
     "3e7d3e129b56406b8d2ce71fba5b63f3": {
      "model_module": "@jupyter-widgets/controls",
      "model_module_version": "1.5.0",
      "model_name": "DescriptionStyleModel",
      "state": {
       "description_width": ""
      }
     },
     "3e9b4a31b7f442549165181f1307c839": {
      "model_module": "@jupyter-widgets/controls",
      "model_module_version": "1.5.0",
      "model_name": "ProgressStyleModel",
      "state": {
       "description_width": "initial"
      }
     },
     "3ea6bb68c0f24720bc7be129a8545337": {
      "model_module": "@jupyter-widgets/controls",
      "model_module_version": "1.5.0",
      "model_name": "FloatProgressModel",
      "state": {
       "bar_style": "success",
       "layout": "IPY_MODEL_9bcfefcd1d0644f3ac508dbd7b7e7f25",
       "max": 99,
       "style": "IPY_MODEL_bcdac769308f43538430f3f41e5fb2ce",
       "value": 99
      }
     },
     "3ef841182d6e42959d31223b1939514a": {
      "model_module": "@jupyter-widgets/controls",
      "model_module_version": "1.5.0",
      "model_name": "HTMLModel",
      "state": {
       "layout": "IPY_MODEL_b20e37face8c47e792ecb6a51dcc8b08",
       "style": "IPY_MODEL_6cbf8f02270848928cf31ddb7dd187b9",
       "value": "Epoch [50/50]: 100%|██████████| 99/99 [00:28&lt;00:00,  3.44it/s, loss=0.000595]"
      }
     },
     "3f01d0d02b384a369cace458bbb56cee": {
      "model_module": "@jupyter-widgets/controls",
      "model_module_version": "1.5.0",
      "model_name": "DescriptionStyleModel",
      "state": {
       "description_width": ""
      }
     },
     "3f0da84afc664b928c1c3c6f015df884": {
      "model_module": "@jupyter-widgets/controls",
      "model_module_version": "1.5.0",
      "model_name": "FloatProgressModel",
      "state": {
       "bar_style": "success",
       "layout": "IPY_MODEL_bb83dcf06d194d6d931c7c4718140d66",
       "max": 43,
       "style": "IPY_MODEL_1bec6d7794c54cd8a531f675b2f06801",
       "value": 43
      }
     },
     "3f58a0989669455a9ae6a1d4dfed24d7": {
      "model_module": "@jupyter-widgets/controls",
      "model_module_version": "1.5.0",
      "model_name": "ProgressStyleModel",
      "state": {
       "description_width": "initial"
      }
     },
     "3fe9e8002c2a4828a5b574fcfde21300": {
      "model_module": "@jupyter-widgets/base",
      "model_module_version": "1.2.0",
      "model_name": "LayoutModel",
      "state": {}
     },
     "4063a8baf9df4cdebd46d4e2d1a9a1b3": {
      "model_module": "@jupyter-widgets/base",
      "model_module_version": "1.2.0",
      "model_name": "LayoutModel",
      "state": {}
     },
     "414d6fb8d088418490991d794055173d": {
      "model_module": "@jupyter-widgets/base",
      "model_module_version": "1.2.0",
      "model_name": "LayoutModel",
      "state": {}
     },
     "4156758f4a8341fcbb56493345a54609": {
      "model_module": "@jupyter-widgets/controls",
      "model_module_version": "1.5.0",
      "model_name": "HTMLModel",
      "state": {
       "layout": "IPY_MODEL_05273d9b5b2a4769a112478f49a04f0d",
       "style": "IPY_MODEL_ae599eb6c2f449bc9852fe706a2c6744",
       "value": "Epoch [33/50]: 100%|██████████| 99/99 [00:44&lt;00:00,  2.24it/s, loss=0.00036]"
      }
     },
     "4162a34c39dd4d6c816ad8eeca78c032": {
      "model_module": "@jupyter-widgets/controls",
      "model_module_version": "1.5.0",
      "model_name": "HBoxModel",
      "state": {
       "children": [
        "IPY_MODEL_21f762052c3e4b899b75fc48c7f118eb",
        "IPY_MODEL_68b041044d92416f88b96fd45999472e"
       ],
       "layout": "IPY_MODEL_1e97d6b0b35049b2a4e5314e691558a1"
      }
     },
     "416f4174ad5b4fcbb3cb0a1d4cb53dbf": {
      "model_module": "@jupyter-widgets/base",
      "model_module_version": "1.2.0",
      "model_name": "LayoutModel",
      "state": {}
     },
     "41b2446c984f4e008364aaae5730b3ac": {
      "model_module": "@jupyter-widgets/base",
      "model_module_version": "1.2.0",
      "model_name": "LayoutModel",
      "state": {}
     },
     "41c500483aa34194af2b7fdf7480e126": {
      "model_module": "@jupyter-widgets/controls",
      "model_module_version": "1.5.0",
      "model_name": "FloatProgressModel",
      "state": {
       "bar_style": "success",
       "layout": "IPY_MODEL_9aa19245d3f54176890c3378d404343b",
       "max": 99,
       "style": "IPY_MODEL_7e3f49002f2f4bd9912628c87e7feedc",
       "value": 99
      }
     },
     "424e794b842b49faa6418504e6d2aa14": {
      "model_module": "@jupyter-widgets/base",
      "model_module_version": "1.2.0",
      "model_name": "LayoutModel",
      "state": {}
     },
     "430965d1b666469cbb06245ee95e0b0f": {
      "model_module": "@jupyter-widgets/controls",
      "model_module_version": "1.5.0",
      "model_name": "HTMLModel",
      "state": {
       "layout": "IPY_MODEL_871c11e49e084c8faeb73d7e158272d3",
       "style": "IPY_MODEL_8fc4fc1484194a58865547bb54aa6090",
       "value": "Epoch [11/50]: 100%|██████████| 43/43 [00:10&lt;00:00,  4.12it/s, loss=0.00629]"
      }
     },
     "435983da644146b2b222a2dc2f86c12f": {
      "model_module": "@jupyter-widgets/base",
      "model_module_version": "1.2.0",
      "model_name": "LayoutModel",
      "state": {}
     },
     "437dad167ccb48c1b573e37bde081f56": {
      "model_module": "@jupyter-widgets/controls",
      "model_module_version": "1.5.0",
      "model_name": "HTMLModel",
      "state": {
       "layout": "IPY_MODEL_348af89ddfb94c36a191c0909b3c6fb4",
       "style": "IPY_MODEL_d34222ef978b4d9bb4a6b34f0576d35f",
       "value": "Epoch [3/50]: 100%|██████████| 99/99 [00:29&lt;00:00,  3.32it/s, loss=0.00607]"
      }
     },
     "43e129c69dc84f5cb245cad4ca31f4c5": {
      "model_module": "@jupyter-widgets/controls",
      "model_module_version": "1.5.0",
      "model_name": "HTMLModel",
      "state": {
       "layout": "IPY_MODEL_6e13c0b413974589bb36727bcb136932",
       "style": "IPY_MODEL_f34b5c827a6a424793f8fba3612be40d",
       "value": "Epoch [11/50]: 100%|██████████| 99/99 [00:28&lt;00:00,  3.45it/s, loss=0.0015]"
      }
     },
     "44916afe81fe4faaa9dae9897beb3c38": {
      "model_module": "@jupyter-widgets/controls",
      "model_module_version": "1.5.0",
      "model_name": "FloatProgressModel",
      "state": {
       "bar_style": "success",
       "layout": "IPY_MODEL_132af0bd2e25420b88738e1ca9cc45c6",
       "max": 43,
       "style": "IPY_MODEL_0e83a8f1d4f64d63a9d25653d52858dc",
       "value": 43
      }
     },
     "4508c30bc47a4c1e96417b3b0a567f84": {
      "model_module": "@jupyter-widgets/controls",
      "model_module_version": "1.5.0",
      "model_name": "HBoxModel",
      "state": {
       "children": [
        "IPY_MODEL_5cc900beada64ff1b73bed197291586c",
        "IPY_MODEL_b2de65784e9f48d8a503fb14dca52329"
       ],
       "layout": "IPY_MODEL_8907b63902bc4b01b0095e44be57b65d"
      }
     },
     "454ccc08456a4098b8eadf9e23bd53b0": {
      "model_module": "@jupyter-widgets/controls",
      "model_module_version": "1.5.0",
      "model_name": "HTMLModel",
      "state": {
       "layout": "IPY_MODEL_0d6b021e048b48fd95963d0dbcf00428",
       "style": "IPY_MODEL_575b758372d8489e931f6381ea22cabc",
       "value": "Epoch [40/50]: 100%|██████████| 99/99 [00:28&lt;00:00,  3.48it/s, loss=0.000487]"
      }
     },
     "4607a070c901408eba4774e4e4c962e9": {
      "model_module": "@jupyter-widgets/controls",
      "model_module_version": "1.5.0",
      "model_name": "HBoxModel",
      "state": {
       "children": [
        "IPY_MODEL_88653af02b9f45cd9944bc9f68f01cab",
        "IPY_MODEL_0797c03012af49e2ac4d58f9b0567d57"
       ],
       "layout": "IPY_MODEL_71ae0e3149f344e08da9d7e4c5816996"
      }
     },
     "46706b2f88db4e5bb3a8053c4b7a728f": {
      "model_module": "@jupyter-widgets/controls",
      "model_module_version": "1.5.0",
      "model_name": "HTMLModel",
      "state": {
       "layout": "IPY_MODEL_2c6c7968bc3b4d4c91119fa6fc3f4403",
       "style": "IPY_MODEL_e04ac88f75a446ecb3953d26d7be4b44",
       "value": "Epoch [28/50]: 100%|██████████| 43/43 [00:10&lt;00:00,  4.21it/s, loss=0.00249]"
      }
     },
     "46a2899da8734b5eb87c98540a348504": {
      "model_module": "@jupyter-widgets/controls",
      "model_module_version": "1.5.0",
      "model_name": "HTMLModel",
      "state": {
       "layout": "IPY_MODEL_d094a43256c24595857f1f1a6610cb14",
       "style": "IPY_MODEL_4b27895e376940c5be267cf3ce9fdb32",
       "value": "Epoch [41/50]: 100%|██████████| 43/43 [00:11&lt;00:00,  3.82it/s, loss=0.00256]"
      }
     },
     "46ddbc25253f43698c105b71c7abb63f": {
      "model_module": "@jupyter-widgets/controls",
      "model_module_version": "1.5.0",
      "model_name": "HBoxModel",
      "state": {
       "children": [
        "IPY_MODEL_4d27296a33984f4b87417e523563b7bc",
        "IPY_MODEL_437dad167ccb48c1b573e37bde081f56"
       ],
       "layout": "IPY_MODEL_c563d22f99034fafb3ddcafab36792b0"
      }
     },
     "47257efdd5d94b1abed6db639247586c": {
      "model_module": "@jupyter-widgets/base",
      "model_module_version": "1.2.0",
      "model_name": "LayoutModel",
      "state": {}
     },
     "478d9e6d9a5d4faeb01f97d526166e49": {
      "model_module": "@jupyter-widgets/base",
      "model_module_version": "1.2.0",
      "model_name": "LayoutModel",
      "state": {}
     },
     "47af83862861429aad584505616f8c5d": {
      "model_module": "@jupyter-widgets/controls",
      "model_module_version": "1.5.0",
      "model_name": "FloatProgressModel",
      "state": {
       "bar_style": "success",
       "layout": "IPY_MODEL_0d03579bcf4e4850acac98de8be8af0b",
       "max": 99,
       "style": "IPY_MODEL_fe2976da993142d89ff2f361cad1d9d9",
       "value": 99
      }
     },
     "47f81c37f5cf447092bb01b73dfe241a": {
      "model_module": "@jupyter-widgets/controls",
      "model_module_version": "1.5.0",
      "model_name": "ProgressStyleModel",
      "state": {
       "description_width": "initial"
      }
     },
     "4809e8c2c89e4808bbc9296f7923f1a7": {
      "model_module": "@jupyter-widgets/controls",
      "model_module_version": "1.5.0",
      "model_name": "HBoxModel",
      "state": {
       "children": [
        "IPY_MODEL_1131f5fa74ef4c628594d69a5cc01b7c",
        "IPY_MODEL_9a3d43bf4f384744a36f2e641acc70c5"
       ],
       "layout": "IPY_MODEL_988fb1fa2a5f49c78f9e83daa84074b0"
      }
     },
     "4869430ab807498c93db8f0eeeb4143e": {
      "model_module": "@jupyter-widgets/base",
      "model_module_version": "1.2.0",
      "model_name": "LayoutModel",
      "state": {}
     },
     "48c56cb4c9a1433e8cdbbca019b2176d": {
      "model_module": "@jupyter-widgets/base",
      "model_module_version": "1.2.0",
      "model_name": "LayoutModel",
      "state": {}
     },
     "48ce9202072a4bed839b8c3bdd167daa": {
      "model_module": "@jupyter-widgets/controls",
      "model_module_version": "1.5.0",
      "model_name": "HBoxModel",
      "state": {
       "children": [
        "IPY_MODEL_d23e19bac0eb461d83bd1fd27769b5a3",
        "IPY_MODEL_7a1bb72cb0f14596b8ec569b34c41fcc"
       ],
       "layout": "IPY_MODEL_c8701f322bbe4f50a5f95482dde13e76"
      }
     },
     "490c5377a90645a28660745f57b0c950": {
      "model_module": "@jupyter-widgets/controls",
      "model_module_version": "1.5.0",
      "model_name": "HTMLModel",
      "state": {
       "layout": "IPY_MODEL_3820ba1ba3d74ce49a3be0aa5e662017",
       "style": "IPY_MODEL_ac32f337e9a84b9ead8b1f21b22006e1",
       "value": "Epoch [24/50]: 100%|██████████| 99/99 [00:28&lt;00:00,  3.53it/s, loss=0.000499]"
      }
     },
     "49b141fe231546dca5345b5c29c4f1a5": {
      "model_module": "@jupyter-widgets/controls",
      "model_module_version": "1.5.0",
      "model_name": "FloatProgressModel",
      "state": {
       "bar_style": "success",
       "layout": "IPY_MODEL_3a0c1637f2a4461297237347d2011695",
       "max": 99,
       "style": "IPY_MODEL_d307698a1f314f1aa6e6f450b9f887da",
       "value": 99
      }
     },
     "49f9dfb6cb3d4695af11f4be4ffb6195": {
      "model_module": "@jupyter-widgets/controls",
      "model_module_version": "1.5.0",
      "model_name": "DescriptionStyleModel",
      "state": {
       "description_width": ""
      }
     },
     "4a122776c13546848e7681276a6a25dc": {
      "model_module": "@jupyter-widgets/controls",
      "model_module_version": "1.5.0",
      "model_name": "HTMLModel",
      "state": {
       "layout": "IPY_MODEL_3964420415f24c92b0256f28cab5e41d",
       "style": "IPY_MODEL_2a628b9ebac441ab85f54a0e84e2ea21",
       "value": "Epoch [41/50]: 100%|██████████| 99/99 [00:29&lt;00:00,  3.40it/s, loss=0.000576]"
      }
     },
     "4a349d63fdc04cef8f3288fe24ff0169": {
      "model_module": "@jupyter-widgets/controls",
      "model_module_version": "1.5.0",
      "model_name": "ProgressStyleModel",
      "state": {
       "description_width": "initial"
      }
     },
     "4a3dbee03f4b4898b4f690a51e122452": {
      "model_module": "@jupyter-widgets/controls",
      "model_module_version": "1.5.0",
      "model_name": "FloatProgressModel",
      "state": {
       "bar_style": "success",
       "layout": "IPY_MODEL_02368674bd194f9ab53e516f11137d3e",
       "max": 43,
       "style": "IPY_MODEL_878efd03010d487a938b24bf22434bb8",
       "value": 43
      }
     },
     "4a7c4ed2fd954e4ab5ec8c69d6baed52": {
      "model_module": "@jupyter-widgets/controls",
      "model_module_version": "1.5.0",
      "model_name": "HTMLModel",
      "state": {
       "layout": "IPY_MODEL_fd435127f1e54895a6a3dcfb1d780042",
       "style": "IPY_MODEL_b8be2897ecae43449183a13363449bd9",
       "value": "Epoch [5/50]: 100%|██████████| 43/43 [00:10&lt;00:00,  4.08it/s, loss=0.0101]"
      }
     },
     "4af66280aa514738bfb50802cbf84e38": {
      "model_module": "@jupyter-widgets/controls",
      "model_module_version": "1.5.0",
      "model_name": "ProgressStyleModel",
      "state": {
       "description_width": "initial"
      }
     },
     "4b27895e376940c5be267cf3ce9fdb32": {
      "model_module": "@jupyter-widgets/controls",
      "model_module_version": "1.5.0",
      "model_name": "DescriptionStyleModel",
      "state": {
       "description_width": ""
      }
     },
     "4b3a05a3a1764d0b9ea1d667843ec8b4": {
      "model_module": "@jupyter-widgets/controls",
      "model_module_version": "1.5.0",
      "model_name": "ProgressStyleModel",
      "state": {
       "description_width": "initial"
      }
     },
     "4b476e43073f44dd909ae7a65fb94aae": {
      "model_module": "@jupyter-widgets/base",
      "model_module_version": "1.2.0",
      "model_name": "LayoutModel",
      "state": {}
     },
     "4c265793fc3745e288b6f60dc77a0574": {
      "model_module": "@jupyter-widgets/controls",
      "model_module_version": "1.5.0",
      "model_name": "DescriptionStyleModel",
      "state": {
       "description_width": ""
      }
     },
     "4d27296a33984f4b87417e523563b7bc": {
      "model_module": "@jupyter-widgets/controls",
      "model_module_version": "1.5.0",
      "model_name": "FloatProgressModel",
      "state": {
       "bar_style": "success",
       "layout": "IPY_MODEL_41b2446c984f4e008364aaae5730b3ac",
       "max": 99,
       "style": "IPY_MODEL_cf6a95832a0244de89d7add1be504e5c",
       "value": 99
      }
     },
     "4d32083397b44427bdef05a433b129ed": {
      "model_module": "@jupyter-widgets/controls",
      "model_module_version": "1.5.0",
      "model_name": "HTMLModel",
      "state": {
       "layout": "IPY_MODEL_adeff5cac75c4fdf9b119b464cc536f1",
       "style": "IPY_MODEL_032a4e3a5a1d4d1997ebf6dc6afc10bd",
       "value": "Epoch [27/50]: 100%|██████████| 99/99 [00:29&lt;00:00,  3.32it/s, loss=0.000442]"
      }
     },
     "4d3cd4dd42d949699ded519c157c9923": {
      "model_module": "@jupyter-widgets/base",
      "model_module_version": "1.2.0",
      "model_name": "LayoutModel",
      "state": {}
     },
     "4d7e2afb43a945d093c17f0e063b29df": {
      "model_module": "@jupyter-widgets/controls",
      "model_module_version": "1.5.0",
      "model_name": "ProgressStyleModel",
      "state": {
       "description_width": "initial"
      }
     },
     "4dde35e969584db3b216eed81425a5cb": {
      "model_module": "@jupyter-widgets/base",
      "model_module_version": "1.2.0",
      "model_name": "LayoutModel",
      "state": {}
     },
     "4e44a474e0dd4eb9999a8d5398a4e0e7": {
      "model_module": "@jupyter-widgets/base",
      "model_module_version": "1.2.0",
      "model_name": "LayoutModel",
      "state": {}
     },
     "4ea8f477b5b047e0a15fcebbe135e83f": {
      "model_module": "@jupyter-widgets/base",
      "model_module_version": "1.2.0",
      "model_name": "LayoutModel",
      "state": {}
     },
     "4f8b27d264a74e14a304e9bd315c5bd0": {
      "model_module": "@jupyter-widgets/controls",
      "model_module_version": "1.5.0",
      "model_name": "ProgressStyleModel",
      "state": {
       "description_width": "initial"
      }
     },
     "4ff1f04926ba406492a39e4c20fb23c4": {
      "model_module": "@jupyter-widgets/controls",
      "model_module_version": "1.5.0",
      "model_name": "FloatProgressModel",
      "state": {
       "bar_style": "success",
       "layout": "IPY_MODEL_6082c6db1a5f45749fba7f9360de4913",
       "max": 99,
       "style": "IPY_MODEL_8977fbe6fa56431696eab4de5bbecc49",
       "value": 99
      }
     },
     "50535d2c6b5541d9bef43b8cefbaed73": {
      "model_module": "@jupyter-widgets/base",
      "model_module_version": "1.2.0",
      "model_name": "LayoutModel",
      "state": {}
     },
     "506a280a3a4f403a8ceb562136847d57": {
      "model_module": "@jupyter-widgets/base",
      "model_module_version": "1.2.0",
      "model_name": "LayoutModel",
      "state": {}
     },
     "506cfacbd10d450fb53661950c374fc7": {
      "model_module": "@jupyter-widgets/controls",
      "model_module_version": "1.5.0",
      "model_name": "HTMLModel",
      "state": {
       "layout": "IPY_MODEL_6bac57cb4f2b48038d91dae6499fbf07",
       "style": "IPY_MODEL_935ef7c587b14957a863d571ae06f679",
       "value": "Epoch [21/50]: 100%|██████████| 43/43 [00:10&lt;00:00,  4.12it/s, loss=0.00288]"
      }
     },
     "509c005d59944027a9e2081903839105": {
      "model_module": "@jupyter-widgets/base",
      "model_module_version": "1.2.0",
      "model_name": "LayoutModel",
      "state": {}
     },
     "50fb24ff70774140bb9886e8dd5859d3": {
      "model_module": "@jupyter-widgets/controls",
      "model_module_version": "1.5.0",
      "model_name": "HBoxModel",
      "state": {
       "children": [
        "IPY_MODEL_2d745204251440ccab13129ad05389ef",
        "IPY_MODEL_63b2722666a94fef822e43d5f7ed8533"
       ],
       "layout": "IPY_MODEL_320fbe3bb5294a85b8067d99fb9213c0"
      }
     },
     "51e3c92af21649de9f367cf944180b02": {
      "model_module": "@jupyter-widgets/controls",
      "model_module_version": "1.5.0",
      "model_name": "ProgressStyleModel",
      "state": {
       "description_width": "initial"
      }
     },
     "522f9bbfb08849f698655a686b94cf41": {
      "model_module": "@jupyter-widgets/controls",
      "model_module_version": "1.5.0",
      "model_name": "FloatProgressModel",
      "state": {
       "bar_style": "success",
       "layout": "IPY_MODEL_d80e9e00a4914b69bb5e12dcd39f843f",
       "max": 43,
       "style": "IPY_MODEL_3e9b4a31b7f442549165181f1307c839",
       "value": 43
      }
     },
     "52801d9760c445bd9fea368892fe93d4": {
      "model_module": "@jupyter-widgets/controls",
      "model_module_version": "1.5.0",
      "model_name": "HBoxModel",
      "state": {
       "children": [
        "IPY_MODEL_e094818f33ad4d008b98eb57769a7978",
        "IPY_MODEL_4a122776c13546848e7681276a6a25dc"
       ],
       "layout": "IPY_MODEL_0d284552253e4dc78af72122ab243242"
      }
     },
     "52c3d3773df94b1f875f1e06ba41a0da": {
      "model_module": "@jupyter-widgets/base",
      "model_module_version": "1.2.0",
      "model_name": "LayoutModel",
      "state": {}
     },
     "5329c90a2d7b445bacc0209e688a3408": {
      "model_module": "@jupyter-widgets/controls",
      "model_module_version": "1.5.0",
      "model_name": "FloatProgressModel",
      "state": {
       "bar_style": "success",
       "layout": "IPY_MODEL_653d54a0afa144399e9ee3de58d28cf0",
       "max": 99,
       "style": "IPY_MODEL_8b607e9605534227ade22853649308ec",
       "value": 99
      }
     },
     "538b96dcc63543599f84d51aedb064d9": {
      "model_module": "@jupyter-widgets/controls",
      "model_module_version": "1.5.0",
      "model_name": "DescriptionStyleModel",
      "state": {
       "description_width": ""
      }
     },
     "53a71c8a9cf9442ba6f8568f41f7b78d": {
      "model_module": "@jupyter-widgets/base",
      "model_module_version": "1.2.0",
      "model_name": "LayoutModel",
      "state": {}
     },
     "5439d0ba110844caad7bb3eca5f4ee7e": {
      "model_module": "@jupyter-widgets/base",
      "model_module_version": "1.2.0",
      "model_name": "LayoutModel",
      "state": {}
     },
     "54b82af92c4d4c28853b1a1f0a5eb202": {
      "model_module": "@jupyter-widgets/base",
      "model_module_version": "1.2.0",
      "model_name": "LayoutModel",
      "state": {}
     },
     "54df04a9deac46289a8874d22f53c295": {
      "model_module": "@jupyter-widgets/controls",
      "model_module_version": "1.5.0",
      "model_name": "HBoxModel",
      "state": {
       "children": [
        "IPY_MODEL_e65d1314983b4dd8b9a7c3313fd0ddae",
        "IPY_MODEL_0e254e4a46534d07ad22fd12e473d694"
       ],
       "layout": "IPY_MODEL_bd6bd6629ec24cbe9ba13773a6795939"
      }
     },
     "54ee73ebcbd3447e89d1e906575b0c93": {
      "model_module": "@jupyter-widgets/base",
      "model_module_version": "1.2.0",
      "model_name": "LayoutModel",
      "state": {}
     },
     "54f4509d04194b068d1af64b3b390274": {
      "model_module": "@jupyter-widgets/controls",
      "model_module_version": "1.5.0",
      "model_name": "ProgressStyleModel",
      "state": {
       "description_width": "initial"
      }
     },
     "550b6e167a8d4c13959be8fdb44be1a7": {
      "model_module": "@jupyter-widgets/controls",
      "model_module_version": "1.5.0",
      "model_name": "HTMLModel",
      "state": {
       "layout": "IPY_MODEL_8abc4acdbbc847d88340754600e3a90c",
       "style": "IPY_MODEL_e2369d5276734e98ab26db2cf2da9e04",
       "value": "Epoch [39/50]: 100%|██████████| 43/43 [00:10&lt;00:00,  4.22it/s, loss=0.00117]"
      }
     },
     "5517f95ed6074ce29b6fa90f334a3ed8": {
      "model_module": "@jupyter-widgets/controls",
      "model_module_version": "1.5.0",
      "model_name": "FloatProgressModel",
      "state": {
       "bar_style": "success",
       "layout": "IPY_MODEL_61769523910c40ab903bb3b8fe4bf39b",
       "max": 99,
       "style": "IPY_MODEL_b6c462c86ee74081af5a19c913961790",
       "value": 99
      }
     },
     "5561c3a988a84d83b9a54104efe55f80": {
      "model_module": "@jupyter-widgets/base",
      "model_module_version": "1.2.0",
      "model_name": "LayoutModel",
      "state": {}
     },
     "55d5a78d3b5b49e1ac4096b0d06be122": {
      "model_module": "@jupyter-widgets/base",
      "model_module_version": "1.2.0",
      "model_name": "LayoutModel",
      "state": {}
     },
     "55da1cecb95444f9bf1f9d8f259fa768": {
      "model_module": "@jupyter-widgets/controls",
      "model_module_version": "1.5.0",
      "model_name": "ProgressStyleModel",
      "state": {
       "description_width": "initial"
      }
     },
     "55ea1a668d4b4e62a9463156ff845424": {
      "model_module": "@jupyter-widgets/base",
      "model_module_version": "1.2.0",
      "model_name": "LayoutModel",
      "state": {}
     },
     "5612581c715c43d4a664f9187f85d759": {
      "model_module": "@jupyter-widgets/controls",
      "model_module_version": "1.5.0",
      "model_name": "FloatProgressModel",
      "state": {
       "bar_style": "success",
       "layout": "IPY_MODEL_fabafd70e0784f0ebe15b6410cd26dd3",
       "max": 99,
       "style": "IPY_MODEL_daa0f7ff144043f4a5e9c1fb6bce6ee8",
       "value": 99
      }
     },
     "56364e3f12884761985b01c388d076dc": {
      "model_module": "@jupyter-widgets/controls",
      "model_module_version": "1.5.0",
      "model_name": "DescriptionStyleModel",
      "state": {
       "description_width": ""
      }
     },
     "563a6c37fc6b486cb7c002132568b4c2": {
      "model_module": "@jupyter-widgets/controls",
      "model_module_version": "1.5.0",
      "model_name": "DescriptionStyleModel",
      "state": {
       "description_width": ""
      }
     },
     "56ad53b671ba446d9c81444f1a08d466": {
      "model_module": "@jupyter-widgets/base",
      "model_module_version": "1.2.0",
      "model_name": "LayoutModel",
      "state": {}
     },
     "56e32b42e5de4d0eb368dc48eef16b3f": {
      "model_module": "@jupyter-widgets/controls",
      "model_module_version": "1.5.0",
      "model_name": "DescriptionStyleModel",
      "state": {
       "description_width": ""
      }
     },
     "575b758372d8489e931f6381ea22cabc": {
      "model_module": "@jupyter-widgets/controls",
      "model_module_version": "1.5.0",
      "model_name": "DescriptionStyleModel",
      "state": {
       "description_width": ""
      }
     },
     "579e2dbdded9426595f084647c6dda1f": {
      "model_module": "@jupyter-widgets/base",
      "model_module_version": "1.2.0",
      "model_name": "LayoutModel",
      "state": {}
     },
     "57af4a1d0f08443cbe2ae92b52ce9b04": {
      "model_module": "@jupyter-widgets/base",
      "model_module_version": "1.2.0",
      "model_name": "LayoutModel",
      "state": {}
     },
     "57ef867ac3fd44d8a25bb2d9805b09e5": {
      "model_module": "@jupyter-widgets/base",
      "model_module_version": "1.2.0",
      "model_name": "LayoutModel",
      "state": {}
     },
     "58505761f8c344fb84dbd624cbba898b": {
      "model_module": "@jupyter-widgets/controls",
      "model_module_version": "1.5.0",
      "model_name": "HTMLModel",
      "state": {
       "layout": "IPY_MODEL_98bf0bf5e3ea433384e00d6aa242a397",
       "style": "IPY_MODEL_de603766d6824e519a6718aab7237cb9",
       "value": "Epoch [15/50]: 100%|██████████| 43/43 [00:10&lt;00:00,  4.12it/s, loss=0.00603]"
      }
     },
     "58ae661a1a8743709cb730012f376f4a": {
      "model_module": "@jupyter-widgets/controls",
      "model_module_version": "1.5.0",
      "model_name": "DescriptionStyleModel",
      "state": {
       "description_width": ""
      }
     },
     "58c3736d518d426ab64cf338a562fc12": {
      "model_module": "@jupyter-widgets/controls",
      "model_module_version": "1.5.0",
      "model_name": "ProgressStyleModel",
      "state": {
       "description_width": "initial"
      }
     },
     "59278dcc0ea94bf09b52fa20f9717f68": {
      "model_module": "@jupyter-widgets/controls",
      "model_module_version": "1.5.0",
      "model_name": "HBoxModel",
      "state": {
       "children": [
        "IPY_MODEL_75c3195e8dc24f76ab3bf402adfc3cd7",
        "IPY_MODEL_267e7d0877cd45ba9841334146eb545a"
       ],
       "layout": "IPY_MODEL_8de4c70835be486c9e542b7e8c804e0e"
      }
     },
     "599713e3844d4b148828bbbb77caff36": {
      "model_module": "@jupyter-widgets/controls",
      "model_module_version": "1.5.0",
      "model_name": "FloatProgressModel",
      "state": {
       "bar_style": "success",
       "layout": "IPY_MODEL_6d73065f85f24eef91cf6cc3ac1f772e",
       "max": 43,
       "style": "IPY_MODEL_953d1f30b24245f49b7e4fa7d3003dc7",
       "value": 43
      }
     },
     "5a361591619443a291e4fe5318429e3e": {
      "model_module": "@jupyter-widgets/controls",
      "model_module_version": "1.5.0",
      "model_name": "HTMLModel",
      "state": {
       "layout": "IPY_MODEL_81dc8ef6c98b47ccbbed63767c7a464a",
       "style": "IPY_MODEL_eb0abe4eb6c346a6ba127d0e349591cf",
       "value": "Epoch [3/50]: 100%|██████████| 43/43 [00:10&lt;00:00,  3.99it/s, loss=0.0154]"
      }
     },
     "5a5ebb1c6d9942209849ec86c59c2318": {
      "model_module": "@jupyter-widgets/controls",
      "model_module_version": "1.5.0",
      "model_name": "DescriptionStyleModel",
      "state": {
       "description_width": ""
      }
     },
     "5ad624e03d1b434b93b2dc703d4bf503": {
      "model_module": "@jupyter-widgets/controls",
      "model_module_version": "1.5.0",
      "model_name": "DescriptionStyleModel",
      "state": {
       "description_width": ""
      }
     },
     "5ae42336fb664de4a7ee01512a54a387": {
      "model_module": "@jupyter-widgets/base",
      "model_module_version": "1.2.0",
      "model_name": "LayoutModel",
      "state": {}
     },
     "5af4e95826f24e87b4197b43b009a97f": {
      "model_module": "@jupyter-widgets/controls",
      "model_module_version": "1.5.0",
      "model_name": "FloatProgressModel",
      "state": {
       "bar_style": "success",
       "layout": "IPY_MODEL_47257efdd5d94b1abed6db639247586c",
       "max": 99,
       "style": "IPY_MODEL_bd00276b3a774c47a73c7b358b576540",
       "value": 99
      }
     },
     "5b0c76a7efcf42408023b31679d573f8": {
      "model_module": "@jupyter-widgets/controls",
      "model_module_version": "1.5.0",
      "model_name": "FloatProgressModel",
      "state": {
       "bar_style": "success",
       "layout": "IPY_MODEL_55d5a78d3b5b49e1ac4096b0d06be122",
       "max": 43,
       "style": "IPY_MODEL_d15ac561568b487d9dff051ea2070fd6",
       "value": 43
      }
     },
     "5b7370d6032447aebe269f54d8d14613": {
      "model_module": "@jupyter-widgets/base",
      "model_module_version": "1.2.0",
      "model_name": "LayoutModel",
      "state": {}
     },
     "5be5a6e219da47aa9dd51e6e573cab05": {
      "model_module": "@jupyter-widgets/base",
      "model_module_version": "1.2.0",
      "model_name": "LayoutModel",
      "state": {}
     },
     "5bef324132b3412eaccdc564c0e62b36": {
      "model_module": "@jupyter-widgets/base",
      "model_module_version": "1.2.0",
      "model_name": "LayoutModel",
      "state": {}
     },
     "5bfcfc5b47d747d99afeba9c39a92553": {
      "model_module": "@jupyter-widgets/controls",
      "model_module_version": "1.5.0",
      "model_name": "FloatProgressModel",
      "state": {
       "bar_style": "success",
       "layout": "IPY_MODEL_c13ef11a89094a28afec2b4323b1e3df",
       "max": 43,
       "style": "IPY_MODEL_066c586215f545c098de4bb03deadfdb",
       "value": 43
      }
     },
     "5c6aa558ded544b286162d2740458595": {
      "model_module": "@jupyter-widgets/controls",
      "model_module_version": "1.5.0",
      "model_name": "FloatProgressModel",
      "state": {
       "bar_style": "success",
       "layout": "IPY_MODEL_70c8c1fbc9f748cf96ca5b6bdf14a97d",
       "max": 99,
       "style": "IPY_MODEL_10e8f1c0401d4a5a8ee4185b87878a30",
       "value": 99
      }
     },
     "5c8f45dd72e04a1cbe44445185e8d3d2": {
      "model_module": "@jupyter-widgets/controls",
      "model_module_version": "1.5.0",
      "model_name": "HTMLModel",
      "state": {
       "layout": "IPY_MODEL_7b219823ff0245009a51215a987439b3",
       "style": "IPY_MODEL_b21e802b0b084e3a8a4ab286ac9adaeb",
       "value": "Epoch [30/50]: 100%|██████████| 43/43 [00:10&lt;00:00,  4.23it/s, loss=0.00252]"
      }
     },
     "5ca7c2b0c4cd4b64b15b8dbe13be8a7e": {
      "model_module": "@jupyter-widgets/base",
      "model_module_version": "1.2.0",
      "model_name": "LayoutModel",
      "state": {}
     },
     "5cba25cfb35142399540f12a2fc0a1aa": {
      "model_module": "@jupyter-widgets/controls",
      "model_module_version": "1.5.0",
      "model_name": "HBoxModel",
      "state": {
       "children": [
        "IPY_MODEL_47af83862861429aad584505616f8c5d",
        "IPY_MODEL_669476e3c4524f27948c9652976ceaaa"
       ],
       "layout": "IPY_MODEL_85ff86037a5144baa3c455e3a7e5bb3c"
      }
     },
     "5cc900beada64ff1b73bed197291586c": {
      "model_module": "@jupyter-widgets/controls",
      "model_module_version": "1.5.0",
      "model_name": "FloatProgressModel",
      "state": {
       "bar_style": "success",
       "layout": "IPY_MODEL_133e634465804e42897bf0b5d2d116af",
       "max": 99,
       "style": "IPY_MODEL_0b97bc514f8e41c9a9cacfeb8d70f239",
       "value": 99
      }
     },
     "5d28fd12cb2c4cf6987788876a26b84f": {
      "model_module": "@jupyter-widgets/controls",
      "model_module_version": "1.5.0",
      "model_name": "HBoxModel",
      "state": {
       "children": [
        "IPY_MODEL_216610673f4040eeb00ab1286dc8ebed",
        "IPY_MODEL_e93025d091904e958457426fb3e88d63"
       ],
       "layout": "IPY_MODEL_6b58003475a3463eb8f07a561cfd2fe5"
      }
     },
     "5d5ab24747264720b17af3fbd54525a1": {
      "model_module": "@jupyter-widgets/controls",
      "model_module_version": "1.5.0",
      "model_name": "HBoxModel",
      "state": {
       "children": [
        "IPY_MODEL_ec80745c38f6452b9019ad1b772f223f",
        "IPY_MODEL_490c5377a90645a28660745f57b0c950"
       ],
       "layout": "IPY_MODEL_9976c600d25840e0ad7465d567375b83"
      }
     },
     "5dbd1dff5c1a4350ac4b684acb3a8b4d": {
      "model_module": "@jupyter-widgets/base",
      "model_module_version": "1.2.0",
      "model_name": "LayoutModel",
      "state": {}
     },
     "5e5ec8cb23ad405dbf3a0d7b02c3df20": {
      "model_module": "@jupyter-widgets/base",
      "model_module_version": "1.2.0",
      "model_name": "LayoutModel",
      "state": {}
     },
     "5e6496833f3540a28f657d2562ee9492": {
      "model_module": "@jupyter-widgets/base",
      "model_module_version": "1.2.0",
      "model_name": "LayoutModel",
      "state": {}
     },
     "5eb22ed3d271493685d70d1ac9fa89b6": {
      "model_module": "@jupyter-widgets/controls",
      "model_module_version": "1.5.0",
      "model_name": "HBoxModel",
      "state": {
       "children": [
        "IPY_MODEL_0bde6295beda4519a833a436b58fc606",
        "IPY_MODEL_c0d0a64fad064f56aeff425ec25813b2"
       ],
       "layout": "IPY_MODEL_57af4a1d0f08443cbe2ae92b52ce9b04"
      }
     },
     "5ee07a3baad84c529e04c103bc75c6a6": {
      "model_module": "@jupyter-widgets/base",
      "model_module_version": "1.2.0",
      "model_name": "LayoutModel",
      "state": {}
     },
     "5eeb9b97d1104a519d818581793dffb7": {
      "model_module": "@jupyter-widgets/controls",
      "model_module_version": "1.5.0",
      "model_name": "DescriptionStyleModel",
      "state": {
       "description_width": ""
      }
     },
     "5f4f112fc1fd4d69afa2b49b4e41ac75": {
      "model_module": "@jupyter-widgets/controls",
      "model_module_version": "1.5.0",
      "model_name": "HBoxModel",
      "state": {
       "children": [
        "IPY_MODEL_043acaf3214341b99f329887b0ab7f99",
        "IPY_MODEL_8a7a1bae446947fbb6937f4a2d670354"
       ],
       "layout": "IPY_MODEL_0d917c44c96f4567862f468b69794730"
      }
     },
     "5f54e2917d51474f9e576346b8a5fa6b": {
      "model_module": "@jupyter-widgets/base",
      "model_module_version": "1.2.0",
      "model_name": "LayoutModel",
      "state": {}
     },
     "5fbfd104420b4cf4a8d32e6851ab1d16": {
      "model_module": "@jupyter-widgets/controls",
      "model_module_version": "1.5.0",
      "model_name": "DescriptionStyleModel",
      "state": {
       "description_width": ""
      }
     },
     "5ff8655893fd43c2b426cebf7c6db5c9": {
      "model_module": "@jupyter-widgets/base",
      "model_module_version": "1.2.0",
      "model_name": "LayoutModel",
      "state": {}
     },
     "604dadb9a49543f2b829c609ef07e935": {
      "model_module": "@jupyter-widgets/controls",
      "model_module_version": "1.5.0",
      "model_name": "ProgressStyleModel",
      "state": {
       "description_width": "initial"
      }
     },
     "6082c6db1a5f45749fba7f9360de4913": {
      "model_module": "@jupyter-widgets/base",
      "model_module_version": "1.2.0",
      "model_name": "LayoutModel",
      "state": {}
     },
     "6094e266de464800b94a24fb5ebccf32": {
      "model_module": "@jupyter-widgets/base",
      "model_module_version": "1.2.0",
      "model_name": "LayoutModel",
      "state": {}
     },
     "60e72c0d971d43ad80deb2000a416b1e": {
      "model_module": "@jupyter-widgets/controls",
      "model_module_version": "1.5.0",
      "model_name": "FloatProgressModel",
      "state": {
       "bar_style": "success",
       "layout": "IPY_MODEL_6239a67f2e594b7bb379eeffffd8d37a",
       "max": 43,
       "style": "IPY_MODEL_6736d0ccc5d64bec9ead97d705f85ce6",
       "value": 43
      }
     },
     "612c0fe394ea444197ef01c988b12a20": {
      "model_module": "@jupyter-widgets/base",
      "model_module_version": "1.2.0",
      "model_name": "LayoutModel",
      "state": {}
     },
     "61375bb7bde2446c9062cf8c79847818": {
      "model_module": "@jupyter-widgets/controls",
      "model_module_version": "1.5.0",
      "model_name": "HTMLModel",
      "state": {
       "layout": "IPY_MODEL_e01eb7e618e34375b931dd55a0d5d592",
       "style": "IPY_MODEL_f8a88596f5d64bc6b15dd1b80b69c1ea",
       "value": "Epoch [36/50]: 100%|██████████| 43/43 [00:10&lt;00:00,  4.22it/s, loss=0.00184]"
      }
     },
     "61769523910c40ab903bb3b8fe4bf39b": {
      "model_module": "@jupyter-widgets/base",
      "model_module_version": "1.2.0",
      "model_name": "LayoutModel",
      "state": {}
     },
     "61dda33c362041bba382827cb8e7db73": {
      "model_module": "@jupyter-widgets/base",
      "model_module_version": "1.2.0",
      "model_name": "LayoutModel",
      "state": {}
     },
     "6239a67f2e594b7bb379eeffffd8d37a": {
      "model_module": "@jupyter-widgets/base",
      "model_module_version": "1.2.0",
      "model_name": "LayoutModel",
      "state": {}
     },
     "63054c393e6c4f6285526ec8c9a34894": {
      "model_module": "@jupyter-widgets/controls",
      "model_module_version": "1.5.0",
      "model_name": "HTMLModel",
      "state": {
       "layout": "IPY_MODEL_8048ab8fbedc45d4ad4a24246270efc6",
       "style": "IPY_MODEL_c5ebb19ea93249f799429369e0c8b6cb",
       "value": "Epoch [43/50]: 100%|██████████| 43/43 [00:10&lt;00:00,  4.10it/s, loss=0.00116]"
      }
     },
     "63145564afc74bbeb3f9aa1dddf8986a": {
      "model_module": "@jupyter-widgets/base",
      "model_module_version": "1.2.0",
      "model_name": "LayoutModel",
      "state": {}
     },
     "631d679559e64961b88541299d58c8d4": {
      "model_module": "@jupyter-widgets/controls",
      "model_module_version": "1.5.0",
      "model_name": "DescriptionStyleModel",
      "state": {
       "description_width": ""
      }
     },
     "638680a915584d54b9fea78d2305cabb": {
      "model_module": "@jupyter-widgets/base",
      "model_module_version": "1.2.0",
      "model_name": "LayoutModel",
      "state": {}
     },
     "638c7c881e874c799865b88ddb45dcc3": {
      "model_module": "@jupyter-widgets/base",
      "model_module_version": "1.2.0",
      "model_name": "LayoutModel",
      "state": {}
     },
     "63b2722666a94fef822e43d5f7ed8533": {
      "model_module": "@jupyter-widgets/controls",
      "model_module_version": "1.5.0",
      "model_name": "HTMLModel",
      "state": {
       "layout": "IPY_MODEL_1901cb1ffe12446a9856dbcf58625c1e",
       "style": "IPY_MODEL_ffcf637d0a58479d8677a672dc0538d3",
       "value": "Epoch [34/50]: 100%|██████████| 99/99 [00:28&lt;00:00,  3.50it/s, loss=0.000397]"
      }
     },
     "643443a481174f1fbdd97c87be518615": {
      "model_module": "@jupyter-widgets/controls",
      "model_module_version": "1.5.0",
      "model_name": "HBoxModel",
      "state": {
       "children": [
        "IPY_MODEL_0015429d874d489fb953a763bccf676a",
        "IPY_MODEL_46a2899da8734b5eb87c98540a348504"
       ],
       "layout": "IPY_MODEL_414d6fb8d088418490991d794055173d"
      }
     },
     "64e7d228d0b84078bdd1c5a2f503b6f2": {
      "model_module": "@jupyter-widgets/base",
      "model_module_version": "1.2.0",
      "model_name": "LayoutModel",
      "state": {}
     },
     "6538905da3314f63bf06398a248adcb6": {
      "model_module": "@jupyter-widgets/controls",
      "model_module_version": "1.5.0",
      "model_name": "DescriptionStyleModel",
      "state": {
       "description_width": ""
      }
     },
     "653d54a0afa144399e9ee3de58d28cf0": {
      "model_module": "@jupyter-widgets/base",
      "model_module_version": "1.2.0",
      "model_name": "LayoutModel",
      "state": {}
     },
     "65ed6dd4c55f4b92aa5eebaa98daa32c": {
      "model_module": "@jupyter-widgets/base",
      "model_module_version": "1.2.0",
      "model_name": "LayoutModel",
      "state": {}
     },
     "66210b0853ef4e3c89e86222661e7b79": {
      "model_module": "@jupyter-widgets/controls",
      "model_module_version": "1.5.0",
      "model_name": "DescriptionStyleModel",
      "state": {
       "description_width": ""
      }
     },
     "6621b23c0d4f44f8a731224e141b4c95": {
      "model_module": "@jupyter-widgets/controls",
      "model_module_version": "1.5.0",
      "model_name": "HBoxModel",
      "state": {
       "children": [
        "IPY_MODEL_6c0d7644c727451bad979fc5d505d0c5",
        "IPY_MODEL_3c9cea7ca8ac4b4985a106ee910799f8"
       ],
       "layout": "IPY_MODEL_0a92f5a2542a42228c47e86beb1d5ee4"
      }
     },
     "6624f78dae3a43ff960fda8f81b6ddc8": {
      "model_module": "@jupyter-widgets/controls",
      "model_module_version": "1.5.0",
      "model_name": "HBoxModel",
      "state": {
       "children": [
        "IPY_MODEL_3f0da84afc664b928c1c3c6f015df884",
        "IPY_MODEL_96844da88a5140d2bcd7adff944b7832"
       ],
       "layout": "IPY_MODEL_aa6fe10ed7bd4277b4747e2d9a742c14"
      }
     },
     "664a6f4667a84310b64cee1b4a56705b": {
      "model_module": "@jupyter-widgets/controls",
      "model_module_version": "1.5.0",
      "model_name": "ProgressStyleModel",
      "state": {
       "description_width": "initial"
      }
     },
     "6661a32781a44a06b85e6f02c3a6972f": {
      "model_module": "@jupyter-widgets/base",
      "model_module_version": "1.2.0",
      "model_name": "LayoutModel",
      "state": {}
     },
     "667b1c8fc4f042f087607c9fa92eeddf": {
      "model_module": "@jupyter-widgets/base",
      "model_module_version": "1.2.0",
      "model_name": "LayoutModel",
      "state": {}
     },
     "669476e3c4524f27948c9652976ceaaa": {
      "model_module": "@jupyter-widgets/controls",
      "model_module_version": "1.5.0",
      "model_name": "HTMLModel",
      "state": {
       "layout": "IPY_MODEL_5439d0ba110844caad7bb3eca5f4ee7e",
       "style": "IPY_MODEL_1607867faa654ebfa71453fed0c3ddbc",
       "value": "Epoch [47/50]: 100%|██████████| 99/99 [00:42&lt;00:00,  2.34it/s, loss=0.000528]"
      }
     },
     "66e179746560490faae3a20588e53b75": {
      "model_module": "@jupyter-widgets/controls",
      "model_module_version": "1.5.0",
      "model_name": "ProgressStyleModel",
      "state": {
       "description_width": "initial"
      }
     },
     "6736d0ccc5d64bec9ead97d705f85ce6": {
      "model_module": "@jupyter-widgets/controls",
      "model_module_version": "1.5.0",
      "model_name": "ProgressStyleModel",
      "state": {
       "description_width": "initial"
      }
     },
     "67e0d51e8aa84da89c095dcc33969a7c": {
      "model_module": "@jupyter-widgets/controls",
      "model_module_version": "1.5.0",
      "model_name": "ProgressStyleModel",
      "state": {
       "description_width": "initial"
      }
     },
     "683ade735a0c4c92ae296ffd82d12e51": {
      "model_module": "@jupyter-widgets/controls",
      "model_module_version": "1.5.0",
      "model_name": "ProgressStyleModel",
      "state": {
       "description_width": "initial"
      }
     },
     "684dacddb8bb4b90abe26a044a7bb608": {
      "model_module": "@jupyter-widgets/controls",
      "model_module_version": "1.5.0",
      "model_name": "HBoxModel",
      "state": {
       "children": [
        "IPY_MODEL_522f9bbfb08849f698655a686b94cf41",
        "IPY_MODEL_89704190ba4c42748982a184671b846c"
       ],
       "layout": "IPY_MODEL_b3500a34ee7c492da09f684bcde5db12"
      }
     },
     "686be08503c54651bfdff6e13b3c8ed7": {
      "model_module": "@jupyter-widgets/base",
      "model_module_version": "1.2.0",
      "model_name": "LayoutModel",
      "state": {}
     },
     "6888619375c748cf843e5f07a69f577d": {
      "model_module": "@jupyter-widgets/controls",
      "model_module_version": "1.5.0",
      "model_name": "ProgressStyleModel",
      "state": {
       "description_width": "initial"
      }
     },
     "68b041044d92416f88b96fd45999472e": {
      "model_module": "@jupyter-widgets/controls",
      "model_module_version": "1.5.0",
      "model_name": "HTMLModel",
      "state": {
       "layout": "IPY_MODEL_c0b8463020654a25aae2f9f9063bea5a",
       "style": "IPY_MODEL_49f9dfb6cb3d4695af11f4be4ffb6195",
       "value": "Epoch [10/50]: 100%|██████████| 99/99 [00:28&lt;00:00,  3.45it/s, loss=0.00123]"
      }
     },
     "6a04d54343684d1390703772241c8a4f": {
      "model_module": "@jupyter-widgets/controls",
      "model_module_version": "1.5.0",
      "model_name": "FloatProgressModel",
      "state": {
       "bar_style": "success",
       "layout": "IPY_MODEL_7429417826d44b86baba7c8789666ba2",
       "max": 43,
       "style": "IPY_MODEL_daf833045e75486cad1ab28c44bc315a",
       "value": 43
      }
     },
     "6a0bd0a5e06e47348521de202ad1fb97": {
      "model_module": "@jupyter-widgets/controls",
      "model_module_version": "1.5.0",
      "model_name": "FloatProgressModel",
      "state": {
       "bar_style": "success",
       "layout": "IPY_MODEL_435983da644146b2b222a2dc2f86c12f",
       "max": 99,
       "style": "IPY_MODEL_664a6f4667a84310b64cee1b4a56705b",
       "value": 99
      }
     },
     "6a908b5a9034461492cdf50fc93eb19d": {
      "model_module": "@jupyter-widgets/controls",
      "model_module_version": "1.5.0",
      "model_name": "FloatProgressModel",
      "state": {
       "bar_style": "success",
       "layout": "IPY_MODEL_0880d18bf34a4e699bbb4de58d4b4ebe",
       "max": 43,
       "style": "IPY_MODEL_e209d46932f9424da1cfdadb0c4815f9",
       "value": 43
      }
     },
     "6b58003475a3463eb8f07a561cfd2fe5": {
      "model_module": "@jupyter-widgets/base",
      "model_module_version": "1.2.0",
      "model_name": "LayoutModel",
      "state": {}
     },
     "6bac57cb4f2b48038d91dae6499fbf07": {
      "model_module": "@jupyter-widgets/base",
      "model_module_version": "1.2.0",
      "model_name": "LayoutModel",
      "state": {}
     },
     "6bdb1850ce144099a682f02fcb9ad577": {
      "model_module": "@jupyter-widgets/controls",
      "model_module_version": "1.5.0",
      "model_name": "HTMLModel",
      "state": {
       "layout": "IPY_MODEL_54ee73ebcbd3447e89d1e906575b0c93",
       "style": "IPY_MODEL_801a0630fd9145c6aa5ba47d8ace19c7",
       "value": "Epoch [22/50]: 100%|██████████| 99/99 [00:27&lt;00:00,  3.54it/s, loss=0.000527]"
      }
     },
     "6beda28b434240d99b81ab99f49632e8": {
      "model_module": "@jupyter-widgets/controls",
      "model_module_version": "1.5.0",
      "model_name": "HBoxModel",
      "state": {
       "children": [
        "IPY_MODEL_db6c144f18b24ceba8ea3868cdf8f7c6",
        "IPY_MODEL_ce4e60ecba0646b2a4216b009992306a"
       ],
       "layout": "IPY_MODEL_07fe5af9d886408685a71f4af96fadfe"
      }
     },
     "6c0d7644c727451bad979fc5d505d0c5": {
      "model_module": "@jupyter-widgets/controls",
      "model_module_version": "1.5.0",
      "model_name": "FloatProgressModel",
      "state": {
       "bar_style": "success",
       "layout": "IPY_MODEL_c97e60e30c964389801b7678c63fe34c",
       "max": 99,
       "style": "IPY_MODEL_51e3c92af21649de9f367cf944180b02",
       "value": 99
      }
     },
     "6c23d33e9ef348019b259a4afb14d3ce": {
      "model_module": "@jupyter-widgets/controls",
      "model_module_version": "1.5.0",
      "model_name": "DescriptionStyleModel",
      "state": {
       "description_width": ""
      }
     },
     "6cbf8f02270848928cf31ddb7dd187b9": {
      "model_module": "@jupyter-widgets/controls",
      "model_module_version": "1.5.0",
      "model_name": "DescriptionStyleModel",
      "state": {
       "description_width": ""
      }
     },
     "6d1e92043c8f43c193444c553dc4a90c": {
      "model_module": "@jupyter-widgets/base",
      "model_module_version": "1.2.0",
      "model_name": "LayoutModel",
      "state": {}
     },
     "6d73065f85f24eef91cf6cc3ac1f772e": {
      "model_module": "@jupyter-widgets/base",
      "model_module_version": "1.2.0",
      "model_name": "LayoutModel",
      "state": {}
     },
     "6dc0dfec54b5434db8bbc735ad638854": {
      "model_module": "@jupyter-widgets/controls",
      "model_module_version": "1.5.0",
      "model_name": "ProgressStyleModel",
      "state": {
       "description_width": "initial"
      }
     },
     "6e13c0b413974589bb36727bcb136932": {
      "model_module": "@jupyter-widgets/base",
      "model_module_version": "1.2.0",
      "model_name": "LayoutModel",
      "state": {}
     },
     "6e1cb633ba604369b28a623497cbd8c4": {
      "model_module": "@jupyter-widgets/base",
      "model_module_version": "1.2.0",
      "model_name": "LayoutModel",
      "state": {}
     },
     "6e25f4dc07de446ca92c27e5483947d8": {
      "model_module": "@jupyter-widgets/controls",
      "model_module_version": "1.5.0",
      "model_name": "FloatProgressModel",
      "state": {
       "bar_style": "success",
       "layout": "IPY_MODEL_5ae42336fb664de4a7ee01512a54a387",
       "max": 43,
       "style": "IPY_MODEL_b203840b7f084a7a8e67754a0257e15e",
       "value": 43
      }
     },
     "6ff0a59fb042441bb4395c83f03887c8": {
      "model_module": "@jupyter-widgets/base",
      "model_module_version": "1.2.0",
      "model_name": "LayoutModel",
      "state": {}
     },
     "707de3774f2544a79ec6b5b882148bc5": {
      "model_module": "@jupyter-widgets/controls",
      "model_module_version": "1.5.0",
      "model_name": "DescriptionStyleModel",
      "state": {
       "description_width": ""
      }
     },
     "708a4409f5e4423f9cae117ef7adcc6e": {
      "model_module": "@jupyter-widgets/controls",
      "model_module_version": "1.5.0",
      "model_name": "FloatProgressModel",
      "state": {
       "bar_style": "success",
       "layout": "IPY_MODEL_6661a32781a44a06b85e6f02c3a6972f",
       "max": 99,
       "style": "IPY_MODEL_4d7e2afb43a945d093c17f0e063b29df",
       "value": 99
      }
     },
     "70c8c1fbc9f748cf96ca5b6bdf14a97d": {
      "model_module": "@jupyter-widgets/base",
      "model_module_version": "1.2.0",
      "model_name": "LayoutModel",
      "state": {}
     },
     "7109797a9d7847008aefa96bd2e4c60a": {
      "model_module": "@jupyter-widgets/controls",
      "model_module_version": "1.5.0",
      "model_name": "ProgressStyleModel",
      "state": {
       "description_width": "initial"
      }
     },
     "7110d8cf84d34e51a4bba252a89056e0": {
      "model_module": "@jupyter-widgets/controls",
      "model_module_version": "1.5.0",
      "model_name": "HTMLModel",
      "state": {
       "layout": "IPY_MODEL_96accba4233a460d9395d32f5324a561",
       "style": "IPY_MODEL_124d10f4846e46dfb9c93ff5824ca77a",
       "value": "Epoch [31/50]: 100%|██████████| 43/43 [00:10&lt;00:00,  4.23it/s, loss=0.00227]"
      }
     },
     "71ae0e3149f344e08da9d7e4c5816996": {
      "model_module": "@jupyter-widgets/base",
      "model_module_version": "1.2.0",
      "model_name": "LayoutModel",
      "state": {}
     },
     "72f740668ac0491d888f456001ca180b": {
      "model_module": "@jupyter-widgets/controls",
      "model_module_version": "1.5.0",
      "model_name": "HTMLModel",
      "state": {
       "layout": "IPY_MODEL_9b97dcfb024b4c91b5e1f609cdfb4264",
       "style": "IPY_MODEL_c2db78da91c34e0e9d30621a04ef4626",
       "value": "Epoch [29/50]: 100%|██████████| 99/99 [00:28&lt;00:00,  3.54it/s, loss=0.000673]"
      }
     },
     "72fed8bc971a48fca121bfaef14a6eb0": {
      "model_module": "@jupyter-widgets/controls",
      "model_module_version": "1.5.0",
      "model_name": "HTMLModel",
      "state": {
       "layout": "IPY_MODEL_d50abafe985642ee9d91356fc93809c4",
       "style": "IPY_MODEL_ce6e996e2e1a4335aed5840a93764c8d",
       "value": "Epoch [17/50]: 100%|██████████| 99/99 [00:30&lt;00:00,  3.28it/s, loss=0.00104]"
      }
     },
     "73340b54ee094ad2b4660c334590564b": {
      "model_module": "@jupyter-widgets/base",
      "model_module_version": "1.2.0",
      "model_name": "LayoutModel",
      "state": {}
     },
     "735001bf00794f78a84c35f384771f9e": {
      "model_module": "@jupyter-widgets/controls",
      "model_module_version": "1.5.0",
      "model_name": "ProgressStyleModel",
      "state": {
       "description_width": "initial"
      }
     },
     "7405b9c9f6794b8b9e7c10aec6133ac6": {
      "model_module": "@jupyter-widgets/base",
      "model_module_version": "1.2.0",
      "model_name": "LayoutModel",
      "state": {}
     },
     "7425b0a9f957444682fc1c769f18b98c": {
      "model_module": "@jupyter-widgets/controls",
      "model_module_version": "1.5.0",
      "model_name": "FloatProgressModel",
      "state": {
       "bar_style": "success",
       "layout": "IPY_MODEL_6094e266de464800b94a24fb5ebccf32",
       "max": 43,
       "style": "IPY_MODEL_3c4709dd74354f8db55e401673efa63f",
       "value": 43
      }
     },
     "7429417826d44b86baba7c8789666ba2": {
      "model_module": "@jupyter-widgets/base",
      "model_module_version": "1.2.0",
      "model_name": "LayoutModel",
      "state": {}
     },
     "750fa4ebf0e3413392c456aa45ba212b": {
      "model_module": "@jupyter-widgets/base",
      "model_module_version": "1.2.0",
      "model_name": "LayoutModel",
      "state": {}
     },
     "757d82eae7ca4a4784fbacaf23fd7513": {
      "model_module": "@jupyter-widgets/base",
      "model_module_version": "1.2.0",
      "model_name": "LayoutModel",
      "state": {}
     },
     "75b1488a9f1845138648891fe55de9ec": {
      "model_module": "@jupyter-widgets/base",
      "model_module_version": "1.2.0",
      "model_name": "LayoutModel",
      "state": {}
     },
     "75c3195e8dc24f76ab3bf402adfc3cd7": {
      "model_module": "@jupyter-widgets/controls",
      "model_module_version": "1.5.0",
      "model_name": "FloatProgressModel",
      "state": {
       "bar_style": "success",
       "layout": "IPY_MODEL_4e44a474e0dd4eb9999a8d5398a4e0e7",
       "max": 99,
       "style": "IPY_MODEL_683ade735a0c4c92ae296ffd82d12e51",
       "value": 99
      }
     },
     "76095c8038524d6b9007ebd1ad05ea2d": {
      "model_module": "@jupyter-widgets/base",
      "model_module_version": "1.2.0",
      "model_name": "LayoutModel",
      "state": {}
     },
     "7618c9007b5b4e699372e3db27e35ffd": {
      "model_module": "@jupyter-widgets/controls",
      "model_module_version": "1.5.0",
      "model_name": "FloatProgressModel",
      "state": {
       "bar_style": "success",
       "layout": "IPY_MODEL_96dbbfa248d24ca59f9afaf014d57c90",
       "max": 43,
       "style": "IPY_MODEL_4a349d63fdc04cef8f3288fe24ff0169",
       "value": 43
      }
     },
     "76e47f3ec0e646dbb2067c2deeb67ead": {
      "model_module": "@jupyter-widgets/base",
      "model_module_version": "1.2.0",
      "model_name": "LayoutModel",
      "state": {}
     },
     "772cd55e503f43198e4b83b5a595aaa4": {
      "model_module": "@jupyter-widgets/base",
      "model_module_version": "1.2.0",
      "model_name": "LayoutModel",
      "state": {}
     },
     "773260e1ee094db68ee49b47ea844edd": {
      "model_module": "@jupyter-widgets/base",
      "model_module_version": "1.2.0",
      "model_name": "LayoutModel",
      "state": {}
     },
     "775c5f7541334b8aaa603c989c5a240c": {
      "model_module": "@jupyter-widgets/controls",
      "model_module_version": "1.5.0",
      "model_name": "HBoxModel",
      "state": {
       "children": [
        "IPY_MODEL_948f79becff34cfe89691eb88a5e0ed0",
        "IPY_MODEL_a3826581fec7463a960f62472c800c35"
       ],
       "layout": "IPY_MODEL_cbccda27aae2483996183a0dbfc0b68b"
      }
     },
     "77aee9363937402b8236716ba5dbd108": {
      "model_module": "@jupyter-widgets/base",
      "model_module_version": "1.2.0",
      "model_name": "LayoutModel",
      "state": {}
     },
     "77f2d91465074b8baba906f9ff2a9956": {
      "model_module": "@jupyter-widgets/base",
      "model_module_version": "1.2.0",
      "model_name": "LayoutModel",
      "state": {}
     },
     "77f3676c032d44f6b9b3072bfb7c9c3a": {
      "model_module": "@jupyter-widgets/controls",
      "model_module_version": "1.5.0",
      "model_name": "FloatProgressModel",
      "state": {
       "bar_style": "success",
       "layout": "IPY_MODEL_b57adcb203ce4234bf9ed57ce1c5e524",
       "max": 43,
       "style": "IPY_MODEL_ef44218611d94022933439b5713dcb42",
       "value": 43
      }
     },
     "787e0391f33640e6ad107f016dda731f": {
      "model_module": "@jupyter-widgets/controls",
      "model_module_version": "1.5.0",
      "model_name": "FloatProgressModel",
      "state": {
       "bar_style": "success",
       "layout": "IPY_MODEL_05757bfc13514f12a4924446be80f930",
       "max": 99,
       "style": "IPY_MODEL_e971c6d44564438cb02ac7667c54ae4a",
       "value": 99
      }
     },
     "7967a5294cc24dcc85158fcc6d5b78fd": {
      "model_module": "@jupyter-widgets/controls",
      "model_module_version": "1.5.0",
      "model_name": "HTMLModel",
      "state": {
       "layout": "IPY_MODEL_da181ae4a858490ba93a59632071dee3",
       "style": "IPY_MODEL_e0282f5262e84eafae9885b544d45566",
       "value": "Epoch [48/50]: 100%|██████████| 99/99 [00:28&lt;00:00,  3.42it/s, loss=0.000501]"
      }
     },
     "79e9a423b32241639df605724c06cf2e": {
      "model_module": "@jupyter-widgets/controls",
      "model_module_version": "1.5.0",
      "model_name": "ProgressStyleModel",
      "state": {
       "description_width": "initial"
      }
     },
     "7a0262fe369d4b0294980226d88ea2d7": {
      "model_module": "@jupyter-widgets/base",
      "model_module_version": "1.2.0",
      "model_name": "LayoutModel",
      "state": {}
     },
     "7a0a4286f812422589805fef30175339": {
      "model_module": "@jupyter-widgets/base",
      "model_module_version": "1.2.0",
      "model_name": "LayoutModel",
      "state": {}
     },
     "7a1bb72cb0f14596b8ec569b34c41fcc": {
      "model_module": "@jupyter-widgets/controls",
      "model_module_version": "1.5.0",
      "model_name": "HTMLModel",
      "state": {
       "layout": "IPY_MODEL_b6399caa1e064c3a99f5124dc4a5bc9a",
       "style": "IPY_MODEL_c8a6abe20e2c4229a22f3589962980ee",
       "value": "Epoch [8/50]: 100%|██████████| 43/43 [00:10&lt;00:00,  4.12it/s, loss=0.00549]"
      }
     },
     "7a40b505e8c4431f887e9f0d599b6714": {
      "model_module": "@jupyter-widgets/controls",
      "model_module_version": "1.5.0",
      "model_name": "HTMLModel",
      "state": {
       "layout": "IPY_MODEL_773260e1ee094db68ee49b47ea844edd",
       "style": "IPY_MODEL_e43c402c89304283a5db4e8e8aea910e",
       "value": "Epoch [33/50]: 100%|██████████| 43/43 [00:10&lt;00:00,  4.21it/s, loss=0.00229]"
      }
     },
     "7b219823ff0245009a51215a987439b3": {
      "model_module": "@jupyter-widgets/base",
      "model_module_version": "1.2.0",
      "model_name": "LayoutModel",
      "state": {}
     },
     "7b42647b95d24429a9bac93f8426398a": {
      "model_module": "@jupyter-widgets/controls",
      "model_module_version": "1.5.0",
      "model_name": "FloatProgressModel",
      "state": {
       "bar_style": "success",
       "layout": "IPY_MODEL_0f8f32b3ff1f47038625b2e0e4f190b2",
       "max": 99,
       "style": "IPY_MODEL_d506b603788d437faa3c452bf8b43a6c",
       "value": 99
      }
     },
     "7b94c9a9ef124badb2590c9ed91847c8": {
      "model_module": "@jupyter-widgets/controls",
      "model_module_version": "1.5.0",
      "model_name": "HBoxModel",
      "state": {
       "children": [
        "IPY_MODEL_a0620ae5d2b845cf9bcb611c59a66930",
        "IPY_MODEL_8721a9f8bef34f99bed34824ce6193f8"
       ],
       "layout": "IPY_MODEL_298b57e536a44397ba3336363ca10cdf"
      }
     },
     "7c8059bc3afa45e98930b69a1c21bec5": {
      "model_module": "@jupyter-widgets/controls",
      "model_module_version": "1.5.0",
      "model_name": "DescriptionStyleModel",
      "state": {
       "description_width": ""
      }
     },
     "7ca97f0e67854b5dadfdf3b5ab3f55d3": {
      "model_module": "@jupyter-widgets/base",
      "model_module_version": "1.2.0",
      "model_name": "LayoutModel",
      "state": {}
     },
     "7caa972971164e528114ba9cf1c923b3": {
      "model_module": "@jupyter-widgets/base",
      "model_module_version": "1.2.0",
      "model_name": "LayoutModel",
      "state": {}
     },
     "7cddd6afa19743ca96da2eba96fad9b9": {
      "model_module": "@jupyter-widgets/base",
      "model_module_version": "1.2.0",
      "model_name": "LayoutModel",
      "state": {}
     },
     "7d3a2b59b43446978d73a774717ab369": {
      "model_module": "@jupyter-widgets/controls",
      "model_module_version": "1.5.0",
      "model_name": "HBoxModel",
      "state": {
       "children": [
        "IPY_MODEL_6a0bd0a5e06e47348521de202ad1fb97",
        "IPY_MODEL_4d32083397b44427bdef05a433b129ed"
       ],
       "layout": "IPY_MODEL_9ca1b18e58524be9b55efcf378cbc479"
      }
     },
     "7df586755bf0438cb75d188a76f72da5": {
      "model_module": "@jupyter-widgets/controls",
      "model_module_version": "1.5.0",
      "model_name": "HTMLModel",
      "state": {
       "layout": "IPY_MODEL_90c68a461e374f40a4170462784342e9",
       "style": "IPY_MODEL_8d415f74aa5247e2b09a3acde3400376",
       "value": "Epoch [10/50]: 100%|██████████| 43/43 [00:10&lt;00:00,  4.12it/s, loss=0.00674]"
      }
     },
     "7dfbc73ded3b437a876227c169e119d9": {
      "model_module": "@jupyter-widgets/controls",
      "model_module_version": "1.5.0",
      "model_name": "HTMLModel",
      "state": {
       "layout": "IPY_MODEL_a93fa2d0f6414b3fb054b6344e2be0da",
       "style": "IPY_MODEL_11f757ccc1f241048cabdbdf59a9b089",
       "value": "Epoch [29/50]: 100%|██████████| 43/43 [00:10&lt;00:00,  4.21it/s, loss=0.00252]"
      }
     },
     "7e0e4bb4a83244199043004bc6b930ea": {
      "model_module": "@jupyter-widgets/base",
      "model_module_version": "1.2.0",
      "model_name": "LayoutModel",
      "state": {}
     },
     "7e3f49002f2f4bd9912628c87e7feedc": {
      "model_module": "@jupyter-widgets/controls",
      "model_module_version": "1.5.0",
      "model_name": "ProgressStyleModel",
      "state": {
       "description_width": "initial"
      }
     },
     "7e4960212f364037b852b5d8e6945e0c": {
      "model_module": "@jupyter-widgets/controls",
      "model_module_version": "1.5.0",
      "model_name": "FloatProgressModel",
      "state": {
       "bar_style": "success",
       "layout": "IPY_MODEL_13c856368ab54e1187bb3c9a6ca1a63b",
       "max": 43,
       "style": "IPY_MODEL_c466d4d2a625447f86c0fc2b19f9e479",
       "value": 43
      }
     },
     "7e576d6fb5e94e4a9c695298a96d2c5e": {
      "model_module": "@jupyter-widgets/controls",
      "model_module_version": "1.5.0",
      "model_name": "ProgressStyleModel",
      "state": {
       "description_width": "initial"
      }
     },
     "7e946aa1c666430cb0ff28ef5fb52032": {
      "model_module": "@jupyter-widgets/controls",
      "model_module_version": "1.5.0",
      "model_name": "ProgressStyleModel",
      "state": {
       "description_width": "initial"
      }
     },
     "7ef52c9896ed4a9abd3b1a69fb82907a": {
      "model_module": "@jupyter-widgets/controls",
      "model_module_version": "1.5.0",
      "model_name": "HBoxModel",
      "state": {
       "children": [
        "IPY_MODEL_5517f95ed6074ce29b6fa90f334a3ed8",
        "IPY_MODEL_f3d72fad61ba4bb3b903d31211345ce5"
       ],
       "layout": "IPY_MODEL_2927af6b109441b48df902e2576937cd"
      }
     },
     "7ef9e3c931e940b38dd43c32bd7d24f5": {
      "model_module": "@jupyter-widgets/base",
      "model_module_version": "1.2.0",
      "model_name": "LayoutModel",
      "state": {}
     },
     "7f20d55750bb4caeaa50fde141864a72": {
      "model_module": "@jupyter-widgets/base",
      "model_module_version": "1.2.0",
      "model_name": "LayoutModel",
      "state": {}
     },
     "7fd874ea8dc14063bd0d7239806f18d8": {
      "model_module": "@jupyter-widgets/controls",
      "model_module_version": "1.5.0",
      "model_name": "HTMLModel",
      "state": {
       "layout": "IPY_MODEL_dcbb362bce5748789b878e3473c69415",
       "style": "IPY_MODEL_3bc453d0f12f43239a30beb7dbf9be88",
       "value": "Epoch [7/50]: 100%|██████████| 43/43 [00:10&lt;00:00,  4.13it/s, loss=0.00827]"
      }
     },
     "7ff4c9fde87d4ab5a36fe2c955f03a51": {
      "model_module": "@jupyter-widgets/base",
      "model_module_version": "1.2.0",
      "model_name": "LayoutModel",
      "state": {}
     },
     "801a0630fd9145c6aa5ba47d8ace19c7": {
      "model_module": "@jupyter-widgets/controls",
      "model_module_version": "1.5.0",
      "model_name": "DescriptionStyleModel",
      "state": {
       "description_width": ""
      }
     },
     "8048ab8fbedc45d4ad4a24246270efc6": {
      "model_module": "@jupyter-widgets/base",
      "model_module_version": "1.2.0",
      "model_name": "LayoutModel",
      "state": {}
     },
     "805a70e4abea48ad8bc51dbcfcb14ad9": {
      "model_module": "@jupyter-widgets/controls",
      "model_module_version": "1.5.0",
      "model_name": "FloatProgressModel",
      "state": {
       "bar_style": "success",
       "layout": "IPY_MODEL_a028529a1d4c46558a2d67f7062ba4a3",
       "max": 43,
       "style": "IPY_MODEL_d1bbd31fe1d4400d9dff1685b1bcded1",
       "value": 43
      }
     },
     "8077109357c9495ba18b7c945fbafccf": {
      "model_module": "@jupyter-widgets/controls",
      "model_module_version": "1.5.0",
      "model_name": "ProgressStyleModel",
      "state": {
       "description_width": "initial"
      }
     },
     "8157952a2db742a5b91baaa8fade2b3b": {
      "model_module": "@jupyter-widgets/controls",
      "model_module_version": "1.5.0",
      "model_name": "FloatProgressModel",
      "state": {
       "bar_style": "success",
       "layout": "IPY_MODEL_d793578f99cd4a92bc15082a00e1ff16",
       "max": 99,
       "style": "IPY_MODEL_6dc0dfec54b5434db8bbc735ad638854",
       "value": 99
      }
     },
     "81dc8ef6c98b47ccbbed63767c7a464a": {
      "model_module": "@jupyter-widgets/base",
      "model_module_version": "1.2.0",
      "model_name": "LayoutModel",
      "state": {}
     },
     "81f55bec6dcb4d49a34f0f3acdda4e9e": {
      "model_module": "@jupyter-widgets/base",
      "model_module_version": "1.2.0",
      "model_name": "LayoutModel",
      "state": {}
     },
     "82585ef1a61f4d65a68c24a61d9375bd": {
      "model_module": "@jupyter-widgets/controls",
      "model_module_version": "1.5.0",
      "model_name": "ProgressStyleModel",
      "state": {
       "description_width": "initial"
      }
     },
     "83ae628268af4d3baa905c280bbb56cc": {
      "model_module": "@jupyter-widgets/base",
      "model_module_version": "1.2.0",
      "model_name": "LayoutModel",
      "state": {}
     },
     "846007a48c41410b9680539f43816870": {
      "model_module": "@jupyter-widgets/controls",
      "model_module_version": "1.5.0",
      "model_name": "DescriptionStyleModel",
      "state": {
       "description_width": ""
      }
     },
     "8485e850e8d4478694ae5753198b9716": {
      "model_module": "@jupyter-widgets/base",
      "model_module_version": "1.2.0",
      "model_name": "LayoutModel",
      "state": {}
     },
     "84bdf2b7fa99474a889c1d4189fe46c5": {
      "model_module": "@jupyter-widgets/controls",
      "model_module_version": "1.5.0",
      "model_name": "HTMLModel",
      "state": {
       "layout": "IPY_MODEL_3ac62e2c2bd248f9831ba74fdbc60c90",
       "style": "IPY_MODEL_08af9d6af0854cf983af6e7b033d967e",
       "value": "Epoch [49/50]: 100%|██████████| 43/43 [00:10&lt;00:00,  4.05it/s, loss=0.00126]"
      }
     },
     "85d8c01a6b7d4482b95d99b080138c2a": {
      "model_module": "@jupyter-widgets/controls",
      "model_module_version": "1.5.0",
      "model_name": "HTMLModel",
      "state": {
       "layout": "IPY_MODEL_b70d91a5ea124bf8afd3f9bafa82dc66",
       "style": "IPY_MODEL_56364e3f12884761985b01c388d076dc",
       "value": "Epoch [26/50]: 100%|██████████| 43/43 [00:10&lt;00:00,  4.12it/s, loss=0.00349]"
      }
     },
     "85ff86037a5144baa3c455e3a7e5bb3c": {
      "model_module": "@jupyter-widgets/base",
      "model_module_version": "1.2.0",
      "model_name": "LayoutModel",
      "state": {}
     },
     "871c11e49e084c8faeb73d7e158272d3": {
      "model_module": "@jupyter-widgets/base",
      "model_module_version": "1.2.0",
      "model_name": "LayoutModel",
      "state": {}
     },
     "8721a9f8bef34f99bed34824ce6193f8": {
      "model_module": "@jupyter-widgets/controls",
      "model_module_version": "1.5.0",
      "model_name": "HTMLModel",
      "state": {
       "layout": "IPY_MODEL_8f561cd6f53f439584174927075267cf",
       "style": "IPY_MODEL_d1ea50c4c9c243878b49170c06fd7c89",
       "value": "Epoch [24/50]: 100%|██████████| 43/43 [00:10&lt;00:00,  4.12it/s, loss=0.00254]"
      }
     },
     "878efd03010d487a938b24bf22434bb8": {
      "model_module": "@jupyter-widgets/controls",
      "model_module_version": "1.5.0",
      "model_name": "ProgressStyleModel",
      "state": {
       "description_width": "initial"
      }
     },
     "8795392169f742e397843b0e73456f25": {
      "model_module": "@jupyter-widgets/controls",
      "model_module_version": "1.5.0",
      "model_name": "DescriptionStyleModel",
      "state": {
       "description_width": ""
      }
     },
     "88653af02b9f45cd9944bc9f68f01cab": {
      "model_module": "@jupyter-widgets/controls",
      "model_module_version": "1.5.0",
      "model_name": "FloatProgressModel",
      "state": {
       "bar_style": "success",
       "layout": "IPY_MODEL_04cb47793a884f6395a3527706fb9e03",
       "max": 99,
       "style": "IPY_MODEL_9180ea62b6f64f6b8473633d6e5aa81c",
       "value": 99
      }
     },
     "88c540e904ed4f00ac36b998f87fd17c": {
      "model_module": "@jupyter-widgets/controls",
      "model_module_version": "1.5.0",
      "model_name": "ProgressStyleModel",
      "state": {
       "description_width": "initial"
      }
     },
     "8907b63902bc4b01b0095e44be57b65d": {
      "model_module": "@jupyter-widgets/base",
      "model_module_version": "1.2.0",
      "model_name": "LayoutModel",
      "state": {}
     },
     "89704190ba4c42748982a184671b846c": {
      "model_module": "@jupyter-widgets/controls",
      "model_module_version": "1.5.0",
      "model_name": "HTMLModel",
      "state": {
       "layout": "IPY_MODEL_89ea300311834652b357db6e02e18e78",
       "style": "IPY_MODEL_3e7d3e129b56406b8d2ce71fba5b63f3",
       "value": "Epoch [17/50]: 100%|██████████| 43/43 [00:10&lt;00:00,  4.12it/s, loss=0.00343]"
      }
     },
     "8977fbe6fa56431696eab4de5bbecc49": {
      "model_module": "@jupyter-widgets/controls",
      "model_module_version": "1.5.0",
      "model_name": "ProgressStyleModel",
      "state": {
       "description_width": "initial"
      }
     },
     "89ea300311834652b357db6e02e18e78": {
      "model_module": "@jupyter-widgets/base",
      "model_module_version": "1.2.0",
      "model_name": "LayoutModel",
      "state": {}
     },
     "8a34241ac2124494bea34158882647f2": {
      "model_module": "@jupyter-widgets/base",
      "model_module_version": "1.2.0",
      "model_name": "LayoutModel",
      "state": {}
     },
     "8a39d3f8b1d0404eb0cdbd2c4e5c57a5": {
      "model_module": "@jupyter-widgets/controls",
      "model_module_version": "1.5.0",
      "model_name": "FloatProgressModel",
      "state": {
       "bar_style": "success",
       "layout": "IPY_MODEL_b7213e5e886a4baab677ea3cada98f3e",
       "max": 99,
       "style": "IPY_MODEL_66e179746560490faae3a20588e53b75",
       "value": 99
      }
     },
     "8a53ed395bd541fc88ee5b1a0ebce605": {
      "model_module": "@jupyter-widgets/controls",
      "model_module_version": "1.5.0",
      "model_name": "HTMLModel",
      "state": {
       "layout": "IPY_MODEL_478d9e6d9a5d4faeb01f97d526166e49",
       "style": "IPY_MODEL_201c9800f446426abe3cc5e8d4ea6769",
       "value": "Epoch [46/50]: 100%|██████████| 43/43 [00:10&lt;00:00,  4.13it/s, loss=0.0011]"
      }
     },
     "8a7a1bae446947fbb6937f4a2d670354": {
      "model_module": "@jupyter-widgets/controls",
      "model_module_version": "1.5.0",
      "model_name": "HTMLModel",
      "state": {
       "layout": "IPY_MODEL_c2ca2fd294a144f3bfcfdd61443f37f4",
       "style": "IPY_MODEL_631d679559e64961b88541299d58c8d4",
       "value": "Epoch [40/50]: 100%|██████████| 43/43 [00:10&lt;00:00,  4.22it/s, loss=0.00153]"
      }
     },
     "8abc4acdbbc847d88340754600e3a90c": {
      "model_module": "@jupyter-widgets/base",
      "model_module_version": "1.2.0",
      "model_name": "LayoutModel",
      "state": {}
     },
     "8acb8d91865944f1bc886b750658e268": {
      "model_module": "@jupyter-widgets/controls",
      "model_module_version": "1.5.0",
      "model_name": "ProgressStyleModel",
      "state": {
       "description_width": "initial"
      }
     },
     "8afaa85cef32460c8ca288a7e5d8bf43": {
      "model_module": "@jupyter-widgets/controls",
      "model_module_version": "1.5.0",
      "model_name": "HTMLModel",
      "state": {
       "layout": "IPY_MODEL_ee7bf34cdfc3470297d998534524d91d",
       "style": "IPY_MODEL_846007a48c41410b9680539f43816870",
       "value": "Epoch [2/50]: 100%|██████████| 43/43 [00:10&lt;00:00,  4.08it/s, loss=0.0355]"
      }
     },
     "8b607e9605534227ade22853649308ec": {
      "model_module": "@jupyter-widgets/controls",
      "model_module_version": "1.5.0",
      "model_name": "ProgressStyleModel",
      "state": {
       "description_width": "initial"
      }
     },
     "8b9d5a2fa71a4966aa1d037dd06d6e86": {
      "model_module": "@jupyter-widgets/base",
      "model_module_version": "1.2.0",
      "model_name": "LayoutModel",
      "state": {}
     },
     "8bb2c3adec5349be85d2b7fca7a41db3": {
      "model_module": "@jupyter-widgets/controls",
      "model_module_version": "1.5.0",
      "model_name": "FloatProgressModel",
      "state": {
       "bar_style": "success",
       "layout": "IPY_MODEL_54b82af92c4d4c28853b1a1f0a5eb202",
       "max": 99,
       "style": "IPY_MODEL_2470f3f4f63c4366aa8ff0e141a93461",
       "value": 99
      }
     },
     "8c74ab9c80c94433a366b90a8d10db2f": {
      "model_module": "@jupyter-widgets/controls",
      "model_module_version": "1.5.0",
      "model_name": "DescriptionStyleModel",
      "state": {
       "description_width": ""
      }
     },
     "8cd78ceba12245b79fc0ddf04650bb86": {
      "model_module": "@jupyter-widgets/base",
      "model_module_version": "1.2.0",
      "model_name": "LayoutModel",
      "state": {}
     },
     "8d415f74aa5247e2b09a3acde3400376": {
      "model_module": "@jupyter-widgets/controls",
      "model_module_version": "1.5.0",
      "model_name": "DescriptionStyleModel",
      "state": {
       "description_width": ""
      }
     },
     "8d52f09246d844458b87907bdaff2a70": {
      "model_module": "@jupyter-widgets/controls",
      "model_module_version": "1.5.0",
      "model_name": "DescriptionStyleModel",
      "state": {
       "description_width": ""
      }
     },
     "8db7b1f5641941f4a62bf3d66407a210": {
      "model_module": "@jupyter-widgets/controls",
      "model_module_version": "1.5.0",
      "model_name": "ProgressStyleModel",
      "state": {
       "description_width": "initial"
      }
     },
     "8de4c70835be486c9e542b7e8c804e0e": {
      "model_module": "@jupyter-widgets/base",
      "model_module_version": "1.2.0",
      "model_name": "LayoutModel",
      "state": {}
     },
     "8e80b14c7759474d92105aed14803e23": {
      "model_module": "@jupyter-widgets/base",
      "model_module_version": "1.2.0",
      "model_name": "LayoutModel",
      "state": {}
     },
     "8f0aba45468f47578eb7c7cf5f861184": {
      "model_module": "@jupyter-widgets/base",
      "model_module_version": "1.2.0",
      "model_name": "LayoutModel",
      "state": {}
     },
     "8f561cd6f53f439584174927075267cf": {
      "model_module": "@jupyter-widgets/base",
      "model_module_version": "1.2.0",
      "model_name": "LayoutModel",
      "state": {}
     },
     "8f58d76683dc4610a4088a12095b2bc4": {
      "model_module": "@jupyter-widgets/base",
      "model_module_version": "1.2.0",
      "model_name": "LayoutModel",
      "state": {}
     },
     "8fc4fc1484194a58865547bb54aa6090": {
      "model_module": "@jupyter-widgets/controls",
      "model_module_version": "1.5.0",
      "model_name": "DescriptionStyleModel",
      "state": {
       "description_width": ""
      }
     },
     "9047d4b0bdde4fa2bd4727fa18f4e065": {
      "model_module": "@jupyter-widgets/controls",
      "model_module_version": "1.5.0",
      "model_name": "FloatProgressModel",
      "state": {
       "bar_style": "success",
       "layout": "IPY_MODEL_8e80b14c7759474d92105aed14803e23",
       "max": 99,
       "style": "IPY_MODEL_7e946aa1c666430cb0ff28ef5fb52032",
       "value": 99
      }
     },
     "905b2453dfbf4f8684485d14ed75fb94": {
      "model_module": "@jupyter-widgets/controls",
      "model_module_version": "1.5.0",
      "model_name": "HBoxModel",
      "state": {
       "children": [
        "IPY_MODEL_a0d5b6ed7f2146c2a2ccba66f7856e22",
        "IPY_MODEL_b2ced2baa66b49aca7d6679a2b2c9668"
       ],
       "layout": "IPY_MODEL_db3073f9fbcc428f88b19089a9822d50"
      }
     },
     "90c68a461e374f40a4170462784342e9": {
      "model_module": "@jupyter-widgets/base",
      "model_module_version": "1.2.0",
      "model_name": "LayoutModel",
      "state": {}
     },
     "915e10fdf2724365b31b39d48cf1abda": {
      "model_module": "@jupyter-widgets/base",
      "model_module_version": "1.2.0",
      "model_name": "LayoutModel",
      "state": {}
     },
     "9180ea62b6f64f6b8473633d6e5aa81c": {
      "model_module": "@jupyter-widgets/controls",
      "model_module_version": "1.5.0",
      "model_name": "ProgressStyleModel",
      "state": {
       "description_width": "initial"
      }
     },
     "91edb2d591104f8dbd1c4112ba20eb66": {
      "model_module": "@jupyter-widgets/controls",
      "model_module_version": "1.5.0",
      "model_name": "FloatProgressModel",
      "state": {
       "bar_style": "success",
       "layout": "IPY_MODEL_77aee9363937402b8236716ba5dbd108",
       "max": 43,
       "style": "IPY_MODEL_2e3b5bb354ec49c9b9b718a3363a1cf1",
       "value": 43
      }
     },
     "91f8f07ba46e45c1b10156bdcaee955f": {
      "model_module": "@jupyter-widgets/controls",
      "model_module_version": "1.5.0",
      "model_name": "DescriptionStyleModel",
      "state": {
       "description_width": ""
      }
     },
     "934e2fc6f87c491fb26a5a5e5d2f2bae": {
      "model_module": "@jupyter-widgets/base",
      "model_module_version": "1.2.0",
      "model_name": "LayoutModel",
      "state": {}
     },
     "93548c927ceb41feac9a9a8d1d93e675": {
      "model_module": "@jupyter-widgets/controls",
      "model_module_version": "1.5.0",
      "model_name": "ProgressStyleModel",
      "state": {
       "description_width": "initial"
      }
     },
     "935ef7c587b14957a863d571ae06f679": {
      "model_module": "@jupyter-widgets/controls",
      "model_module_version": "1.5.0",
      "model_name": "DescriptionStyleModel",
      "state": {
       "description_width": ""
      }
     },
     "94757fb4f17643c3949f7c14c2d387d2": {
      "model_module": "@jupyter-widgets/base",
      "model_module_version": "1.2.0",
      "model_name": "LayoutModel",
      "state": {}
     },
     "948f79becff34cfe89691eb88a5e0ed0": {
      "model_module": "@jupyter-widgets/controls",
      "model_module_version": "1.5.0",
      "model_name": "FloatProgressModel",
      "state": {
       "bar_style": "success",
       "layout": "IPY_MODEL_9f01c13f6258438ebc889ad3976a8c58",
       "max": 43,
       "style": "IPY_MODEL_93548c927ceb41feac9a9a8d1d93e675",
       "value": 43
      }
     },
     "95367e163d604564a4b6206280e94563": {
      "model_module": "@jupyter-widgets/controls",
      "model_module_version": "1.5.0",
      "model_name": "HBoxModel",
      "state": {
       "children": [
        "IPY_MODEL_2fe56e65e51845e78933eae600218208",
        "IPY_MODEL_08a142d327284ebd81fbaba363cc3061"
       ],
       "layout": "IPY_MODEL_382505ecad2946c8b8c7d258f30d36b7"
      }
     },
     "953d1f30b24245f49b7e4fa7d3003dc7": {
      "model_module": "@jupyter-widgets/controls",
      "model_module_version": "1.5.0",
      "model_name": "ProgressStyleModel",
      "state": {
       "description_width": "initial"
      }
     },
     "9542f45280724e88a0b3a06ab6d8ee08": {
      "model_module": "@jupyter-widgets/controls",
      "model_module_version": "1.5.0",
      "model_name": "DescriptionStyleModel",
      "state": {
       "description_width": ""
      }
     },
     "95a89957481f4c31bac06d0976fd5d70": {
      "model_module": "@jupyter-widgets/controls",
      "model_module_version": "1.5.0",
      "model_name": "HTMLModel",
      "state": {
       "layout": "IPY_MODEL_4d3cd4dd42d949699ded519c157c9923",
       "style": "IPY_MODEL_b58ae775b63940079131471df6e99cfb",
       "value": "Epoch [34/50]: 100%|██████████| 43/43 [00:10&lt;00:00,  4.22it/s, loss=0.00357]"
      }
     },
     "95ae8df302ef4a53ae9c14700b4db53e": {
      "model_module": "@jupyter-widgets/controls",
      "model_module_version": "1.5.0",
      "model_name": "DescriptionStyleModel",
      "state": {
       "description_width": ""
      }
     },
     "966211e82e0a4e728762ea5c465c19b3": {
      "model_module": "@jupyter-widgets/controls",
      "model_module_version": "1.5.0",
      "model_name": "HBoxModel",
      "state": {
       "children": [
        "IPY_MODEL_ed1dd0f20b354e0db045b89cb6899faa",
        "IPY_MODEL_d737d9769cb340ad874764dc30dd08e2"
       ],
       "layout": "IPY_MODEL_b59fd09e441345c2b71434ef102f55c1"
      }
     },
     "9665668fa99b482c8db12326705ccb72": {
      "model_module": "@jupyter-widgets/controls",
      "model_module_version": "1.5.0",
      "model_name": "HBoxModel",
      "state": {
       "children": [
        "IPY_MODEL_bd44f263240b4afb86fbe2a6caa34ada",
        "IPY_MODEL_c6082938dc684b42b02e33efb506429d"
       ],
       "layout": "IPY_MODEL_1955c0f6b2a74797b6d606aa841e0f8a"
      }
     },
     "967be839020e4f3d959f44579df49130": {
      "model_module": "@jupyter-widgets/controls",
      "model_module_version": "1.5.0",
      "model_name": "FloatProgressModel",
      "state": {
       "bar_style": "success",
       "layout": "IPY_MODEL_2d8a491064464e028b0cf9c148848a7e",
       "max": 99,
       "style": "IPY_MODEL_113390fad4cf470c883d5aae49fcaa75",
       "value": 99
      }
     },
     "967d8402f1184efeae793556d8209018": {
      "model_module": "@jupyter-widgets/base",
      "model_module_version": "1.2.0",
      "model_name": "LayoutModel",
      "state": {}
     },
     "96844da88a5140d2bcd7adff944b7832": {
      "model_module": "@jupyter-widgets/controls",
      "model_module_version": "1.5.0",
      "model_name": "HTMLModel",
      "state": {
       "layout": "IPY_MODEL_f39797579bce4c86ac0b759df43d02d1",
       "style": "IPY_MODEL_f71e9a2877b744039ed7e8cac3525d3b",
       "value": "Epoch [27/50]: 100%|██████████| 43/43 [00:10&lt;00:00,  4.21it/s, loss=0.00219]"
      }
     },
     "96accba4233a460d9395d32f5324a561": {
      "model_module": "@jupyter-widgets/base",
      "model_module_version": "1.2.0",
      "model_name": "LayoutModel",
      "state": {}
     },
     "96dbbfa248d24ca59f9afaf014d57c90": {
      "model_module": "@jupyter-widgets/base",
      "model_module_version": "1.2.0",
      "model_name": "LayoutModel",
      "state": {}
     },
     "97948d44067e4b288a9c52c6a1a2d77c": {
      "model_module": "@jupyter-widgets/base",
      "model_module_version": "1.2.0",
      "model_name": "LayoutModel",
      "state": {}
     },
     "984d2d26415147c1be449085dd123bb8": {
      "model_module": "@jupyter-widgets/base",
      "model_module_version": "1.2.0",
      "model_name": "LayoutModel",
      "state": {}
     },
     "9859b2624a6e41d7ab4ac74e1d99beb7": {
      "model_module": "@jupyter-widgets/controls",
      "model_module_version": "1.5.0",
      "model_name": "FloatProgressModel",
      "state": {
       "bar_style": "success",
       "layout": "IPY_MODEL_dfe1ab6a82684f76b83330267d934475",
       "max": 99,
       "style": "IPY_MODEL_0007a36efcf64c22a2e01d2bd22ab2fb",
       "value": 99
      }
     },
     "988fb1fa2a5f49c78f9e83daa84074b0": {
      "model_module": "@jupyter-widgets/base",
      "model_module_version": "1.2.0",
      "model_name": "LayoutModel",
      "state": {}
     },
     "98b166857f5e45518b669f45384122df": {
      "model_module": "@jupyter-widgets/controls",
      "model_module_version": "1.5.0",
      "model_name": "ProgressStyleModel",
      "state": {
       "description_width": "initial"
      }
     },
     "98bf0bf5e3ea433384e00d6aa242a397": {
      "model_module": "@jupyter-widgets/base",
      "model_module_version": "1.2.0",
      "model_name": "LayoutModel",
      "state": {}
     },
     "991872c549cd4680b00530c8f0fd835c": {
      "model_module": "@jupyter-widgets/controls",
      "model_module_version": "1.5.0",
      "model_name": "HTMLModel",
      "state": {
       "layout": "IPY_MODEL_cd0d856a8cb5467aa3f56cd99c0290b2",
       "style": "IPY_MODEL_b86933047b6b4d0ab91de992862262c7",
       "value": "Epoch [18/50]: 100%|██████████| 43/43 [00:10&lt;00:00,  4.12it/s, loss=0.00377]"
      }
     },
     "9976c600d25840e0ad7465d567375b83": {
      "model_module": "@jupyter-widgets/base",
      "model_module_version": "1.2.0",
      "model_name": "LayoutModel",
      "state": {}
     },
     "99a8e47a7f7e4346b52ed405c4276d86": {
      "model_module": "@jupyter-widgets/controls",
      "model_module_version": "1.5.0",
      "model_name": "HBoxModel",
      "state": {
       "children": [
        "IPY_MODEL_967be839020e4f3d959f44579df49130",
        "IPY_MODEL_0ebc67f71f8248508d56c39dfa51583d"
       ],
       "layout": "IPY_MODEL_612c0fe394ea444197ef01c988b12a20"
      }
     },
     "9a05d409c09542ca9f9e1beb8cc41650": {
      "model_module": "@jupyter-widgets/controls",
      "model_module_version": "1.5.0",
      "model_name": "HTMLModel",
      "state": {
       "layout": "IPY_MODEL_0b38c419a72e4990a7a39971b4178d51",
       "style": "IPY_MODEL_5ad624e03d1b434b93b2dc703d4bf503",
       "value": "Epoch [30/50]: 100%|██████████| 99/99 [00:28&lt;00:00,  3.53it/s, loss=0.000632]"
      }
     },
     "9a3d43bf4f384744a36f2e641acc70c5": {
      "model_module": "@jupyter-widgets/controls",
      "model_module_version": "1.5.0",
      "model_name": "HTMLModel",
      "state": {
       "layout": "IPY_MODEL_8f0aba45468f47578eb7c7cf5f861184",
       "style": "IPY_MODEL_58ae661a1a8743709cb730012f376f4a",
       "value": "Epoch [42/50]: 100%|██████████| 99/99 [00:28&lt;00:00,  3.44it/s, loss=0.000421]"
      }
     },
     "9aa19245d3f54176890c3378d404343b": {
      "model_module": "@jupyter-widgets/base",
      "model_module_version": "1.2.0",
      "model_name": "LayoutModel",
      "state": {}
     },
     "9b97dcfb024b4c91b5e1f609cdfb4264": {
      "model_module": "@jupyter-widgets/base",
      "model_module_version": "1.2.0",
      "model_name": "LayoutModel",
      "state": {}
     },
     "9bcfefcd1d0644f3ac508dbd7b7e7f25": {
      "model_module": "@jupyter-widgets/base",
      "model_module_version": "1.2.0",
      "model_name": "LayoutModel",
      "state": {}
     },
     "9bea45a785284996ba38008d1beaf997": {
      "model_module": "@jupyter-widgets/controls",
      "model_module_version": "1.5.0",
      "model_name": "HBoxModel",
      "state": {
       "children": [
        "IPY_MODEL_e7341bc9e1dd4e9da40da9863e37e572",
        "IPY_MODEL_f247f558370d42758e68c94a18cdb988"
       ],
       "layout": "IPY_MODEL_e07102745dd84b6aaca3e11fc95d8ecd"
      }
     },
     "9c129cca21364fc18fe224ae9d2c6361": {
      "model_module": "@jupyter-widgets/base",
      "model_module_version": "1.2.0",
      "model_name": "LayoutModel",
      "state": {}
     },
     "9ca1b18e58524be9b55efcf378cbc479": {
      "model_module": "@jupyter-widgets/base",
      "model_module_version": "1.2.0",
      "model_name": "LayoutModel",
      "state": {}
     },
     "9d0b85eaedfc4cd6ad387b77e10d8a50": {
      "model_module": "@jupyter-widgets/controls",
      "model_module_version": "1.5.0",
      "model_name": "HBoxModel",
      "state": {
       "children": [
        "IPY_MODEL_b809ab99c1ee4cec86248cd3283f4fc3",
        "IPY_MODEL_7110d8cf84d34e51a4bba252a89056e0"
       ],
       "layout": "IPY_MODEL_19efd6e16a8a4353bdcbeeb9ecd18633"
      }
     },
     "9d6329d010aa4d368722796ce8ed347e": {
      "model_module": "@jupyter-widgets/controls",
      "model_module_version": "1.5.0",
      "model_name": "FloatProgressModel",
      "state": {
       "bar_style": "success",
       "layout": "IPY_MODEL_e0a0a1b3784448f5a90409a5056c6595",
       "max": 43,
       "style": "IPY_MODEL_d1cb6a08958e4cdcb4d561490ec4f8d0",
       "value": 43
      }
     },
     "9dc75bb26109476eb2dcc037d9f5e909": {
      "model_module": "@jupyter-widgets/controls",
      "model_module_version": "1.5.0",
      "model_name": "ProgressStyleModel",
      "state": {
       "description_width": "initial"
      }
     },
     "9df2c4561b1a4e35b6a46ba5d3857af7": {
      "model_module": "@jupyter-widgets/controls",
      "model_module_version": "1.5.0",
      "model_name": "HBoxModel",
      "state": {
       "children": [
        "IPY_MODEL_e6bd52e9edab4b9fa685fec25cc5936a",
        "IPY_MODEL_ea03bb0b8d5e41ada1c0f438bcf737d9"
       ],
       "layout": "IPY_MODEL_5ff8655893fd43c2b426cebf7c6db5c9"
      }
     },
     "9e310aa2b35c424c96505b01d144252f": {
      "model_module": "@jupyter-widgets/controls",
      "model_module_version": "1.5.0",
      "model_name": "HBoxModel",
      "state": {
       "children": [
        "IPY_MODEL_c6c896033e534a89805c6f566ebdf85b",
        "IPY_MODEL_c0cffb100f4749ffb16ca27bf9a25585"
       ],
       "layout": "IPY_MODEL_d7a271425421414589d885568cbbc667"
      }
     },
     "9ebd86bd1361426ea622e9496f1c3636": {
      "model_module": "@jupyter-widgets/controls",
      "model_module_version": "1.5.0",
      "model_name": "HBoxModel",
      "state": {
       "children": [
        "IPY_MODEL_ee26958ac8714e4aa6b4c9fa2d8782c0",
        "IPY_MODEL_61375bb7bde2446c9062cf8c79847818"
       ],
       "layout": "IPY_MODEL_76095c8038524d6b9007ebd1ad05ea2d"
      }
     },
     "9f01c13f6258438ebc889ad3976a8c58": {
      "model_module": "@jupyter-widgets/base",
      "model_module_version": "1.2.0",
      "model_name": "LayoutModel",
      "state": {}
     },
     "a028529a1d4c46558a2d67f7062ba4a3": {
      "model_module": "@jupyter-widgets/base",
      "model_module_version": "1.2.0",
      "model_name": "LayoutModel",
      "state": {}
     },
     "a0620ae5d2b845cf9bcb611c59a66930": {
      "model_module": "@jupyter-widgets/controls",
      "model_module_version": "1.5.0",
      "model_name": "FloatProgressModel",
      "state": {
       "bar_style": "success",
       "layout": "IPY_MODEL_61dda33c362041bba382827cb8e7db73",
       "max": 43,
       "style": "IPY_MODEL_a849ac9a37c54565a8ba4e1d4e363f6e",
       "value": 43
      }
     },
     "a09726977e1d42d59412390e1c994334": {
      "model_module": "@jupyter-widgets/controls",
      "model_module_version": "1.5.0",
      "model_name": "HTMLModel",
      "state": {
       "layout": "IPY_MODEL_5e5ec8cb23ad405dbf3a0d7b02c3df20",
       "style": "IPY_MODEL_6c23d33e9ef348019b259a4afb14d3ce",
       "value": "Epoch [43/50]: 100%|██████████| 99/99 [00:28&lt;00:00,  3.43it/s, loss=0.000497]"
      }
     },
     "a0d5b6ed7f2146c2a2ccba66f7856e22": {
      "model_module": "@jupyter-widgets/controls",
      "model_module_version": "1.5.0",
      "model_name": "FloatProgressModel",
      "state": {
       "bar_style": "success",
       "layout": "IPY_MODEL_d8fa79b52fc74fd2873ff9d231fcb61b",
       "max": 99,
       "style": "IPY_MODEL_c5c59dbd859a4ef79936caef5b468e77",
       "value": 99
      }
     },
     "a1bd48b37c0a44e4a22c8467de8133f5": {
      "model_module": "@jupyter-widgets/controls",
      "model_module_version": "1.5.0",
      "model_name": "HBoxModel",
      "state": {
       "children": [
        "IPY_MODEL_599713e3844d4b148828bbbb77caff36",
        "IPY_MODEL_5c8f45dd72e04a1cbe44445185e8d3d2"
       ],
       "layout": "IPY_MODEL_25c198f8211d4cdbb76fd4f687d4de24"
      }
     },
     "a1caee6e211041babdd0891db0914188": {
      "model_module": "@jupyter-widgets/controls",
      "model_module_version": "1.5.0",
      "model_name": "DescriptionStyleModel",
      "state": {
       "description_width": ""
      }
     },
     "a1fc263142ab4929bd9ce730b41d2b4a": {
      "model_module": "@jupyter-widgets/controls",
      "model_module_version": "1.5.0",
      "model_name": "ProgressStyleModel",
      "state": {
       "description_width": "initial"
      }
     },
     "a3826581fec7463a960f62472c800c35": {
      "model_module": "@jupyter-widgets/controls",
      "model_module_version": "1.5.0",
      "model_name": "HTMLModel",
      "state": {
       "layout": "IPY_MODEL_1866ec535d244baabd818d1f80e3e7ed",
       "style": "IPY_MODEL_95ae8df302ef4a53ae9c14700b4db53e",
       "value": "Epoch [50/50]: 100%|██████████| 43/43 [00:10&lt;00:00,  4.09it/s, loss=0.00104]"
      }
     },
     "a3ae225ff87b4d91af2cbad6240a412c": {
      "model_module": "@jupyter-widgets/base",
      "model_module_version": "1.2.0",
      "model_name": "LayoutModel",
      "state": {}
     },
     "a3f90fc6a19f4c448c95c2fc22d8eced": {
      "model_module": "@jupyter-widgets/controls",
      "model_module_version": "1.5.0",
      "model_name": "ProgressStyleModel",
      "state": {
       "description_width": "initial"
      }
     },
     "a401eabb6d4c4d39b590fc609de38494": {
      "model_module": "@jupyter-widgets/controls",
      "model_module_version": "1.5.0",
      "model_name": "FloatProgressModel",
      "state": {
       "bar_style": "success",
       "layout": "IPY_MODEL_7caa972971164e528114ba9cf1c923b3",
       "max": 43,
       "style": "IPY_MODEL_735001bf00794f78a84c35f384771f9e",
       "value": 43
      }
     },
     "a5791ca44be640b3866ef5c1b19cfd1c": {
      "model_module": "@jupyter-widgets/controls",
      "model_module_version": "1.5.0",
      "model_name": "DescriptionStyleModel",
      "state": {
       "description_width": ""
      }
     },
     "a5fec5b1d78a4be89e17f0a14757ebe8": {
      "model_module": "@jupyter-widgets/controls",
      "model_module_version": "1.5.0",
      "model_name": "HBoxModel",
      "state": {
       "children": [
        "IPY_MODEL_3220f68a95a047d592b119761caa02ab",
        "IPY_MODEL_43e129c69dc84f5cb245cad4ca31f4c5"
       ],
       "layout": "IPY_MODEL_b90483fafbd646b4b6fb1475e7c6b07a"
      }
     },
     "a656ce5db5bd453f99df19220189db37": {
      "model_module": "@jupyter-widgets/controls",
      "model_module_version": "1.5.0",
      "model_name": "HTMLModel",
      "state": {
       "layout": "IPY_MODEL_239097dabbb44a5389c480e6ae4bda2d",
       "style": "IPY_MODEL_fb5fb48a86a54e98a29cbab4bc5d9296",
       "value": "Epoch [44/50]: 100%|██████████| 99/99 [00:29&lt;00:00,  3.37it/s, loss=0.000745]"
      }
     },
     "a6bd39d6d79d41e78b96a82ac5a8b8e5": {
      "model_module": "@jupyter-widgets/controls",
      "model_module_version": "1.5.0",
      "model_name": "HTMLModel",
      "state": {
       "layout": "IPY_MODEL_509c005d59944027a9e2081903839105",
       "style": "IPY_MODEL_7c8059bc3afa45e98930b69a1c21bec5",
       "value": "Epoch [28/50]: 100%|██████████| 99/99 [00:30&lt;00:00,  3.28it/s, loss=0.000608]"
      }
     },
     "a7011a6026374abb874303013ef99537": {
      "model_module": "@jupyter-widgets/controls",
      "model_module_version": "1.5.0",
      "model_name": "HBoxModel",
      "state": {
       "children": [
        "IPY_MODEL_8a39d3f8b1d0404eb0cdbd2c4e5c57a5",
        "IPY_MODEL_72fed8bc971a48fca121bfaef14a6eb0"
       ],
       "layout": "IPY_MODEL_8a34241ac2124494bea34158882647f2"
      }
     },
     "a703397a75a54228847e30e9b4c77397": {
      "model_module": "@jupyter-widgets/controls",
      "model_module_version": "1.5.0",
      "model_name": "HBoxModel",
      "state": {
       "children": [
        "IPY_MODEL_1ab003602df74f229f1bd4b09d9250db",
        "IPY_MODEL_f3e51df856a741f99138629a4d8c4d6c"
       ],
       "layout": "IPY_MODEL_05d118b528a54fb8bfc61b0a7ec01926"
      }
     },
     "a72a865d76e44aeab8fca18975d11e66": {
      "model_module": "@jupyter-widgets/base",
      "model_module_version": "1.2.0",
      "model_name": "LayoutModel",
      "state": {}
     },
     "a73be2dc48ff4a888fd78217cfb8c576": {
      "model_module": "@jupyter-widgets/base",
      "model_module_version": "1.2.0",
      "model_name": "LayoutModel",
      "state": {}
     },
     "a7b134a84c084e29b41b124358326222": {
      "model_module": "@jupyter-widgets/controls",
      "model_module_version": "1.5.0",
      "model_name": "ProgressStyleModel",
      "state": {
       "description_width": "initial"
      }
     },
     "a7cb73ea52094d2cbbafff01e8b84cd5": {
      "model_module": "@jupyter-widgets/controls",
      "model_module_version": "1.5.0",
      "model_name": "DescriptionStyleModel",
      "state": {
       "description_width": ""
      }
     },
     "a849ac9a37c54565a8ba4e1d4e363f6e": {
      "model_module": "@jupyter-widgets/controls",
      "model_module_version": "1.5.0",
      "model_name": "ProgressStyleModel",
      "state": {
       "description_width": "initial"
      }
     },
     "a8522beb36c140c69e9850effad83695": {
      "model_module": "@jupyter-widgets/controls",
      "model_module_version": "1.5.0",
      "model_name": "HTMLModel",
      "state": {
       "layout": "IPY_MODEL_f9b36a4f84544e90920a23baae71509b",
       "style": "IPY_MODEL_a7cb73ea52094d2cbbafff01e8b84cd5",
       "value": "Epoch [23/50]: 100%|██████████| 43/43 [00:10&lt;00:00,  4.13it/s, loss=0.00244]"
      }
     },
     "a85bd44fe2064ba9adcc3dbe5abdb8ff": {
      "model_module": "@jupyter-widgets/base",
      "model_module_version": "1.2.0",
      "model_name": "LayoutModel",
      "state": {}
     },
     "a8caee1f10f64df1923cf145c5e89689": {
      "model_module": "@jupyter-widgets/base",
      "model_module_version": "1.2.0",
      "model_name": "LayoutModel",
      "state": {}
     },
     "a9107cebc35b407b8e3538320c732fd2": {
      "model_module": "@jupyter-widgets/base",
      "model_module_version": "1.2.0",
      "model_name": "LayoutModel",
      "state": {}
     },
     "a93fa2d0f6414b3fb054b6344e2be0da": {
      "model_module": "@jupyter-widgets/base",
      "model_module_version": "1.2.0",
      "model_name": "LayoutModel",
      "state": {}
     },
     "a96414546dac4c618d592fefa412b721": {
      "model_module": "@jupyter-widgets/controls",
      "model_module_version": "1.5.0",
      "model_name": "ProgressStyleModel",
      "state": {
       "description_width": "initial"
      }
     },
     "aa269d69b4404f6e9ba278675e65bbff": {
      "model_module": "@jupyter-widgets/controls",
      "model_module_version": "1.5.0",
      "model_name": "ProgressStyleModel",
      "state": {
       "description_width": "initial"
      }
     },
     "aa5d2c4998c945f183c92a99ed6d77ac": {
      "model_module": "@jupyter-widgets/controls",
      "model_module_version": "1.5.0",
      "model_name": "HBoxModel",
      "state": {
       "children": [
        "IPY_MODEL_7e4960212f364037b852b5d8e6945e0c",
        "IPY_MODEL_e84119c45b314869b56232e7a14f785b"
       ],
       "layout": "IPY_MODEL_04d53d7b9b8b499280558387f49dd457"
      }
     },
     "aa6fe10ed7bd4277b4747e2d9a742c14": {
      "model_module": "@jupyter-widgets/base",
      "model_module_version": "1.2.0",
      "model_name": "LayoutModel",
      "state": {}
     },
     "aaacedb38f15488eb9b61ce4395b6528": {
      "model_module": "@jupyter-widgets/controls",
      "model_module_version": "1.5.0",
      "model_name": "HTMLModel",
      "state": {
       "layout": "IPY_MODEL_4b476e43073f44dd909ae7a65fb94aae",
       "style": "IPY_MODEL_fef6021c6e9d4eee82f54cd86ed154b0",
       "value": "Epoch [15/50]: 100%|██████████| 99/99 [00:28&lt;00:00,  3.44it/s, loss=0.000875]"
      }
     },
     "aad48227766547408881e7209041bb20": {
      "model_module": "@jupyter-widgets/controls",
      "model_module_version": "1.5.0",
      "model_name": "ProgressStyleModel",
      "state": {
       "description_width": "initial"
      }
     },
     "ab04a270fc5a4350999c28501ad2e7ca": {
      "model_module": "@jupyter-widgets/base",
      "model_module_version": "1.2.0",
      "model_name": "LayoutModel",
      "state": {}
     },
     "ab7f6dd1234a45c88311f3b3b82fdd45": {
      "model_module": "@jupyter-widgets/controls",
      "model_module_version": "1.5.0",
      "model_name": "HBoxModel",
      "state": {
       "children": [
        "IPY_MODEL_49b141fe231546dca5345b5c29c4f1a5",
        "IPY_MODEL_a6bd39d6d79d41e78b96a82ac5a8b8e5"
       ],
       "layout": "IPY_MODEL_0285100aea6a4ab4912fa60d038f90cc"
      }
     },
     "abf173c95cd847b5bb98c1a5c94f0549": {
      "model_module": "@jupyter-widgets/controls",
      "model_module_version": "1.5.0",
      "model_name": "HTMLModel",
      "state": {
       "layout": "IPY_MODEL_65ed6dd4c55f4b92aa5eebaa98daa32c",
       "style": "IPY_MODEL_e187a3a49b804d3dba8e9a494cc824d8",
       "value": "Epoch [20/50]: 100%|██████████| 43/43 [00:10&lt;00:00,  4.13it/s, loss=0.00293]"
      }
     },
     "ac32f337e9a84b9ead8b1f21b22006e1": {
      "model_module": "@jupyter-widgets/controls",
      "model_module_version": "1.5.0",
      "model_name": "DescriptionStyleModel",
      "state": {
       "description_width": ""
      }
     },
     "ac6f714e259c4e6e8df23e2e2eb1f7db": {
      "model_module": "@jupyter-widgets/controls",
      "model_module_version": "1.5.0",
      "model_name": "ProgressStyleModel",
      "state": {
       "description_width": "initial"
      }
     },
     "ac91bef50e3a4c7abf8495dad65d7ac1": {
      "model_module": "@jupyter-widgets/controls",
      "model_module_version": "1.5.0",
      "model_name": "HBoxModel",
      "state": {
       "children": [
        "IPY_MODEL_bd63563030f44ecf9bea6ecc98f5b5c6",
        "IPY_MODEL_7fd874ea8dc14063bd0d7239806f18d8"
       ],
       "layout": "IPY_MODEL_bf6225a31962483ab3cf8b755e77c222"
      }
     },
     "ad0d15d572a04c6eaca027ecbbf46957": {
      "model_module": "@jupyter-widgets/controls",
      "model_module_version": "1.5.0",
      "model_name": "ProgressStyleModel",
      "state": {
       "description_width": "initial"
      }
     },
     "ad2c4c2ad0e7430ea0e0e12a5cf9861f": {
      "model_module": "@jupyter-widgets/controls",
      "model_module_version": "1.5.0",
      "model_name": "FloatProgressModel",
      "state": {
       "bar_style": "success",
       "layout": "IPY_MODEL_ae2e5720128c4ceb8cc1a47ab5fe85c3",
       "max": 43,
       "style": "IPY_MODEL_a7b134a84c084e29b41b124358326222",
       "value": 43
      }
     },
     "ad5ed350bda24d75a5015fe14aa49dcd": {
      "model_module": "@jupyter-widgets/controls",
      "model_module_version": "1.5.0",
      "model_name": "ProgressStyleModel",
      "state": {
       "description_width": "initial"
      }
     },
     "ad94015def7d41a48a534ae27aebb3f7": {
      "model_module": "@jupyter-widgets/controls",
      "model_module_version": "1.5.0",
      "model_name": "DescriptionStyleModel",
      "state": {
       "description_width": ""
      }
     },
     "add53038c5dc4cb3b8e18cdfa77073d2": {
      "model_module": "@jupyter-widgets/base",
      "model_module_version": "1.2.0",
      "model_name": "LayoutModel",
      "state": {}
     },
     "adeff5cac75c4fdf9b119b464cc536f1": {
      "model_module": "@jupyter-widgets/base",
      "model_module_version": "1.2.0",
      "model_name": "LayoutModel",
      "state": {}
     },
     "ae2cac96fe0e4edd85459e3a9d70cc30": {
      "model_module": "@jupyter-widgets/controls",
      "model_module_version": "1.5.0",
      "model_name": "HBoxModel",
      "state": {
       "children": [
        "IPY_MODEL_1d6c88de07024060bf30987042726bec",
        "IPY_MODEL_de34d0b1feff496eb57ffab3831f4a90"
       ],
       "layout": "IPY_MODEL_8485e850e8d4478694ae5753198b9716"
      }
     },
     "ae2e5720128c4ceb8cc1a47ab5fe85c3": {
      "model_module": "@jupyter-widgets/base",
      "model_module_version": "1.2.0",
      "model_name": "LayoutModel",
      "state": {}
     },
     "ae57071324f347e8a2c2cd57b0d8b8c2": {
      "model_module": "@jupyter-widgets/base",
      "model_module_version": "1.2.0",
      "model_name": "LayoutModel",
      "state": {}
     },
     "ae599eb6c2f449bc9852fe706a2c6744": {
      "model_module": "@jupyter-widgets/controls",
      "model_module_version": "1.5.0",
      "model_name": "DescriptionStyleModel",
      "state": {
       "description_width": ""
      }
     },
     "aec7dad7a8cb4c73943382909a60d9ad": {
      "model_module": "@jupyter-widgets/controls",
      "model_module_version": "1.5.0",
      "model_name": "HBoxModel",
      "state": {
       "children": [
        "IPY_MODEL_e53ee1b8e9f94636977be93be57808df",
        "IPY_MODEL_8a53ed395bd541fc88ee5b1a0ebce605"
       ],
       "layout": "IPY_MODEL_5561c3a988a84d83b9a54104efe55f80"
      }
     },
     "aee9fda5b21044be9f20f0a27ecbc52d": {
      "model_module": "@jupyter-widgets/controls",
      "model_module_version": "1.5.0",
      "model_name": "HTMLModel",
      "state": {
       "layout": "IPY_MODEL_f07eba96869b4f62bc68d69d6240a60d",
       "style": "IPY_MODEL_f245aa3a2435475cb19155ac66e7e3f2",
       "value": "Epoch [13/50]: 100%|██████████| 99/99 [00:28&lt;00:00,  3.46it/s, loss=0.00103]"
      }
     },
     "b00ed61f422840f59d4330860d8eadb5": {
      "model_module": "@jupyter-widgets/controls",
      "model_module_version": "1.5.0",
      "model_name": "DescriptionStyleModel",
      "state": {
       "description_width": ""
      }
     },
     "b0125cb8659a447c889202bc309ca22c": {
      "model_module": "@jupyter-widgets/controls",
      "model_module_version": "1.5.0",
      "model_name": "HBoxModel",
      "state": {
       "children": [
        "IPY_MODEL_f84898f0be2045a2a5705e381790a29d",
        "IPY_MODEL_991872c549cd4680b00530c8f0fd835c"
       ],
       "layout": "IPY_MODEL_7a0a4286f812422589805fef30175339"
      }
     },
     "b0182836f6134795a34a2fb01dcd4c44": {
      "model_module": "@jupyter-widgets/base",
      "model_module_version": "1.2.0",
      "model_name": "LayoutModel",
      "state": {}
     },
     "b0309374b03f41bb9912bdb383b5e569": {
      "model_module": "@jupyter-widgets/base",
      "model_module_version": "1.2.0",
      "model_name": "LayoutModel",
      "state": {}
     },
     "b0d11a0efc7043919558460594e2b649": {
      "model_module": "@jupyter-widgets/controls",
      "model_module_version": "1.5.0",
      "model_name": "DescriptionStyleModel",
      "state": {
       "description_width": ""
      }
     },
     "b0ddb8a390394fe1835b5cdfd5a16839": {
      "model_module": "@jupyter-widgets/controls",
      "model_module_version": "1.5.0",
      "model_name": "HTMLModel",
      "state": {
       "layout": "IPY_MODEL_7ca97f0e67854b5dadfdf3b5ab3f55d3",
       "style": "IPY_MODEL_8c74ab9c80c94433a366b90a8d10db2f",
       "value": "Epoch [26/50]: 100%|██████████| 99/99 [00:28&lt;00:00,  3.53it/s, loss=0.000488]"
      }
     },
     "b0f5eaae01c24375a5d1be2c619ad268": {
      "model_module": "@jupyter-widgets/base",
      "model_module_version": "1.2.0",
      "model_name": "LayoutModel",
      "state": {}
     },
     "b165a85916b14eb9bd3b7999e2ea3d94": {
      "model_module": "@jupyter-widgets/controls",
      "model_module_version": "1.5.0",
      "model_name": "FloatProgressModel",
      "state": {
       "bar_style": "success",
       "layout": "IPY_MODEL_cc259974af144739ba894ee15199fb74",
       "max": 43,
       "style": "IPY_MODEL_79e9a423b32241639df605724c06cf2e",
       "value": 43
      }
     },
     "b203840b7f084a7a8e67754a0257e15e": {
      "model_module": "@jupyter-widgets/controls",
      "model_module_version": "1.5.0",
      "model_name": "ProgressStyleModel",
      "state": {
       "description_width": "initial"
      }
     },
     "b20e37face8c47e792ecb6a51dcc8b08": {
      "model_module": "@jupyter-widgets/base",
      "model_module_version": "1.2.0",
      "model_name": "LayoutModel",
      "state": {}
     },
     "b21e802b0b084e3a8a4ab286ac9adaeb": {
      "model_module": "@jupyter-widgets/controls",
      "model_module_version": "1.5.0",
      "model_name": "DescriptionStyleModel",
      "state": {
       "description_width": ""
      }
     },
     "b2ced2baa66b49aca7d6679a2b2c9668": {
      "model_module": "@jupyter-widgets/controls",
      "model_module_version": "1.5.0",
      "model_name": "HTMLModel",
      "state": {
       "layout": "IPY_MODEL_f2ef79ac8b3e49d1853f0c760f9234bb",
       "style": "IPY_MODEL_a1caee6e211041babdd0891db0914188",
       "value": "Epoch [36/50]: 100%|██████████| 99/99 [00:28&lt;00:00,  3.51it/s, loss=0.000453]"
      }
     },
     "b2de65784e9f48d8a503fb14dca52329": {
      "model_module": "@jupyter-widgets/controls",
      "model_module_version": "1.5.0",
      "model_name": "HTMLModel",
      "state": {
       "layout": "IPY_MODEL_ae57071324f347e8a2c2cd57b0d8b8c2",
       "style": "IPY_MODEL_ef3463cca01a4197a698cf0997980990",
       "value": "Epoch [21/50]: 100%|██████████| 99/99 [00:27&lt;00:00,  3.54it/s, loss=0.0008]"
      }
     },
     "b347549f75f1488589277e49ba035081": {
      "model_module": "@jupyter-widgets/controls",
      "model_module_version": "1.5.0",
      "model_name": "HBoxModel",
      "state": {
       "children": [
        "IPY_MODEL_41c500483aa34194af2b7fdf7480e126",
        "IPY_MODEL_2ff3442a9b6f4cd18d3dadbe8047a27b"
       ],
       "layout": "IPY_MODEL_e6015bfc46c648c5a32914fd247a5cbe"
      }
     },
     "b3500a34ee7c492da09f684bcde5db12": {
      "model_module": "@jupyter-widgets/base",
      "model_module_version": "1.2.0",
      "model_name": "LayoutModel",
      "state": {}
     },
     "b386bf7eb8404514a43b523d5b8b2ef3": {
      "model_module": "@jupyter-widgets/controls",
      "model_module_version": "1.5.0",
      "model_name": "DescriptionStyleModel",
      "state": {
       "description_width": ""
      }
     },
     "b3b36604b5124e20bfb0c95c12f176e8": {
      "model_module": "@jupyter-widgets/controls",
      "model_module_version": "1.5.0",
      "model_name": "HBoxModel",
      "state": {
       "children": [
        "IPY_MODEL_7618c9007b5b4e699372e3db27e35ffd",
        "IPY_MODEL_232db4a4d3ed4b37ac131d7192b20390"
       ],
       "layout": "IPY_MODEL_e37df288be424a1e9f588e430b2369f8"
      }
     },
     "b3c7f37929dd4c529bb8fccf5924961d": {
      "model_module": "@jupyter-widgets/controls",
      "model_module_version": "1.5.0",
      "model_name": "HBoxModel",
      "state": {
       "children": [
        "IPY_MODEL_d50e0880b40f4e5da1724a98f280e8e6",
        "IPY_MODEL_4a7c4ed2fd954e4ab5ec8c69d6baed52"
       ],
       "layout": "IPY_MODEL_7e0e4bb4a83244199043004bc6b930ea"
      }
     },
     "b3eb5295d0a94f559f94865586b5f75c": {
      "model_module": "@jupyter-widgets/controls",
      "model_module_version": "1.5.0",
      "model_name": "DescriptionStyleModel",
      "state": {
       "description_width": ""
      }
     },
     "b42c9360ef1a4791a05cfa1391a82f1f": {
      "model_module": "@jupyter-widgets/controls",
      "model_module_version": "1.5.0",
      "model_name": "HBoxModel",
      "state": {
       "children": [
        "IPY_MODEL_24d549b4676a4e52878d21b10b5cf5e8",
        "IPY_MODEL_550b6e167a8d4c13959be8fdb44be1a7"
       ],
       "layout": "IPY_MODEL_52c3d3773df94b1f875f1e06ba41a0da"
      }
     },
     "b482f5127ca84b0a86d57f19b1061313": {
      "model_module": "@jupyter-widgets/base",
      "model_module_version": "1.2.0",
      "model_name": "LayoutModel",
      "state": {}
     },
     "b4b7e7b9f67d46dc9846a66d2efcfb33": {
      "model_module": "@jupyter-widgets/base",
      "model_module_version": "1.2.0",
      "model_name": "LayoutModel",
      "state": {}
     },
     "b57adcb203ce4234bf9ed57ce1c5e524": {
      "model_module": "@jupyter-widgets/base",
      "model_module_version": "1.2.0",
      "model_name": "LayoutModel",
      "state": {}
     },
     "b57c643760d94858bbb03520b08c3dc5": {
      "model_module": "@jupyter-widgets/controls",
      "model_module_version": "1.5.0",
      "model_name": "ProgressStyleModel",
      "state": {
       "description_width": "initial"
      }
     },
     "b58ae775b63940079131471df6e99cfb": {
      "model_module": "@jupyter-widgets/controls",
      "model_module_version": "1.5.0",
      "model_name": "DescriptionStyleModel",
      "state": {
       "description_width": ""
      }
     },
     "b59fd09e441345c2b71434ef102f55c1": {
      "model_module": "@jupyter-widgets/base",
      "model_module_version": "1.2.0",
      "model_name": "LayoutModel",
      "state": {}
     },
     "b5c0c677106945219dab4d140639e65e": {
      "model_module": "@jupyter-widgets/controls",
      "model_module_version": "1.5.0",
      "model_name": "DescriptionStyleModel",
      "state": {
       "description_width": ""
      }
     },
     "b6399caa1e064c3a99f5124dc4a5bc9a": {
      "model_module": "@jupyter-widgets/base",
      "model_module_version": "1.2.0",
      "model_name": "LayoutModel",
      "state": {}
     },
     "b68e44f7bf3247eca27f79227ce5eabd": {
      "model_module": "@jupyter-widgets/controls",
      "model_module_version": "1.5.0",
      "model_name": "HTMLModel",
      "state": {
       "layout": "IPY_MODEL_13670e72b2134c3aba08ce3783b91900",
       "style": "IPY_MODEL_d7afb3f2ced04b4991294d1cfbe83fa1",
       "value": "Epoch [14/50]: 100%|██████████| 43/43 [00:10&lt;00:00,  4.12it/s, loss=0.00493]"
      }
     },
     "b6c462c86ee74081af5a19c913961790": {
      "model_module": "@jupyter-widgets/controls",
      "model_module_version": "1.5.0",
      "model_name": "ProgressStyleModel",
      "state": {
       "description_width": "initial"
      }
     },
     "b70d91a5ea124bf8afd3f9bafa82dc66": {
      "model_module": "@jupyter-widgets/base",
      "model_module_version": "1.2.0",
      "model_name": "LayoutModel",
      "state": {}
     },
     "b7174845daf140aaa36b497c4120fa51": {
      "model_module": "@jupyter-widgets/base",
      "model_module_version": "1.2.0",
      "model_name": "LayoutModel",
      "state": {}
     },
     "b7213e5e886a4baab677ea3cada98f3e": {
      "model_module": "@jupyter-widgets/base",
      "model_module_version": "1.2.0",
      "model_name": "LayoutModel",
      "state": {}
     },
     "b793cf4a2c7e4e5aa73b455823767fae": {
      "model_module": "@jupyter-widgets/controls",
      "model_module_version": "1.5.0",
      "model_name": "FloatProgressModel",
      "state": {
       "bar_style": "success",
       "layout": "IPY_MODEL_81f55bec6dcb4d49a34f0f3acdda4e9e",
       "max": 99,
       "style": "IPY_MODEL_54f4509d04194b068d1af64b3b390274",
       "value": 99
      }
     },
     "b79556be254f4378a0a3038394bc00be": {
      "model_module": "@jupyter-widgets/controls",
      "model_module_version": "1.5.0",
      "model_name": "HBoxModel",
      "state": {
       "children": [
        "IPY_MODEL_0f2c12df1fae482fb5d8dfd0691094e3",
        "IPY_MODEL_3ef841182d6e42959d31223b1939514a"
       ],
       "layout": "IPY_MODEL_3c986015e32648eda29b8bedc337a49e"
      }
     },
     "b7f5f1e61a1d48b99a87e1611481a8b7": {
      "model_module": "@jupyter-widgets/base",
      "model_module_version": "1.2.0",
      "model_name": "LayoutModel",
      "state": {}
     },
     "b809ab99c1ee4cec86248cd3283f4fc3": {
      "model_module": "@jupyter-widgets/controls",
      "model_module_version": "1.5.0",
      "model_name": "FloatProgressModel",
      "state": {
       "bar_style": "success",
       "layout": "IPY_MODEL_f30ab5039595481d91662b77cf4c043f",
       "max": 43,
       "style": "IPY_MODEL_eb9cbd41fec64856a45c4609eb8984ff",
       "value": 43
      }
     },
     "b821cd0ff70542bc9717694aa66cd669": {
      "model_module": "@jupyter-widgets/base",
      "model_module_version": "1.2.0",
      "model_name": "LayoutModel",
      "state": {}
     },
     "b86933047b6b4d0ab91de992862262c7": {
      "model_module": "@jupyter-widgets/controls",
      "model_module_version": "1.5.0",
      "model_name": "DescriptionStyleModel",
      "state": {
       "description_width": ""
      }
     },
     "b8be2897ecae43449183a13363449bd9": {
      "model_module": "@jupyter-widgets/controls",
      "model_module_version": "1.5.0",
      "model_name": "DescriptionStyleModel",
      "state": {
       "description_width": ""
      }
     },
     "b8fba792dec0423e9ec232d521e79bb6": {
      "model_module": "@jupyter-widgets/controls",
      "model_module_version": "1.5.0",
      "model_name": "HBoxModel",
      "state": {
       "children": [
        "IPY_MODEL_b793cf4a2c7e4e5aa73b455823767fae",
        "IPY_MODEL_1e776105bc0a473ea8fbcf1bc0f04365"
       ],
       "layout": "IPY_MODEL_326c8c314a384d10ac9175232e37640e"
      }
     },
     "b90483fafbd646b4b6fb1475e7c6b07a": {
      "model_module": "@jupyter-widgets/base",
      "model_module_version": "1.2.0",
      "model_name": "LayoutModel",
      "state": {}
     },
     "b9e2872a5f1843abbf327c69fc672218": {
      "model_module": "@jupyter-widgets/controls",
      "model_module_version": "1.5.0",
      "model_name": "HBoxModel",
      "state": {
       "children": [
        "IPY_MODEL_5bfcfc5b47d747d99afeba9c39a92553",
        "IPY_MODEL_7df586755bf0438cb75d188a76f72da5"
       ],
       "layout": "IPY_MODEL_21776674402843488b71a677b643a41a"
      }
     },
     "ba63eed9b56f42caa270850e8f249c49": {
      "model_module": "@jupyter-widgets/controls",
      "model_module_version": "1.5.0",
      "model_name": "HTMLModel",
      "state": {
       "layout": "IPY_MODEL_6ff0a59fb042441bb4395c83f03887c8",
       "style": "IPY_MODEL_56e32b42e5de4d0eb368dc48eef16b3f",
       "value": "Epoch [8/50]: 100%|██████████| 99/99 [00:28&lt;00:00,  3.45it/s, loss=0.0018]"
      }
     },
     "bab5b381426d4d04940e03731a498127": {
      "model_module": "@jupyter-widgets/base",
      "model_module_version": "1.2.0",
      "model_name": "LayoutModel",
      "state": {}
     },
     "bacf9bd47c014291ac31dbfcf6f38986": {
      "model_module": "@jupyter-widgets/controls",
      "model_module_version": "1.5.0",
      "model_name": "HBoxModel",
      "state": {
       "children": [
        "IPY_MODEL_5612581c715c43d4a664f9187f85d759",
        "IPY_MODEL_4156758f4a8341fcbb56493345a54609"
       ],
       "layout": "IPY_MODEL_c9638bca559241209eb3109795ae2175"
      }
     },
     "bb1b63f489334f09908c134f88561267": {
      "model_module": "@jupyter-widgets/controls",
      "model_module_version": "1.5.0",
      "model_name": "DescriptionStyleModel",
      "state": {
       "description_width": ""
      }
     },
     "bb2eaa22c0d14e60a8a2aa9903d9113b": {
      "model_module": "@jupyter-widgets/controls",
      "model_module_version": "1.5.0",
      "model_name": "HBoxModel",
      "state": {
       "children": [
        "IPY_MODEL_b165a85916b14eb9bd3b7999e2ea3d94",
        "IPY_MODEL_04cd0cbb759e4b448202ced7c91e8116"
       ],
       "layout": "IPY_MODEL_edcd64b4f2a3475cadeceb9df87d193f"
      }
     },
     "bb83dcf06d194d6d931c7c4718140d66": {
      "model_module": "@jupyter-widgets/base",
      "model_module_version": "1.2.0",
      "model_name": "LayoutModel",
      "state": {}
     },
     "bb9305521baf4217a847dc9cc172ce75": {
      "model_module": "@jupyter-widgets/base",
      "model_module_version": "1.2.0",
      "model_name": "LayoutModel",
      "state": {}
     },
     "bb9e026c08e14103b005001758ea36e3": {
      "model_module": "@jupyter-widgets/base",
      "model_module_version": "1.2.0",
      "model_name": "LayoutModel",
      "state": {}
     },
     "bbbb7f2155274579af09b340ce4bbd2d": {
      "model_module": "@jupyter-widgets/controls",
      "model_module_version": "1.5.0",
      "model_name": "HBoxModel",
      "state": {
       "children": [
        "IPY_MODEL_5b0c76a7efcf42408023b31679d573f8",
        "IPY_MODEL_85d8c01a6b7d4482b95d99b080138c2a"
       ],
       "layout": "IPY_MODEL_1d25a7f5e9c445e3925e23c2b2ffd6f5"
      }
     },
     "bbe95ce18c8b47a4a65ceeacd24746aa": {
      "model_module": "@jupyter-widgets/base",
      "model_module_version": "1.2.0",
      "model_name": "LayoutModel",
      "state": {}
     },
     "bcdac769308f43538430f3f41e5fb2ce": {
      "model_module": "@jupyter-widgets/controls",
      "model_module_version": "1.5.0",
      "model_name": "ProgressStyleModel",
      "state": {
       "description_width": "initial"
      }
     },
     "bd00276b3a774c47a73c7b358b576540": {
      "model_module": "@jupyter-widgets/controls",
      "model_module_version": "1.5.0",
      "model_name": "ProgressStyleModel",
      "state": {
       "description_width": "initial"
      }
     },
     "bd44f263240b4afb86fbe2a6caa34ada": {
      "model_module": "@jupyter-widgets/controls",
      "model_module_version": "1.5.0",
      "model_name": "FloatProgressModel",
      "state": {
       "bar_style": "success",
       "layout": "IPY_MODEL_b0f5eaae01c24375a5d1be2c619ad268",
       "max": 43,
       "style": "IPY_MODEL_39acbc32c5a5446a8d37285ea67b7be1",
       "value": 43
      }
     },
     "bd63563030f44ecf9bea6ecc98f5b5c6": {
      "model_module": "@jupyter-widgets/controls",
      "model_module_version": "1.5.0",
      "model_name": "FloatProgressModel",
      "state": {
       "bar_style": "success",
       "layout": "IPY_MODEL_579e2dbdded9426595f084647c6dda1f",
       "max": 43,
       "style": "IPY_MODEL_ded3d1935b594242ae4f784fa2609182",
       "value": 43
      }
     },
     "bd6bd6629ec24cbe9ba13773a6795939": {
      "model_module": "@jupyter-widgets/base",
      "model_module_version": "1.2.0",
      "model_name": "LayoutModel",
      "state": {}
     },
     "bdb511e7da1344f488a4b240145dcb55": {
      "model_module": "@jupyter-widgets/controls",
      "model_module_version": "1.5.0",
      "model_name": "FloatProgressModel",
      "state": {
       "bar_style": "success",
       "layout": "IPY_MODEL_160d6777127c4d25bb434b9aaf40f9d5",
       "max": 43,
       "style": "IPY_MODEL_c35a76518c5a4eb48e5c5262076281e5",
       "value": 43
      }
     },
     "be35eb6052604b20afb29c8ea57aed12": {
      "model_module": "@jupyter-widgets/base",
      "model_module_version": "1.2.0",
      "model_name": "LayoutModel",
      "state": {}
     },
     "bf26c64372c84fc59c2bf883a5cdac66": {
      "model_module": "@jupyter-widgets/controls",
      "model_module_version": "1.5.0",
      "model_name": "HBoxModel",
      "state": {
       "children": [
        "IPY_MODEL_d123188684d14b10a7f93ce980d25081",
        "IPY_MODEL_dfa11a0f8b82496898c78a2a12dfcd7b"
       ],
       "layout": "IPY_MODEL_3fe9e8002c2a4828a5b574fcfde21300"
      }
     },
     "bf5a92ea7e80413d8a10a7a9cc1cb267": {
      "model_module": "@jupyter-widgets/controls",
      "model_module_version": "1.5.0",
      "model_name": "HBoxModel",
      "state": {
       "children": [
        "IPY_MODEL_4ff1f04926ba406492a39e4c20fb23c4",
        "IPY_MODEL_9a05d409c09542ca9f9e1beb8cc41650"
       ],
       "layout": "IPY_MODEL_75b1488a9f1845138648891fe55de9ec"
      }
     },
     "bf5e97a2e94949cabf887ba6161792e9": {
      "model_module": "@jupyter-widgets/controls",
      "model_module_version": "1.5.0",
      "model_name": "DescriptionStyleModel",
      "state": {
       "description_width": ""
      }
     },
     "bf6225a31962483ab3cf8b755e77c222": {
      "model_module": "@jupyter-widgets/base",
      "model_module_version": "1.2.0",
      "model_name": "LayoutModel",
      "state": {}
     },
     "bff653db342344a186fb186a375562cc": {
      "model_module": "@jupyter-widgets/controls",
      "model_module_version": "1.5.0",
      "model_name": "DescriptionStyleModel",
      "state": {
       "description_width": ""
      }
     },
     "c08cbfe40b3b4f56a82db14ad8613f64": {
      "model_module": "@jupyter-widgets/controls",
      "model_module_version": "1.5.0",
      "model_name": "HBoxModel",
      "state": {
       "children": [
        "IPY_MODEL_3ea6bb68c0f24720bc7be129a8545337",
        "IPY_MODEL_7967a5294cc24dcc85158fcc6d5b78fd"
       ],
       "layout": "IPY_MODEL_ec3212b4017f4591a8e5b71dd12556ba"
      }
     },
     "c0b8463020654a25aae2f9f9063bea5a": {
      "model_module": "@jupyter-widgets/base",
      "model_module_version": "1.2.0",
      "model_name": "LayoutModel",
      "state": {}
     },
     "c0cffb100f4749ffb16ca27bf9a25585": {
      "model_module": "@jupyter-widgets/controls",
      "model_module_version": "1.5.0",
      "model_name": "HTMLModel",
      "state": {
       "layout": "IPY_MODEL_3273f4f0a5214739989b88ec2f068855",
       "style": "IPY_MODEL_b5c0c677106945219dab4d140639e65e",
       "value": "Epoch [6/50]: 100%|██████████| 99/99 [00:28&lt;00:00,  3.43it/s, loss=0.00217]"
      }
     },
     "c0d0a64fad064f56aeff425ec25813b2": {
      "model_module": "@jupyter-widgets/controls",
      "model_module_version": "1.5.0",
      "model_name": "HTMLModel",
      "state": {
       "layout": "IPY_MODEL_c8f27ba18f014e51b62ac6c790cf6535",
       "style": "IPY_MODEL_3e446eb0542c47c7b00372463c01f02c",
       "value": "Epoch [38/50]: 100%|██████████| 43/43 [00:10&lt;00:00,  4.22it/s, loss=0.00134]"
      }
     },
     "c13ef11a89094a28afec2b4323b1e3df": {
      "model_module": "@jupyter-widgets/base",
      "model_module_version": "1.2.0",
      "model_name": "LayoutModel",
      "state": {}
     },
     "c1a78a5fea21439584e85393e25b3ae0": {
      "model_module": "@jupyter-widgets/base",
      "model_module_version": "1.2.0",
      "model_name": "LayoutModel",
      "state": {}
     },
     "c21897b684c0470bab1b3c492fe560e9": {
      "model_module": "@jupyter-widgets/base",
      "model_module_version": "1.2.0",
      "model_name": "LayoutModel",
      "state": {}
     },
     "c29f0c9f25f1406cb35e800f4ea4b71a": {
      "model_module": "@jupyter-widgets/controls",
      "model_module_version": "1.5.0",
      "model_name": "HTMLModel",
      "state": {
       "layout": "IPY_MODEL_19c87d5c64934b5f92c1fc9c13ff0877",
       "style": "IPY_MODEL_9542f45280724e88a0b3a06ab6d8ee08",
       "value": "Epoch [4/50]: 100%|██████████| 99/99 [00:28&lt;00:00,  3.42it/s, loss=0.00527]"
      }
     },
     "c2ca2fd294a144f3bfcfdd61443f37f4": {
      "model_module": "@jupyter-widgets/base",
      "model_module_version": "1.2.0",
      "model_name": "LayoutModel",
      "state": {}
     },
     "c2db78da91c34e0e9d30621a04ef4626": {
      "model_module": "@jupyter-widgets/controls",
      "model_module_version": "1.5.0",
      "model_name": "DescriptionStyleModel",
      "state": {
       "description_width": ""
      }
     },
     "c341f7560b6d49828e3b8e38a7694944": {
      "model_module": "@jupyter-widgets/controls",
      "model_module_version": "1.5.0",
      "model_name": "ProgressStyleModel",
      "state": {
       "description_width": "initial"
      }
     },
     "c35a76518c5a4eb48e5c5262076281e5": {
      "model_module": "@jupyter-widgets/controls",
      "model_module_version": "1.5.0",
      "model_name": "ProgressStyleModel",
      "state": {
       "description_width": "initial"
      }
     },
     "c35b721758e5401b83e60762065854c8": {
      "model_module": "@jupyter-widgets/controls",
      "model_module_version": "1.5.0",
      "model_name": "HBoxModel",
      "state": {
       "children": [
        "IPY_MODEL_8bb2c3adec5349be85d2b7fca7a41db3",
        "IPY_MODEL_f62773e5d27f405389b50f63e1db2578"
       ],
       "layout": "IPY_MODEL_fd101b054d644de5962a3481b44041fb"
      }
     },
     "c38e38baf7984549b427f657e8ef7453": {
      "model_module": "@jupyter-widgets/base",
      "model_module_version": "1.2.0",
      "model_name": "LayoutModel",
      "state": {}
     },
     "c39e5f1b02964b459061b033483d0d45": {
      "model_module": "@jupyter-widgets/base",
      "model_module_version": "1.2.0",
      "model_name": "LayoutModel",
      "state": {}
     },
     "c466d4d2a625447f86c0fc2b19f9e479": {
      "model_module": "@jupyter-widgets/controls",
      "model_module_version": "1.5.0",
      "model_name": "ProgressStyleModel",
      "state": {
       "description_width": "initial"
      }
     },
     "c49ce703af414ed590b32bea139f89f1": {
      "model_module": "@jupyter-widgets/controls",
      "model_module_version": "1.5.0",
      "model_name": "ProgressStyleModel",
      "state": {
       "description_width": "initial"
      }
     },
     "c563d22f99034fafb3ddcafab36792b0": {
      "model_module": "@jupyter-widgets/base",
      "model_module_version": "1.2.0",
      "model_name": "LayoutModel",
      "state": {}
     },
     "c5c59dbd859a4ef79936caef5b468e77": {
      "model_module": "@jupyter-widgets/controls",
      "model_module_version": "1.5.0",
      "model_name": "ProgressStyleModel",
      "state": {
       "description_width": "initial"
      }
     },
     "c5d113133e98450596c0eb29b3743999": {
      "model_module": "@jupyter-widgets/base",
      "model_module_version": "1.2.0",
      "model_name": "LayoutModel",
      "state": {}
     },
     "c5ebb19ea93249f799429369e0c8b6cb": {
      "model_module": "@jupyter-widgets/controls",
      "model_module_version": "1.5.0",
      "model_name": "DescriptionStyleModel",
      "state": {
       "description_width": ""
      }
     },
     "c5f2cbe36550421d8c83b5c34002aa7a": {
      "model_module": "@jupyter-widgets/controls",
      "model_module_version": "1.5.0",
      "model_name": "DescriptionStyleModel",
      "state": {
       "description_width": ""
      }
     },
     "c6082938dc684b42b02e33efb506429d": {
      "model_module": "@jupyter-widgets/controls",
      "model_module_version": "1.5.0",
      "model_name": "HTMLModel",
      "state": {
       "layout": "IPY_MODEL_56ad53b671ba446d9c81444f1a08d466",
       "style": "IPY_MODEL_22c56893476f41d98d8470713ac49e23",
       "value": "Epoch [12/50]: 100%|██████████| 43/43 [00:10&lt;00:00,  4.12it/s, loss=0.00444]"
      }
     },
     "c6524b8e72464b2788b2497c7e9b3947": {
      "model_module": "@jupyter-widgets/base",
      "model_module_version": "1.2.0",
      "model_name": "LayoutModel",
      "state": {}
     },
     "c6c896033e534a89805c6f566ebdf85b": {
      "model_module": "@jupyter-widgets/controls",
      "model_module_version": "1.5.0",
      "model_name": "FloatProgressModel",
      "state": {
       "bar_style": "success",
       "layout": "IPY_MODEL_73340b54ee094ad2b4660c334590564b",
       "max": 99,
       "style": "IPY_MODEL_1f73e585903f42949810e56737b5515f",
       "value": 99
      }
     },
     "c74c22d9e23d4004a65bd0e3c3c29e6f": {
      "model_module": "@jupyter-widgets/controls",
      "model_module_version": "1.5.0",
      "model_name": "HTMLModel",
      "state": {
       "layout": "IPY_MODEL_bb9e026c08e14103b005001758ea36e3",
       "style": "IPY_MODEL_c92fa0708f1847e4a9bcdb6ca789adb5",
       "value": "Epoch [16/50]: 100%|██████████| 43/43 [00:10&lt;00:00,  4.13it/s, loss=0.0038]"
      }
     },
     "c769c0a89cd1421e928cfe8df1ebd66c": {
      "model_module": "@jupyter-widgets/controls",
      "model_module_version": "1.5.0",
      "model_name": "HBoxModel",
      "state": {
       "children": [
        "IPY_MODEL_9047d4b0bdde4fa2bd4727fa18f4e065",
        "IPY_MODEL_2ef769b24b6a46ceac34f004df4cc639"
       ],
       "layout": "IPY_MODEL_cc0e863994254dcd9c025354a5709b3a"
      }
     },
     "c7ad64e5307446fb8fb7712ecbffe9bd": {
      "model_module": "@jupyter-widgets/base",
      "model_module_version": "1.2.0",
      "model_name": "LayoutModel",
      "state": {}
     },
     "c7f2dc36c6cc4339aabd1b66989cd3fa": {
      "model_module": "@jupyter-widgets/controls",
      "model_module_version": "1.5.0",
      "model_name": "HBoxModel",
      "state": {
       "children": [
        "IPY_MODEL_787e0391f33640e6ad107f016dda731f",
        "IPY_MODEL_1fdd1b3e878c4949a1dbefb3a8b6c153"
       ],
       "layout": "IPY_MODEL_ecb7038469f3425fb5df721b878281c5"
      }
     },
     "c8701f322bbe4f50a5f95482dde13e76": {
      "model_module": "@jupyter-widgets/base",
      "model_module_version": "1.2.0",
      "model_name": "LayoutModel",
      "state": {}
     },
     "c87858bdfa35410a8acffa4cda914c2a": {
      "model_module": "@jupyter-widgets/controls",
      "model_module_version": "1.5.0",
      "model_name": "HBoxModel",
      "state": {
       "children": [
        "IPY_MODEL_011f603408e641fdbe576dc682470001",
        "IPY_MODEL_399d37d311864352ae2bbafd355bfde4"
       ],
       "layout": "IPY_MODEL_a9107cebc35b407b8e3538320c732fd2"
      }
     },
     "c8a6abe20e2c4229a22f3589962980ee": {
      "model_module": "@jupyter-widgets/controls",
      "model_module_version": "1.5.0",
      "model_name": "DescriptionStyleModel",
      "state": {
       "description_width": ""
      }
     },
     "c8f27ba18f014e51b62ac6c790cf6535": {
      "model_module": "@jupyter-widgets/base",
      "model_module_version": "1.2.0",
      "model_name": "LayoutModel",
      "state": {}
     },
     "c92fa0708f1847e4a9bcdb6ca789adb5": {
      "model_module": "@jupyter-widgets/controls",
      "model_module_version": "1.5.0",
      "model_name": "DescriptionStyleModel",
      "state": {
       "description_width": ""
      }
     },
     "c9638bca559241209eb3109795ae2175": {
      "model_module": "@jupyter-widgets/base",
      "model_module_version": "1.2.0",
      "model_name": "LayoutModel",
      "state": {}
     },
     "c97e60e30c964389801b7678c63fe34c": {
      "model_module": "@jupyter-widgets/base",
      "model_module_version": "1.2.0",
      "model_name": "LayoutModel",
      "state": {}
     },
     "cb3815591ff44e769629534617a60c9e": {
      "model_module": "@jupyter-widgets/controls",
      "model_module_version": "1.5.0",
      "model_name": "HBoxModel",
      "state": {
       "children": [
        "IPY_MODEL_09d5334b860e45629a92f7c4afaaf1af",
        "IPY_MODEL_58505761f8c344fb84dbd624cbba898b"
       ],
       "layout": "IPY_MODEL_c21897b684c0470bab1b3c492fe560e9"
      }
     },
     "cb953f5e2eb3471ba38253ebb7408025": {
      "model_module": "@jupyter-widgets/base",
      "model_module_version": "1.2.0",
      "model_name": "LayoutModel",
      "state": {}
     },
     "cbccda27aae2483996183a0dbfc0b68b": {
      "model_module": "@jupyter-widgets/base",
      "model_module_version": "1.2.0",
      "model_name": "LayoutModel",
      "state": {}
     },
     "cc0e863994254dcd9c025354a5709b3a": {
      "model_module": "@jupyter-widgets/base",
      "model_module_version": "1.2.0",
      "model_name": "LayoutModel",
      "state": {}
     },
     "cc259974af144739ba894ee15199fb74": {
      "model_module": "@jupyter-widgets/base",
      "model_module_version": "1.2.0",
      "model_name": "LayoutModel",
      "state": {}
     },
     "cd0d856a8cb5467aa3f56cd99c0290b2": {
      "model_module": "@jupyter-widgets/base",
      "model_module_version": "1.2.0",
      "model_name": "LayoutModel",
      "state": {}
     },
     "cdcb34d95bbc4aa889d6fbb6868cbe87": {
      "model_module": "@jupyter-widgets/controls",
      "model_module_version": "1.5.0",
      "model_name": "HTMLModel",
      "state": {
       "layout": "IPY_MODEL_ab04a270fc5a4350999c28501ad2e7ca",
       "style": "IPY_MODEL_bb1b63f489334f09908c134f88561267",
       "value": "Epoch [6/50]: 100%|██████████| 43/43 [00:10&lt;00:00,  4.12it/s, loss=0.00628]"
      }
     },
     "cdf5896b14d345949fcd27547e444e7e": {
      "model_module": "@jupyter-widgets/controls",
      "model_module_version": "1.5.0",
      "model_name": "FloatProgressModel",
      "state": {
       "bar_style": "success",
       "layout": "IPY_MODEL_7cddd6afa19743ca96da2eba96fad9b9",
       "max": 99,
       "style": "IPY_MODEL_a96414546dac4c618d592fefa412b721",
       "value": 99
      }
     },
     "cdfdda8fa26b404498c11b3170418d33": {
      "model_module": "@jupyter-widgets/base",
      "model_module_version": "1.2.0",
      "model_name": "LayoutModel",
      "state": {}
     },
     "ce4e60ecba0646b2a4216b009992306a": {
      "model_module": "@jupyter-widgets/controls",
      "model_module_version": "1.5.0",
      "model_name": "HTMLModel",
      "state": {
       "layout": "IPY_MODEL_b821cd0ff70542bc9717694aa66cd669",
       "style": "IPY_MODEL_bf5e97a2e94949cabf887ba6161792e9",
       "value": "Epoch [31/50]: 100%|██████████| 99/99 [00:28&lt;00:00,  3.52it/s, loss=0.000491]"
      }
     },
     "ce6e996e2e1a4335aed5840a93764c8d": {
      "model_module": "@jupyter-widgets/controls",
      "model_module_version": "1.5.0",
      "model_name": "DescriptionStyleModel",
      "state": {
       "description_width": ""
      }
     },
     "cf6a95832a0244de89d7add1be504e5c": {
      "model_module": "@jupyter-widgets/controls",
      "model_module_version": "1.5.0",
      "model_name": "ProgressStyleModel",
      "state": {
       "description_width": "initial"
      }
     },
     "d094a43256c24595857f1f1a6610cb14": {
      "model_module": "@jupyter-widgets/base",
      "model_module_version": "1.2.0",
      "model_name": "LayoutModel",
      "state": {}
     },
     "d0dc8ead577b4ef88f324440012e0e75": {
      "model_module": "@jupyter-widgets/base",
      "model_module_version": "1.2.0",
      "model_name": "LayoutModel",
      "state": {}
     },
     "d0fcdb59c9b04629aeff7b20d215cfe2": {
      "model_module": "@jupyter-widgets/controls",
      "model_module_version": "1.5.0",
      "model_name": "HBoxModel",
      "state": {
       "children": [
        "IPY_MODEL_ec09c76c0eb94a0ca33d7a3f073e3ffe",
        "IPY_MODEL_aee9fda5b21044be9f20f0a27ecbc52d"
       ],
       "layout": "IPY_MODEL_686be08503c54651bfdff6e13b3c8ed7"
      }
     },
     "d123188684d14b10a7f93ce980d25081": {
      "model_module": "@jupyter-widgets/controls",
      "model_module_version": "1.5.0",
      "model_name": "FloatProgressModel",
      "state": {
       "bar_style": "success",
       "layout": "IPY_MODEL_184a74c3d2ad461a9dff4242a4a9e083",
       "max": 99,
       "style": "IPY_MODEL_29498da2e34046a38e2f00f2bdf3679e",
       "value": 99
      }
     },
     "d15ac561568b487d9dff051ea2070fd6": {
      "model_module": "@jupyter-widgets/controls",
      "model_module_version": "1.5.0",
      "model_name": "ProgressStyleModel",
      "state": {
       "description_width": "initial"
      }
     },
     "d1bbd31fe1d4400d9dff1685b1bcded1": {
      "model_module": "@jupyter-widgets/controls",
      "model_module_version": "1.5.0",
      "model_name": "ProgressStyleModel",
      "state": {
       "description_width": "initial"
      }
     },
     "d1c3426db1354f86a3ae54fbc84a7666": {
      "model_module": "@jupyter-widgets/controls",
      "model_module_version": "1.5.0",
      "model_name": "DescriptionStyleModel",
      "state": {
       "description_width": ""
      }
     },
     "d1cb6a08958e4cdcb4d561490ec4f8d0": {
      "model_module": "@jupyter-widgets/controls",
      "model_module_version": "1.5.0",
      "model_name": "ProgressStyleModel",
      "state": {
       "description_width": "initial"
      }
     },
     "d1ea50c4c9c243878b49170c06fd7c89": {
      "model_module": "@jupyter-widgets/controls",
      "model_module_version": "1.5.0",
      "model_name": "DescriptionStyleModel",
      "state": {
       "description_width": ""
      }
     },
     "d23e19bac0eb461d83bd1fd27769b5a3": {
      "model_module": "@jupyter-widgets/controls",
      "model_module_version": "1.5.0",
      "model_name": "FloatProgressModel",
      "state": {
       "bar_style": "success",
       "layout": "IPY_MODEL_cdfdda8fa26b404498c11b3170418d33",
       "max": 43,
       "style": "IPY_MODEL_f4830413cea74a9dbd4292a7957677d0",
       "value": 43
      }
     },
     "d307698a1f314f1aa6e6f450b9f887da": {
      "model_module": "@jupyter-widgets/controls",
      "model_module_version": "1.5.0",
      "model_name": "ProgressStyleModel",
      "state": {
       "description_width": "initial"
      }
     },
     "d34222ef978b4d9bb4a6b34f0576d35f": {
      "model_module": "@jupyter-widgets/controls",
      "model_module_version": "1.5.0",
      "model_name": "DescriptionStyleModel",
      "state": {
       "description_width": ""
      }
     },
     "d3f8fb0e444443b59846d2665e2140cd": {
      "model_module": "@jupyter-widgets/base",
      "model_module_version": "1.2.0",
      "model_name": "LayoutModel",
      "state": {}
     },
     "d4000227a6d643719994719bfe37d209": {
      "model_module": "@jupyter-widgets/base",
      "model_module_version": "1.2.0",
      "model_name": "LayoutModel",
      "state": {}
     },
     "d4b9c75928774e359ead9e32327af5a9": {
      "model_module": "@jupyter-widgets/base",
      "model_module_version": "1.2.0",
      "model_name": "LayoutModel",
      "state": {}
     },
     "d4ccccc47a6644eead75853248835488": {
      "model_module": "@jupyter-widgets/controls",
      "model_module_version": "1.5.0",
      "model_name": "HBoxModel",
      "state": {
       "children": [
        "IPY_MODEL_805a70e4abea48ad8bc51dbcfcb14ad9",
        "IPY_MODEL_b68e44f7bf3247eca27f79227ce5eabd"
       ],
       "layout": "IPY_MODEL_c38e38baf7984549b427f657e8ef7453"
      }
     },
     "d4f1da4c2d4f4536aedf9b6bb2ec8d02": {
      "model_module": "@jupyter-widgets/base",
      "model_module_version": "1.2.0",
      "model_name": "LayoutModel",
      "state": {}
     },
     "d506b603788d437faa3c452bf8b43a6c": {
      "model_module": "@jupyter-widgets/controls",
      "model_module_version": "1.5.0",
      "model_name": "ProgressStyleModel",
      "state": {
       "description_width": "initial"
      }
     },
     "d50abafe985642ee9d91356fc93809c4": {
      "model_module": "@jupyter-widgets/base",
      "model_module_version": "1.2.0",
      "model_name": "LayoutModel",
      "state": {}
     },
     "d50e0880b40f4e5da1724a98f280e8e6": {
      "model_module": "@jupyter-widgets/controls",
      "model_module_version": "1.5.0",
      "model_name": "FloatProgressModel",
      "state": {
       "bar_style": "success",
       "layout": "IPY_MODEL_8f58d76683dc4610a4088a12095b2bc4",
       "max": 43,
       "style": "IPY_MODEL_4f8b27d264a74e14a304e9bd315c5bd0",
       "value": 43
      }
     },
     "d68a8d14a40f4890b5525a2ec345ec0a": {
      "model_module": "@jupyter-widgets/base",
      "model_module_version": "1.2.0",
      "model_name": "LayoutModel",
      "state": {}
     },
     "d6ae10d541ce4d6e96103eae91c1ca88": {
      "model_module": "@jupyter-widgets/controls",
      "model_module_version": "1.5.0",
      "model_name": "DescriptionStyleModel",
      "state": {
       "description_width": ""
      }
     },
     "d6dfb09fe4c8461c8f38e788c5416006": {
      "model_module": "@jupyter-widgets/controls",
      "model_module_version": "1.5.0",
      "model_name": "HBoxModel",
      "state": {
       "children": [
        "IPY_MODEL_4a3dbee03f4b4898b4f690a51e122452",
        "IPY_MODEL_abf173c95cd847b5bb98c1a5c94f0549"
       ],
       "layout": "IPY_MODEL_9c129cca21364fc18fe224ae9d2c6361"
      }
     },
     "d737d9769cb340ad874764dc30dd08e2": {
      "model_module": "@jupyter-widgets/controls",
      "model_module_version": "1.5.0",
      "model_name": "HTMLModel",
      "state": {
       "layout": "IPY_MODEL_add53038c5dc4cb3b8e18cdfa77073d2",
       "style": "IPY_MODEL_051fdaecd60243819806d5caeb44f5ab",
       "value": "Epoch [45/50]: 100%|██████████| 99/99 [00:28&lt;00:00,  3.43it/s, loss=0.000524]"
      }
     },
     "d793578f99cd4a92bc15082a00e1ff16": {
      "model_module": "@jupyter-widgets/base",
      "model_module_version": "1.2.0",
      "model_name": "LayoutModel",
      "state": {}
     },
     "d7a271425421414589d885568cbbc667": {
      "model_module": "@jupyter-widgets/base",
      "model_module_version": "1.2.0",
      "model_name": "LayoutModel",
      "state": {}
     },
     "d7afb3f2ced04b4991294d1cfbe83fa1": {
      "model_module": "@jupyter-widgets/controls",
      "model_module_version": "1.5.0",
      "model_name": "DescriptionStyleModel",
      "state": {
       "description_width": ""
      }
     },
     "d80e9e00a4914b69bb5e12dcd39f843f": {
      "model_module": "@jupyter-widgets/base",
      "model_module_version": "1.2.0",
      "model_name": "LayoutModel",
      "state": {}
     },
     "d8b4eb8afe9d4c7f9308a156d1ab1fe9": {
      "model_module": "@jupyter-widgets/controls",
      "model_module_version": "1.5.0",
      "model_name": "HBoxModel",
      "state": {
       "children": [
        "IPY_MODEL_8157952a2db742a5b91baaa8fade2b3b",
        "IPY_MODEL_a656ce5db5bd453f99df19220189db37"
       ],
       "layout": "IPY_MODEL_d4f1da4c2d4f4536aedf9b6bb2ec8d02"
      }
     },
     "d8fa79b52fc74fd2873ff9d231fcb61b": {
      "model_module": "@jupyter-widgets/base",
      "model_module_version": "1.2.0",
      "model_name": "LayoutModel",
      "state": {}
     },
     "d9ae842bc2c34dce8d1028e7901e0c3c": {
      "model_module": "@jupyter-widgets/controls",
      "model_module_version": "1.5.0",
      "model_name": "HBoxModel",
      "state": {
       "children": [
        "IPY_MODEL_dc2d666b547d47e9aa66728391fa5a24",
        "IPY_MODEL_3e4c6f1b4fd744ce84b3425bdd06db68"
       ],
       "layout": "IPY_MODEL_94757fb4f17643c3949f7c14c2d387d2"
      }
     },
     "d9c338df1c21475caed9539c05d9189a": {
      "model_module": "@jupyter-widgets/controls",
      "model_module_version": "1.5.0",
      "model_name": "FloatProgressModel",
      "state": {
       "bar_style": "success",
       "layout": "IPY_MODEL_2ca2e55434074efb80fab47151b05699",
       "max": 43,
       "style": "IPY_MODEL_8db7b1f5641941f4a62bf3d66407a210",
       "value": 43
      }
     },
     "d9e726ceddf94ebdb7b45c0e31a9b1ac": {
      "model_module": "@jupyter-widgets/controls",
      "model_module_version": "1.5.0",
      "model_name": "HTMLModel",
      "state": {
       "layout": "IPY_MODEL_b0182836f6134795a34a2fb01dcd4c44",
       "style": "IPY_MODEL_4c265793fc3745e288b6f60dc77a0574",
       "value": "Epoch [37/50]: 100%|██████████| 99/99 [00:30&lt;00:00,  3.27it/s, loss=0.000538]"
      }
     },
     "da181ae4a858490ba93a59632071dee3": {
      "model_module": "@jupyter-widgets/base",
      "model_module_version": "1.2.0",
      "model_name": "LayoutModel",
      "state": {}
     },
     "da94ecd1ec14413d8687731322f63da4": {
      "model_module": "@jupyter-widgets/controls",
      "model_module_version": "1.5.0",
      "model_name": "HBoxModel",
      "state": {
       "children": [
        "IPY_MODEL_e20728d2a7ba406382056308fc18cbe3",
        "IPY_MODEL_0588edd9e11b4c879b12b016e9f3bf34"
       ],
       "layout": "IPY_MODEL_2f5f4c2c2aee4599bc5082cc1f84c83e"
      }
     },
     "da9e1d447e584b97b00f190d130a405f": {
      "model_module": "@jupyter-widgets/controls",
      "model_module_version": "1.5.0",
      "model_name": "DescriptionStyleModel",
      "state": {
       "description_width": ""
      }
     },
     "daa0f7ff144043f4a5e9c1fb6bce6ee8": {
      "model_module": "@jupyter-widgets/controls",
      "model_module_version": "1.5.0",
      "model_name": "ProgressStyleModel",
      "state": {
       "description_width": "initial"
      }
     },
     "daf833045e75486cad1ab28c44bc315a": {
      "model_module": "@jupyter-widgets/controls",
      "model_module_version": "1.5.0",
      "model_name": "ProgressStyleModel",
      "state": {
       "description_width": "initial"
      }
     },
     "db3073f9fbcc428f88b19089a9822d50": {
      "model_module": "@jupyter-widgets/base",
      "model_module_version": "1.2.0",
      "model_name": "LayoutModel",
      "state": {}
     },
     "db6c144f18b24ceba8ea3868cdf8f7c6": {
      "model_module": "@jupyter-widgets/controls",
      "model_module_version": "1.5.0",
      "model_name": "FloatProgressModel",
      "state": {
       "bar_style": "success",
       "layout": "IPY_MODEL_934e2fc6f87c491fb26a5a5e5d2f2bae",
       "max": 99,
       "style": "IPY_MODEL_3f58a0989669455a9ae6a1d4dfed24d7",
       "value": 99
      }
     },
     "db7f6b6ff15f497d8a47b69f7710d708": {
      "model_module": "@jupyter-widgets/controls",
      "model_module_version": "1.5.0",
      "model_name": "HTMLModel",
      "state": {
       "layout": "IPY_MODEL_7a0262fe369d4b0294980226d88ea2d7",
       "style": "IPY_MODEL_5eeb9b97d1104a519d818581793dffb7",
       "value": "Epoch [1/50]: 100%|██████████| 43/43 [00:10&lt;00:00,  4.10it/s, loss=0.341]"
      }
     },
     "dbc93087ebcf415d8d5362d1e72456bb": {
      "model_module": "@jupyter-widgets/controls",
      "model_module_version": "1.5.0",
      "model_name": "ProgressStyleModel",
      "state": {
       "description_width": "initial"
      }
     },
     "dc2d666b547d47e9aa66728391fa5a24": {
      "model_module": "@jupyter-widgets/controls",
      "model_module_version": "1.5.0",
      "model_name": "FloatProgressModel",
      "state": {
       "bar_style": "success",
       "layout": "IPY_MODEL_a3ae225ff87b4d91af2cbad6240a412c",
       "max": 99,
       "style": "IPY_MODEL_df21880111dc45a5b29d26bb7c951ada",
       "value": 99
      }
     },
     "dcbb362bce5748789b878e3473c69415": {
      "model_module": "@jupyter-widgets/base",
      "model_module_version": "1.2.0",
      "model_name": "LayoutModel",
      "state": {}
     },
     "dd1af1160c81404dbbb13ebe62d3ff82": {
      "model_module": "@jupyter-widgets/base",
      "model_module_version": "1.2.0",
      "model_name": "LayoutModel",
      "state": {}
     },
     "de34d0b1feff496eb57ffab3831f4a90": {
      "model_module": "@jupyter-widgets/controls",
      "model_module_version": "1.5.0",
      "model_name": "HTMLModel",
      "state": {
       "layout": "IPY_MODEL_4dde35e969584db3b216eed81425a5cb",
       "style": "IPY_MODEL_b0d11a0efc7043919558460594e2b649",
       "value": "Epoch [42/50]: 100%|██████████| 43/43 [00:10&lt;00:00,  4.10it/s, loss=0.00114]"
      }
     },
     "de603766d6824e519a6718aab7237cb9": {
      "model_module": "@jupyter-widgets/controls",
      "model_module_version": "1.5.0",
      "model_name": "DescriptionStyleModel",
      "state": {
       "description_width": ""
      }
     },
     "ded3d1935b594242ae4f784fa2609182": {
      "model_module": "@jupyter-widgets/controls",
      "model_module_version": "1.5.0",
      "model_name": "ProgressStyleModel",
      "state": {
       "description_width": "initial"
      }
     },
     "def5d9db965c47278208baa16191f920": {
      "model_module": "@jupyter-widgets/controls",
      "model_module_version": "1.5.0",
      "model_name": "ProgressStyleModel",
      "state": {
       "description_width": "initial"
      }
     },
     "df21880111dc45a5b29d26bb7c951ada": {
      "model_module": "@jupyter-widgets/controls",
      "model_module_version": "1.5.0",
      "model_name": "ProgressStyleModel",
      "state": {
       "description_width": "initial"
      }
     },
     "df689aa46bdc47b1848163caa4f37d0d": {
      "model_module": "@jupyter-widgets/controls",
      "model_module_version": "1.5.0",
      "model_name": "ProgressStyleModel",
      "state": {
       "description_width": "initial"
      }
     },
     "df75b7da898149a7a1ef3e10fb1d71d0": {
      "model_module": "@jupyter-widgets/controls",
      "model_module_version": "1.5.0",
      "model_name": "HBoxModel",
      "state": {
       "children": [
        "IPY_MODEL_cdf5896b14d345949fcd27547e444e7e",
        "IPY_MODEL_a09726977e1d42d59412390e1c994334"
       ],
       "layout": "IPY_MODEL_5bef324132b3412eaccdc564c0e62b36"
      }
     },
     "dfa11a0f8b82496898c78a2a12dfcd7b": {
      "model_module": "@jupyter-widgets/controls",
      "model_module_version": "1.5.0",
      "model_name": "HTMLModel",
      "state": {
       "layout": "IPY_MODEL_d68a8d14a40f4890b5525a2ec345ec0a",
       "style": "IPY_MODEL_91f8f07ba46e45c1b10156bdcaee955f",
       "value": "Epoch [5/50]: 100%|██████████| 99/99 [00:30&lt;00:00,  3.21it/s, loss=0.00388]"
      }
     },
     "dfe1ab6a82684f76b83330267d934475": {
      "model_module": "@jupyter-widgets/base",
      "model_module_version": "1.2.0",
      "model_name": "LayoutModel",
      "state": {}
     },
     "e01eb7e618e34375b931dd55a0d5d592": {
      "model_module": "@jupyter-widgets/base",
      "model_module_version": "1.2.0",
      "model_name": "LayoutModel",
      "state": {}
     },
     "e0282f5262e84eafae9885b544d45566": {
      "model_module": "@jupyter-widgets/controls",
      "model_module_version": "1.5.0",
      "model_name": "DescriptionStyleModel",
      "state": {
       "description_width": ""
      }
     },
     "e04ac88f75a446ecb3953d26d7be4b44": {
      "model_module": "@jupyter-widgets/controls",
      "model_module_version": "1.5.0",
      "model_name": "DescriptionStyleModel",
      "state": {
       "description_width": ""
      }
     },
     "e07102745dd84b6aaca3e11fc95d8ecd": {
      "model_module": "@jupyter-widgets/base",
      "model_module_version": "1.2.0",
      "model_name": "LayoutModel",
      "state": {}
     },
     "e094818f33ad4d008b98eb57769a7978": {
      "model_module": "@jupyter-widgets/controls",
      "model_module_version": "1.5.0",
      "model_name": "FloatProgressModel",
      "state": {
       "bar_style": "success",
       "layout": "IPY_MODEL_fa3c26f10496488e9cfe389455b5bfec",
       "max": 99,
       "style": "IPY_MODEL_9dc75bb26109476eb2dcc037d9f5e909",
       "value": 99
      }
     },
     "e0a0a1b3784448f5a90409a5056c6595": {
      "model_module": "@jupyter-widgets/base",
      "model_module_version": "1.2.0",
      "model_name": "LayoutModel",
      "state": {}
     },
     "e187a3a49b804d3dba8e9a494cc824d8": {
      "model_module": "@jupyter-widgets/controls",
      "model_module_version": "1.5.0",
      "model_name": "DescriptionStyleModel",
      "state": {
       "description_width": ""
      }
     },
     "e1ed3af01b984017a6852f13cb64c14c": {
      "model_module": "@jupyter-widgets/controls",
      "model_module_version": "1.5.0",
      "model_name": "FloatProgressModel",
      "state": {
       "bar_style": "success",
       "layout": "IPY_MODEL_c7ad64e5307446fb8fb7712ecbffe9bd",
       "max": 43,
       "style": "IPY_MODEL_069cc88f5a11471abed96aaa71ac1cb9",
       "value": 43
      }
     },
     "e1eeea8499584a728d23932c68e1578e": {
      "model_module": "@jupyter-widgets/base",
      "model_module_version": "1.2.0",
      "model_name": "LayoutModel",
      "state": {}
     },
     "e20728d2a7ba406382056308fc18cbe3": {
      "model_module": "@jupyter-widgets/controls",
      "model_module_version": "1.5.0",
      "model_name": "FloatProgressModel",
      "state": {
       "bar_style": "success",
       "layout": "IPY_MODEL_424e794b842b49faa6418504e6d2aa14",
       "max": 43,
       "style": "IPY_MODEL_8077109357c9495ba18b7c945fbafccf",
       "value": 43
      }
     },
     "e209d46932f9424da1cfdadb0c4815f9": {
      "model_module": "@jupyter-widgets/controls",
      "model_module_version": "1.5.0",
      "model_name": "ProgressStyleModel",
      "state": {
       "description_width": "initial"
      }
     },
     "e2369d5276734e98ab26db2cf2da9e04": {
      "model_module": "@jupyter-widgets/controls",
      "model_module_version": "1.5.0",
      "model_name": "DescriptionStyleModel",
      "state": {
       "description_width": ""
      }
     },
     "e327d3fe147744208d6940b72bd0cbd9": {
      "model_module": "@jupyter-widgets/base",
      "model_module_version": "1.2.0",
      "model_name": "LayoutModel",
      "state": {}
     },
     "e37df288be424a1e9f588e430b2369f8": {
      "model_module": "@jupyter-widgets/base",
      "model_module_version": "1.2.0",
      "model_name": "LayoutModel",
      "state": {}
     },
     "e41e2337c2bd44348b5fcf2c4e383588": {
      "model_module": "@jupyter-widgets/controls",
      "model_module_version": "1.5.0",
      "model_name": "HTMLModel",
      "state": {
       "layout": "IPY_MODEL_308cdd7f09cc43d6891b40bfbe16c3f4",
       "style": "IPY_MODEL_c5f2cbe36550421d8c83b5c34002aa7a",
       "value": "Epoch [25/50]: 100%|██████████| 43/43 [00:10&lt;00:00,  4.13it/s, loss=0.00218]"
      }
     },
     "e43c402c89304283a5db4e8e8aea910e": {
      "model_module": "@jupyter-widgets/controls",
      "model_module_version": "1.5.0",
      "model_name": "DescriptionStyleModel",
      "state": {
       "description_width": ""
      }
     },
     "e44c46df7caa4e15947e7a0856436d05": {
      "model_module": "@jupyter-widgets/base",
      "model_module_version": "1.2.0",
      "model_name": "LayoutModel",
      "state": {}
     },
     "e53ee1b8e9f94636977be93be57808df": {
      "model_module": "@jupyter-widgets/controls",
      "model_module_version": "1.5.0",
      "model_name": "FloatProgressModel",
      "state": {
       "bar_style": "success",
       "layout": "IPY_MODEL_8b9d5a2fa71a4966aa1d037dd06d6e86",
       "max": 43,
       "style": "IPY_MODEL_ea9086bd05e64f04bf06bae0c1853002",
       "value": 43
      }
     },
     "e5adc608422c4a43a3d07a77fcedd567": {
      "model_module": "@jupyter-widgets/controls",
      "model_module_version": "1.5.0",
      "model_name": "DescriptionStyleModel",
      "state": {
       "description_width": ""
      }
     },
     "e6015bfc46c648c5a32914fd247a5cbe": {
      "model_module": "@jupyter-widgets/base",
      "model_module_version": "1.2.0",
      "model_name": "LayoutModel",
      "state": {}
     },
     "e60ae7f773de4a6682d7fa67365f94f6": {
      "model_module": "@jupyter-widgets/controls",
      "model_module_version": "1.5.0",
      "model_name": "HBoxModel",
      "state": {
       "children": [
        "IPY_MODEL_06fe958500484aa988427255b15fa713",
        "IPY_MODEL_d9e726ceddf94ebdb7b45c0e31a9b1ac"
       ],
       "layout": "IPY_MODEL_f3bcf549501b4f19a2cf6cad1cc2ca8c"
      }
     },
     "e65d1314983b4dd8b9a7c3313fd0ddae": {
      "model_module": "@jupyter-widgets/controls",
      "model_module_version": "1.5.0",
      "model_name": "FloatProgressModel",
      "state": {
       "bar_style": "success",
       "layout": "IPY_MODEL_b4b7e7b9f67d46dc9846a66d2efcfb33",
       "max": 43,
       "style": "IPY_MODEL_4b3a05a3a1764d0b9ea1d667843ec8b4",
       "value": 43
      }
     },
     "e6bd52e9edab4b9fa685fec25cc5936a": {
      "model_module": "@jupyter-widgets/controls",
      "model_module_version": "1.5.0",
      "model_name": "FloatProgressModel",
      "state": {
       "bar_style": "success",
       "layout": "IPY_MODEL_53a71c8a9cf9442ba6f8568f41f7b78d",
       "max": 99,
       "style": "IPY_MODEL_88c540e904ed4f00ac36b998f87fd17c",
       "value": 99
      }
     },
     "e6f107a8417c4669ade634817181a6fa": {
      "model_module": "@jupyter-widgets/controls",
      "model_module_version": "1.5.0",
      "model_name": "HTMLModel",
      "state": {
       "layout": "IPY_MODEL_3c4e9c2de8a0480ab7bea304c5447986",
       "style": "IPY_MODEL_37023d878c5b4192a13de43a357a3c86",
       "value": "Epoch [1/50]: 100%|██████████| 99/99 [00:28&lt;00:00,  3.42it/s, loss=0.166]"
      }
     },
     "e71af265693e4242a5e966ef9d8db544": {
      "model_module": "@jupyter-widgets/base",
      "model_module_version": "1.2.0",
      "model_name": "LayoutModel",
      "state": {}
     },
     "e7341bc9e1dd4e9da40da9863e37e572": {
      "model_module": "@jupyter-widgets/controls",
      "model_module_version": "1.5.0",
      "model_name": "FloatProgressModel",
      "state": {
       "bar_style": "success",
       "layout": "IPY_MODEL_b7f5f1e61a1d48b99a87e1611481a8b7",
       "max": 99,
       "style": "IPY_MODEL_58c3736d518d426ab64cf338a562fc12",
       "value": 99
      }
     },
     "e74a540721a64d2b8c8b743ebec1c93c": {
      "model_module": "@jupyter-widgets/controls",
      "model_module_version": "1.5.0",
      "model_name": "FloatProgressModel",
      "state": {
       "bar_style": "success",
       "layout": "IPY_MODEL_4063a8baf9df4cdebd46d4e2d1a9a1b3",
       "max": 43,
       "style": "IPY_MODEL_ac6f714e259c4e6e8df23e2e2eb1f7db",
       "value": 43
      }
     },
     "e84119c45b314869b56232e7a14f785b": {
      "model_module": "@jupyter-widgets/controls",
      "model_module_version": "1.5.0",
      "model_name": "HTMLModel",
      "state": {
       "layout": "IPY_MODEL_a72a865d76e44aeab8fca18975d11e66",
       "style": "IPY_MODEL_e914b54ac5824a23af2919012fd4314b",
       "value": "Epoch [22/50]: 100%|██████████| 43/43 [00:10&lt;00:00,  4.13it/s, loss=0.00286]"
      }
     },
     "e914b54ac5824a23af2919012fd4314b": {
      "model_module": "@jupyter-widgets/controls",
      "model_module_version": "1.5.0",
      "model_name": "DescriptionStyleModel",
      "state": {
       "description_width": ""
      }
     },
     "e93025d091904e958457426fb3e88d63": {
      "model_module": "@jupyter-widgets/controls",
      "model_module_version": "1.5.0",
      "model_name": "HTMLModel",
      "state": {
       "layout": "IPY_MODEL_dd1af1160c81404dbbb13ebe62d3ff82",
       "style": "IPY_MODEL_d6ae10d541ce4d6e96103eae91c1ca88",
       "value": "Epoch [48/50]: 100%|██████████| 43/43 [00:10&lt;00:00,  4.07it/s, loss=0.00125]"
      }
     },
     "e938e48ab1ee46138e57c32ea2ec635f": {
      "model_module": "@jupyter-widgets/base",
      "model_module_version": "1.2.0",
      "model_name": "LayoutModel",
      "state": {}
     },
     "e93c3c8795924fa29395807b1c4fc56b": {
      "model_module": "@jupyter-widgets/controls",
      "model_module_version": "1.5.0",
      "model_name": "FloatProgressModel",
      "state": {
       "bar_style": "success",
       "layout": "IPY_MODEL_5b7370d6032447aebe269f54d8d14613",
       "max": 43,
       "style": "IPY_MODEL_c341f7560b6d49828e3b8e38a7694944",
       "value": 43
      }
     },
     "e971c6d44564438cb02ac7667c54ae4a": {
      "model_module": "@jupyter-widgets/controls",
      "model_module_version": "1.5.0",
      "model_name": "ProgressStyleModel",
      "state": {
       "description_width": "initial"
      }
     },
     "ea03bb0b8d5e41ada1c0f438bcf737d9": {
      "model_module": "@jupyter-widgets/controls",
      "model_module_version": "1.5.0",
      "model_name": "HTMLModel",
      "state": {
       "layout": "IPY_MODEL_772cd55e503f43198e4b83b5a595aaa4",
       "style": "IPY_MODEL_a5791ca44be640b3866ef5c1b19cfd1c",
       "value": "Epoch [46/50]: 100%|██████████| 99/99 [00:28&lt;00:00,  3.44it/s, loss=0.000588]"
      }
     },
     "ea9086bd05e64f04bf06bae0c1853002": {
      "model_module": "@jupyter-widgets/controls",
      "model_module_version": "1.5.0",
      "model_name": "ProgressStyleModel",
      "state": {
       "description_width": "initial"
      }
     },
     "eae9a95fce36468c949664bfe3596740": {
      "model_module": "@jupyter-widgets/controls",
      "model_module_version": "1.5.0",
      "model_name": "DescriptionStyleModel",
      "state": {
       "description_width": ""
      }
     },
     "eb0abe4eb6c346a6ba127d0e349591cf": {
      "model_module": "@jupyter-widgets/controls",
      "model_module_version": "1.5.0",
      "model_name": "DescriptionStyleModel",
      "state": {
       "description_width": ""
      }
     },
     "eb9cbd41fec64856a45c4609eb8984ff": {
      "model_module": "@jupyter-widgets/controls",
      "model_module_version": "1.5.0",
      "model_name": "ProgressStyleModel",
      "state": {
       "description_width": "initial"
      }
     },
     "ec09c76c0eb94a0ca33d7a3f073e3ffe": {
      "model_module": "@jupyter-widgets/controls",
      "model_module_version": "1.5.0",
      "model_name": "FloatProgressModel",
      "state": {
       "bar_style": "success",
       "layout": "IPY_MODEL_7405b9c9f6794b8b9e7c10aec6133ac6",
       "max": 99,
       "style": "IPY_MODEL_aa269d69b4404f6e9ba278675e65bbff",
       "value": 99
      }
     },
     "ec3212b4017f4591a8e5b71dd12556ba": {
      "model_module": "@jupyter-widgets/base",
      "model_module_version": "1.2.0",
      "model_name": "LayoutModel",
      "state": {}
     },
     "ec4e2e9835bb4bafbeeae4f423d512da": {
      "model_module": "@jupyter-widgets/controls",
      "model_module_version": "1.5.0",
      "model_name": "HBoxModel",
      "state": {
       "children": [
        "IPY_MODEL_e1ed3af01b984017a6852f13cb64c14c",
        "IPY_MODEL_430965d1b666469cbb06245ee95e0b0f"
       ],
       "layout": "IPY_MODEL_967d8402f1184efeae793556d8209018"
      }
     },
     "ec80745c38f6452b9019ad1b772f223f": {
      "model_module": "@jupyter-widgets/controls",
      "model_module_version": "1.5.0",
      "model_name": "FloatProgressModel",
      "state": {
       "bar_style": "success",
       "layout": "IPY_MODEL_984d2d26415147c1be449085dd123bb8",
       "max": 99,
       "style": "IPY_MODEL_3689275ee8194eef9eb5a8740d087919",
       "value": 99
      }
     },
     "ecb7038469f3425fb5df721b878281c5": {
      "model_module": "@jupyter-widgets/base",
      "model_module_version": "1.2.0",
      "model_name": "LayoutModel",
      "state": {}
     },
     "ed1dd0f20b354e0db045b89cb6899faa": {
      "model_module": "@jupyter-widgets/controls",
      "model_module_version": "1.5.0",
      "model_name": "FloatProgressModel",
      "state": {
       "bar_style": "success",
       "layout": "IPY_MODEL_18661b2f34e845faa1c6a85d2db16259",
       "max": 99,
       "style": "IPY_MODEL_f6f4e05263df420d8279193e0e5a4f48",
       "value": 99
      }
     },
     "edcd64b4f2a3475cadeceb9df87d193f": {
      "model_module": "@jupyter-widgets/base",
      "model_module_version": "1.2.0",
      "model_name": "LayoutModel",
      "state": {}
     },
     "ee26958ac8714e4aa6b4c9fa2d8782c0": {
      "model_module": "@jupyter-widgets/controls",
      "model_module_version": "1.5.0",
      "model_name": "FloatProgressModel",
      "state": {
       "bar_style": "success",
       "layout": "IPY_MODEL_750fa4ebf0e3413392c456aa45ba212b",
       "max": 43,
       "style": "IPY_MODEL_7109797a9d7847008aefa96bd2e4c60a",
       "value": 43
      }
     },
     "ee329bdfbbac447da79725ed1ca375f1": {
      "model_module": "@jupyter-widgets/base",
      "model_module_version": "1.2.0",
      "model_name": "LayoutModel",
      "state": {}
     },
     "ee7bf34cdfc3470297d998534524d91d": {
      "model_module": "@jupyter-widgets/base",
      "model_module_version": "1.2.0",
      "model_name": "LayoutModel",
      "state": {}
     },
     "ee84d81181fc4a778c651085a1d2af9c": {
      "model_module": "@jupyter-widgets/base",
      "model_module_version": "1.2.0",
      "model_name": "LayoutModel",
      "state": {}
     },
     "eea45b09d8a04084bcf4d26a4da6641c": {
      "model_module": "@jupyter-widgets/base",
      "model_module_version": "1.2.0",
      "model_name": "LayoutModel",
      "state": {}
     },
     "ef2fb131cd064b739f732fa296f38339": {
      "model_module": "@jupyter-widgets/controls",
      "model_module_version": "1.5.0",
      "model_name": "HTMLModel",
      "state": {
       "layout": "IPY_MODEL_bab5b381426d4d04940e03731a498127",
       "style": "IPY_MODEL_b3eb5295d0a94f559f94865586b5f75c",
       "value": "Epoch [4/50]: 100%|██████████| 43/43 [00:10&lt;00:00,  4.07it/s, loss=0.0181]"
      }
     },
     "ef3463cca01a4197a698cf0997980990": {
      "model_module": "@jupyter-widgets/controls",
      "model_module_version": "1.5.0",
      "model_name": "DescriptionStyleModel",
      "state": {
       "description_width": ""
      }
     },
     "ef3f5d28152d46cf8c2391652659491a": {
      "model_module": "@jupyter-widgets/controls",
      "model_module_version": "1.5.0",
      "model_name": "DescriptionStyleModel",
      "state": {
       "description_width": ""
      }
     },
     "ef44218611d94022933439b5713dcb42": {
      "model_module": "@jupyter-widgets/controls",
      "model_module_version": "1.5.0",
      "model_name": "ProgressStyleModel",
      "state": {
       "description_width": "initial"
      }
     },
     "ef94cebda8354fb8bda86f75180cdf45": {
      "model_module": "@jupyter-widgets/controls",
      "model_module_version": "1.5.0",
      "model_name": "HBoxModel",
      "state": {
       "children": [
        "IPY_MODEL_5af4e95826f24e87b4197b43b009a97f",
        "IPY_MODEL_aaacedb38f15488eb9b61ce4395b6528"
       ],
       "layout": "IPY_MODEL_6e1cb633ba604369b28a623497cbd8c4"
      }
     },
     "efa473103cd046b8ab15e148ba46e1af": {
      "model_module": "@jupyter-widgets/base",
      "model_module_version": "1.2.0",
      "model_name": "LayoutModel",
      "state": {}
     },
     "f07eba96869b4f62bc68d69d6240a60d": {
      "model_module": "@jupyter-widgets/base",
      "model_module_version": "1.2.0",
      "model_name": "LayoutModel",
      "state": {}
     },
     "f1e86e80ca394880a16ab9016751f77c": {
      "model_module": "@jupyter-widgets/base",
      "model_module_version": "1.2.0",
      "model_name": "LayoutModel",
      "state": {}
     },
     "f245aa3a2435475cb19155ac66e7e3f2": {
      "model_module": "@jupyter-widgets/controls",
      "model_module_version": "1.5.0",
      "model_name": "DescriptionStyleModel",
      "state": {
       "description_width": ""
      }
     },
     "f2467217b86b4a41b716469be8c0148f": {
      "model_module": "@jupyter-widgets/controls",
      "model_module_version": "1.5.0",
      "model_name": "HBoxModel",
      "state": {
       "children": [
        "IPY_MODEL_5329c90a2d7b445bacc0209e688a3408",
        "IPY_MODEL_b0ddb8a390394fe1835b5cdfd5a16839"
       ],
       "layout": "IPY_MODEL_334b7e985b1749318cf334d2b4957ccc"
      }
     },
     "f247f558370d42758e68c94a18cdb988": {
      "model_module": "@jupyter-widgets/controls",
      "model_module_version": "1.5.0",
      "model_name": "HTMLModel",
      "state": {
       "layout": "IPY_MODEL_31af70be9f6d4857ae372cf3293a085f",
       "style": "IPY_MODEL_0da58679587346c396a0dfa469bae6da",
       "value": "Epoch [39/50]: 100%|██████████| 99/99 [25:17&lt;00:00, 15.33s/it, loss=0.000573]"
      }
     },
     "f2ef79ac8b3e49d1853f0c760f9234bb": {
      "model_module": "@jupyter-widgets/base",
      "model_module_version": "1.2.0",
      "model_name": "LayoutModel",
      "state": {}
     },
     "f30ab5039595481d91662b77cf4c043f": {
      "model_module": "@jupyter-widgets/base",
      "model_module_version": "1.2.0",
      "model_name": "LayoutModel",
      "state": {}
     },
     "f34b5c827a6a424793f8fba3612be40d": {
      "model_module": "@jupyter-widgets/controls",
      "model_module_version": "1.5.0",
      "model_name": "DescriptionStyleModel",
      "state": {
       "description_width": ""
      }
     },
     "f35cb8dc9a43402d9b327e600822d64d": {
      "model_module": "@jupyter-widgets/controls",
      "model_module_version": "1.5.0",
      "model_name": "HBoxModel",
      "state": {
       "children": [
        "IPY_MODEL_7425b0a9f957444682fc1c769f18b98c",
        "IPY_MODEL_5a361591619443a291e4fe5318429e3e"
       ],
       "layout": "IPY_MODEL_eea45b09d8a04084bcf4d26a4da6641c"
      }
     },
     "f39797579bce4c86ac0b759df43d02d1": {
      "model_module": "@jupyter-widgets/base",
      "model_module_version": "1.2.0",
      "model_name": "LayoutModel",
      "state": {}
     },
     "f3bcf549501b4f19a2cf6cad1cc2ca8c": {
      "model_module": "@jupyter-widgets/base",
      "model_module_version": "1.2.0",
      "model_name": "LayoutModel",
      "state": {}
     },
     "f3d72fad61ba4bb3b903d31211345ce5": {
      "model_module": "@jupyter-widgets/controls",
      "model_module_version": "1.5.0",
      "model_name": "HTMLModel",
      "state": {
       "layout": "IPY_MODEL_48c56cb4c9a1433e8cdbbca019b2176d",
       "style": "IPY_MODEL_8795392169f742e397843b0e73456f25",
       "value": "Epoch [25/50]: 100%|██████████| 99/99 [00:28&lt;00:00,  3.53it/s, loss=0.000441]"
      }
     },
     "f3e51df856a741f99138629a4d8c4d6c": {
      "model_module": "@jupyter-widgets/controls",
      "model_module_version": "1.5.0",
      "model_name": "HTMLModel",
      "state": {
       "layout": "IPY_MODEL_0e2c4a2466fb46f08d706b7b50429d29",
       "style": "IPY_MODEL_66210b0853ef4e3c89e86222661e7b79",
       "value": "Epoch [37/50]: 100%|██████████| 43/43 [00:10&lt;00:00,  4.22it/s, loss=0.00139]"
      }
     },
     "f46af99b7a1f43ab8959d1eaba93c7f4": {
      "model_module": "@jupyter-widgets/controls",
      "model_module_version": "1.5.0",
      "model_name": "FloatProgressModel",
      "state": {
       "bar_style": "success",
       "layout": "IPY_MODEL_63145564afc74bbeb3f9aa1dddf8986a",
       "max": 99,
       "style": "IPY_MODEL_a3f90fc6a19f4c448c95c2fc22d8eced",
       "value": 99
      }
     },
     "f4830413cea74a9dbd4292a7957677d0": {
      "model_module": "@jupyter-widgets/controls",
      "model_module_version": "1.5.0",
      "model_name": "ProgressStyleModel",
      "state": {
       "description_width": "initial"
      }
     },
     "f50fee0367be4c7cbedc7b41e836699d": {
      "model_module": "@jupyter-widgets/controls",
      "model_module_version": "1.5.0",
      "model_name": "HBoxModel",
      "state": {
       "children": [
        "IPY_MODEL_e74a540721a64d2b8c8b743ebec1c93c",
        "IPY_MODEL_7dfbc73ded3b437a876227c169e119d9"
       ],
       "layout": "IPY_MODEL_f1e86e80ca394880a16ab9016751f77c"
      }
     },
     "f54cb62f84ac4856ae9dc64321f60996": {
      "model_module": "@jupyter-widgets/controls",
      "model_module_version": "1.5.0",
      "model_name": "HBoxModel",
      "state": {
       "children": [
        "IPY_MODEL_2e995a8e12b74557be9591e030e5d0dc",
        "IPY_MODEL_c74c22d9e23d4004a65bd0e3c3c29e6f"
       ],
       "layout": "IPY_MODEL_c1a78a5fea21439584e85393e25b3ae0"
      }
     },
     "f58f292e039346b7a5e0aa08267ee2e3": {
      "model_module": "@jupyter-widgets/controls",
      "model_module_version": "1.5.0",
      "model_name": "HTMLModel",
      "state": {
       "layout": "IPY_MODEL_381bd247fc0245a691445b702fcf045f",
       "style": "IPY_MODEL_b00ed61f422840f59d4330860d8eadb5",
       "value": "Epoch [12/50]: 100%|██████████| 99/99 [00:28&lt;00:00,  3.46it/s, loss=0.00102]"
      }
     },
     "f5acf92adb2f4daf967475befd86b001": {
      "model_module": "@jupyter-widgets/base",
      "model_module_version": "1.2.0",
      "model_name": "LayoutModel",
      "state": {}
     },
     "f60e098accb74a14b3d7bc113b76b66d": {
      "model_module": "@jupyter-widgets/controls",
      "model_module_version": "1.5.0",
      "model_name": "HTMLModel",
      "state": {
       "layout": "IPY_MODEL_31e47cbd177940c8bdfe79317f7b91cc",
       "style": "IPY_MODEL_2522d58122dd41ed94e42244a30ae822",
       "value": "Epoch [19/50]: 100%|██████████| 43/43 [00:10&lt;00:00,  4.10it/s, loss=0.00291]"
      }
     },
     "f62773e5d27f405389b50f63e1db2578": {
      "model_module": "@jupyter-widgets/controls",
      "model_module_version": "1.5.0",
      "model_name": "HTMLModel",
      "state": {
       "layout": "IPY_MODEL_f9d2ca9a1da84c9bb030e9721202b7ee",
       "style": "IPY_MODEL_8d52f09246d844458b87907bdaff2a70",
       "value": "Epoch [35/50]: 100%|██████████| 99/99 [00:30&lt;00:00,  3.27it/s, loss=0.000397]"
      }
     },
     "f6f4e05263df420d8279193e0e5a4f48": {
      "model_module": "@jupyter-widgets/controls",
      "model_module_version": "1.5.0",
      "model_name": "ProgressStyleModel",
      "state": {
       "description_width": "initial"
      }
     },
     "f71e9a2877b744039ed7e8cac3525d3b": {
      "model_module": "@jupyter-widgets/controls",
      "model_module_version": "1.5.0",
      "model_name": "DescriptionStyleModel",
      "state": {
       "description_width": ""
      }
     },
     "f82b7a74e8104425a128276339c516dd": {
      "model_module": "@jupyter-widgets/controls",
      "model_module_version": "1.5.0",
      "model_name": "HBoxModel",
      "state": {
       "children": [
        "IPY_MODEL_1e3abf2988ac4df290725c1ed6700691",
        "IPY_MODEL_6bdb1850ce144099a682f02fcb9ad577"
       ],
       "layout": "IPY_MODEL_a8caee1f10f64df1923cf145c5e89689"
      }
     },
     "f8343486b5c141258d15b381f28bb61e": {
      "model_module": "@jupyter-widgets/controls",
      "model_module_version": "1.5.0",
      "model_name": "HBoxModel",
      "state": {
       "children": [
        "IPY_MODEL_44916afe81fe4faaa9dae9897beb3c38",
        "IPY_MODEL_db7f6b6ff15f497d8a47b69f7710d708"
       ],
       "layout": "IPY_MODEL_506a280a3a4f403a8ceb562136847d57"
      }
     },
     "f84898f0be2045a2a5705e381790a29d": {
      "model_module": "@jupyter-widgets/controls",
      "model_module_version": "1.5.0",
      "model_name": "FloatProgressModel",
      "state": {
       "bar_style": "success",
       "layout": "IPY_MODEL_50535d2c6b5541d9bef43b8cefbaed73",
       "max": 43,
       "style": "IPY_MODEL_df689aa46bdc47b1848163caa4f37d0d",
       "value": 43
      }
     },
     "f8a88596f5d64bc6b15dd1b80b69c1ea": {
      "model_module": "@jupyter-widgets/controls",
      "model_module_version": "1.5.0",
      "model_name": "DescriptionStyleModel",
      "state": {
       "description_width": ""
      }
     },
     "f9b36a4f84544e90920a23baae71509b": {
      "model_module": "@jupyter-widgets/base",
      "model_module_version": "1.2.0",
      "model_name": "LayoutModel",
      "state": {}
     },
     "f9d2ca9a1da84c9bb030e9721202b7ee": {
      "model_module": "@jupyter-widgets/base",
      "model_module_version": "1.2.0",
      "model_name": "LayoutModel",
      "state": {}
     },
     "fa288e0459484ecb93c7255ae43ee5e0": {
      "model_module": "@jupyter-widgets/controls",
      "model_module_version": "1.5.0",
      "model_name": "DescriptionStyleModel",
      "state": {
       "description_width": ""
      }
     },
     "fa3c26f10496488e9cfe389455b5bfec": {
      "model_module": "@jupyter-widgets/base",
      "model_module_version": "1.2.0",
      "model_name": "LayoutModel",
      "state": {}
     },
     "fa4c8fdf3c064461a74482314e7d93d7": {
      "model_module": "@jupyter-widgets/controls",
      "model_module_version": "1.5.0",
      "model_name": "HBoxModel",
      "state": {
       "children": [
        "IPY_MODEL_f46af99b7a1f43ab8959d1eaba93c7f4",
        "IPY_MODEL_72f740668ac0491d888f456001ca180b"
       ],
       "layout": "IPY_MODEL_5dbd1dff5c1a4350ac4b684acb3a8b4d"
      }
     },
     "fa4ce66b6966436eaff70c8278832217": {
      "model_module": "@jupyter-widgets/controls",
      "model_module_version": "1.5.0",
      "model_name": "HBoxModel",
      "state": {
       "children": [
        "IPY_MODEL_2cae76586619477db8a77964358dfcea",
        "IPY_MODEL_a8522beb36c140c69e9850effad83695"
       ],
       "layout": "IPY_MODEL_fe3e213699ad4e659f7aaf3e4234a83e"
      }
     },
     "fa591c8992824d5eb8531b0722a28e4a": {
      "model_module": "@jupyter-widgets/base",
      "model_module_version": "1.2.0",
      "model_name": "LayoutModel",
      "state": {}
     },
     "fa98a50e7ce0413584efeb9dad6140d5": {
      "model_module": "@jupyter-widgets/controls",
      "model_module_version": "1.5.0",
      "model_name": "HBoxModel",
      "state": {
       "children": [
        "IPY_MODEL_1601e94ec7b04b5380ec20fbb88ec26b",
        "IPY_MODEL_f60e098accb74a14b3d7bc113b76b66d"
       ],
       "layout": "IPY_MODEL_416f4174ad5b4fcbb3cb0a1d4cb53dbf"
      }
     },
     "fabafd70e0784f0ebe15b6410cd26dd3": {
      "model_module": "@jupyter-widgets/base",
      "model_module_version": "1.2.0",
      "model_name": "LayoutModel",
      "state": {}
     },
     "fb015e37a3a54586b49ba362f02b55f0": {
      "model_module": "@jupyter-widgets/controls",
      "model_module_version": "1.5.0",
      "model_name": "ProgressStyleModel",
      "state": {
       "description_width": "initial"
      }
     },
     "fb5fb48a86a54e98a29cbab4bc5d9296": {
      "model_module": "@jupyter-widgets/controls",
      "model_module_version": "1.5.0",
      "model_name": "DescriptionStyleModel",
      "state": {
       "description_width": ""
      }
     },
     "fba01c93e70a409c8cb4900ea98a5add": {
      "model_module": "@jupyter-widgets/controls",
      "model_module_version": "1.5.0",
      "model_name": "ProgressStyleModel",
      "state": {
       "description_width": "initial"
      }
     },
     "fc02a2720b6142ce84508a5f761bfa10": {
      "model_module": "@jupyter-widgets/controls",
      "model_module_version": "1.5.0",
      "model_name": "ProgressStyleModel",
      "state": {
       "description_width": "initial"
      }
     },
     "fd101b054d644de5962a3481b44041fb": {
      "model_module": "@jupyter-widgets/base",
      "model_module_version": "1.2.0",
      "model_name": "LayoutModel",
      "state": {}
     },
     "fd435127f1e54895a6a3dcfb1d780042": {
      "model_module": "@jupyter-widgets/base",
      "model_module_version": "1.2.0",
      "model_name": "LayoutModel",
      "state": {}
     },
     "fe2976da993142d89ff2f361cad1d9d9": {
      "model_module": "@jupyter-widgets/controls",
      "model_module_version": "1.5.0",
      "model_name": "ProgressStyleModel",
      "state": {
       "description_width": "initial"
      }
     },
     "fe3e213699ad4e659f7aaf3e4234a83e": {
      "model_module": "@jupyter-widgets/base",
      "model_module_version": "1.2.0",
      "model_name": "LayoutModel",
      "state": {}
     },
     "feaf53ef47b149c1a6405d8c3d31d13a": {
      "model_module": "@jupyter-widgets/controls",
      "model_module_version": "1.5.0",
      "model_name": "HBoxModel",
      "state": {
       "children": [
        "IPY_MODEL_2177da689a764f11a4d3d9a69f1d595b",
        "IPY_MODEL_cdcb34d95bbc4aa889d6fbb6868cbe87"
       ],
       "layout": "IPY_MODEL_b482f5127ca84b0a86d57f19b1061313"
      }
     },
     "fed7da5c1daf4355a2f18786f79e9cd2": {
      "model_module": "@jupyter-widgets/base",
      "model_module_version": "1.2.0",
      "model_name": "LayoutModel",
      "state": {}
     },
     "fef6021c6e9d4eee82f54cd86ed154b0": {
      "model_module": "@jupyter-widgets/controls",
      "model_module_version": "1.5.0",
      "model_name": "DescriptionStyleModel",
      "state": {
       "description_width": ""
      }
     },
     "ffcf637d0a58479d8677a672dc0538d3": {
      "model_module": "@jupyter-widgets/controls",
      "model_module_version": "1.5.0",
      "model_name": "DescriptionStyleModel",
      "state": {
       "description_width": ""
      }
     }
    },
    "version_major": 2,
    "version_minor": 0
   }
  }
 },
 "nbformat": 4,
 "nbformat_minor": 4
}
