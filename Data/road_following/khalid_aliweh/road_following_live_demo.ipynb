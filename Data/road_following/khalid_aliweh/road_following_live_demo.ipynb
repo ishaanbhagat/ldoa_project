{
 "cells": [
  {
   "cell_type": "markdown",
   "metadata": {},
   "source": [
    "# Road Following - Live demo"
   ]
  },
  {
   "cell_type": "markdown",
   "metadata": {},
   "source": [
    "In this notebook, we will use model we trained to move jetBot smoothly on track. "
   ]
  },
  {
   "cell_type": "markdown",
   "metadata": {},
   "source": [
    "### Load Trained Model"
   ]
  },
  {
   "cell_type": "markdown",
   "metadata": {},
   "source": [
    "We will assume that you have already downloaded ``best_steering_model_xy.pth`` to work station as instructed in \"train_model.ipynb\" notebook. Now, you should upload model file to JetBot in to this notebooks's directory. Once that's finished there should be a file named ``best_steering_model_xy.pth`` in this notebook's directory."
   ]
  },
  {
   "cell_type": "markdown",
   "metadata": {},
   "source": [
    "Execute the code below to initialize the PyTorch model. This should look very familiar from the training notebook."
   ]
  },
  {
   "cell_type": "code",
   "execution_count": 1,
   "metadata": {},
   "outputs": [],
   "source": [
    "import torchvision\n",
    "import torch\n",
    "import numpy as np\n",
    "\n",
    "model = torchvision.models.resnet18(pretrained=False)\n",
    "model.fc = torch.nn.Linear(512, 2)"
   ]
  },
  {
   "cell_type": "markdown",
   "metadata": {},
   "source": [
    "Next, load the trained weights from the ``best_steering_model_xy.pth`` file that you uploaded."
   ]
  },
  {
   "cell_type": "code",
   "execution_count": 2,
   "metadata": {},
   "outputs": [
    {
     "data": {
      "text/plain": [
       "IncompatibleKeys(missing_keys=[], unexpected_keys=[])"
      ]
     },
     "execution_count": 2,
     "metadata": {},
     "output_type": "execute_result"
    }
   ],
   "source": [
    "model.load_state_dict(torch.load('best_steering_model_xy_v1.pth'))"
   ]
  },
  {
   "cell_type": "markdown",
   "metadata": {},
   "source": [
    "Currently, the model weights are located on the CPU memory execute the code below to transfer to the GPU device."
   ]
  },
  {
   "cell_type": "code",
   "execution_count": 3,
   "metadata": {},
   "outputs": [],
   "source": [
    "device = torch.device('cuda')\n",
    "model = model.to(device)\n",
    "model = model.eval().half()"
   ]
  },
  {
   "cell_type": "markdown",
   "metadata": {},
   "source": [
    "### Creating the Pre-Processing Function"
   ]
  },
  {
   "cell_type": "markdown",
   "metadata": {},
   "source": [
    "We have now loaded our model, but there's a slight issue. The format that we trained our model doesnt exactly match the format of the camera. To do that, we need to do some preprocessing. This involves the following steps:\n",
    "\n",
    "1. Convert from HWC layout to CHW layout\n",
    "2. Normalize using same parameters as we did during training (our camera provides values in [0, 255] range and training loaded images in [0, 1] range so we need to scale by 255.0\n",
    "3. Transfer the data from CPU memory to GPU memory\n",
    "4. Add a batch dimension"
   ]
  },
  {
   "cell_type": "code",
   "execution_count": 4,
   "metadata": {},
   "outputs": [],
   "source": [
    "import torchvision.transforms as transforms\n",
    "import torch.nn.functional as F\n",
    "import cv2\n",
    "import PIL.Image\n",
    "\n",
    "mean = torch.Tensor([0.485, 0.456, 0.406]).cuda().half()\n",
    "std = torch.Tensor([0.229, 0.224, 0.225]).cuda().half()\n",
    "\n",
    "def preprocess(image):\n",
    "    image = PIL.Image.fromarray(image)\n",
    "    image = transforms.functional.to_tensor(image).to(device).half()\n",
    "    image.sub_(mean[:, None, None]).div_(std[:, None, None])\n",
    "    return image[None, ...]"
   ]
  },
  {
   "cell_type": "markdown",
   "metadata": {},
   "source": [
    "Awesome! We've now defined our pre-processing function which can convert images from the camera format to the neural network input format.\n",
    "\n",
    "Now, let's start and display our camera. You should be pretty familiar with this by now. "
   ]
  },
  {
   "cell_type": "markdown",
   "metadata": {},
   "source": [
    "We'll also create our robot instance which we'll need to drive the motors."
   ]
  },
  {
   "cell_type": "code",
   "execution_count": 5,
   "metadata": {},
   "outputs": [],
   "source": [
    "from jetbot import Robot\n",
    "\n",
    "robot = Robot()"
   ]
  },
  {
   "cell_type": "markdown",
   "metadata": {},
   "source": [
    "Now, we will define sliders to control JetBot\n",
    "> Note: We have initialize the slider values for best known configurations, however these might not work for your dataset, therefore please increase or decrease the sliders according to your setup and environment\n",
    "\n",
    "1. Speed Control (speed_gain_slider): To start your JetBot increase ``speed_gain_slider`` \n",
    "2. Steering Gain Control (steering_gain_sloder): If you see JetBot is woblling, you need to reduce ``steering_gain_slider`` till it is smooth\n",
    "3. Steering Bias control (steering_bias_slider): If you see JetBot is biased towards extreme right or extreme left side of the track, you should control this slider till JetBot start following line or track in the center.  This accounts for motor biases as well as camera offsets\n",
    "\n",
    "> Note: You should play around above mentioned sliders with lower speed to get smooth JetBot road following behavior."
   ]
  },
  {
   "cell_type": "code",
   "execution_count": 6,
   "metadata": {},
   "outputs": [],
   "source": [
    "import ipywidgets\n",
    "speed_gain_slider = ipywidgets.FloatSlider(min=0.0, max=1.0, step=0.01, description='speed gain')\n",
    "steering_gain_slider = ipywidgets.FloatSlider(min=0.0, max=0.2, step=0.001, value=0.11, description='steering gain')\n",
    "steering_dgain_slider = ipywidgets.FloatSlider(min=0.0, max=0.15, step=0.001, value=0.0, description='steering kd')\n",
    "steering_bias_slider = ipywidgets.FloatSlider(min=-0.3, max=0.3, step=0.01, value=0.0, description='steering bias')"
   ]
  },
  {
   "cell_type": "markdown",
   "metadata": {},
   "source": [
    "Next, let's display some sliders that will let us see what JetBot is thinking.  The x and y sliders will display the predicted x, y values.\n",
    "\n",
    "The steering slider will display our estimated steering value.  Please remember, this value isn't the actual angle of the target, but simply a value that is\n",
    "nearly proportional.  When the actual angle is ``0``, this will be zero, and it will increase / decrease with the actual angle.  "
   ]
  },
  {
   "cell_type": "code",
   "execution_count": 7,
   "metadata": {},
   "outputs": [
    {
     "data": {
      "application/vnd.jupyter.widget-view+json": {
       "model_id": "b72c54d45a7e42fe8162d7ecdcd34697",
       "version_major": 2,
       "version_minor": 0
      },
      "text/plain": [
       "HBox(children=(FloatSlider(value=0.0, description='y', max=1.0, orientation='vertical'), FloatSlider(value=0.0…"
      ]
     },
     "metadata": {},
     "output_type": "display_data"
    },
    {
     "data": {
      "application/vnd.jupyter.widget-view+json": {
       "model_id": "4336879a23264978b21701d5be8dc4fe",
       "version_major": 2,
       "version_minor": 0
      },
      "text/plain": [
       "FloatSlider(value=0.0, description='x', max=1.0, min=-1.0)"
      ]
     },
     "metadata": {},
     "output_type": "display_data"
    },
    {
     "data": {
      "application/vnd.jupyter.widget-view+json": {
       "model_id": "5007b03a868f44678ba9d9dbcba6260f",
       "version_major": 2,
       "version_minor": 0
      },
      "text/plain": [
       "FloatSlider(value=0.0, description='steering', max=1.0, min=-1.0)"
      ]
     },
     "metadata": {},
     "output_type": "display_data"
    }
   ],
   "source": [
    "x_slider = ipywidgets.FloatSlider(min=-1.0, max=1.0, description='x')\n",
    "y_slider = ipywidgets.FloatSlider(min=0, max=1.0, orientation='vertical', description='y')\n",
    "left_motor = ipywidgets.FloatSlider(orientation='vertical', description='left motor')\n",
    "right_motor = ipywidgets.FloatSlider(orientation='vertical',description='right motor')\n",
    "pid_val = ipywidgets.FloatText(description='pid')\n",
    "steering_slider = ipywidgets.FloatSlider(min=-1.0, max=1.0, description='steering')\n",
    "speed_slider = ipywidgets.FloatSlider(min=0, max=1.0, orientation='vertical', description='speed')\n",
    "\n",
    "display(ipywidgets.HBox([y_slider, speed_slider]))\n",
    "display(x_slider, steering_slider)"
   ]
  },
  {
   "cell_type": "markdown",
   "metadata": {},
   "source": [
    "Next, we'll create a function that will get called whenever the camera's value changes. This function will do the following steps\n",
    "\n",
    "1. Pre-process the camera image\n",
    "2. Execute the neural network\n",
    "3. Compute the approximate steering value\n",
    "4. Control the motors using proportional / derivative control (PD)"
   ]
  },
  {
   "cell_type": "code",
   "execution_count": 8,
   "metadata": {},
   "outputs": [],
   "source": [
    "angle = 0.0\n",
    "angle_last = 0.0\n",
    "left_motor_value = 0.0\n",
    "right_motor_value = 0.0\n",
    "from jetbot import Camera, bgr8_to_jpeg\n",
    "\n",
    "camera = Camera(fps=6)\n",
    "\n",
    "\n",
    "def execute(change):\n",
    "    global angle, angle_last, current_plt_idx, sliding_window\n",
    "    image = change['new']\n",
    "    xy = model(preprocess(image)).detach().float().cpu().numpy().flatten()\n",
    "    x = xy[0]\n",
    "    y = (0.5 - xy[1]) / 2.0\n",
    "    \n",
    "    x_slider.value = x\n",
    "    y_slider.value = y\n",
    "    \n",
    "    speed_slider.value = speed_gain_slider.value\n",
    "    \n",
    "    angle = np.arctan2(x, y)\n",
    "    pid = angle * steering_gain_slider.value + (angle - angle_last) * steering_dgain_slider.value\n",
    "    angle_last = angle\n",
    "    pid_val.value = pid\n",
    "    \n",
    "    steering_slider.value = pid + steering_bias_slider.value\n",
    "    left_motor_value = max(min(speed_slider.value + steering_slider.value, 1.0), 0.0)\n",
    "    right_motor_value = max(min(speed_slider.value - steering_slider.value, 1.0), 0.0)\n",
    "    left_motor.value = left_motor_value\n",
    "    right_motor.value = right_motor_value\n",
    "    robot.left_motor.value = left_motor_value\n",
    "    robot.right_motor.value = right_motor_value\n",
    "    \n",
    "execute({'new': camera.value})"
   ]
  },
  {
   "cell_type": "markdown",
   "metadata": {},
   "source": [
    "Cool! We've created our neural network execution function, but now we need to attach it to the camera for processing.\n",
    "\n",
    "We accomplish that with the observe function."
   ]
  },
  {
   "cell_type": "code",
   "execution_count": 9,
   "metadata": {},
   "outputs": [
    {
     "data": {
      "application/vnd.jupyter.widget-view+json": {
       "model_id": "355bb34c5457468e971b54aaa72b1540",
       "version_major": 2,
       "version_minor": 0
      },
      "text/plain": [
       "Image(value=b'\\xff\\xd8\\xff\\xe0\\x00\\x10JFIF\\x00\\x01\\x01\\x00\\x00\\x01\\x00\\x01\\x00\\x00\\xff\\xdb\\x00C\\x00\\x02\\x01\\x0…"
      ]
     },
     "metadata": {},
     "output_type": "display_data"
    },
    {
     "data": {
      "application/vnd.jupyter.widget-view+json": {
       "model_id": "8779491a19384907bc8c1b90cad186a7",
       "version_major": 2,
       "version_minor": 0
      },
      "text/plain": [
       "HBox(children=(FloatSlider(value=0.0, description='left motor', orientation='vertical'), FloatSlider(value=0.1…"
      ]
     },
     "metadata": {},
     "output_type": "display_data"
    },
    {
     "data": {
      "application/vnd.jupyter.widget-view+json": {
       "model_id": "b89c36f96a7c433ea92ebda9dced93e5",
       "version_major": 2,
       "version_minor": 0
      },
      "text/plain": [
       "FloatSlider(value=0.0, description='speed gain', max=1.0, step=0.01)"
      ]
     },
     "metadata": {},
     "output_type": "display_data"
    },
    {
     "data": {
      "application/vnd.jupyter.widget-view+json": {
       "model_id": "f617b99df41a46f095536752bef93538",
       "version_major": 2,
       "version_minor": 0
      },
      "text/plain": [
       "FloatSlider(value=0.11, description='steering gain', max=0.2, step=0.001)"
      ]
     },
     "metadata": {},
     "output_type": "display_data"
    },
    {
     "data": {
      "application/vnd.jupyter.widget-view+json": {
       "model_id": "f34a919ff9cc4997a2c4df6b40b5ab16",
       "version_major": 2,
       "version_minor": 0
      },
      "text/plain": [
       "FloatSlider(value=0.0, description='steering kd', max=0.15, step=0.001)"
      ]
     },
     "metadata": {},
     "output_type": "display_data"
    },
    {
     "data": {
      "application/vnd.jupyter.widget-view+json": {
       "model_id": "78a0b49e11e8421cb19a0e833d61e66f",
       "version_major": 2,
       "version_minor": 0
      },
      "text/plain": [
       "FloatSlider(value=0.0, description='steering bias', max=0.3, min=-0.3, step=0.01)"
      ]
     },
     "metadata": {},
     "output_type": "display_data"
    }
   ],
   "source": [
    "from IPython.display import display\n",
    "\n",
    "import traitlets\n",
    "\n",
    "\n",
    "image_widget = ipywidgets.Image()\n",
    "\n",
    "\n",
    "def display_xy(camera_image):\n",
    "    image = np.copy(camera_image)\n",
    "    x = x_slider.value\n",
    "    y = y_slider.value\n",
    "    x = int(x * 224 / 2 + 112)\n",
    "    y = int(y * 224 / 2 + 112)\n",
    "    image = cv2.circle(image, (x, y), 8, (0, 255, 0), 3)\n",
    "    image = cv2.circle(image, (112, 224), 8, (0, 0,255), 3)\n",
    "    image = cv2.line(image, (x,y), (112,224), (255,0,0), 3)\n",
    "    \n",
    "    scale_percent = 150 # percent of original size\n",
    "    width = int(image.shape[1] * scale_percent / 100)\n",
    "    height = int(image.shape[0] * scale_percent / 100)\n",
    "    dim = (width, height)\n",
    "    # resize the display image\n",
    "    resized = cv2.resize(image, dim, interpolation = cv2.INTER_AREA)\n",
    "\n",
    "    jpeg_image = bgr8_to_jpeg(resized)\n",
    "    return jpeg_image\n",
    "\n",
    "cam_link = traitlets.dlink((camera, 'value'), (image_widget, 'value'), transform=display_xy)\n",
    "\n",
    "display(image_widget,\n",
    "        ipywidgets.HBox([left_motor, right_motor]),\n",
    "        speed_gain_slider, steering_gain_slider, steering_dgain_slider, steering_bias_slider)"
   ]
  },
  {
   "cell_type": "markdown",
   "metadata": {},
   "source": [
    ">WARNING: This code will move the robot!! Please make sure your robot has clearance and it is on Lego or Track you have collected data on. The road follower should work, but the neural network is only as good as the data it's trained on!"
   ]
  },
  {
   "cell_type": "code",
   "execution_count": 10,
   "metadata": {},
   "outputs": [],
   "source": [
    "camera.observe(execute, names='value')"
   ]
  },
  {
   "cell_type": "markdown",
   "metadata": {},
   "source": [
    "Awesome! If your robot is plugged in it should now be generating new commands with each new camera frame. \n",
    "\n",
    "You can now place JetBot on  Lego or Track you have collected data on and see whether it can follow track.\n",
    "\n",
    "If you want to stop this behavior, you can unattach this callback by executing the code below."
   ]
  },
  {
   "cell_type": "code",
   "execution_count": 11,
   "metadata": {},
   "outputs": [],
   "source": [
    "import time\n",
    "\n",
    "camera.unobserve(execute, names='value')\n",
    "\n",
    "time.sleep(0.1)  # add a small sleep to make sure frames have finished processing\n",
    "\n",
    "robot.stop()"
   ]
  },
  {
   "cell_type": "code",
   "execution_count": 12,
   "metadata": {},
   "outputs": [],
   "source": [
    "cam_link.unlink()"
   ]
  },
  {
   "cell_type": "code",
   "execution_count": 13,
   "metadata": {},
   "outputs": [],
   "source": [
    "camera.stop()"
   ]
  }
 ],
 "metadata": {
  "kernelspec": {
   "display_name": "Python 3",
   "language": "python",
   "name": "python3"
  },
  "language_info": {
   "codemirror_mode": {
    "name": "ipython",
    "version": 3
   },
   "file_extension": ".py",
   "mimetype": "text/x-python",
   "name": "python",
   "nbconvert_exporter": "python",
   "pygments_lexer": "ipython3",
   "version": "3.6.9"
  },
  "widgets": {
   "application/vnd.jupyter.widget-state+json": {
    "state": {
     "00305fc120844d40821eaa3fa8ede3be": {
      "model_module": "@jupyter-widgets/base",
      "model_module_version": "1.2.0",
      "model_name": "LayoutModel",
      "state": {}
     },
     "056c6d9c2f874b859f32821624e0e1cc": {
      "model_module": "@jupyter-widgets/controls",
      "model_module_version": "1.5.0",
      "model_name": "SliderStyleModel",
      "state": {
       "description_width": ""
      }
     },
     "0795d93e21744bdbadd6abb8dc955a7d": {
      "model_module": "@jupyter-widgets/controls",
      "model_module_version": "1.5.0",
      "model_name": "FloatSliderModel",
      "state": {
       "description": "speed",
       "layout": "IPY_MODEL_948871e3752740408dc399a654f0eb9e",
       "max": 1,
       "orientation": "vertical",
       "step": 0.1,
       "style": "IPY_MODEL_0d66f2c5317c48e19b87f9e9f25fa7c2"
      }
     },
     "0c61aa9006294985aeca3a8d34e4ba4e": {
      "model_module": "@jupyter-widgets/base",
      "model_module_version": "1.2.0",
      "model_name": "LayoutModel",
      "state": {}
     },
     "0d66f2c5317c48e19b87f9e9f25fa7c2": {
      "model_module": "@jupyter-widgets/controls",
      "model_module_version": "1.5.0",
      "model_name": "SliderStyleModel",
      "state": {
       "description_width": ""
      }
     },
     "0e94a616fad54b21a2d6e9c6a61f9388": {
      "model_module": "@jupyter-widgets/base",
      "model_module_version": "1.2.0",
      "model_name": "LayoutModel",
      "state": {}
     },
     "14a16f4e21594309a5512f9e764a819c": {
      "model_module": "@jupyter-widgets/base",
      "model_module_version": "1.2.0",
      "model_name": "LayoutModel",
      "state": {}
     },
     "1a40f194181c4bc496e3bbd54467d6a8": {
      "model_module": "@jupyter-widgets/controls",
      "model_module_version": "1.5.0",
      "model_name": "SliderStyleModel",
      "state": {
       "description_width": ""
      }
     },
     "1c086d33f04e449ab60a74006a9e0a5d": {
      "model_module": "@jupyter-widgets/controls",
      "model_module_version": "1.5.0",
      "model_name": "DescriptionStyleModel",
      "state": {
       "description_width": ""
      }
     },
     "24587d4a2e5244d8af3859a458cc529e": {
      "model_module": "@jupyter-widgets/controls",
      "model_module_version": "1.5.0",
      "model_name": "FloatTextModel",
      "state": {
       "description": "pid",
       "layout": "IPY_MODEL_a6038233111444b5a83f01d0af42f15a",
       "step": null,
       "style": "IPY_MODEL_1c086d33f04e449ab60a74006a9e0a5d",
       "value": 0.007009170945823883
      }
     },
     "2c5cca3772764d6884ea28ab070044b9": {
      "model_module": "@jupyter-widgets/base",
      "model_module_version": "1.2.0",
      "model_name": "LayoutModel",
      "state": {}
     },
     "2d5aaea847174f28bef0f06ed2718b30": {
      "model_module": "@jupyter-widgets/base",
      "model_module_version": "1.2.0",
      "model_name": "LayoutModel",
      "state": {}
     },
     "2e1407b12fea4336833997eaf9c90aa0": {
      "model_module": "@jupyter-widgets/controls",
      "model_module_version": "1.5.0",
      "model_name": "SliderStyleModel",
      "state": {
       "description_width": ""
      }
     },
     "355bb34c5457468e971b54aaa72b1540": {
      "buffers": [
       {
        "data": "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",
        "encoding": "base64",
        "path": [
         "value"
        ]
       }
      ],
      "model_module": "@jupyter-widgets/controls",
      "model_module_version": "1.5.0",
      "model_name": "ImageModel",
      "state": {
       "layout": "IPY_MODEL_00305fc120844d40821eaa3fa8ede3be"
      }
     },
     "3cc3bf5e1c024ccc868a89172e9336f0": {
      "model_module": "@jupyter-widgets/controls",
      "model_module_version": "1.5.0",
      "model_name": "SliderStyleModel",
      "state": {
       "description_width": ""
      }
     },
     "4336879a23264978b21701d5be8dc4fe": {
      "model_module": "@jupyter-widgets/controls",
      "model_module_version": "1.5.0",
      "model_name": "FloatSliderModel",
      "state": {
       "description": "x",
       "layout": "IPY_MODEL_14a16f4e21594309a5512f9e764a819c",
       "max": 1,
       "min": -1,
       "step": 0.1,
       "style": "IPY_MODEL_2e1407b12fea4336833997eaf9c90aa0",
       "value": 0.005031585693359375
      }
     },
     "5007b03a868f44678ba9d9dbcba6260f": {
      "model_module": "@jupyter-widgets/controls",
      "model_module_version": "1.5.0",
      "model_name": "FloatSliderModel",
      "state": {
       "description": "steering",
       "layout": "IPY_MODEL_8ea048d99d5b44c4a2a1df29f2c98fb5",
       "max": 1,
       "min": -1,
       "step": 0.1,
       "style": "IPY_MODEL_81c329c62f3143c5989c573006a4a80b",
       "value": 0.007009170945823883
      }
     },
     "651976d7c4cd462984923bafba221961": {
      "model_module": "@jupyter-widgets/controls",
      "model_module_version": "1.5.0",
      "model_name": "FloatSliderModel",
      "state": {
       "description": "right motor",
       "layout": "IPY_MODEL_d13c290a0d4145c7a577edd1ca634d2d",
       "orientation": "vertical",
       "step": 0.1,
       "style": "IPY_MODEL_8219e0fcd5ca441f8435cabd379350d8"
      }
     },
     "727449840faa485da841cfe316edcc4f": {
      "model_module": "@jupyter-widgets/base",
      "model_module_version": "1.2.0",
      "model_name": "LayoutModel",
      "state": {}
     },
     "78a0b49e11e8421cb19a0e833d61e66f": {
      "model_module": "@jupyter-widgets/controls",
      "model_module_version": "1.5.0",
      "model_name": "FloatSliderModel",
      "state": {
       "description": "steering bias",
       "layout": "IPY_MODEL_dce5f59d3a2149bbad523b71d6d84ec7",
       "max": 0.3,
       "min": -0.3,
       "step": 0.01,
       "style": "IPY_MODEL_ef2c9aa0115345e69cc3e6039bd926bc"
      }
     },
     "7cd515f0aeea41f2949e81582de80e8d": {
      "model_module": "@jupyter-widgets/controls",
      "model_module_version": "1.5.0",
      "model_name": "SliderStyleModel",
      "state": {
       "description_width": ""
      }
     },
     "81c329c62f3143c5989c573006a4a80b": {
      "model_module": "@jupyter-widgets/controls",
      "model_module_version": "1.5.0",
      "model_name": "SliderStyleModel",
      "state": {
       "description_width": ""
      }
     },
     "8219e0fcd5ca441f8435cabd379350d8": {
      "model_module": "@jupyter-widgets/controls",
      "model_module_version": "1.5.0",
      "model_name": "SliderStyleModel",
      "state": {
       "description_width": ""
      }
     },
     "8779491a19384907bc8c1b90cad186a7": {
      "model_module": "@jupyter-widgets/controls",
      "model_module_version": "1.5.0",
      "model_name": "HBoxModel",
      "state": {
       "children": [
        "IPY_MODEL_f89011f1381a4d96a4967030fc13b876",
        "IPY_MODEL_651976d7c4cd462984923bafba221961"
       ],
       "layout": "IPY_MODEL_727449840faa485da841cfe316edcc4f"
      }
     },
     "8ea048d99d5b44c4a2a1df29f2c98fb5": {
      "model_module": "@jupyter-widgets/base",
      "model_module_version": "1.2.0",
      "model_name": "LayoutModel",
      "state": {}
     },
     "948871e3752740408dc399a654f0eb9e": {
      "model_module": "@jupyter-widgets/base",
      "model_module_version": "1.2.0",
      "model_name": "LayoutModel",
      "state": {}
     },
     "9cbca1f3c35a455689165a4536d1f10a": {
      "model_module": "@jupyter-widgets/base",
      "model_module_version": "1.2.0",
      "model_name": "LayoutModel",
      "state": {}
     },
     "a6038233111444b5a83f01d0af42f15a": {
      "model_module": "@jupyter-widgets/base",
      "model_module_version": "1.2.0",
      "model_name": "LayoutModel",
      "state": {}
     },
     "b72c54d45a7e42fe8162d7ecdcd34697": {
      "model_module": "@jupyter-widgets/controls",
      "model_module_version": "1.5.0",
      "model_name": "HBoxModel",
      "state": {
       "children": [
        "IPY_MODEL_d6ba8940ddf24043af51071669511bf0",
        "IPY_MODEL_0795d93e21744bdbadd6abb8dc955a7d"
       ],
       "layout": "IPY_MODEL_0c61aa9006294985aeca3a8d34e4ba4e"
      }
     },
     "b89c36f96a7c433ea92ebda9dced93e5": {
      "model_module": "@jupyter-widgets/controls",
      "model_module_version": "1.5.0",
      "model_name": "FloatSliderModel",
      "state": {
       "description": "speed gain",
       "layout": "IPY_MODEL_2c5cca3772764d6884ea28ab070044b9",
       "max": 1,
       "step": 0.01,
       "style": "IPY_MODEL_1a40f194181c4bc496e3bbd54467d6a8"
      }
     },
     "c33cf80d08b345e49793092815dfef30": {
      "model_module": "@jupyter-widgets/base",
      "model_module_version": "1.2.0",
      "model_name": "LayoutModel",
      "state": {}
     },
     "d13c290a0d4145c7a577edd1ca634d2d": {
      "model_module": "@jupyter-widgets/base",
      "model_module_version": "1.2.0",
      "model_name": "LayoutModel",
      "state": {}
     },
     "d6ba8940ddf24043af51071669511bf0": {
      "model_module": "@jupyter-widgets/controls",
      "model_module_version": "1.5.0",
      "model_name": "FloatSliderModel",
      "state": {
       "description": "y",
       "layout": "IPY_MODEL_0e94a616fad54b21a2d6e9c6a61f9388",
       "max": 1,
       "orientation": "vertical",
       "step": 0.1,
       "style": "IPY_MODEL_fa6ce6a3fbda45b2b87c51b24eb5643d",
       "value": 0.078857421875
      }
     },
     "dce5f59d3a2149bbad523b71d6d84ec7": {
      "model_module": "@jupyter-widgets/base",
      "model_module_version": "1.2.0",
      "model_name": "LayoutModel",
      "state": {}
     },
     "ef2c9aa0115345e69cc3e6039bd926bc": {
      "model_module": "@jupyter-widgets/controls",
      "model_module_version": "1.5.0",
      "model_name": "SliderStyleModel",
      "state": {
       "description_width": ""
      }
     },
     "f34a919ff9cc4997a2c4df6b40b5ab16": {
      "model_module": "@jupyter-widgets/controls",
      "model_module_version": "1.5.0",
      "model_name": "FloatSliderModel",
      "state": {
       "description": "steering kd",
       "layout": "IPY_MODEL_2d5aaea847174f28bef0f06ed2718b30",
       "max": 0.15,
       "step": 0.001,
       "style": "IPY_MODEL_056c6d9c2f874b859f32821624e0e1cc"
      }
     },
     "f617b99df41a46f095536752bef93538": {
      "model_module": "@jupyter-widgets/controls",
      "model_module_version": "1.5.0",
      "model_name": "FloatSliderModel",
      "state": {
       "description": "steering gain",
       "layout": "IPY_MODEL_9cbca1f3c35a455689165a4536d1f10a",
       "max": 0.2,
       "step": 0.001,
       "style": "IPY_MODEL_7cd515f0aeea41f2949e81582de80e8d",
       "value": 0.11
      }
     },
     "f89011f1381a4d96a4967030fc13b876": {
      "model_module": "@jupyter-widgets/controls",
      "model_module_version": "1.5.0",
      "model_name": "FloatSliderModel",
      "state": {
       "description": "left motor",
       "layout": "IPY_MODEL_c33cf80d08b345e49793092815dfef30",
       "orientation": "vertical",
       "step": 0.1,
       "style": "IPY_MODEL_3cc3bf5e1c024ccc868a89172e9336f0",
       "value": 0.007009170945823883
      }
     },
     "fa6ce6a3fbda45b2b87c51b24eb5643d": {
      "model_module": "@jupyter-widgets/controls",
      "model_module_version": "1.5.0",
      "model_name": "SliderStyleModel",
      "state": {
       "description_width": ""
      }
     }
    },
    "version_major": 2,
    "version_minor": 0
   }
  }
 },
 "nbformat": 4,
 "nbformat_minor": 4
}
